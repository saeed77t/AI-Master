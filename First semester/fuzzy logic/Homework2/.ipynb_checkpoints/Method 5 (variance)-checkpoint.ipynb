{
 "cells": [
  {
   "cell_type": "code",
   "execution_count": 160,
   "id": "5fa51f7f-56b2-4fda-8a7f-9ac7f4ede652",
   "metadata": {},
   "outputs": [],
   "source": [
    "import numpy as np\n",
    "import math\n",
    "import pandas as pd\n",
    "import matplotlib.pyplot as plt\n",
    "from sklearn.impute import KNNImputer\n",
    "from sklearn.model_selection import train_test_split\n",
    "from sklearn.metrics import confusion_matrix\n",
    "from sklearn.metrics import accuracy_score\n",
    "from sklearn.decomposition import PCA"
   ]
  },
  {
   "cell_type": "code",
   "execution_count": 161,
   "id": "3dd1bce5-c1b6-43d9-8cdc-ca1c3b2eb80d",
   "metadata": {},
   "outputs": [],
   "source": [
    "class PreprocessData:\n",
    "    def NomalizeData(Data):\n",
    "        Data=np.array(Data)\n",
    "        lenght = len(Data)\n",
    "        normalizedData = []\n",
    "        \n",
    "        for i in range (lenght):\n",
    "            normalizedData.append(float((Data[i] - min(Data) ) / ( max(Data) - min(Data)) ))\n",
    "            \n",
    "        return normalizedData\n",
    "    \n",
    "    def TestAndTrain(Data , PercentageOfTrainData):\n",
    "        PercentageOfTrainData = float(PercentageOfTrainData / 100)\n",
    "        Train_DataFrame = Data.sample(frac=PercentageOfTrainData)\n",
    "        Test_DataFrame =Data.drop(Train_DataFrame.index)\n",
    "        \n",
    "        return Train_DataFrame , Test_DataFrame\n",
    "    "
   ]
  },
  {
   "cell_type": "code",
   "execution_count": 162,
   "id": "1203a0fa-1548-4f13-9df1-fa25e487b04c",
   "metadata": {},
   "outputs": [],
   "source": [
    "Data = pd.read_excel('Detection of COVID-19 Infection from Routine Blood Exams_dataset.xlsx')\n",
    "Data[\"SESSO\"].replace({'M': 0.,'F': 1.}, inplace=True)"
   ]
  },
  {
   "cell_type": "code",
   "execution_count": 163,
   "id": "7fb23e29-d595-4177-b3c4-299976e3f6e1",
   "metadata": {},
   "outputs": [],
   "source": [
    "def Suprimun_Tnorm(Relation, data):\n",
    "    ror = np.vstack((Relation, data))\n",
    "    sup_norm = np.max(np.min(ror, axis=0))\n",
    "    return sup_norm\n",
    "\n",
    "\n",
    "def composition(relation , data):\n",
    "    composed = np.array(list(map(lambda x: list(map(lambda y: Suprimun_Tnorm(relation[x], data[y]),range(data.shape[0]))),range(relation.shape[0]))))\n",
    "    return composed\n",
    "\n",
    "\n",
    "def split_by_class(TrainData):\n",
    "    Data0 = TrainData[TrainData['TARGET']==0]\n",
    "    target0 = Data0['TARGET']\n",
    "    Data0 = Data0.drop('TARGET',axis=1)\n",
    "    Data0=(Data0-Data0.min())/(Data0.max()-Data0.min())\n",
    "    Data1 = TrainData[TrainData['TARGET']==1]\n",
    "    target1 = Data1['TARGET']\n",
    "    Data1 = Data1.drop('TARGET',axis=1)\n",
    "    Data1=(Data1-Data1.min())/(Data1.max()-Data1.min())\n",
    "    Data2 = TrainData[TrainData['TARGET']==2]\n",
    "    target2 = Data2['TARGET']\n",
    "    Data2 = Data2.drop('TARGET',axis=1)\n",
    "    Data2=(Data2-Data2.min())/(Data2.max()-Data2.min())\n",
    "    return Data0 , Data1, Data2 , target0, target1, target2 \n",
    "\n"
   ]
  },
  {
   "cell_type": "code",
   "execution_count": null,
   "id": "d52d819b-18de-4736-90b0-b51cc649f8a3",
   "metadata": {},
   "outputs": [],
   "source": []
  },
  {
   "cell_type": "code",
   "execution_count": 164,
   "id": "f9e02fd0-b182-4f02-8c47-ffba52115a91",
   "metadata": {},
   "outputs": [],
   "source": [
    "#fill misiing values \n",
    "imputer= KNNImputer(n_neighbors=4)\n",
    "Data = imputer.fit_transform(Data[['SESSO', 'AGE','WBC','Piastrine','Neutrofili','Linfociti','Monociti','Eosinofili','Basofili','PCR','AST','ALT','ALP','GGT','LDH','TARGET']])\n",
    "Data = pd.DataFrame(Data, columns = ['SESSO', 'AGE','WBC','Piastrine','Neutrofili','Linfociti','Monociti','Eosinofili','Basofili','PCR','AST','ALT','ALP','GGT','LDH','TARGET'])\n",
    "# Data = pd.concat([Data1, Data2,Data0])\n",
    "\n",
    "\n",
    "\n",
    "\n"
   ]
  },
  {
   "cell_type": "code",
   "execution_count": null,
   "id": "e4e73c10-d7bb-4a42-a440-3091872aebd4",
   "metadata": {},
   "outputs": [],
   "source": []
  },
  {
   "cell_type": "code",
   "execution_count": 165,
   "id": "c351802a-9985-43ed-ae3e-1e20b508812a",
   "metadata": {},
   "outputs": [],
   "source": [
    "#split to teset and train \n",
    "# Dataset1 = PreprocessData.NomalizeData(Data)\n",
    "Dataset = PreprocessData.TestAndTrain(Data , 80)\n",
    "\n",
    "TrainData = Dataset[0]\n",
    "TestData = Dataset[1]\n",
    "targetTest = TestData['TARGET']\n",
    "TestData = TestData.drop('TARGET',axis=1)\n",
    "TestData=(TestData-TestData.min())/(TestData.max()-TestData.min())"
   ]
  },
  {
   "cell_type": "code",
   "execution_count": 166,
   "id": "33b96762-a1ed-4b0f-9503-ece68923b11f",
   "metadata": {},
   "outputs": [],
   "source": [
    "Data0 , Data1, Data2 , target0, target1, target2  = split_by_class(TrainData)\n",
    "    "
   ]
  },
  {
   "cell_type": "code",
   "execution_count": null,
   "id": "67ab47d3-f19e-4296-a9c0-8b38743efb16",
   "metadata": {},
   "outputs": [],
   "source": []
  },
  {
   "cell_type": "code",
   "execution_count": 167,
   "id": "94e044e5-6bf7-4b86-8648-89e5d3cce534",
   "metadata": {},
   "outputs": [],
   "source": [
    "min0 = Data0.min(axis=0)\n",
    "max0 = Data0.max(axis=0)\n",
    "min1 = Data1.min(axis=0)\n",
    "max1 = Data1.max(axis=0)\n",
    "min2 = Data2.min(axis=0)\n",
    "max2 = Data2.max(axis=0)"
   ]
  },
  {
   "cell_type": "code",
   "execution_count": 168,
   "id": "bb47780d-8feb-435b-ae58-5027d52bd7a8",
   "metadata": {},
   "outputs": [],
   "source": [
    "# method 1 create similarity matrix based on numeric range \n",
    "# avg0 = (min0 + max0 )/2\n",
    "# avg0['SESSO']=0\n",
    "# avg1 = (min1 + max1 )/2\n",
    "# avg1['SESSO']=0\n",
    "# avg2 = (min2 + max2 )/2\n",
    "# avg1['SESSO']=0\n",
    "# avg0 = np.array(avg0)\n",
    "# avg1 = np.array(avg1)\n",
    "# avg2 = np.array(avg2)\n",
    "\n",
    "var0 = np.var(Data0)\n",
    "var1 = np.var(Data1)\n",
    "var2 = np.var(Data2)\n",
    "\n",
    "var0 = np.array(var0)\n",
    "var1 = np.array(var1)\n",
    "var2 = np.array(var2)\n",
    "\n",
    "#method 2 , create similarity matrix based on mean of the class \n",
    "avg0 = Data0.mean()\n",
    "avg0['SESSO']=0\n",
    "avg1 = Data1.mean()\n",
    "avg1['SESSO']=0\n",
    "avg2 = Data2.mean()\n",
    "avg1['SESSO']=0\n",
    "avg0 = np.array(avg0)\n",
    "avg1 = np.array(avg1)\n",
    "avg2 = np.array(avg2)\n"
   ]
  },
  {
   "cell_type": "code",
   "execution_count": 169,
   "id": "cb51bea1-741a-419c-adcf-59d58280eee7",
   "metadata": {},
   "outputs": [
    {
     "data": {
      "text/plain": [
       "(15,)"
      ]
     },
     "execution_count": 169,
     "metadata": {},
     "output_type": "execute_result"
    }
   ],
   "source": [
    "var0.shape"
   ]
  },
  {
   "cell_type": "code",
   "execution_count": 170,
   "id": "b3d96f2f-88da-4d7c-8e9f-58bb29ceeb36",
   "metadata": {},
   "outputs": [
    {
     "data": {
      "text/plain": [
       "(15,)"
      ]
     },
     "execution_count": 170,
     "metadata": {},
     "output_type": "execute_result"
    }
   ],
   "source": [
    "avg1.shape"
   ]
  },
  {
   "cell_type": "code",
   "execution_count": 171,
   "id": "780fd9b7-cba3-492e-a5c2-b14d58ca2f92",
   "metadata": {},
   "outputs": [
    {
     "data": {
      "text/plain": [
       "array([0.18644068, 0.66912307, 0.26427467, 0.37129237, 0.31684945,\n",
       "       0.26813559, 0.37768362, 0.13474576, 0.08757062, 0.28777488,\n",
       "       0.10870945, 0.18626479, 0.27609607, 0.24978619, 0.33239914])"
      ]
     },
     "execution_count": 171,
     "metadata": {},
     "output_type": "execute_result"
    }
   ],
   "source": [
    "avg2"
   ]
  },
  {
   "cell_type": "code",
   "execution_count": 172,
   "id": "ec030c78-bc69-45a5-b4e4-1e95bc18373e",
   "metadata": {},
   "outputs": [],
   "source": [
    "# RelationMatrix =[ avg0,avg1,avg2]\n",
    "RelationMatrix =[ var0,var1,var2]"
   ]
  },
  {
   "cell_type": "code",
   "execution_count": 173,
   "id": "fc523fc8-efd0-48a7-84b6-ad98c63f85ea",
   "metadata": {},
   "outputs": [],
   "source": [
    "RelationMatrix = np.array(RelationMatrix)"
   ]
  },
  {
   "cell_type": "code",
   "execution_count": 174,
   "id": "0649db01-c8f7-47ec-b9cd-326071e2f123",
   "metadata": {},
   "outputs": [
    {
     "data": {
      "text/plain": [
       "(3, 15)"
      ]
     },
     "execution_count": 174,
     "metadata": {},
     "output_type": "execute_result"
    }
   ],
   "source": [
    "RelationMatrix.shape"
   ]
  },
  {
   "cell_type": "code",
   "execution_count": 175,
   "id": "5042c271-9a51-49a3-9272-7b246b570d87",
   "metadata": {},
   "outputs": [
    {
     "data": {
      "text/plain": [
       "array([[0.24940512, 0.05104034, 0.04365102, 0.03821551, 0.03173455,\n",
       "        0.0422683 , 0.02393545, 0.01811916, 0.12976837, 0.05431602,\n",
       "        0.01971466, 0.03758211, 0.012059  , 0.01364626, 0.04650559],\n",
       "       [0.22085068, 0.03060411, 0.02535514, 0.03475495, 0.03435983,\n",
       "        0.01470908, 0.04713165, 0.0287992 , 0.0120464 , 0.03401927,\n",
       "        0.02105163, 0.02140683, 0.01739943, 0.02258097, 0.02675911],\n",
       "       [0.15168055, 0.0603217 , 0.04683758, 0.04432855, 0.05393579,\n",
       "        0.03066263, 0.03793418, 0.04120799, 0.03211481, 0.05740114,\n",
       "        0.02090188, 0.04290647, 0.03958623, 0.03948783, 0.04488176]])"
      ]
     },
     "execution_count": 175,
     "metadata": {},
     "output_type": "execute_result"
    }
   ],
   "source": [
    "RelationMatrix"
   ]
  },
  {
   "cell_type": "code",
   "execution_count": 176,
   "id": "59b59967-89c9-425a-a950-983057813bcc",
   "metadata": {},
   "outputs": [],
   "source": [
    "TestData = np.array(TestData)\n",
    "SimilarityMatrix = composition(RelationMatrix , TestData)"
   ]
  },
  {
   "cell_type": "code",
   "execution_count": 177,
   "id": "799b4276-10ea-414e-bc7c-0086f52575a7",
   "metadata": {},
   "outputs": [],
   "source": [
    "\n",
    "predict = []\n",
    "for i in range(SimilarityMatrix.shape[1]):\n",
    "    a = np.argmax(SimilarityMatrix[:,i])\n",
    "    predict.append(a)"
   ]
  },
  {
   "cell_type": "code",
   "execution_count": 178,
   "id": "c793dd7d-df81-4854-9879-d2dc110c4435",
   "metadata": {},
   "outputs": [],
   "source": [
    "atcutal= np.array(targetTest)\n",
    "predict = np.array(predict)"
   ]
  },
  {
   "cell_type": "code",
   "execution_count": 179,
   "id": "fa394ac5-129a-425a-b518-bcc2538f5559",
   "metadata": {},
   "outputs": [
    {
     "data": {
      "text/plain": [
       "array([[12,  0,  8],\n",
       "       [ 4,  0, 19],\n",
       "       [ 4,  0,  9]])"
      ]
     },
     "execution_count": 179,
     "metadata": {},
     "output_type": "execute_result"
    }
   ],
   "source": [
    "confusion_matrix(atcutal, predict )"
   ]
  },
  {
   "cell_type": "code",
   "execution_count": 180,
   "id": "c945b53c-bf5d-41fb-913c-4d1eb5343f78",
   "metadata": {},
   "outputs": [
    {
     "data": {
      "text/plain": [
       "0.375"
      ]
     },
     "execution_count": 180,
     "metadata": {},
     "output_type": "execute_result"
    }
   ],
   "source": [
    "accuracy_score(atcutal, predict)"
   ]
  },
  {
   "cell_type": "code",
   "execution_count": 181,
   "id": "a94c957c-e6ac-4c8d-b523-81f4f50ad6a4",
   "metadata": {},
   "outputs": [],
   "source": [
    "#change 3 class to two class , class 0 and class 1\n",
    "actual1 =np.zeros(len(predict))\n",
    "pred1 =np.zeros(len(predict))\n",
    "for i in range(len(predict)):\n",
    "    if(predict[i] == 2 ):\n",
    "        pred1[i]=1\n",
    "    else:\n",
    "        pred1[i]=predict[i]\n",
    "    if(atcutal[i]==2):\n",
    "        actual1[i]=1\n",
    "    else:\n",
    "        actual1[i] = atcutal[i]"
   ]
  },
  {
   "cell_type": "code",
   "execution_count": 182,
   "id": "e558c41d-48d6-4237-a188-ede9b483f4b9",
   "metadata": {},
   "outputs": [
    {
     "data": {
      "text/plain": [
       "0.7142857142857143"
      ]
     },
     "execution_count": 182,
     "metadata": {},
     "output_type": "execute_result"
    }
   ],
   "source": [
    "accuracy_score(actual1, pred1)"
   ]
  },
  {
   "cell_type": "code",
   "execution_count": 183,
   "id": "aea19aa2-ad77-4edc-baeb-7bd4659fca48",
   "metadata": {},
   "outputs": [
    {
     "data": {
      "text/plain": [
       "array([[12,  8],\n",
       "       [ 8, 28]])"
      ]
     },
     "execution_count": 183,
     "metadata": {},
     "output_type": "execute_result"
    }
   ],
   "source": [
    "confusion_matrix(actual1, pred1 )"
   ]
  },
  {
   "cell_type": "code",
   "execution_count": null,
   "id": "0cc2f5cc-e4b6-4677-a960-efbf5f365bce",
   "metadata": {},
   "outputs": [],
   "source": []
  },
  {
   "cell_type": "code",
   "execution_count": null,
   "id": "630fedc9-d4d5-4754-a26d-ef367c82b887",
   "metadata": {},
   "outputs": [],
   "source": []
  },
  {
   "cell_type": "code",
   "execution_count": null,
   "id": "30cfe247-7b8b-4a85-bdd4-ef78a03fbd5a",
   "metadata": {},
   "outputs": [],
   "source": []
  },
  {
   "cell_type": "code",
   "execution_count": null,
   "id": "96d7c24b-3f60-4807-852d-462c93adee75",
   "metadata": {},
   "outputs": [],
   "source": []
  }
 ],
 "metadata": {
  "kernelspec": {
   "display_name": "Python 3 (ipykernel)",
   "language": "python",
   "name": "python3"
  },
  "language_info": {
   "codemirror_mode": {
    "name": "ipython",
    "version": 3
   },
   "file_extension": ".py",
   "mimetype": "text/x-python",
   "name": "python",
   "nbconvert_exporter": "python",
   "pygments_lexer": "ipython3",
   "version": "3.9.12"
  }
 },
 "nbformat": 4,
 "nbformat_minor": 5
}
