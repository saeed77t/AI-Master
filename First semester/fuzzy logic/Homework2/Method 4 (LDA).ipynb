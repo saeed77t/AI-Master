{
 "cells": [
  {
   "cell_type": "code",
   "execution_count": 11,
   "id": "5fa51f7f-56b2-4fda-8a7f-9ac7f4ede652",
   "metadata": {},
   "outputs": [],
   "source": [
    "import numpy as np\n",
    "import math\n",
    "import pandas as pd\n",
    "import matplotlib.pyplot as plt\n",
    "from sklearn.impute import KNNImputer\n",
    "from sklearn.model_selection import train_test_split\n",
    "from sklearn.metrics import confusion_matrix\n",
    "from sklearn.metrics import accuracy_score\n",
    "from sklearn.discriminant_analysis import LinearDiscriminantAnalysis as LDA\n",
    "import seaborn as sn"
   ]
  },
  {
   "cell_type": "code",
   "execution_count": 12,
   "id": "3dd1bce5-c1b6-43d9-8cdc-ca1c3b2eb80d",
   "metadata": {},
   "outputs": [],
   "source": [
    "class PreprocessData:\n",
    "    def NomalizeData(Data):\n",
    "        Data=np.array(Data)\n",
    "        lenght = len(Data)\n",
    "        normalizedData = []\n",
    "        \n",
    "        for i in range (lenght):\n",
    "            normalizedData.append(float((Data[i] - min(Data) ) / ( max(Data) - min(Data)) ))\n",
    "            \n",
    "        return normalizedData\n",
    "    \n",
    "    def TestAndTrain(Data , PercentageOfTrainData):\n",
    "        PercentageOfTrainData = float(PercentageOfTrainData / 100)\n",
    "        Train_DataFrame = Data.sample(frac=PercentageOfTrainData)\n",
    "        Test_DataFrame =Data.drop(Train_DataFrame.index)\n",
    "        \n",
    "        return Train_DataFrame , Test_DataFrame\n",
    "    "
   ]
  },
  {
   "cell_type": "code",
   "execution_count": 13,
   "id": "1203a0fa-1548-4f13-9df1-fa25e487b04c",
   "metadata": {},
   "outputs": [],
   "source": [
    "Data = pd.read_excel('Detection of COVID-19 Infection from Routine Blood Exams_dataset.xlsx')\n",
    "Data[\"SESSO\"].replace({'M': 0.,'F': 1.}, inplace=True)"
   ]
  },
  {
   "cell_type": "code",
   "execution_count": 14,
   "id": "7fb23e29-d595-4177-b3c4-299976e3f6e1",
   "metadata": {},
   "outputs": [],
   "source": [
    "def Suprimun_Tnorm(Relation, data):\n",
    "    ror = np.vstack((Relation, data))\n",
    "    sup_norm = np.max(np.min(ror, axis=0))\n",
    "    return sup_norm\n",
    "\n",
    "\n",
    "def composition(relation , data):\n",
    "    composed = np.array(list(map(lambda x: list(map(lambda y: Suprimun_Tnorm(relation[x], data[y]),range(data.shape[0]))),range(relation.shape[0]))))\n",
    "    return composed\n",
    "\n",
    "\n",
    "def split_by_class(TrainData):\n",
    "    Data0 = TrainData[TrainData['TARGET']==0]\n",
    "    target0 = Data0['TARGET']\n",
    "    Data0 = Data0.drop('TARGET',axis=1)\n",
    "    # Data0=(Data0-Data0.min())/(Data0.max()-Data0.min())\n",
    "    Data1 = TrainData[TrainData['TARGET']==1]\n",
    "    target1 = Data1['TARGET']\n",
    "    Data1 = Data1.drop('TARGET',axis=1)\n",
    "    # Data1=(Data1-Data1.min())/(Data1.max()-Data1.min())\n",
    "    Data2 = TrainData[TrainData['TARGET']==2]\n",
    "    target2 = Data2['TARGET']\n",
    "    Data2 = Data2.drop('TARGET',axis=1)\n",
    "    # Data2=(Data2-Data2.min())/(Data2.max()-Data2.min())\n",
    "    return Data0 , Data1, Data2 , target0, target1, target2 \n",
    "\n"
   ]
  },
  {
   "cell_type": "code",
   "execution_count": null,
   "id": "d52d819b-18de-4736-90b0-b51cc649f8a3",
   "metadata": {},
   "outputs": [],
   "source": []
  },
  {
   "cell_type": "code",
   "execution_count": 15,
   "id": "f9e02fd0-b182-4f02-8c47-ffba52115a91",
   "metadata": {},
   "outputs": [],
   "source": [
    "#fill misiing values \n",
    "imputer= KNNImputer(n_neighbors=4)\n",
    "Data = imputer.fit_transform(Data[['SESSO', 'AGE','WBC','Piastrine','Neutrofili','Linfociti','Monociti','Eosinofili','Basofili','PCR','AST','ALT','ALP','GGT','LDH','TARGET']])\n",
    "Data = pd.DataFrame(Data, columns = ['SESSO', 'AGE','WBC','Piastrine','Neutrofili','Linfociti','Monociti','Eosinofili','Basofili','PCR','AST','ALT','ALP','GGT','LDH','TARGET'])\n",
    "# Data = pd.concat([Data1, Data2,Data0])\n",
    "\n",
    "\n"
   ]
  },
  {
   "cell_type": "code",
   "execution_count": null,
   "id": "7c5e7d85-200e-4d2c-b03e-c093928c71eb",
   "metadata": {},
   "outputs": [],
   "source": []
  },
  {
   "cell_type": "code",
   "execution_count": 16,
   "id": "c351802a-9985-43ed-ae3e-1e20b508812a",
   "metadata": {},
   "outputs": [],
   "source": [
    "#split to teset and train \n",
    "# Dataset1 = PreprocessData.NomalizeData(Data)\n",
    "Dataset = PreprocessData.TestAndTrain(Data , 80)\n",
    "\n",
    "TrainData = Dataset[0]\n",
    "TestData = Dataset[1]\n",
    "targetTest = TestData['TARGET']\n",
    "TestData = TestData.drop('TARGET',axis=1)\n",
    "# TestData=(TestData-TestData.min())/(TestData.max()-TestData.min())"
   ]
  },
  {
   "cell_type": "code",
   "execution_count": 17,
   "id": "d34ec628-8a8a-43cd-8030-a66e644db73d",
   "metadata": {},
   "outputs": [
    {
     "data": {
      "text/html": [
       "<div>\n",
       "<style scoped>\n",
       "    .dataframe tbody tr th:only-of-type {\n",
       "        vertical-align: middle;\n",
       "    }\n",
       "\n",
       "    .dataframe tbody tr th {\n",
       "        vertical-align: top;\n",
       "    }\n",
       "\n",
       "    .dataframe thead th {\n",
       "        text-align: right;\n",
       "    }\n",
       "</style>\n",
       "<table border=\"1\" class=\"dataframe\">\n",
       "  <thead>\n",
       "    <tr style=\"text-align: right;\">\n",
       "      <th></th>\n",
       "      <th>SESSO</th>\n",
       "      <th>AGE</th>\n",
       "      <th>WBC</th>\n",
       "      <th>Piastrine</th>\n",
       "      <th>Neutrofili</th>\n",
       "      <th>Linfociti</th>\n",
       "      <th>Monociti</th>\n",
       "      <th>Eosinofili</th>\n",
       "      <th>Basofili</th>\n",
       "      <th>PCR</th>\n",
       "      <th>AST</th>\n",
       "      <th>ALT</th>\n",
       "      <th>ALP</th>\n",
       "      <th>GGT</th>\n",
       "      <th>LDH</th>\n",
       "    </tr>\n",
       "  </thead>\n",
       "  <tbody>\n",
       "    <tr>\n",
       "      <th>246</th>\n",
       "      <td>1.0</td>\n",
       "      <td>98.0</td>\n",
       "      <td>11.60</td>\n",
       "      <td>163.0</td>\n",
       "      <td>9.500</td>\n",
       "      <td>1.600</td>\n",
       "      <td>0.500</td>\n",
       "      <td>0.000</td>\n",
       "      <td>0.000</td>\n",
       "      <td>26.0</td>\n",
       "      <td>19.0</td>\n",
       "      <td>84.0</td>\n",
       "      <td>54.50</td>\n",
       "      <td>19.00</td>\n",
       "      <td>264.50</td>\n",
       "    </tr>\n",
       "    <tr>\n",
       "      <th>25</th>\n",
       "      <td>0.0</td>\n",
       "      <td>76.0</td>\n",
       "      <td>29.20</td>\n",
       "      <td>486.0</td>\n",
       "      <td>9.125</td>\n",
       "      <td>1.025</td>\n",
       "      <td>0.650</td>\n",
       "      <td>0.225</td>\n",
       "      <td>0.025</td>\n",
       "      <td>233.2</td>\n",
       "      <td>85.0</td>\n",
       "      <td>34.0</td>\n",
       "      <td>77.50</td>\n",
       "      <td>71.75</td>\n",
       "      <td>1183.00</td>\n",
       "    </tr>\n",
       "    <tr>\n",
       "      <th>69</th>\n",
       "      <td>0.0</td>\n",
       "      <td>37.0</td>\n",
       "      <td>8.55</td>\n",
       "      <td>312.5</td>\n",
       "      <td>5.175</td>\n",
       "      <td>1.050</td>\n",
       "      <td>0.525</td>\n",
       "      <td>0.025</td>\n",
       "      <td>0.000</td>\n",
       "      <td>108.8</td>\n",
       "      <td>27.0</td>\n",
       "      <td>39.0</td>\n",
       "      <td>56.25</td>\n",
       "      <td>76.50</td>\n",
       "      <td>321.00</td>\n",
       "    </tr>\n",
       "    <tr>\n",
       "      <th>137</th>\n",
       "      <td>0.0</td>\n",
       "      <td>68.0</td>\n",
       "      <td>5.00</td>\n",
       "      <td>172.0</td>\n",
       "      <td>4.300</td>\n",
       "      <td>0.500</td>\n",
       "      <td>0.200</td>\n",
       "      <td>0.000</td>\n",
       "      <td>0.000</td>\n",
       "      <td>117.9</td>\n",
       "      <td>30.0</td>\n",
       "      <td>24.0</td>\n",
       "      <td>59.00</td>\n",
       "      <td>25.00</td>\n",
       "      <td>307.00</td>\n",
       "    </tr>\n",
       "    <tr>\n",
       "      <th>63</th>\n",
       "      <td>1.0</td>\n",
       "      <td>70.0</td>\n",
       "      <td>12.00</td>\n",
       "      <td>308.0</td>\n",
       "      <td>10.700</td>\n",
       "      <td>0.800</td>\n",
       "      <td>0.500</td>\n",
       "      <td>0.000</td>\n",
       "      <td>0.000</td>\n",
       "      <td>187.6</td>\n",
       "      <td>86.0</td>\n",
       "      <td>67.0</td>\n",
       "      <td>106.00</td>\n",
       "      <td>87.00</td>\n",
       "      <td>615.50</td>\n",
       "    </tr>\n",
       "    <tr>\n",
       "      <th>...</th>\n",
       "      <td>...</td>\n",
       "      <td>...</td>\n",
       "      <td>...</td>\n",
       "      <td>...</td>\n",
       "      <td>...</td>\n",
       "      <td>...</td>\n",
       "      <td>...</td>\n",
       "      <td>...</td>\n",
       "      <td>...</td>\n",
       "      <td>...</td>\n",
       "      <td>...</td>\n",
       "      <td>...</td>\n",
       "      <td>...</td>\n",
       "      <td>...</td>\n",
       "      <td>...</td>\n",
       "    </tr>\n",
       "    <tr>\n",
       "      <th>12</th>\n",
       "      <td>0.0</td>\n",
       "      <td>87.0</td>\n",
       "      <td>5.40</td>\n",
       "      <td>129.0</td>\n",
       "      <td>4.500</td>\n",
       "      <td>0.500</td>\n",
       "      <td>0.300</td>\n",
       "      <td>0.000</td>\n",
       "      <td>0.000</td>\n",
       "      <td>114.7</td>\n",
       "      <td>42.0</td>\n",
       "      <td>25.0</td>\n",
       "      <td>63.75</td>\n",
       "      <td>75.00</td>\n",
       "      <td>407.00</td>\n",
       "    </tr>\n",
       "    <tr>\n",
       "      <th>143</th>\n",
       "      <td>0.0</td>\n",
       "      <td>61.0</td>\n",
       "      <td>11.30</td>\n",
       "      <td>166.0</td>\n",
       "      <td>10.700</td>\n",
       "      <td>0.500</td>\n",
       "      <td>0.100</td>\n",
       "      <td>0.000</td>\n",
       "      <td>0.000</td>\n",
       "      <td>174.3</td>\n",
       "      <td>118.0</td>\n",
       "      <td>95.0</td>\n",
       "      <td>59.00</td>\n",
       "      <td>77.00</td>\n",
       "      <td>808.00</td>\n",
       "    </tr>\n",
       "    <tr>\n",
       "      <th>267</th>\n",
       "      <td>0.0</td>\n",
       "      <td>59.0</td>\n",
       "      <td>6.80</td>\n",
       "      <td>171.0</td>\n",
       "      <td>5.700</td>\n",
       "      <td>0.700</td>\n",
       "      <td>0.500</td>\n",
       "      <td>0.000</td>\n",
       "      <td>0.000</td>\n",
       "      <td>110.2</td>\n",
       "      <td>41.0</td>\n",
       "      <td>36.0</td>\n",
       "      <td>80.00</td>\n",
       "      <td>147.00</td>\n",
       "      <td>359.00</td>\n",
       "    </tr>\n",
       "    <tr>\n",
       "      <th>216</th>\n",
       "      <td>0.0</td>\n",
       "      <td>39.0</td>\n",
       "      <td>11.90</td>\n",
       "      <td>352.0</td>\n",
       "      <td>5.200</td>\n",
       "      <td>0.925</td>\n",
       "      <td>0.350</td>\n",
       "      <td>0.200</td>\n",
       "      <td>0.025</td>\n",
       "      <td>129.1</td>\n",
       "      <td>29.0</td>\n",
       "      <td>54.0</td>\n",
       "      <td>76.00</td>\n",
       "      <td>114.00</td>\n",
       "      <td>480.25</td>\n",
       "    </tr>\n",
       "    <tr>\n",
       "      <th>14</th>\n",
       "      <td>0.0</td>\n",
       "      <td>18.0</td>\n",
       "      <td>11.20</td>\n",
       "      <td>184.0</td>\n",
       "      <td>9.700</td>\n",
       "      <td>0.600</td>\n",
       "      <td>0.800</td>\n",
       "      <td>0.000</td>\n",
       "      <td>0.000</td>\n",
       "      <td>313.3</td>\n",
       "      <td>27.0</td>\n",
       "      <td>37.0</td>\n",
       "      <td>76.75</td>\n",
       "      <td>36.75</td>\n",
       "      <td>442.50</td>\n",
       "    </tr>\n",
       "  </tbody>\n",
       "</table>\n",
       "<p>223 rows × 15 columns</p>\n",
       "</div>"
      ],
      "text/plain": [
       "     SESSO   AGE    WBC  Piastrine  Neutrofili  Linfociti  Monociti  \\\n",
       "246    1.0  98.0  11.60      163.0       9.500      1.600     0.500   \n",
       "25     0.0  76.0  29.20      486.0       9.125      1.025     0.650   \n",
       "69     0.0  37.0   8.55      312.5       5.175      1.050     0.525   \n",
       "137    0.0  68.0   5.00      172.0       4.300      0.500     0.200   \n",
       "63     1.0  70.0  12.00      308.0      10.700      0.800     0.500   \n",
       "..     ...   ...    ...        ...         ...        ...       ...   \n",
       "12     0.0  87.0   5.40      129.0       4.500      0.500     0.300   \n",
       "143    0.0  61.0  11.30      166.0      10.700      0.500     0.100   \n",
       "267    0.0  59.0   6.80      171.0       5.700      0.700     0.500   \n",
       "216    0.0  39.0  11.90      352.0       5.200      0.925     0.350   \n",
       "14     0.0  18.0  11.20      184.0       9.700      0.600     0.800   \n",
       "\n",
       "     Eosinofili  Basofili    PCR    AST   ALT     ALP     GGT      LDH  \n",
       "246       0.000     0.000   26.0   19.0  84.0   54.50   19.00   264.50  \n",
       "25        0.225     0.025  233.2   85.0  34.0   77.50   71.75  1183.00  \n",
       "69        0.025     0.000  108.8   27.0  39.0   56.25   76.50   321.00  \n",
       "137       0.000     0.000  117.9   30.0  24.0   59.00   25.00   307.00  \n",
       "63        0.000     0.000  187.6   86.0  67.0  106.00   87.00   615.50  \n",
       "..          ...       ...    ...    ...   ...     ...     ...      ...  \n",
       "12        0.000     0.000  114.7   42.0  25.0   63.75   75.00   407.00  \n",
       "143       0.000     0.000  174.3  118.0  95.0   59.00   77.00   808.00  \n",
       "267       0.000     0.000  110.2   41.0  36.0   80.00  147.00   359.00  \n",
       "216       0.200     0.025  129.1   29.0  54.0   76.00  114.00   480.25  \n",
       "14        0.000     0.000  313.3   27.0  37.0   76.75   36.75   442.50  \n",
       "\n",
       "[223 rows x 15 columns]"
      ]
     },
     "execution_count": 17,
     "metadata": {},
     "output_type": "execute_result"
    }
   ],
   "source": [
    "#remove targets from Train Data\n",
    "trgt = TrainData['TARGET']\n",
    "TrainData = TrainData.drop('TARGET',axis=1)\n",
    "TrainData"
   ]
  },
  {
   "cell_type": "code",
   "execution_count": 8,
   "id": "e4e73c10-d7bb-4a42-a440-3091872aebd4",
   "metadata": {},
   "outputs": [],
   "source": [
    "lda = LDA(n_components=2)\n",
    "TrainData = lda.fit_transform(TrainData, trgt)\n",
    "TestData = lda.transform(TestData)\n"
   ]
  },
  {
   "cell_type": "code",
   "execution_count": 10,
   "id": "0663acec-a88e-4095-853a-5c6d3836385c",
   "metadata": {},
   "outputs": [
    {
     "data": {
      "text/plain": [
       "array([[ 1.11986528e+00,  5.25790730e-01],\n",
       "       [ 5.54026492e-01, -1.14303957e+00],\n",
       "       [-4.50767832e-01, -5.39695102e-01],\n",
       "       [-1.33628796e+00,  7.59740734e-02],\n",
       "       [ 1.98064257e+00,  1.31134134e+00],\n",
       "       [ 3.12884088e-01, -7.01090044e-01],\n",
       "       [-8.18317410e-01, -2.79665118e-01],\n",
       "       [-1.76452247e+00,  2.56935313e+00],\n",
       "       [-7.58067671e-01, -2.42430537e-01],\n",
       "       [-3.31713885e-01, -5.00500827e-01],\n",
       "       [-1.90172750e+00,  1.78445482e+00],\n",
       "       [ 1.56898189e+00,  8.02393233e-01],\n",
       "       [ 1.50496045e+00, -9.16236156e-03],\n",
       "       [ 4.42809405e-01, -8.70174503e-01],\n",
       "       [ 7.24336436e-01,  6.33567638e-01],\n",
       "       [ 2.14197413e+00, -4.97427068e-01],\n",
       "       [-1.21277641e+00, -9.56626644e-01],\n",
       "       [ 2.06560246e+00, -8.56814527e-02],\n",
       "       [ 1.52679179e+00, -2.50019910e-01],\n",
       "       [-3.65892386e-01, -4.69316298e-01],\n",
       "       [ 2.49274488e+00,  2.24491444e+00],\n",
       "       [-2.02983241e+00, -5.96016109e-01],\n",
       "       [ 3.62057007e+00,  3.73920748e+00],\n",
       "       [-2.89129181e-02, -6.86378950e-01],\n",
       "       [ 8.44719962e-01,  4.16350669e+00],\n",
       "       [ 1.39580835e+00,  1.15581221e+00],\n",
       "       [-9.10310170e-01,  2.84971542e-01],\n",
       "       [ 4.09830636e-01, -4.20363413e-01],\n",
       "       [ 5.13313919e-01,  3.25626494e-01],\n",
       "       [-1.31119332e+00, -8.56524845e-02],\n",
       "       [-2.22841997e-01, -7.36769172e-01],\n",
       "       [ 8.63089508e-02, -5.78182871e-02],\n",
       "       [-2.80269756e-01, -1.15424460e+00],\n",
       "       [ 1.45682360e-01, -7.50015569e-01],\n",
       "       [-9.06511046e-01,  2.73191699e-01],\n",
       "       [ 8.21193679e-01, -3.21829354e-01],\n",
       "       [-1.45902448e+00, -7.03682780e-01],\n",
       "       [-5.11727263e-01, -4.43328535e-01],\n",
       "       [-1.21048351e+00, -5.42300726e-01],\n",
       "       [-1.19856783e-01,  5.07354340e-01],\n",
       "       [ 5.39247411e-02, -1.25176023e-01],\n",
       "       [ 8.52758377e-01,  6.72196269e-01],\n",
       "       [-1.73043451e+00,  9.60609043e-02],\n",
       "       [ 9.26334848e-02,  2.46211425e+00],\n",
       "       [-7.94071804e-01,  9.02857220e-01],\n",
       "       [-3.40913832e-01, -1.00228363e+00],\n",
       "       [-2.82836084e+00, -7.12657220e-01],\n",
       "       [-5.70336238e-01, -7.06163728e-01],\n",
       "       [-8.05905859e-01,  8.84384673e-02],\n",
       "       [ 1.32179478e+00,  1.56647908e+00],\n",
       "       [-1.16222298e+00,  1.88681036e-01],\n",
       "       [ 2.53867167e-01, -9.04513906e-01],\n",
       "       [-7.33149281e-01, -5.86377609e-01],\n",
       "       [-3.21414317e-01, -6.91417383e-01],\n",
       "       [ 5.15468728e-01, -1.78402541e-01],\n",
       "       [ 1.45708216e+00, -1.24806771e+00],\n",
       "       [-2.38010264e-01, -4.19094768e-01],\n",
       "       [-4.64793053e-01, -3.30064443e-02],\n",
       "       [ 2.69025799e+00,  5.90248035e-01],\n",
       "       [-4.76088248e-01,  3.06222060e-01],\n",
       "       [ 8.58598033e-01,  2.22106570e+00],\n",
       "       [ 1.70713115e+00,  4.66462594e-01],\n",
       "       [ 1.61429112e+00, -2.66543054e+00],\n",
       "       [-2.03980202e+00,  1.46584331e-01],\n",
       "       [-4.29242633e-01, -1.80723403e+00],\n",
       "       [-7.30627204e-01,  8.81063919e-01],\n",
       "       [ 1.43771211e+00, -7.35700812e-02],\n",
       "       [ 1.22192207e-01, -8.79192717e-01],\n",
       "       [-5.22781500e-01, -1.18667056e+00],\n",
       "       [ 7.60368531e-01, -9.31049698e-01],\n",
       "       [ 1.22071747e+00, -4.25581049e-01],\n",
       "       [-1.65113627e+00, -3.69444817e-02],\n",
       "       [ 1.65495810e+00,  1.54965907e+00],\n",
       "       [ 9.22404402e-02, -7.94444878e-01],\n",
       "       [ 4.02946205e-01,  9.88135327e-02],\n",
       "       [ 1.62072175e+00,  2.60017767e-01],\n",
       "       [ 5.85277131e-01,  4.08560824e-01],\n",
       "       [-1.16567463e+00,  3.87882729e-01],\n",
       "       [-2.36894409e-01, -1.40631607e-01],\n",
       "       [-2.12582000e-01,  1.93219410e-01],\n",
       "       [ 9.73058506e-01, -6.48551580e-01],\n",
       "       [-3.31366676e-01, -6.81072939e-01],\n",
       "       [-1.16146951e+00, -1.11328020e+00],\n",
       "       [-1.43572005e+00, -6.03730736e-02],\n",
       "       [-4.12992322e-01, -6.53332754e-01],\n",
       "       [-2.68462471e-01, -8.48847082e-01],\n",
       "       [-8.11697150e-01, -2.09203763e+00],\n",
       "       [-1.41659334e+00, -4.30108096e-02],\n",
       "       [-1.17877840e+00,  1.35441359e+00],\n",
       "       [ 1.67355000e+00, -1.55907075e-01],\n",
       "       [ 1.10716711e+00, -1.24891097e+00],\n",
       "       [-7.09229377e-01, -2.03095883e-01],\n",
       "       [-7.55116617e-01, -4.25227704e-03],\n",
       "       [-7.02033979e-01, -2.55323637e-01],\n",
       "       [ 4.62520557e-01,  8.12456305e-01],\n",
       "       [ 2.96413187e+00,  4.53984745e-02],\n",
       "       [-2.92033486e-01, -1.10080387e+00],\n",
       "       [-1.68771420e+00, -4.92409357e-02],\n",
       "       [-7.34059859e-01,  2.63012988e+00],\n",
       "       [-3.62962953e-01, -3.65014179e-01],\n",
       "       [-1.87217912e+00, -5.91633559e-01],\n",
       "       [-2.71075067e+00,  4.09288215e+00],\n",
       "       [ 1.56414874e+00, -1.29138854e+00],\n",
       "       [-3.76232975e-01, -5.70137804e-01],\n",
       "       [-1.54856470e+00,  1.75187466e+00],\n",
       "       [ 2.24605376e-01, -4.16655662e-01],\n",
       "       [-1.61446847e-01, -6.35809400e-01],\n",
       "       [ 5.17126692e-01,  2.41242248e+00],\n",
       "       [ 7.20983587e-01,  1.99953643e+00],\n",
       "       [ 1.50989624e+00, -2.53463608e-01],\n",
       "       [-5.13206343e-01, -7.75684434e-02],\n",
       "       [ 1.49053281e+00,  2.49134030e+00],\n",
       "       [ 1.70481688e+00,  1.30758356e+00],\n",
       "       [-3.58681771e-01, -6.98578695e-01],\n",
       "       [ 1.65681146e-01,  1.32095706e-01],\n",
       "       [-1.36359919e+00,  1.63632196e-01],\n",
       "       [-5.53309828e-01, -7.80507315e-01],\n",
       "       [ 1.05162417e+00,  5.22819010e-01],\n",
       "       [ 1.56083623e+00, -1.16505879e+00],\n",
       "       [-8.61118565e-01, -7.68362404e-01],\n",
       "       [-3.65178084e-01, -1.08616227e+00],\n",
       "       [ 1.42388388e+00, -1.01063295e+00],\n",
       "       [-8.42570004e-01,  1.58816311e+00],\n",
       "       [-2.99346624e+00,  2.72767687e+00],\n",
       "       [ 1.00482149e+00, -5.84101644e-01],\n",
       "       [-3.32643094e+00,  1.37954206e+00],\n",
       "       [ 5.37818800e-01, -9.21988402e-01],\n",
       "       [-2.41747972e+00, -4.25794297e-01],\n",
       "       [-5.77246430e-01, -6.04222173e-02],\n",
       "       [-1.10272495e+00, -3.22657144e-01],\n",
       "       [-3.07131459e-01, -5.27390429e-01],\n",
       "       [ 3.90395361e-01, -4.42265924e-01],\n",
       "       [ 8.26290579e-01, -7.08972609e-01],\n",
       "       [-1.61004703e-02, -3.84344533e-01],\n",
       "       [-1.12761684e+00, -3.78339509e-01],\n",
       "       [ 4.62857191e-01, -5.56871132e-01],\n",
       "       [-1.55810014e+00, -1.59306357e-01],\n",
       "       [-1.35437514e+00, -5.13526301e-01],\n",
       "       [-5.65559240e-01, -1.16784956e+00],\n",
       "       [ 2.08126330e+00,  3.94542521e-01],\n",
       "       [-5.91241916e-01, -8.56976772e-01],\n",
       "       [ 9.27485764e-01,  2.35482661e+00],\n",
       "       [ 1.05162417e+00,  5.22819010e-01],\n",
       "       [-4.05930792e-01, -2.17682828e-01],\n",
       "       [-1.97325964e+00,  9.78916205e-02],\n",
       "       [-1.34314139e+00, -8.61295287e-01],\n",
       "       [-1.28833070e-01,  2.90132307e-01],\n",
       "       [ 1.52664626e+00,  5.30784712e-01],\n",
       "       [ 2.20342713e-01, -1.62179490e+00],\n",
       "       [-3.94261866e-01,  8.21011783e-01],\n",
       "       [ 3.11705997e-01, -1.03725167e+00],\n",
       "       [-4.12442076e-01, -8.29697704e-01],\n",
       "       [ 4.41727476e-01, -1.72584209e-01],\n",
       "       [-6.21524334e-01, -7.08352185e-01],\n",
       "       [-4.98105447e-01, -2.62622861e+00],\n",
       "       [-2.43706494e+00,  2.44715215e+00],\n",
       "       [ 4.50037660e-01, -1.83772070e+00],\n",
       "       [ 2.23402485e-03, -1.06473306e+00],\n",
       "       [ 1.24298955e+00, -5.08879865e-01],\n",
       "       [ 2.29344139e-01, -9.77252275e-01],\n",
       "       [ 2.32092749e+00,  6.24484941e-01],\n",
       "       [-2.94957605e+00,  8.12550921e-01],\n",
       "       [ 6.43815184e-01, -6.63463807e-01],\n",
       "       [-2.12540981e+00,  2.44620428e-01],\n",
       "       [-1.87440617e-01, -1.20016635e-01],\n",
       "       [-6.09748537e-01, -5.02198928e-01],\n",
       "       [ 3.73406163e-02,  4.41308509e-01],\n",
       "       [ 2.94764057e-01, -8.60743652e-01],\n",
       "       [-6.13848090e-01,  9.78838019e-02],\n",
       "       [-1.04025536e+00,  9.56378460e-01],\n",
       "       [-6.90266849e-01, -2.45186724e-01],\n",
       "       [-1.46956562e+00,  1.70478213e+00],\n",
       "       [ 4.08938351e-02, -7.43121645e-01],\n",
       "       [ 9.51414794e-01, -9.18939743e-01],\n",
       "       [ 4.00373729e-01, -8.28207818e-01],\n",
       "       [-4.52835308e-01, -3.85146435e-01],\n",
       "       [ 3.66964376e+00, -5.85553550e-01],\n",
       "       [ 9.95696236e-02, -1.94713142e-01],\n",
       "       [-5.72741224e-01, -5.71060915e-01],\n",
       "       [-1.62226873e+00, -7.23728475e-01],\n",
       "       [ 4.04286843e-01,  3.95293386e-01],\n",
       "       [-1.95885893e+00, -8.39397305e-01],\n",
       "       [-1.27443850e-01, -2.88176561e-01],\n",
       "       [ 8.02216265e-01, -2.35712394e-01],\n",
       "       [-1.15373941e-01, -8.48729313e-02],\n",
       "       [ 6.92035345e-01,  2.64455008e+00],\n",
       "       [ 8.41962385e-01,  4.82664048e-01],\n",
       "       [ 2.50698483e-01, -9.28311828e-01],\n",
       "       [ 1.03724262e+00, -7.45605750e-01],\n",
       "       [ 6.63955631e-01, -7.79469543e-01],\n",
       "       [-2.45698687e+00,  1.90097433e+00],\n",
       "       [-9.83691524e-01, -6.18105034e-01],\n",
       "       [ 1.62426923e+00, -1.47644974e-01],\n",
       "       [ 2.27489599e+00, -2.50687784e-01],\n",
       "       [ 9.78807704e-01, -7.02980303e-01],\n",
       "       [ 1.45430321e+00, -8.48405467e-01],\n",
       "       [ 1.01206121e+00,  9.78841623e-01],\n",
       "       [ 5.73846665e-01,  1.62053803e+00],\n",
       "       [-1.21048351e+00, -5.42300726e-01],\n",
       "       [ 2.40643719e+00,  7.68837201e-01],\n",
       "       [ 2.83069305e-01, -6.43996556e-01],\n",
       "       [-3.49563655e-01, -6.51402490e-01],\n",
       "       [ 2.82029111e+00,  1.41880347e+00],\n",
       "       [-9.73663673e-01,  1.86425163e-01],\n",
       "       [ 3.22934758e-01, -9.19350409e-01],\n",
       "       [-1.41733487e+00,  5.37531093e-01],\n",
       "       [ 2.56261746e+00,  1.11935707e+00],\n",
       "       [ 6.37995240e-01, -7.78469205e-01],\n",
       "       [ 3.86002020e-01,  3.41967106e-01],\n",
       "       [ 6.54098401e-01, -1.81810590e-01],\n",
       "       [ 1.55595133e+00, -1.11855061e+00],\n",
       "       [-4.36596666e-01, -7.89584755e-01],\n",
       "       [ 2.01153251e+00, -6.11381322e-01],\n",
       "       [-7.82756362e-01, -1.08094744e+00],\n",
       "       [ 5.55083065e-01, -4.26714462e-01],\n",
       "       [-1.49259747e+00,  2.46503980e+00],\n",
       "       [-4.44079110e-01, -9.82590759e-01],\n",
       "       [ 8.09616296e-01,  1.53858686e+00],\n",
       "       [-4.78555547e-01,  5.20193064e-02],\n",
       "       [-5.84987955e-01, -1.68469586e-01],\n",
       "       [-4.64793053e-01, -3.30064443e-02],\n",
       "       [-3.53245929e-01,  3.23763436e+00],\n",
       "       [-1.95537401e-01, -6.51825461e-01]])"
      ]
     },
     "execution_count": 10,
     "metadata": {},
     "output_type": "execute_result"
    }
   ],
   "source": [
    "TrainData"
   ]
  },
  {
   "cell_type": "code",
   "execution_count": 760,
   "id": "67ab47d3-f19e-4296-a9c0-8b38743efb16",
   "metadata": {},
   "outputs": [
    {
     "data": {
      "text/html": [
       "<div>\n",
       "<style scoped>\n",
       "    .dataframe tbody tr th:only-of-type {\n",
       "        vertical-align: middle;\n",
       "    }\n",
       "\n",
       "    .dataframe tbody tr th {\n",
       "        vertical-align: top;\n",
       "    }\n",
       "\n",
       "    .dataframe thead th {\n",
       "        text-align: right;\n",
       "    }\n",
       "</style>\n",
       "<table border=\"1\" class=\"dataframe\">\n",
       "  <thead>\n",
       "    <tr style=\"text-align: right;\">\n",
       "      <th></th>\n",
       "      <th>F1</th>\n",
       "      <th>F2</th>\n",
       "      <th>TARGET</th>\n",
       "    </tr>\n",
       "  </thead>\n",
       "  <tbody>\n",
       "    <tr>\n",
       "      <th>0</th>\n",
       "      <td>-0.359519</td>\n",
       "      <td>0.535593</td>\n",
       "      <td>2.0</td>\n",
       "    </tr>\n",
       "    <tr>\n",
       "      <th>1</th>\n",
       "      <td>0.086034</td>\n",
       "      <td>0.710377</td>\n",
       "      <td>2.0</td>\n",
       "    </tr>\n",
       "    <tr>\n",
       "      <th>2</th>\n",
       "      <td>-0.375664</td>\n",
       "      <td>-0.412102</td>\n",
       "      <td>NaN</td>\n",
       "    </tr>\n",
       "    <tr>\n",
       "      <th>3</th>\n",
       "      <td>0.637778</td>\n",
       "      <td>0.313952</td>\n",
       "      <td>NaN</td>\n",
       "    </tr>\n",
       "    <tr>\n",
       "      <th>4</th>\n",
       "      <td>-2.369236</td>\n",
       "      <td>-1.116627</td>\n",
       "      <td>2.0</td>\n",
       "    </tr>\n",
       "    <tr>\n",
       "      <th>...</th>\n",
       "      <td>...</td>\n",
       "      <td>...</td>\n",
       "      <td>...</td>\n",
       "    </tr>\n",
       "    <tr>\n",
       "      <th>260</th>\n",
       "      <td>NaN</td>\n",
       "      <td>NaN</td>\n",
       "      <td>0.0</td>\n",
       "    </tr>\n",
       "    <tr>\n",
       "      <th>270</th>\n",
       "      <td>NaN</td>\n",
       "      <td>NaN</td>\n",
       "      <td>0.0</td>\n",
       "    </tr>\n",
       "    <tr>\n",
       "      <th>248</th>\n",
       "      <td>NaN</td>\n",
       "      <td>NaN</td>\n",
       "      <td>0.0</td>\n",
       "    </tr>\n",
       "    <tr>\n",
       "      <th>255</th>\n",
       "      <td>NaN</td>\n",
       "      <td>NaN</td>\n",
       "      <td>0.0</td>\n",
       "    </tr>\n",
       "    <tr>\n",
       "      <th>263</th>\n",
       "      <td>NaN</td>\n",
       "      <td>NaN</td>\n",
       "      <td>0.0</td>\n",
       "    </tr>\n",
       "  </tbody>\n",
       "</table>\n",
       "<p>270 rows × 3 columns</p>\n",
       "</div>"
      ],
      "text/plain": [
       "           F1        F2  TARGET\n",
       "0   -0.359519  0.535593     2.0\n",
       "1    0.086034  0.710377     2.0\n",
       "2   -0.375664 -0.412102     NaN\n",
       "3    0.637778  0.313952     NaN\n",
       "4   -2.369236 -1.116627     2.0\n",
       "..        ...       ...     ...\n",
       "260       NaN       NaN     0.0\n",
       "270       NaN       NaN     0.0\n",
       "248       NaN       NaN     0.0\n",
       "255       NaN       NaN     0.0\n",
       "263       NaN       NaN     0.0\n",
       "\n",
       "[270 rows x 3 columns]"
      ]
     },
     "execution_count": 760,
     "metadata": {},
     "output_type": "execute_result"
    }
   ],
   "source": [
    "\n",
    "NewData = pd.DataFrame(TrainData, columns = ['F1','F2'])\n",
    "NewData = pd.concat([NewData, trgt.rename('TARGET')], axis=1)\n",
    "\n",
    "\n",
    "# NewData = pd.DataFrame(NewData, columns = ['F1','F1','F3','F4','F5','F6','F7','F8','F9','F10','F11','F12','F13','F14','F15',])\n",
    "\n",
    "\n",
    "\n",
    "NewData"
   ]
  },
  {
   "cell_type": "code",
   "execution_count": 761,
   "id": "33b96762-a1ed-4b0f-9503-ece68923b11f",
   "metadata": {},
   "outputs": [],
   "source": [
    "Data0 , Data1, Data2 , target0, target1, target2  = split_by_class(NewData)\n",
    "    "
   ]
  },
  {
   "cell_type": "code",
   "execution_count": 762,
   "id": "94e044e5-6bf7-4b86-8648-89e5d3cce534",
   "metadata": {},
   "outputs": [],
   "source": [
    "min0 = Data0.min(axis=0)\n",
    "max0 = Data0.max(axis=0)\n",
    "min1 = Data1.min(axis=0)\n",
    "max1 = Data1.max(axis=0)\n",
    "min2 = Data2.min(axis=0)\n",
    "max2 = Data2.max(axis=0)"
   ]
  },
  {
   "cell_type": "code",
   "execution_count": 763,
   "id": "bb47780d-8feb-435b-ae58-5027d52bd7a8",
   "metadata": {},
   "outputs": [],
   "source": [
    "var0 = np.var(Data0)\n",
    "var1 = np.var(Data1)\n",
    "var2 = np.var(Data2)\n",
    "\n",
    "var0 = np.array(var0)\n",
    "var1 = np.array(var1)\n",
    "var2 = np.array(var2)\n",
    "\n",
    "\n",
    "#method 2 , create similarity matrix based on mean of the class \n",
    "avg0 = Data0.mean()\n",
    "# avg0['SESSO']=0\n",
    "avg1 = Data1.mean()\n",
    "# avg1['SESSO']=0\n",
    "avg2 = Data2.mean()\n",
    "# avg1['SESSO']=0\n",
    "avg0 = np.array(avg0)\n",
    "avg1 = np.array(avg1)\n",
    "avg2 = np.array(avg2)\n"
   ]
  },
  {
   "cell_type": "code",
   "execution_count": 764,
   "id": "cb51bea1-741a-419c-adcf-59d58280eee7",
   "metadata": {},
   "outputs": [
    {
     "data": {
      "text/plain": [
       "array([-0.39344802,  0.09279239])"
      ]
     },
     "execution_count": 764,
     "metadata": {},
     "output_type": "execute_result"
    }
   ],
   "source": [
    "avg0"
   ]
  },
  {
   "cell_type": "code",
   "execution_count": 765,
   "id": "b3d96f2f-88da-4d7c-8e9f-58bb29ceeb36",
   "metadata": {},
   "outputs": [
    {
     "data": {
      "text/plain": [
       "array([0.10560767, 0.05823173])"
      ]
     },
     "execution_count": 765,
     "metadata": {},
     "output_type": "execute_result"
    }
   ],
   "source": [
    "avg1"
   ]
  },
  {
   "cell_type": "code",
   "execution_count": 766,
   "id": "780fd9b7-cba3-492e-a5c2-b14d58ca2f92",
   "metadata": {},
   "outputs": [
    {
     "data": {
      "text/plain": [
       "array([ 0.05110744, -0.0143039 ])"
      ]
     },
     "execution_count": 766,
     "metadata": {},
     "output_type": "execute_result"
    }
   ],
   "source": [
    "avg2"
   ]
  },
  {
   "cell_type": "code",
   "execution_count": 767,
   "id": "ec030c78-bc69-45a5-b4e4-1e95bc18373e",
   "metadata": {},
   "outputs": [],
   "source": [
    "RelationMatrix =[ avg0,avg1,avg2]\n",
    "# RelationMatrix =[ var0,var1,var2]"
   ]
  },
  {
   "cell_type": "code",
   "execution_count": 768,
   "id": "fc523fc8-efd0-48a7-84b6-ad98c63f85ea",
   "metadata": {},
   "outputs": [],
   "source": [
    "RelationMatrix = np.array(RelationMatrix)"
   ]
  },
  {
   "cell_type": "code",
   "execution_count": 786,
   "id": "0649db01-c8f7-47ec-b9cd-326071e2f123",
   "metadata": {},
   "outputs": [
    {
     "data": {
      "text/plain": [
       "array([[-0.39344802,  0.09279239],\n",
       "       [ 0.10560767,  0.05823173],\n",
       "       [ 0.05110744, -0.0143039 ]])"
      ]
     },
     "execution_count": 786,
     "metadata": {},
     "output_type": "execute_result"
    }
   ],
   "source": [
    "RelationMatrix"
   ]
  },
  {
   "cell_type": "code",
   "execution_count": 770,
   "id": "5042c271-9a51-49a3-9272-7b246b570d87",
   "metadata": {},
   "outputs": [
    {
     "data": {
      "text/plain": [
       "array([[-0.39344802,  0.09279239],\n",
       "       [ 0.10560767,  0.05823173],\n",
       "       [ 0.05110744, -0.0143039 ]])"
      ]
     },
     "execution_count": 770,
     "metadata": {},
     "output_type": "execute_result"
    }
   ],
   "source": [
    "RelationMatrix\n"
   ]
  },
  {
   "cell_type": "code",
   "execution_count": 789,
   "id": "59b59967-89c9-425a-a950-983057813bcc",
   "metadata": {},
   "outputs": [],
   "source": [
    "TestData = np.array(TestData)\n",
    "SimilarityMatrix = composition(RelationMatrix , TestData)\n"
   ]
  },
  {
   "cell_type": "code",
   "execution_count": 772,
   "id": "799b4276-10ea-414e-bc7c-0086f52575a7",
   "metadata": {},
   "outputs": [],
   "source": [
    "\n",
    "predict = []\n",
    "for i in range(SimilarityMatrix.shape[1]):\n",
    "    a = np.argmax(SimilarityMatrix[:,i])\n",
    "    predict.append(a)"
   ]
  },
  {
   "cell_type": "code",
   "execution_count": 773,
   "id": "c793dd7d-df81-4854-9879-d2dc110c4435",
   "metadata": {},
   "outputs": [],
   "source": [
    "atcutal= np.array(targetTest)\n",
    "predict = np.array(predict)"
   ]
  },
  {
   "cell_type": "code",
   "execution_count": 779,
   "id": "fa394ac5-129a-425a-b518-bcc2538f5559",
   "metadata": {},
   "outputs": [],
   "source": [
    "conf3 = confusion_matrix(atcutal, predict )"
   ]
  },
  {
   "cell_type": "code",
   "execution_count": 780,
   "id": "c945b53c-bf5d-41fb-913c-4d1eb5343f78",
   "metadata": {},
   "outputs": [
    {
     "data": {
      "text/plain": [
       "0.32142857142857145"
      ]
     },
     "execution_count": 780,
     "metadata": {},
     "output_type": "execute_result"
    }
   ],
   "source": [
    "accuracy_score(atcutal, predict)"
   ]
  },
  {
   "cell_type": "code",
   "execution_count": 781,
   "id": "a94c957c-e6ac-4c8d-b523-81f4f50ad6a4",
   "metadata": {},
   "outputs": [],
   "source": [
    "#change 3 class to two class , class 0 and class 1\n",
    "actual1 =np.zeros(len(predict))\n",
    "pred1 =np.zeros(len(predict))\n",
    "for i in range(len(predict)):\n",
    "    if(predict[i] == 2 ):\n",
    "        pred1[i]=1\n",
    "    else:\n",
    "        pred1[i]=predict[i]\n",
    "    if(atcutal[i]==2):\n",
    "        actual1[i]=1\n",
    "    else:\n",
    "        actual1[i] = atcutal[i]"
   ]
  },
  {
   "cell_type": "code",
   "execution_count": 782,
   "id": "e558c41d-48d6-4237-a188-ede9b483f4b9",
   "metadata": {},
   "outputs": [
    {
     "data": {
      "text/plain": [
       "0.39285714285714285"
      ]
     },
     "execution_count": 782,
     "metadata": {},
     "output_type": "execute_result"
    }
   ],
   "source": [
    "accuracy_score(actual1, pred1)"
   ]
  },
  {
   "cell_type": "code",
   "execution_count": 783,
   "id": "aea19aa2-ad77-4edc-baeb-7bd4659fca48",
   "metadata": {},
   "outputs": [],
   "source": [
    "conf2=confusion_matrix(actual1, pred1 )"
   ]
  },
  {
   "cell_type": "code",
   "execution_count": 784,
   "id": "0cc2f5cc-e4b6-4677-a960-efbf5f365bce",
   "metadata": {},
   "outputs": [
    {
     "data": {
      "text/plain": [
       "<AxesSubplot:>"
      ]
     },
     "execution_count": 784,
     "metadata": {},
     "output_type": "execute_result"
    },
    {
     "data": {
      "image/png": "[encoded data removed]",
      "text/plain": [
       "<Figure size 432x288 with 2 Axes>"
      ]
     },
     "metadata": {},
     "output_type": "display_data"
    }
   ],
   "source": [
    "\n",
    "df_cm = pd.DataFrame(conf2, range(2), range(2))\n",
    "sn.set(font_scale=1.4) # for label size\n",
    "sn.heatmap(df_cm, annot=True, annot_kws={\"size\":18} , cmap='Blues')"
   ]
  },
  {
   "cell_type": "code",
   "execution_count": 785,
   "id": "630fedc9-d4d5-4754-a26d-ef367c82b887",
   "metadata": {},
   "outputs": [
    {
     "data": {
      "text/plain": [
       "<AxesSubplot:>"
      ]
     },
     "execution_count": 785,
     "metadata": {},
     "output_type": "execute_result"
    },
    {
     "data": {
      "image/png": "[encoded data removed]",
      "text/plain": [
       "<Figure size 432x288 with 2 Axes>"
      ]
     },
     "metadata": {},
     "output_type": "display_data"
    }
   ],
   "source": [
    "df_cm = pd.DataFrame(conf3, range(3), range(3))\n",
    "sn.set(font_scale=1.4) # for label size\n",
    "sn.heatmap(df_cm, annot=True, annot_kws={\"size\":18}) # font size"
   ]
  },
  {
   "cell_type": "code",
   "execution_count": null,
   "id": "30cfe247-7b8b-4a85-bdd4-ef78a03fbd5a",
   "metadata": {},
   "outputs": [],
   "source": []
  },
  {
   "cell_type": "code",
   "execution_count": null,
   "id": "96d7c24b-3f60-4807-852d-462c93adee75",
   "metadata": {},
   "outputs": [],
   "source": []
  },
  {
   "cell_type": "code",
   "execution_count": null,
   "id": "447e2599-151c-4e6f-8c2a-2d7ebfbc626b",
   "metadata": {},
   "outputs": [],
   "source": []
  }
 ],
 "metadata": {
  "kernelspec": {
   "display_name": "Python 3 (ipykernel)",
   "language": "python",
   "name": "python3"
  },
  "language_info": {
   "codemirror_mode": {
    "name": "ipython",
    "version": 3
   },
   "file_extension": ".py",
   "mimetype": "text/x-python",
   "name": "python",
   "nbconvert_exporter": "python",
   "pygments_lexer": "ipython3",
   "version": "3.9.12"
  }
 },
 "nbformat": 4,
 "nbformat_minor": 5
}
