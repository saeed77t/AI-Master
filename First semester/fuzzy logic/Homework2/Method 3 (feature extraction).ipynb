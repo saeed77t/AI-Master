{
 "cells": [
  {
   "cell_type": "code",
   "execution_count": 1,
   "id": "5fa51f7f-56b2-4fda-8a7f-9ac7f4ede652",
   "metadata": {},
   "outputs": [],
   "source": [
    "import numpy as np\n",
    "import math\n",
    "import pandas as pd\n",
    "import matplotlib.pyplot as plt\n",
    "from sklearn.impute import KNNImputer\n",
    "from sklearn.model_selection import train_test_split\n",
    "from sklearn.metrics import confusion_matrix\n",
    "from sklearn.metrics import accuracy_score\n",
    "from sklearn.decomposition import PCA\n",
    "import seaborn as sn"
   ]
  },
  {
   "cell_type": "code",
   "execution_count": 2,
   "id": "3dd1bce5-c1b6-43d9-8cdc-ca1c3b2eb80d",
   "metadata": {},
   "outputs": [],
   "source": [
    "class PreprocessData:\n",
    "    def NomalizeData(Data):\n",
    "        Data=np.array(Data)\n",
    "        lenght = len(Data)\n",
    "        normalizedData = []\n",
    "        \n",
    "        for i in range (lenght):\n",
    "            normalizedData.append(float((Data[i] - min(Data) ) / ( max(Data) - min(Data)) ))\n",
    "            \n",
    "        return normalizedData\n",
    "    \n",
    "    def TestAndTrain(Data , PercentageOfTrainData):\n",
    "        PercentageOfTrainData = float(PercentageOfTrainData / 100)\n",
    "        Train_DataFrame = Data.sample(frac=PercentageOfTrainData)\n",
    "        Test_DataFrame =Data.drop(Train_DataFrame.index)\n",
    "        \n",
    "        return Train_DataFrame , Test_DataFrame\n",
    "    "
   ]
  },
  {
   "cell_type": "code",
   "execution_count": 3,
   "id": "1203a0fa-1548-4f13-9df1-fa25e487b04c",
   "metadata": {},
   "outputs": [],
   "source": [
    "Data = pd.read_excel('Detection of COVID-19 Infection from Routine Blood Exams_dataset.xlsx')\n",
    "Data[\"SESSO\"].replace({'M': 0.,'F': 1.}, inplace=True)"
   ]
  },
  {
   "cell_type": "code",
   "execution_count": 4,
   "id": "7fb23e29-d595-4177-b3c4-299976e3f6e1",
   "metadata": {},
   "outputs": [],
   "source": [
    "def Suprimun_Tnorm(Relation, data):\n",
    "    ror = np.vstack((Relation, data))\n",
    "    sup_norm = np.max(np.min(ror, axis=0))\n",
    "    return sup_norm\n",
    "\n",
    "\n",
    "def composition(relation , data):\n",
    "    composed = np.array(list(map(lambda x: list(map(lambda y: Suprimun_Tnorm(relation[x], data[y]),range(data.shape[0]))),range(relation.shape[0]))))\n",
    "    return composed\n",
    "\n",
    "\n",
    "def split_by_class(TrainData):\n",
    "    Data0 = TrainData[TrainData['TARGET']==0]\n",
    "    target0 = Data0['TARGET']\n",
    "    Data0 = Data0.drop('TARGET',axis=1)\n",
    "    # Data0=(Data0-Data0.min())/(Data0.max()-Data0.min())\n",
    "    Data1 = TrainData[TrainData['TARGET']==1]\n",
    "    target1 = Data1['TARGET']\n",
    "    Data1 = Data1.drop('TARGET',axis=1)\n",
    "    # Data1=(Data1-Data1.min())/(Data1.max()-Data1.min())\n",
    "    Data2 = TrainData[TrainData['TARGET']==2]\n",
    "    target2 = Data2['TARGET']\n",
    "    Data2 = Data2.drop('TARGET',axis=1)\n",
    "    # Data2=(Data2-Data2.min())/(Data2.max()-Data2.min())\n",
    "    return Data0 , Data1, Data2 , target0, target1, target2 \n",
    "\n"
   ]
  },
  {
   "cell_type": "code",
   "execution_count": null,
   "id": "d52d819b-18de-4736-90b0-b51cc649f8a3",
   "metadata": {},
   "outputs": [],
   "source": []
  },
  {
   "cell_type": "code",
   "execution_count": 5,
   "id": "f9e02fd0-b182-4f02-8c47-ffba52115a91",
   "metadata": {},
   "outputs": [],
   "source": [
    "#fill misiing values \n",
    "imputer= KNNImputer(n_neighbors=4)\n",
    "Data = imputer.fit_transform(Data[['SESSO', 'AGE','WBC','Piastrine','Neutrofili','Linfociti','Monociti','Eosinofili','Basofili','PCR','AST','ALT','ALP','GGT','LDH','TARGET']])\n",
    "Data = pd.DataFrame(Data, columns = ['SESSO', 'AGE','WBC','Piastrine','Neutrofili','Linfociti','Monociti','Eosinofili','Basofili','PCR','AST','ALT','ALP','GGT','LDH','TARGET'])\n",
    "# Data = pd.concat([Data1, Data2,Data0])\n",
    "\n",
    "\n",
    "#remove targets:\n",
    "trgt = Data['TARGET']\n",
    "Data = Data.drop('TARGET',axis=1)"
   ]
  },
  {
   "cell_type": "code",
   "execution_count": 6,
   "id": "e4e73c10-d7bb-4a42-a440-3091872aebd4",
   "metadata": {},
   "outputs": [],
   "source": [
    "pca=PCA(n_components=12)\n",
    "pca.fit(Data)\n",
    "NewData=pca.transform(Data)\n"
   ]
  },
  {
   "cell_type": "code",
   "execution_count": 7,
   "id": "7c5e7d85-200e-4d2c-b03e-c093928c71eb",
   "metadata": {},
   "outputs": [],
   "source": [
    "NewData = pd.DataFrame(NewData, columns = ['F1','F1','F3','F4','F5','F6','F7','F8','F9','F10','F11','F12'])\n",
    "\n",
    "# NewData = pd.DataFrame(NewData, columns = ['F1','F1','F3','F4','F5','F6','F7','F8','F9','F10','F11','F12','F13','F14','F15',])"
   ]
  },
  {
   "cell_type": "code",
   "execution_count": 8,
   "id": "d34ec628-8a8a-43cd-8030-a66e644db73d",
   "metadata": {},
   "outputs": [],
   "source": [
    "NewData = pd.concat([NewData, trgt.rename('TARGET')], axis=1)"
   ]
  },
  {
   "cell_type": "code",
   "execution_count": 9,
   "id": "0663acec-a88e-4095-853a-5c6d3836385c",
   "metadata": {},
   "outputs": [
    {
     "data": {
      "text/html": [
       "<div>\n",
       "<style scoped>\n",
       "    .dataframe tbody tr th:only-of-type {\n",
       "        vertical-align: middle;\n",
       "    }\n",
       "\n",
       "    .dataframe tbody tr th {\n",
       "        vertical-align: top;\n",
       "    }\n",
       "\n",
       "    .dataframe thead th {\n",
       "        text-align: right;\n",
       "    }\n",
       "</style>\n",
       "<table border=\"1\" class=\"dataframe\">\n",
       "  <thead>\n",
       "    <tr style=\"text-align: right;\">\n",
       "      <th></th>\n",
       "      <th>F1</th>\n",
       "      <th>F1</th>\n",
       "      <th>F3</th>\n",
       "      <th>F4</th>\n",
       "      <th>F5</th>\n",
       "      <th>F6</th>\n",
       "      <th>F7</th>\n",
       "      <th>F8</th>\n",
       "      <th>F9</th>\n",
       "      <th>F10</th>\n",
       "      <th>F11</th>\n",
       "      <th>F12</th>\n",
       "      <th>TARGET</th>\n",
       "    </tr>\n",
       "  </thead>\n",
       "  <tbody>\n",
       "    <tr>\n",
       "      <th>0</th>\n",
       "      <td>-155.412443</td>\n",
       "      <td>-51.662029</td>\n",
       "      <td>65.723160</td>\n",
       "      <td>-23.947640</td>\n",
       "      <td>1.473836</td>\n",
       "      <td>-6.471144</td>\n",
       "      <td>-16.250793</td>\n",
       "      <td>6.158272</td>\n",
       "      <td>-3.286475</td>\n",
       "      <td>0.019904</td>\n",
       "      <td>-0.548254</td>\n",
       "      <td>0.265722</td>\n",
       "      <td>2.0</td>\n",
       "    </tr>\n",
       "    <tr>\n",
       "      <th>1</th>\n",
       "      <td>-202.771952</td>\n",
       "      <td>-27.602415</td>\n",
       "      <td>43.273070</td>\n",
       "      <td>-18.688068</td>\n",
       "      <td>-1.318485</td>\n",
       "      <td>-1.812994</td>\n",
       "      <td>-14.683243</td>\n",
       "      <td>4.721535</td>\n",
       "      <td>-2.853208</td>\n",
       "      <td>0.161300</td>\n",
       "      <td>-0.549958</td>\n",
       "      <td>0.308170</td>\n",
       "      <td>2.0</td>\n",
       "    </tr>\n",
       "    <tr>\n",
       "      <th>2</th>\n",
       "      <td>-1.006311</td>\n",
       "      <td>-74.266199</td>\n",
       "      <td>-13.067914</td>\n",
       "      <td>93.121023</td>\n",
       "      <td>-14.308586</td>\n",
       "      <td>-0.758448</td>\n",
       "      <td>1.719532</td>\n",
       "      <td>-7.509019</td>\n",
       "      <td>-4.060883</td>\n",
       "      <td>-2.091702</td>\n",
       "      <td>-0.072961</td>\n",
       "      <td>0.210053</td>\n",
       "      <td>2.0</td>\n",
       "    </tr>\n",
       "    <tr>\n",
       "      <th>3</th>\n",
       "      <td>323.441337</td>\n",
       "      <td>-115.863595</td>\n",
       "      <td>-102.782209</td>\n",
       "      <td>108.087356</td>\n",
       "      <td>-6.821593</td>\n",
       "      <td>26.802078</td>\n",
       "      <td>-7.316195</td>\n",
       "      <td>-7.102443</td>\n",
       "      <td>3.417422</td>\n",
       "      <td>-0.860901</td>\n",
       "      <td>0.435064</td>\n",
       "      <td>0.164372</td>\n",
       "      <td>2.0</td>\n",
       "    </tr>\n",
       "    <tr>\n",
       "      <th>4</th>\n",
       "      <td>-29.930090</td>\n",
       "      <td>135.587109</td>\n",
       "      <td>77.972655</td>\n",
       "      <td>60.823853</td>\n",
       "      <td>-54.905935</td>\n",
       "      <td>-4.009484</td>\n",
       "      <td>-4.122472</td>\n",
       "      <td>-12.786532</td>\n",
       "      <td>-2.330022</td>\n",
       "      <td>-1.494357</td>\n",
       "      <td>0.293937</td>\n",
       "      <td>0.376393</td>\n",
       "      <td>2.0</td>\n",
       "    </tr>\n",
       "    <tr>\n",
       "      <th>...</th>\n",
       "      <td>...</td>\n",
       "      <td>...</td>\n",
       "      <td>...</td>\n",
       "      <td>...</td>\n",
       "      <td>...</td>\n",
       "      <td>...</td>\n",
       "      <td>...</td>\n",
       "      <td>...</td>\n",
       "      <td>...</td>\n",
       "      <td>...</td>\n",
       "      <td>...</td>\n",
       "      <td>...</td>\n",
       "      <td>...</td>\n",
       "    </tr>\n",
       "    <tr>\n",
       "      <th>274</th>\n",
       "      <td>-185.641784</td>\n",
       "      <td>35.716807</td>\n",
       "      <td>-58.786146</td>\n",
       "      <td>-18.575868</td>\n",
       "      <td>4.986806</td>\n",
       "      <td>17.252551</td>\n",
       "      <td>-0.188935</td>\n",
       "      <td>16.558904</td>\n",
       "      <td>-0.909464</td>\n",
       "      <td>-2.212381</td>\n",
       "      <td>1.198841</td>\n",
       "      <td>-0.301156</td>\n",
       "      <td>0.0</td>\n",
       "    </tr>\n",
       "    <tr>\n",
       "      <th>275</th>\n",
       "      <td>-206.842013</td>\n",
       "      <td>19.099677</td>\n",
       "      <td>174.045734</td>\n",
       "      <td>38.513421</td>\n",
       "      <td>-12.664641</td>\n",
       "      <td>-4.431166</td>\n",
       "      <td>11.073486</td>\n",
       "      <td>39.721665</td>\n",
       "      <td>3.935710</td>\n",
       "      <td>-0.993287</td>\n",
       "      <td>-0.440660</td>\n",
       "      <td>0.251907</td>\n",
       "      <td>0.0</td>\n",
       "    </tr>\n",
       "    <tr>\n",
       "      <th>276</th>\n",
       "      <td>-107.515411</td>\n",
       "      <td>84.297249</td>\n",
       "      <td>-121.610928</td>\n",
       "      <td>-51.247106</td>\n",
       "      <td>-22.169879</td>\n",
       "      <td>43.640562</td>\n",
       "      <td>-4.491802</td>\n",
       "      <td>11.414128</td>\n",
       "      <td>4.839348</td>\n",
       "      <td>2.317871</td>\n",
       "      <td>-0.456503</td>\n",
       "      <td>-0.482630</td>\n",
       "      <td>0.0</td>\n",
       "    </tr>\n",
       "    <tr>\n",
       "      <th>277</th>\n",
       "      <td>-107.551793</td>\n",
       "      <td>77.938699</td>\n",
       "      <td>-91.637155</td>\n",
       "      <td>-7.579478</td>\n",
       "      <td>-69.524569</td>\n",
       "      <td>100.619236</td>\n",
       "      <td>32.873288</td>\n",
       "      <td>20.859789</td>\n",
       "      <td>1.133153</td>\n",
       "      <td>0.506983</td>\n",
       "      <td>0.577297</td>\n",
       "      <td>-0.127171</td>\n",
       "      <td>0.0</td>\n",
       "    </tr>\n",
       "    <tr>\n",
       "      <th>278</th>\n",
       "      <td>-109.514680</td>\n",
       "      <td>-9.108777</td>\n",
       "      <td>-73.426842</td>\n",
       "      <td>62.370614</td>\n",
       "      <td>-13.495846</td>\n",
       "      <td>4.047314</td>\n",
       "      <td>-7.708865</td>\n",
       "      <td>5.703549</td>\n",
       "      <td>11.723365</td>\n",
       "      <td>-0.763165</td>\n",
       "      <td>0.526670</td>\n",
       "      <td>0.405786</td>\n",
       "      <td>0.0</td>\n",
       "    </tr>\n",
       "  </tbody>\n",
       "</table>\n",
       "<p>279 rows × 13 columns</p>\n",
       "</div>"
      ],
      "text/plain": [
       "             F1          F1          F3          F4         F5          F6  \\\n",
       "0   -155.412443  -51.662029   65.723160  -23.947640   1.473836   -6.471144   \n",
       "1   -202.771952  -27.602415   43.273070  -18.688068  -1.318485   -1.812994   \n",
       "2     -1.006311  -74.266199  -13.067914   93.121023 -14.308586   -0.758448   \n",
       "3    323.441337 -115.863595 -102.782209  108.087356  -6.821593   26.802078   \n",
       "4    -29.930090  135.587109   77.972655   60.823853 -54.905935   -4.009484   \n",
       "..          ...         ...         ...         ...        ...         ...   \n",
       "274 -185.641784   35.716807  -58.786146  -18.575868   4.986806   17.252551   \n",
       "275 -206.842013   19.099677  174.045734   38.513421 -12.664641   -4.431166   \n",
       "276 -107.515411   84.297249 -121.610928  -51.247106 -22.169879   43.640562   \n",
       "277 -107.551793   77.938699  -91.637155   -7.579478 -69.524569  100.619236   \n",
       "278 -109.514680   -9.108777  -73.426842   62.370614 -13.495846    4.047314   \n",
       "\n",
       "            F7         F8         F9       F10       F11       F12  TARGET  \n",
       "0   -16.250793   6.158272  -3.286475  0.019904 -0.548254  0.265722     2.0  \n",
       "1   -14.683243   4.721535  -2.853208  0.161300 -0.549958  0.308170     2.0  \n",
       "2     1.719532  -7.509019  -4.060883 -2.091702 -0.072961  0.210053     2.0  \n",
       "3    -7.316195  -7.102443   3.417422 -0.860901  0.435064  0.164372     2.0  \n",
       "4    -4.122472 -12.786532  -2.330022 -1.494357  0.293937  0.376393     2.0  \n",
       "..         ...        ...        ...       ...       ...       ...     ...  \n",
       "274  -0.188935  16.558904  -0.909464 -2.212381  1.198841 -0.301156     0.0  \n",
       "275  11.073486  39.721665   3.935710 -0.993287 -0.440660  0.251907     0.0  \n",
       "276  -4.491802  11.414128   4.839348  2.317871 -0.456503 -0.482630     0.0  \n",
       "277  32.873288  20.859789   1.133153  0.506983  0.577297 -0.127171     0.0  \n",
       "278  -7.708865   5.703549  11.723365 -0.763165  0.526670  0.405786     0.0  \n",
       "\n",
       "[279 rows x 13 columns]"
      ]
     },
     "execution_count": 9,
     "metadata": {},
     "output_type": "execute_result"
    }
   ],
   "source": [
    "NewData"
   ]
  },
  {
   "cell_type": "code",
   "execution_count": 10,
   "id": "c351802a-9985-43ed-ae3e-1e20b508812a",
   "metadata": {},
   "outputs": [],
   "source": [
    "#split to teset and train \n",
    "# Dataset1 = PreprocessData.NomalizeData(Data)\n",
    "Dataset = PreprocessData.TestAndTrain(NewData , 80)\n",
    "\n",
    "TrainData = Dataset[0]\n",
    "TestData = Dataset[1]\n",
    "targetTest = TestData['TARGET']\n",
    "TestData = TestData.drop('TARGET',axis=1)\n",
    "# TestData=(TestData-TestData.min())/(TestData.max()-TestData.min())"
   ]
  },
  {
   "cell_type": "code",
   "execution_count": 11,
   "id": "33b96762-a1ed-4b0f-9503-ece68923b11f",
   "metadata": {},
   "outputs": [],
   "source": [
    "Data0 , Data1, Data2 , target0, target1, target2  = split_by_class(NewData)\n",
    "    "
   ]
  },
  {
   "cell_type": "code",
   "execution_count": null,
   "id": "67ab47d3-f19e-4296-a9c0-8b38743efb16",
   "metadata": {},
   "outputs": [],
   "source": []
  },
  {
   "cell_type": "code",
   "execution_count": 12,
   "id": "94e044e5-6bf7-4b86-8648-89e5d3cce534",
   "metadata": {},
   "outputs": [],
   "source": []
  },
  {
   "cell_type": "code",
   "execution_count": 13,
   "id": "bb47780d-8feb-435b-ae58-5027d52bd7a8",
   "metadata": {},
   "outputs": [],
   "source": [
    "\n",
    "\n",
    "#method 2 , create similarity matrix based on mean of the class \n",
    "avg0 = Data0.mean()\n",
    "# avg0['SESSO']=0\n",
    "avg1 = Data1.mean()\n",
    "# avg1['SESSO']=0\n",
    "avg2 = Data2.mean()\n",
    "# avg1['SESSO']=0\n",
    "avg0 = np.array(avg0)\n",
    "avg1 = np.array(avg1)\n",
    "avg2 = np.array(avg2)\n"
   ]
  },
  {
   "cell_type": "code",
   "execution_count": 14,
   "id": "cb51bea1-741a-419c-adcf-59d58280eee7",
   "metadata": {},
   "outputs": [
    {
     "data": {
      "text/plain": [
       "(12,)"
      ]
     },
     "execution_count": 14,
     "metadata": {},
     "output_type": "execute_result"
    }
   ],
   "source": [
    "avg0.shape"
   ]
  },
  {
   "cell_type": "code",
   "execution_count": 15,
   "id": "b3d96f2f-88da-4d7c-8e9f-58bb29ceeb36",
   "metadata": {},
   "outputs": [
    {
     "data": {
      "text/plain": [
       "(12,)"
      ]
     },
     "execution_count": 15,
     "metadata": {},
     "output_type": "execute_result"
    }
   ],
   "source": [
    "avg1.shape"
   ]
  },
  {
   "cell_type": "code",
   "execution_count": 16,
   "id": "780fd9b7-cba3-492e-a5c2-b14d58ca2f92",
   "metadata": {},
   "outputs": [
    {
     "data": {
      "text/plain": [
       "(12,)"
      ]
     },
     "execution_count": 16,
     "metadata": {},
     "output_type": "execute_result"
    }
   ],
   "source": [
    "avg2.shape"
   ]
  },
  {
   "cell_type": "code",
   "execution_count": 17,
   "id": "ec030c78-bc69-45a5-b4e4-1e95bc18373e",
   "metadata": {},
   "outputs": [],
   "source": [
    "RelationMatrix =[ avg0,avg1,avg2]\n",
    "# RelationMatrix =[ var0,var1,var2]"
   ]
  },
  {
   "cell_type": "code",
   "execution_count": 18,
   "id": "fc523fc8-efd0-48a7-84b6-ad98c63f85ea",
   "metadata": {},
   "outputs": [],
   "source": [
    "RelationMatrix = np.array(RelationMatrix)"
   ]
  },
  {
   "cell_type": "code",
   "execution_count": 19,
   "id": "0649db01-c8f7-47ec-b9cd-326071e2f123",
   "metadata": {},
   "outputs": [
    {
     "data": {
      "text/plain": [
       "(3, 12)"
      ]
     },
     "execution_count": 19,
     "metadata": {},
     "output_type": "execute_result"
    }
   ],
   "source": [
    "RelationMatrix.shape"
   ]
  },
  {
   "cell_type": "code",
   "execution_count": 20,
   "id": "5042c271-9a51-49a3-9272-7b246b570d87",
   "metadata": {},
   "outputs": [
    {
     "data": {
      "text/plain": [
       "array([[-8.04174073e+01,  1.62934420e+01, -1.18479275e+01,\n",
       "        -1.37880291e+00, -5.54985050e+00,  4.79651570e+00,\n",
       "        -2.37481592e+00,  7.68129208e-01,  1.84358053e+00,\n",
       "         2.60944661e-01,  6.99930192e-02, -9.48913810e-02],\n",
       "       [ 1.74897634e-01,  3.57263820e+00,  2.19342015e+01,\n",
       "        -1.05773920e+00,  4.68319910e-01, -6.63027934e+00,\n",
       "        -1.08869739e+00,  1.49885690e-01, -1.77278699e+00,\n",
       "        -1.82270872e-01,  1.86517713e-02,  1.84781098e-02],\n",
       "       [ 1.13669601e+02, -2.82924736e+01, -1.52028132e+01,\n",
       "         3.49584046e+00,  7.17932167e+00,  2.87409346e+00,\n",
       "         4.95200625e+00, -1.30676634e+00, -2.64247268e-02,\n",
       "        -1.03859916e-01, -1.26357277e-01,  1.07482213e-01]])"
      ]
     },
     "execution_count": 20,
     "metadata": {},
     "output_type": "execute_result"
    }
   ],
   "source": [
    "RelationMatrix"
   ]
  },
  {
   "cell_type": "code",
   "execution_count": 37,
   "id": "59b59967-89c9-425a-a950-983057813bcc",
   "metadata": {},
   "outputs": [],
   "source": [
    "TestData = np.array(TestData)\n",
    "SimilarityMatrix = composition(RelationMatrix , TestData)\n"
   ]
  },
  {
   "cell_type": "code",
   "execution_count": 22,
   "id": "799b4276-10ea-414e-bc7c-0086f52575a7",
   "metadata": {},
   "outputs": [],
   "source": [
    "\n",
    "predict = []\n",
    "for i in range(SimilarityMatrix.shape[1]):\n",
    "    a = np.argmax(SimilarityMatrix[:,i])\n",
    "    predict.append(a)"
   ]
  },
  {
   "cell_type": "code",
   "execution_count": 23,
   "id": "c793dd7d-df81-4854-9879-d2dc110c4435",
   "metadata": {},
   "outputs": [],
   "source": [
    "atcutal= np.array(targetTest)\n",
    "predict = np.array(predict)"
   ]
  },
  {
   "cell_type": "code",
   "execution_count": 29,
   "id": "fa394ac5-129a-425a-b518-bcc2538f5559",
   "metadata": {},
   "outputs": [],
   "source": [
    "conf3 = confusion_matrix(atcutal, predict )"
   ]
  },
  {
   "cell_type": "code",
   "execution_count": 30,
   "id": "c945b53c-bf5d-41fb-913c-4d1eb5343f78",
   "metadata": {},
   "outputs": [
    {
     "data": {
      "text/plain": [
       "0.5357142857142857"
      ]
     },
     "execution_count": 30,
     "metadata": {},
     "output_type": "execute_result"
    }
   ],
   "source": [
    "accuracy_score(atcutal, predict)"
   ]
  },
  {
   "cell_type": "code",
   "execution_count": 31,
   "id": "a94c957c-e6ac-4c8d-b523-81f4f50ad6a4",
   "metadata": {},
   "outputs": [],
   "source": [
    "#change 3 class to two class , class 0 and class 1\n",
    "actual1 =np.zeros(len(predict))\n",
    "pred1 =np.zeros(len(predict))\n",
    "for i in range(len(predict)):\n",
    "    if(predict[i] == 2 ):\n",
    "        pred1[i]=1\n",
    "    else:\n",
    "        pred1[i]=predict[i]\n",
    "    if(atcutal[i]==2):\n",
    "        actual1[i]=1\n",
    "    else:\n",
    "        actual1[i] = atcutal[i]"
   ]
  },
  {
   "cell_type": "code",
   "execution_count": 32,
   "id": "e558c41d-48d6-4237-a188-ede9b483f4b9",
   "metadata": {},
   "outputs": [
    {
     "data": {
      "text/plain": [
       "0.7321428571428571"
      ]
     },
     "execution_count": 32,
     "metadata": {},
     "output_type": "execute_result"
    }
   ],
   "source": [
    "accuracy_score(actual1, pred1)"
   ]
  },
  {
   "cell_type": "code",
   "execution_count": 33,
   "id": "aea19aa2-ad77-4edc-baeb-7bd4659fca48",
   "metadata": {},
   "outputs": [],
   "source": [
    "conf2= confusion_matrix(actual1, pred1 )"
   ]
  },
  {
   "cell_type": "code",
   "execution_count": 34,
   "id": "0cc2f5cc-e4b6-4677-a960-efbf5f365bce",
   "metadata": {},
   "outputs": [
    {
     "data": {
      "text/plain": [
       "<AxesSubplot:>"
      ]
     },
     "execution_count": 34,
     "metadata": {},
     "output_type": "execute_result"
    },
    {
     "data": {
      "image/png": "[encoded data removed]",
      "text/plain": [
       "<Figure size 432x288 with 2 Axes>"
      ]
     },
     "metadata": {},
     "output_type": "display_data"
    }
   ],
   "source": [
    "\n",
    "df_cm = pd.DataFrame(conf2, range(2), range(2))\n",
    "sn.set(font_scale=1.4) # for label size\n",
    "sn.heatmap(df_cm, annot=True, annot_kws={\"size\":18} , cmap='Blues')"
   ]
  },
  {
   "cell_type": "code",
   "execution_count": 35,
   "id": "630fedc9-d4d5-4754-a26d-ef367c82b887",
   "metadata": {},
   "outputs": [
    {
     "data": {
      "text/plain": [
       "<AxesSubplot:>"
      ]
     },
     "execution_count": 35,
     "metadata": {},
     "output_type": "execute_result"
    },
    {
     "data": {
      "image/png": "[encoded data removed]",
      "text/plain": [
       "<Figure size 432x288 with 2 Axes>"
      ]
     },
     "metadata": {},
     "output_type": "display_data"
    }
   ],
   "source": [
    "df_cm = pd.DataFrame(conf3, range(3), range(3))\n",
    "sn.set(font_scale=1.4) # for label size\n",
    "sn.heatmap(df_cm, annot=True, annot_kws={\"size\":18}) # font size"
   ]
  },
  {
   "cell_type": "code",
   "execution_count": null,
   "id": "30cfe247-7b8b-4a85-bdd4-ef78a03fbd5a",
   "metadata": {},
   "outputs": [],
   "source": []
  },
  {
   "cell_type": "code",
   "execution_count": null,
   "id": "96d7c24b-3f60-4807-852d-462c93adee75",
   "metadata": {},
   "outputs": [],
   "source": []
  }
 ],
 "metadata": {
  "kernelspec": {
   "display_name": "Python 3 (ipykernel)",
   "language": "python",
   "name": "python3"
  },
  "language_info": {
   "codemirror_mode": {
    "name": "ipython",
    "version": 3
   },
   "file_extension": ".py",
   "mimetype": "text/x-python",
   "name": "python",
   "nbconvert_exporter": "python",
   "pygments_lexer": "ipython3",
   "version": "3.9.12"
  }
 },
 "nbformat": 4,
 "nbformat_minor": 5
}
