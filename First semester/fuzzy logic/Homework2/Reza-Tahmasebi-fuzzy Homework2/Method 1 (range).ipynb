{
 "cells": [
  {
   "cell_type": "code",
   "execution_count": 126,
   "id": "5fa51f7f-56b2-4fda-8a7f-9ac7f4ede652",
   "metadata": {},
   "outputs": [],
   "source": [
    "import numpy as np\n",
    "import math\n",
    "import pandas as pd\n",
    "import matplotlib.pyplot as plt\n",
    "from sklearn.impute import KNNImputer\n",
    "from sklearn.model_selection import train_test_split\n",
    "from sklearn.metrics import confusion_matrix\n",
    "from sklearn.metrics import accuracy_score\n",
    "from sklearn.decomposition import PCA\n",
    "import seaborn as sn"
   ]
  },
  {
   "cell_type": "code",
   "execution_count": 127,
   "id": "3dd1bce5-c1b6-43d9-8cdc-ca1c3b2eb80d",
   "metadata": {},
   "outputs": [],
   "source": [
    "class PreprocessData:\n",
    "    def NomalizeData(Data):\n",
    "        Data=np.array(Data)\n",
    "        lenght = len(Data)\n",
    "        normalizedData = []\n",
    "        \n",
    "        for i in range (lenght):\n",
    "            normalizedData.append(float((Data[i] - min(Data) ) / ( max(Data) - min(Data)) ))\n",
    "            \n",
    "        return normalizedData\n",
    "    \n",
    "    def TestAndTrain(Data , PercentageOfTrainData):\n",
    "        PercentageOfTrainData = float(PercentageOfTrainData / 100)\n",
    "        Train_DataFrame = Data.sample(frac=PercentageOfTrainData)\n",
    "        Test_DataFrame =Data.drop(Train_DataFrame.index)\n",
    "        \n",
    "        return Train_DataFrame , Test_DataFrame\n",
    "    "
   ]
  },
  {
   "cell_type": "code",
   "execution_count": 128,
   "id": "1203a0fa-1548-4f13-9df1-fa25e487b04c",
   "metadata": {},
   "outputs": [],
   "source": [
    "Data = pd.read_excel('Detection of COVID-19 Infection from Routine Blood Exams_dataset.xlsx')\n",
    "Data[\"SESSO\"].replace({'M': 0.,'F': 1.}, inplace=True)"
   ]
  },
  {
   "cell_type": "code",
   "execution_count": 129,
   "id": "7fb23e29-d595-4177-b3c4-299976e3f6e1",
   "metadata": {},
   "outputs": [],
   "source": [
    "def Suprimun_Tnorm(Relation, data):\n",
    "    ror = np.vstack((Relation, data))\n",
    "    sup_norm = np.max(np.min(ror, axis=0))\n",
    "    return sup_norm\n",
    "\n",
    "\n",
    "def composition(relation , data):\n",
    "    composed = np.array(list(map(lambda x: list(map(lambda y: Suprimun_Tnorm(relation[x], data[y]),range(data.shape[0]))),range(relation.shape[0]))))\n",
    "    return composed\n",
    "\n",
    "\n",
    "def split_by_class(TrainData):\n",
    "    Data0 = TrainData[TrainData['TARGET']==0]\n",
    "    target0 = Data0['TARGET']\n",
    "    Data0 = Data0.drop('TARGET',axis=1)\n",
    "    # Data0=(Data0-Data0.min())/(Data0.max()-Data0.min())\n",
    "    Data1 = TrainData[TrainData['TARGET']==1]\n",
    "    target1 = Data1['TARGET']\n",
    "    Data1 = Data1.drop('TARGET',axis=1)\n",
    "    # Data1=(Data1-Data1.min())/(Data1.max()-Data1.min())\n",
    "    Data2 = TrainData[TrainData['TARGET']==2]\n",
    "    target2 = Data2['TARGET']\n",
    "    Data2 = Data2.drop('TARGET',axis=1)\n",
    "    # Data2=(Data2-Data2.min())/(Data2.max()-Data2.min())\n",
    "    return Data0 , Data1, Data2 , target0, target1, target2 \n",
    "\n"
   ]
  },
  {
   "cell_type": "code",
   "execution_count": null,
   "id": "d52d819b-18de-4736-90b0-b51cc649f8a3",
   "metadata": {},
   "outputs": [],
   "source": []
  },
  {
   "cell_type": "code",
   "execution_count": 130,
   "id": "f9e02fd0-b182-4f02-8c47-ffba52115a91",
   "metadata": {},
   "outputs": [],
   "source": [
    "#fill misiing values \n",
    "imputer= KNNImputer(n_neighbors=4)\n",
    "Data = imputer.fit_transform(Data[['SESSO', 'AGE','WBC','Piastrine','Neutrofili','Linfociti','Monociti','Eosinofili','Basofili','PCR','AST','ALT','ALP','GGT','LDH','TARGET']])\n",
    "Data = pd.DataFrame(Data, columns = ['SESSO', 'AGE','WBC','Piastrine','Neutrofili','Linfociti','Monociti','Eosinofili','Basofili','PCR','AST','ALT','ALP','GGT','LDH','TARGET'])\n",
    "# Data = pd.concat([Data1, Data2,Data0])\n",
    "\n",
    "\n",
    "\n",
    "\n"
   ]
  },
  {
   "cell_type": "code",
   "execution_count": null,
   "id": "e4e73c10-d7bb-4a42-a440-3091872aebd4",
   "metadata": {},
   "outputs": [],
   "source": []
  },
  {
   "cell_type": "code",
   "execution_count": 131,
   "id": "c351802a-9985-43ed-ae3e-1e20b508812a",
   "metadata": {},
   "outputs": [],
   "source": [
    "#split to teset and train \n",
    "# Dataset1 = PreprocessData.NomalizeData(Data)\n",
    "Dataset = PreprocessData.TestAndTrain(Data , 80)\n",
    "\n",
    "TrainData = Dataset[0]\n",
    "TestData = Dataset[1]\n",
    "targetTest = TestData['TARGET']\n",
    "TestData = TestData.drop('TARGET',axis=1)\n",
    "# TestData=(TestData-TestData.min())/(TestData.max()-TestData.min())"
   ]
  },
  {
   "cell_type": "code",
   "execution_count": 132,
   "id": "33b96762-a1ed-4b0f-9503-ece68923b11f",
   "metadata": {},
   "outputs": [],
   "source": [
    "Data0 , Data1, Data2 , target0, target1, target2  = split_by_class(TrainData)\n",
    "    "
   ]
  },
  {
   "cell_type": "code",
   "execution_count": null,
   "id": "67ab47d3-f19e-4296-a9c0-8b38743efb16",
   "metadata": {},
   "outputs": [],
   "source": []
  },
  {
   "cell_type": "code",
   "execution_count": 133,
   "id": "94e044e5-6bf7-4b86-8648-89e5d3cce534",
   "metadata": {},
   "outputs": [],
   "source": [
    "min0 = Data0.min(axis=0)\n",
    "max0 = Data0.max(axis=0)\n",
    "min1 = Data1.min(axis=0)\n",
    "max1 = Data1.max(axis=0)\n",
    "min2 = Data2.min(axis=0)\n",
    "max2 = Data2.max(axis=0)"
   ]
  },
  {
   "cell_type": "code",
   "execution_count": 134,
   "id": "bb47780d-8feb-435b-ae58-5027d52bd7a8",
   "metadata": {},
   "outputs": [],
   "source": [
    "# method 1 create similarity matrix based on numeric range \n",
    "avg0 = (min0 + max0 )/2\n",
    "avg0['SESSO']=0\n",
    "avg1 = (min1 + max1 )/2\n",
    "avg1['SESSO']=0\n",
    "avg2 = (min2 + max2 )/2\n",
    "avg1['SESSO']=0\n",
    "avg0 = np.array(avg0)\n",
    "avg1 = np.array(avg1)\n",
    "avg2 = np.array(avg2)\n",
    "\n",
    "\n",
    "#method 2 , create similarity matrix based on mean of the class \n",
    "# avg0 = Data0.mean()\n",
    "# avg0['SESSO']=0\n",
    "# avg1 = Data1.mean()\n",
    "# avg1['SESSO']=0\n",
    "# avg2 = Data2.mean()\n",
    "# avg1['SESSO']=0\n",
    "# avg0 = np.array(avg0)\n",
    "# avg1 = np.array(avg1)\n",
    "# avg2 = np.array(avg2)\n"
   ]
  },
  {
   "cell_type": "code",
   "execution_count": 153,
   "id": "cb51bea1-741a-419c-adcf-59d58280eee7",
   "metadata": {},
   "outputs": [
    {
     "data": {
      "text/plain": [
       "array([0.0000e+00, 5.6500e+01, 1.4200e+01, 2.5200e+02, 1.3450e+01,\n",
       "       2.1500e+00, 1.6000e+00, 2.5000e-01, 5.0000e-02, 1.8315e+02,\n",
       "       2.1200e+02, 1.7200e+02, 1.0575e+02, 2.8550e+02, 3.7500e+02])"
      ]
     },
     "execution_count": 153,
     "metadata": {},
     "output_type": "execute_result"
    }
   ],
   "source": [
    "avg0"
   ]
  },
  {
   "cell_type": "code",
   "execution_count": 136,
   "id": "b3d96f2f-88da-4d7c-8e9f-58bb29ceeb36",
   "metadata": {},
   "outputs": [
    {
     "data": {
      "text/plain": [
       "array([0.0000e+00, 4.5500e+01, 9.3500e+00, 2.3850e+02, 6.9125e+00,\n",
       "       3.7500e+00, 7.0000e-01, 1.5000e-01, 1.2500e-02, 2.0550e+02,\n",
       "       1.5400e+02, 9.3000e+01, 2.6100e+02, 3.5200e+02, 5.3300e+02])"
      ]
     },
     "execution_count": 136,
     "metadata": {},
     "output_type": "execute_result"
    }
   ],
   "source": [
    "avg1"
   ]
  },
  {
   "cell_type": "code",
   "execution_count": 137,
   "id": "780fd9b7-cba3-492e-a5c2-b14d58ca2f92",
   "metadata": {},
   "outputs": [
    {
     "data": {
      "text/plain": [
       "array([5.00000e-01, 5.25000e+01, 1.61000e+01, 3.55500e+02, 1.04500e+01,\n",
       "       1.45000e+00, 8.50000e-01, 2.50000e-01, 5.00000e-02, 2.40150e+02,\n",
       "       2.83000e+02, 1.42500e+02, 2.05500e+02, 2.92375e+02, 6.56000e+02])"
      ]
     },
     "execution_count": 137,
     "metadata": {},
     "output_type": "execute_result"
    }
   ],
   "source": [
    "avg2"
   ]
  },
  {
   "cell_type": "code",
   "execution_count": 138,
   "id": "ec030c78-bc69-45a5-b4e4-1e95bc18373e",
   "metadata": {},
   "outputs": [],
   "source": [
    "RelationMatrix =[ avg0,avg1,avg2]"
   ]
  },
  {
   "cell_type": "code",
   "execution_count": 139,
   "id": "fc523fc8-efd0-48a7-84b6-ad98c63f85ea",
   "metadata": {},
   "outputs": [],
   "source": [
    "RelationMatrix = np.array(RelationMatrix)"
   ]
  },
  {
   "cell_type": "code",
   "execution_count": 140,
   "id": "0649db01-c8f7-47ec-b9cd-326071e2f123",
   "metadata": {},
   "outputs": [
    {
     "data": {
      "text/plain": [
       "(3, 15)"
      ]
     },
     "execution_count": 140,
     "metadata": {},
     "output_type": "execute_result"
    }
   ],
   "source": [
    "RelationMatrix.shape"
   ]
  },
  {
   "cell_type": "code",
   "execution_count": 141,
   "id": "5042c271-9a51-49a3-9272-7b246b570d87",
   "metadata": {},
   "outputs": [
    {
     "data": {
      "text/plain": [
       "array([[0.00000e+00, 5.65000e+01, 1.42000e+01, 2.52000e+02, 1.34500e+01,\n",
       "        2.15000e+00, 1.60000e+00, 2.50000e-01, 5.00000e-02, 1.83150e+02,\n",
       "        2.12000e+02, 1.72000e+02, 1.05750e+02, 2.85500e+02, 3.75000e+02],\n",
       "       [0.00000e+00, 4.55000e+01, 9.35000e+00, 2.38500e+02, 6.91250e+00,\n",
       "        3.75000e+00, 7.00000e-01, 1.50000e-01, 1.25000e-02, 2.05500e+02,\n",
       "        1.54000e+02, 9.30000e+01, 2.61000e+02, 3.52000e+02, 5.33000e+02],\n",
       "       [5.00000e-01, 5.25000e+01, 1.61000e+01, 3.55500e+02, 1.04500e+01,\n",
       "        1.45000e+00, 8.50000e-01, 2.50000e-01, 5.00000e-02, 2.40150e+02,\n",
       "        2.83000e+02, 1.42500e+02, 2.05500e+02, 2.92375e+02, 6.56000e+02]])"
      ]
     },
     "execution_count": 141,
     "metadata": {},
     "output_type": "execute_result"
    }
   ],
   "source": [
    "RelationMatrix"
   ]
  },
  {
   "cell_type": "code",
   "execution_count": 161,
   "id": "59b59967-89c9-425a-a950-983057813bcc",
   "metadata": {},
   "outputs": [
    {
     "data": {
      "text/plain": [
       "array([[257.  , 257.  , 257.  ],\n",
       "       [375.  , 391.  , 391.  ],\n",
       "       [375.  , 453.  , 453.  ],\n",
       "       [375.  , 407.  , 407.  ],\n",
       "       [375.  , 442.5 , 442.5 ],\n",
       "       [344.75, 344.75, 344.75],\n",
       "       [375.  , 533.  , 551.25],\n",
       "       [375.  , 533.  , 655.  ],\n",
       "       [245.  , 245.  , 245.  ],\n",
       "       [375.  , 533.  , 542.25],\n",
       "       [317.25, 317.25, 355.5 ],\n",
       "       [375.  , 518.  , 518.  ],\n",
       "       [375.  , 533.  , 646.  ],\n",
       "       [375.  , 533.  , 565.  ],\n",
       "       [274.  , 274.  , 274.  ],\n",
       "       [375.  , 533.  , 606.  ],\n",
       "       [375.  , 533.  , 539.  ],\n",
       "       [375.  , 475.  , 475.  ],\n",
       "       [207.  , 207.  , 207.  ],\n",
       "       [375.  , 533.  , 605.  ],\n",
       "       [186.  , 186.  , 186.  ],\n",
       "       [375.  , 533.  , 558.  ],\n",
       "       [375.  , 428.  , 428.  ],\n",
       "       [375.  , 533.  , 540.  ],\n",
       "       [375.  , 439.  , 439.  ],\n",
       "       [375.  , 416.  , 416.  ],\n",
       "       [358.  , 358.  , 358.  ],\n",
       "       [375.  , 456.  , 456.  ],\n",
       "       [198.  , 198.  , 198.  ],\n",
       "       [320.  , 320.  , 320.  ],\n",
       "       [363.  , 363.  , 363.  ],\n",
       "       [305.5 , 305.5 , 305.5 ],\n",
       "       [269.  , 269.  , 269.  ],\n",
       "       [375.  , 432.75, 432.75],\n",
       "       [375.  , 423.  , 423.  ],\n",
       "       [254.  , 254.  , 344.  ],\n",
       "       [375.  , 533.  , 643.  ],\n",
       "       [228.  , 228.  , 228.  ],\n",
       "       [288.5 , 288.5 , 288.5 ],\n",
       "       [252.  , 238.5 , 288.  ],\n",
       "       [216.25, 216.25, 216.25],\n",
       "       [375.  , 533.  , 590.  ],\n",
       "       [160.  , 160.  , 160.  ],\n",
       "       [209.  , 209.  , 209.  ],\n",
       "       [199.  , 199.  , 199.  ],\n",
       "       [243.  , 243.  , 243.  ],\n",
       "       [264.5 , 264.5 , 264.5 ],\n",
       "       [185.  , 185.  , 185.  ],\n",
       "       [375.  , 422.  , 422.  ],\n",
       "       [294.  , 294.  , 300.  ],\n",
       "       [306.75, 306.75, 306.75],\n",
       "       [359.  , 359.  , 359.  ],\n",
       "       [211.  , 211.  , 211.  ],\n",
       "       [357.  , 357.  , 357.  ],\n",
       "       [272.  , 272.  , 355.5 ],\n",
       "       [266.  , 266.  , 321.  ]])"
      ]
     },
     "execution_count": 161,
     "metadata": {},
     "output_type": "execute_result"
    }
   ],
   "source": [
    "TestData = np.array(TestData)\n",
    "SimilarityMatrix = composition(RelationMatrix , TestData)\n",
    "SimilarityMatrix.T"
   ]
  },
  {
   "cell_type": "code",
   "execution_count": 143,
   "id": "799b4276-10ea-414e-bc7c-0086f52575a7",
   "metadata": {},
   "outputs": [],
   "source": [
    "\n",
    "predict = []\n",
    "for i in range(SimilarityMatrix.shape[1]):\n",
    "    a = np.argmax(SimilarityMatrix[:,i])\n",
    "    predict.append(a)"
   ]
  },
  {
   "cell_type": "code",
   "execution_count": 144,
   "id": "c793dd7d-df81-4854-9879-d2dc110c4435",
   "metadata": {},
   "outputs": [],
   "source": [
    "atcutal= np.array(targetTest)\n",
    "predict = np.array(predict)"
   ]
  },
  {
   "cell_type": "code",
   "execution_count": 145,
   "id": "fa394ac5-129a-425a-b518-bcc2538f5559",
   "metadata": {},
   "outputs": [],
   "source": [
    "conf3 = confusion_matrix(atcutal, predict )"
   ]
  },
  {
   "cell_type": "code",
   "execution_count": 146,
   "id": "c945b53c-bf5d-41fb-913c-4d1eb5343f78",
   "metadata": {},
   "outputs": [
    {
     "data": {
      "text/plain": [
       "0.48214285714285715"
      ]
     },
     "execution_count": 146,
     "metadata": {},
     "output_type": "execute_result"
    }
   ],
   "source": [
    "accuracy_score(atcutal, predict)"
   ]
  },
  {
   "cell_type": "code",
   "execution_count": 147,
   "id": "a94c957c-e6ac-4c8d-b523-81f4f50ad6a4",
   "metadata": {},
   "outputs": [],
   "source": [
    "#change 3 class to two class , class 0 and class 1\n",
    "actual1 =np.zeros(len(predict))\n",
    "pred1 =np.zeros(len(predict))\n",
    "for i in range(len(predict)):\n",
    "    if(predict[i] == 2 ):\n",
    "        pred1[i]=1\n",
    "    else:\n",
    "        pred1[i]=predict[i]\n",
    "    if(atcutal[i]==2):\n",
    "        actual1[i]=1\n",
    "    else:\n",
    "        actual1[i] = atcutal[i]"
   ]
  },
  {
   "cell_type": "code",
   "execution_count": 148,
   "id": "e558c41d-48d6-4237-a188-ede9b483f4b9",
   "metadata": {},
   "outputs": [
    {
     "data": {
      "text/plain": [
       "0.6428571428571429"
      ]
     },
     "execution_count": 148,
     "metadata": {},
     "output_type": "execute_result"
    }
   ],
   "source": [
    "accuracy_score(actual1, pred1)"
   ]
  },
  {
   "cell_type": "code",
   "execution_count": 149,
   "id": "aea19aa2-ad77-4edc-baeb-7bd4659fca48",
   "metadata": {},
   "outputs": [],
   "source": [
    "conf2 = confusion_matrix(actual1, pred1 )"
   ]
  },
  {
   "cell_type": "code",
   "execution_count": 150,
   "id": "0cc2f5cc-e4b6-4677-a960-efbf5f365bce",
   "metadata": {},
   "outputs": [
    {
     "data": {
      "text/plain": [
       "<AxesSubplot:>"
      ]
     },
     "execution_count": 150,
     "metadata": {},
     "output_type": "execute_result"
    },
    {
     "data": {
      "image/png": "[encoded data removed]",
      "text/plain": [
       "<Figure size 432x288 with 2 Axes>"
      ]
     },
     "metadata": {},
     "output_type": "display_data"
    }
   ],
   "source": [
    "\n",
    "df_cm = pd.DataFrame(conf2, range(2), range(2))\n",
    "sn.set(font_scale=1.4) # for label size\n",
    "sn.heatmap(df_cm, annot=True, annot_kws={\"size\":18} , cmap='Blues')"
   ]
  },
  {
   "cell_type": "code",
   "execution_count": 151,
   "id": "630fedc9-d4d5-4754-a26d-ef367c82b887",
   "metadata": {},
   "outputs": [
    {
     "data": {
      "text/plain": [
       "<AxesSubplot:>"
      ]
     },
     "execution_count": 151,
     "metadata": {},
     "output_type": "execute_result"
    },
    {
     "data": {
      "image/png": "[encoded data removed]",
      "text/plain": [
       "<Figure size 432x288 with 2 Axes>"
      ]
     },
     "metadata": {},
     "output_type": "display_data"
    }
   ],
   "source": [
    "df_cm = pd.DataFrame(conf3, range(3), range(3))\n",
    "sn.set(font_scale=1.4) # for label size\n",
    "sn.heatmap(df_cm, annot=True, annot_kws={\"size\":18}) # font size"
   ]
  },
  {
   "cell_type": "code",
   "execution_count": null,
   "id": "30cfe247-7b8b-4a85-bdd4-ef78a03fbd5a",
   "metadata": {},
   "outputs": [],
   "source": []
  },
  {
   "cell_type": "code",
   "execution_count": null,
   "id": "96d7c24b-3f60-4807-852d-462c93adee75",
   "metadata": {},
   "outputs": [],
   "source": []
  }
 ],
 "metadata": {
  "kernelspec": {
   "display_name": "Python 3 (ipykernel)",
   "language": "python",
   "name": "python3"
  },
  "language_info": {
   "codemirror_mode": {
    "name": "ipython",
    "version": 3
   },
   "file_extension": ".py",
   "mimetype": "text/x-python",
   "name": "python",
   "nbconvert_exporter": "python",
   "pygments_lexer": "ipython3",
   "version": "3.9.12"
  }
 },
 "nbformat": 4,
 "nbformat_minor": 5
}
