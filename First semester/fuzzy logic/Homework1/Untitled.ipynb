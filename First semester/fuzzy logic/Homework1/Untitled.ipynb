{
 "cells": [
  {
   "cell_type": "code",
   "execution_count": 2,
   "id": "03bcca66-df5f-4ce1-b93a-86ab0822ab7c",
   "metadata": {},
   "outputs": [],
   "source": [
    "import numpy as np\n",
    "from mat4py import loadmat\n",
    "from matplotlib import pyplot as plt\n",
    "from sklearn.decomposition import PCA\n",
    "import math\n",
    "from scipy.spatial import distance"
   ]
  },
  {
   "cell_type": "code",
   "execution_count": 25,
   "id": "3be556a6-7d9a-4921-ae0f-070786f52e27",
   "metadata": {},
   "outputs": [],
   "source": [
    "data = loadmat('TrainData.mat')"
   ]
  },
  {
   "cell_type": "code",
   "execution_count": 26,
   "id": "2f168fba-2f09-4167-96d0-79e27f77ee2a",
   "metadata": {},
   "outputs": [],
   "source": [
    "data= np.array(data['TrainData'] )"
   ]
  },
  {
   "cell_type": "code",
   "execution_count": 27,
   "id": "8f55cc7d-fab5-4241-a9cf-a7b5d5897b63",
   "metadata": {},
   "outputs": [
    {
     "data": {
      "text/plain": [
       "(20000, 1200)"
      ]
     },
     "execution_count": 27,
     "metadata": {},
     "output_type": "execute_result"
    }
   ],
   "source": [
    "data.shape"
   ]
  },
  {
   "cell_type": "code",
   "execution_count": 9,
   "id": "1e2c2097-028c-484e-b96c-0fd86a62a678",
   "metadata": {},
   "outputs": [
    {
     "data": {
      "text/plain": [
       "()"
      ]
     },
     "execution_count": 9,
     "metadata": {},
     "output_type": "execute_result"
    }
   ],
   "source": [
    "data[1].shape"
   ]
  },
  {
   "cell_type": "code",
   "execution_count": 43,
   "id": "1dd7bfd4-4ba3-4caf-8a13-0be53d29b37f",
   "metadata": {},
   "outputs": [],
   "source": [
    "a = data[215]\n",
    "a = np.reshape(a,[40,30])"
   ]
  },
  {
   "cell_type": "code",
   "execution_count": 44,
   "id": "17a9df6f-be4d-4fc4-8645-39c45f0360b8",
   "metadata": {},
   "outputs": [
    {
     "data": {
      "text/plain": [
       "(40, 30)"
      ]
     },
     "execution_count": 44,
     "metadata": {},
     "output_type": "execute_result"
    }
   ],
   "source": [
    "a.shape"
   ]
  },
  {
   "cell_type": "code",
   "execution_count": 45,
   "id": "56e2585b-966e-4add-ae37-4076556666b1",
   "metadata": {},
   "outputs": [
    {
     "data": {
      "text/plain": [
       "<matplotlib.image.AxesImage at 0x7fb0d0ec17c0>"
      ]
     },
     "execution_count": 45,
     "metadata": {},
     "output_type": "execute_result"
    },
    {
     "data": {
      "image/png": "[encoded data removed]",
      "text/plain": [
       "<Figure size 432x288 with 1 Axes>"
      ]
     },
     "metadata": {
      "needs_background": "light"
     },
     "output_type": "display_data"
    }
   ],
   "source": [
    "plt.imshow(a)"
   ]
  },
  {
   "cell_type": "code",
   "execution_count": null,
   "id": "d12878b2-52ae-4d65-8bd4-3703f8935638",
   "metadata": {},
   "outputs": [],
   "source": []
  }
 ],
 "metadata": {
  "kernelspec": {
   "display_name": "Python 3 (ipykernel)",
   "language": "python",
   "name": "python3"
  },
  "language_info": {
   "codemirror_mode": {
    "name": "ipython",
    "version": 3
   },
   "file_extension": ".py",
   "mimetype": "text/x-python",
   "name": "python",
   "nbconvert_exporter": "python",
   "pygments_lexer": "ipython3",
   "version": "3.9.12"
  }
 },
 "nbformat": 4,
 "nbformat_minor": 5
}
