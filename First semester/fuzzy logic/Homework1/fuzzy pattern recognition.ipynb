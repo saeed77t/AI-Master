{
 "cells": [
  {
   "cell_type": "code",
   "execution_count": 246,
   "id": "1a979c9d-c3f7-466b-b172-1dc7bf19a81b",
   "metadata": {},
   "outputs": [],
   "source": [
    "import numpy as np\n",
    "from mat4py import loadmat\n"
   ]
  },
  {
   "cell_type": "code",
   "execution_count": 247,
   "id": "4df077d9-20b5-46d3-8798-05808d83d830",
   "metadata": {},
   "outputs": [],
   "source": [
    "data = loadmat('emnist-digits-150.mat')\n",
    "a = data['dataset']\n",
    "b = a['DigitImage']\n",
    "images = b['images']\n",
    "labels = b['labels']\n",
    "d = np.array(images)"
   ]
  },
  {
   "cell_type": "code",
   "execution_count": 249,
   "id": "9ee866b8-e7ba-4961-a8b0-ecaf513f801f",
   "metadata": {},
   "outputs": [],
   "source": [
    "d = np.array(images)\n"
   ]
  },
  {
   "cell_type": "code",
   "execution_count": null,
   "id": "db524d9c-6dad-470b-96a4-008c7d987391",
   "metadata": {},
   "outputs": [],
   "source": []
  },
  {
   "cell_type": "code",
   "execution_count": null,
   "id": "e5ea67e8-8b80-4952-976a-f987fc1170ba",
   "metadata": {},
   "outputs": [],
   "source": []
  },
  {
   "cell_type": "code",
   "execution_count": 203,
   "id": "78b70359-6090-404a-af01-a3b77bfb2c94",
   "metadata": {},
   "outputs": [],
   "source": []
  },
  {
   "cell_type": "code",
   "execution_count": null,
   "id": "941c1c73-bb4b-44a3-8695-1c9e18e4a34f",
   "metadata": {},
   "outputs": [],
   "source": []
  },
  {
   "cell_type": "code",
   "execution_count": null,
   "id": "7ed60d78-80c4-4fe1-80e9-dd56bce42e25",
   "metadata": {},
   "outputs": [],
   "source": []
  },
  {
   "cell_type": "code",
   "execution_count": null,
   "id": "5763ac42-46ce-48fc-9cf5-b4a9044e1047",
   "metadata": {},
   "outputs": [],
   "source": []
  },
  {
   "cell_type": "code",
   "execution_count": null,
   "id": "9949d79a-b6ff-4e39-9340-627b7207aa9a",
   "metadata": {},
   "outputs": [],
   "source": []
  },
  {
   "cell_type": "code",
   "execution_count": null,
   "id": "503c0af2-f05c-41d9-b853-38f05d266a59",
   "metadata": {},
   "outputs": [],
   "source": []
  }
 ],
 "metadata": {
  "kernelspec": {
   "display_name": "Python 3 (ipykernel)",
   "language": "python",
   "name": "python3"
  },
  "language_info": {
   "codemirror_mode": {
    "name": "ipython",
    "version": 3
   },
   "file_extension": ".py",
   "mimetype": "text/x-python",
   "name": "python",
   "nbconvert_exporter": "python",
   "pygments_lexer": "ipython3",
   "version": "3.9.12"
  }
 },
 "nbformat": 4,
 "nbformat_minor": 5
}
