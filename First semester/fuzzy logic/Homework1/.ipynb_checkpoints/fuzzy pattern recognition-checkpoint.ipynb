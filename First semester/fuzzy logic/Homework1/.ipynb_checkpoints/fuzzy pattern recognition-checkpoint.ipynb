{
 "cells": [
  {
   "cell_type": "code",
   "execution_count": 378,
   "id": "1a979c9d-c3f7-466b-b172-1dc7bf19a81b",
   "metadata": {},
   "outputs": [],
   "source": [
    "import numpy as np\n",
    "from mat4py import loadmat\n",
    "from matplotlib import pyplot as plt\n",
    "from sklearn.decomposition import PCA\n",
    "import math\n",
    "from scipy.spatial import distance"
   ]
  },
  {
   "cell_type": "code",
   "execution_count": 379,
   "id": "4df077d9-20b5-46d3-8798-05808d83d830",
   "metadata": {},
   "outputs": [],
   "source": [
    "data = loadmat('emnist-digits-150.mat')\n",
    "a = data['dataset']\n",
    "b = a['DigitImage']m\n",
    "images = b['images']\n",
    "labels = b['labels']\n",
    "digits = np.array(images)\n",
    "bwdigits = digits"
   ]
  },
  {
   "cell_type": "code",
   "execution_count": null,
   "id": "9ee866b8-e7ba-4961-a8b0-ecaf513f801f",
   "metadata": {},
   "outputs": [],
   "source": []
  },
  {
   "cell_type": "code",
   "execution_count": 380,
   "id": "e5ea67e8-8b80-4952-976a-f987fc1170ba",
   "metadata": {},
   "outputs": [
    {
     "data": {
      "image/png": "[encoded data removed]",
      "text/plain": [
       "<Figure size 432x288 with 1 Axes>"
      ]
     },
     "metadata": {
      "needs_background": "light"
     },
     "output_type": "display_data"
    }
   ],
   "source": [
    "image = digits[2]\n",
    "image = image.T\n",
    "fimage = np.array(image, dtype='float')\n",
    "pixels = image.reshape((28, 28))\n",
    "plt.imshow(pixels)\n",
    "plt.show()\n"
   ]
  },
  {
   "cell_type": "code",
   "execution_count": 381,
   "id": "78b70359-6090-404a-af01-a3b77bfb2c94",
   "metadata": {},
   "outputs": [],
   "source": [
    "# extracting features from pca method \n",
    "pca=PCA(n_components=150)\n",
    "pca.fit(digits)\n",
    "NewDigits=pca.transform(digits)\n"
   ]
  },
  {
   "cell_type": "code",
   "execution_count": 382,
   "id": "941c1c73-bb4b-44a3-8695-1c9e18e4a34f",
   "metadata": {},
   "outputs": [],
   "source": [
    "#implementing Eqivalence relation function \n",
    "def Rfunc(X1 , X2 ,q):\n",
    "    if np.linalg.norm(X1-X2) == 0 :\n",
    "        return 1\n",
    "    sigma = 1 / np.linalg.norm(X1-X2)\n",
    "\n",
    "    a = 0\n",
    "    for i in range (len(X1)):\n",
    "        a = a + pow((abs(X1[i]-X2[i])),q)\n",
    "    a = pow(a,1/q)\n",
    "    a =(sigma*a)\n",
    "    a = math.floor(a * 10 ** 3) / 10 ** 3\n",
    "    R = 1 - a\n",
    "    R = math.floor(R * 10 ** 3) / 10 ** 3\n",
    "    return R"
   ]
  },
  {
   "cell_type": "code",
   "execution_count": null,
   "id": "5763ac42-46ce-48fc-9cf5-b4a9044e1047",
   "metadata": {},
   "outputs": [],
   "source": []
  },
  {
   "cell_type": "code",
   "execution_count": 383,
   "id": "9949d79a-b6ff-4e39-9340-627b7207aa9a",
   "metadata": {},
   "outputs": [],
   "source": [
    "table = [[0 for x in range(len(NewDigits))] for y in range(len(NewDigits))] \n",
    "for i in range(len(NewDigits)):\n",
    "    for j in range(len(NewDigits)):\n",
    "        a = Rfunc(NewDigits[i],NewDigits[j],3)\n",
    "        table[i][j] = a"
   ]
  },
  {
   "cell_type": "code",
   "execution_count": 384,
   "id": "503c0af2-f05c-41d9-b853-38f05d266a59",
   "metadata": {},
   "outputs": [],
   "source": [
    "table = np.array(table)"
   ]
  },
  {
   "cell_type": "code",
   "execution_count": 385,
   "id": "bc23fc2f-be78-41d9-b7d1-976d1bc9230f",
   "metadata": {},
   "outputs": [],
   "source": [
    "trtable = [[0 for x in range(len(NewDigits))] for y in range(len(NewDigits))] "
   ]
  },
  {
   "cell_type": "code",
   "execution_count": 386,
   "id": "2fa9c527-1483-440d-8a5d-464f1270dbc1",
   "metadata": {},
   "outputs": [],
   "source": [
    "def RoR(Rtable):\n",
    "    Rtable= list(Rtable)\n",
    "    flag=True\n",
    "    Rprime=Rtable\n",
    "    temp=Rtable\n",
    "    while flag:\n",
    "        Rtable=Rprime\n",
    "        temp=Rtable\n",
    "        max1=0\n",
    "        for k in range(150):\n",
    "            for i in range(150):\n",
    "                max=0\n",
    "                for j in range(150):\n",
    "                     if min(Rtable[k][i],Rtable[i][j])>max1:\n",
    "                        max1=min(Rtable[k][j],Rtable[j][i])\n",
    "                        Rprime[k][j]=max1\n",
    "\n",
    "\n",
    "        if temp==Rprime:\n",
    "            flag=False\n",
    "        return Rprime\n",
    "    # RP = [[0 for x in range(len(R))] for y in range(len(R))] \n",
    "    # temp = []\n",
    "    # for k in range(len(R)):\n",
    "    #     for i in range(len(R)):\n",
    "    #         for j in range(len(R)):\n",
    "    #             temp.append(max(min(R[k][i] , R[i][j])))\n",
    "    #         print(temp)    \n",
    "        \n",
    "            "
   ]
  },
  {
   "cell_type": "code",
   "execution_count": 387,
   "id": "48d88cf0-8586-4e2b-8a6d-a8f59ee96717",
   "metadata": {},
   "outputs": [],
   "source": [
    "TransetiveMatrix = RoR(table)"
   ]
  },
  {
   "cell_type": "code",
   "execution_count": null,
   "id": "7ed60d78-80c4-4fe1-80e9-dd56bce42e25",
   "metadata": {},
   "outputs": [],
   "source": []
  },
  {
   "cell_type": "code",
   "execution_count": null,
   "id": "92b28ac1-5ed5-41c3-8271-7ee450ad4ee8",
   "metadata": {},
   "outputs": [],
   "source": []
  },
  {
   "cell_type": "code",
   "execution_count": 406,
   "id": "91949247-0cbe-4f14-a030-53d8b029e2a7",
   "metadata": {},
   "outputs": [],
   "source": [
    "# plt.rcParams[\"figure.figsize\"] = [7.00, 3.50]\n",
    "# plt.rcParams[\"figure.autolayout\"] = True\n",
    "# fig, axs = plt.subplots(1, 1)\n",
    "# data = TransetiveMatrix\n",
    "\n",
    "# axs.axis('tight')\n",
    "# axs.axis('off')\n",
    "# the_table = axs.table(cellText=data, loc='center')\n",
    "# plt.show()"
   ]
  },
  {
   "cell_type": "code",
   "execution_count": 422,
   "id": "f1add5ce-29e7-4b17-a8ef-8219477e1584",
   "metadata": {},
   "outputs": [],
   "source": [
    "def calcAlphacut(cut , table):\n",
    "    alpha = []\n",
    "    non = []\n",
    "    for i in range(len(table)):\n",
    "        if r[0][i]<cut:\n",
    "            alpha.append(i)\n",
    "        else:\n",
    "            non.append(i)\n",
    "    \n",
    "    print('the alpha for',cut,'is = ')\n",
    "    print(alpha)\n",
    "    print('the alpha for none is = ')\n",
    "    print(non)\n",
    "\n"
   ]
  },
  {
   "cell_type": "code",
   "execution_count": 433,
   "id": "60d9f8ef-74a9-4cbc-871f-01dea7a8286a",
   "metadata": {},
   "outputs": [
    {
     "name": "stdout",
     "output_type": "stream",
     "text": [
      "the alpha for 0.32 is = \n",
      "[1, 26, 30, 36, 39, 62, 65, 66, 98, 99, 100, 103, 109, 124]\n",
      "the alpha for none is = \n",
      "[0, 2, 3, 4, 5, 6, 7, 8, 9, 10, 11, 12, 13, 14, 15, 16, 17, 18, 19, 20, 21, 22, 23, 24, 25, 27, 28, 29, 31, 32, 33, 34, 35, 37, 38, 40, 41, 42, 43, 44, 45, 46, 47, 48, 49, 50, 51, 52, 53, 54, 55, 56, 57, 58, 59, 60, 61, 63, 64, 67, 68, 69, 70, 71, 72, 73, 74, 75, 76, 77, 78, 79, 80, 81, 82, 83, 84, 85, 86, 87, 88, 89, 90, 91, 92, 93, 94, 95, 96, 97, 101, 102, 104, 105, 106, 107, 108, 110, 111, 112, 113, 114, 115, 116, 117, 118, 119, 120, 121, 122, 123, 125, 126, 127, 128, 129, 130, 131, 132, 133, 134, 135, 136, 137, 138, 139, 140, 141, 142, 143, 144, 145, 146, 147, 148, 149]\n"
     ]
    }
   ],
   "source": [
    "calcAlphacut(0.32,TransetiveMatrix)"
   ]
  },
  {
   "cell_type": "code",
   "execution_count": 434,
   "id": "c3e28bb9-0349-435f-ba4a-d57ba5986aaf",
   "metadata": {},
   "outputs": [
    {
     "name": "stdout",
     "output_type": "stream",
     "text": [
      "the alpha for 0.35 is = \n",
      "[1, 3, 5, 12, 14, 21, 26, 30, 32, 36, 37, 38, 39, 41, 43, 50, 51, 53, 56, 59, 62, 65, 66, 81, 82, 92, 93, 95, 97, 98, 99, 100, 103, 104, 108, 109, 112, 117, 119, 124, 130, 137, 139]\n",
      "the alpha for none is = \n",
      "[0, 2, 4, 6, 7, 8, 9, 10, 11, 13, 15, 16, 17, 18, 19, 20, 22, 23, 24, 25, 27, 28, 29, 31, 33, 34, 35, 40, 42, 44, 45, 46, 47, 48, 49, 52, 54, 55, 57, 58, 60, 61, 63, 64, 67, 68, 69, 70, 71, 72, 73, 74, 75, 76, 77, 78, 79, 80, 83, 84, 85, 86, 87, 88, 89, 90, 91, 94, 96, 101, 102, 105, 106, 107, 110, 111, 113, 114, 115, 116, 118, 120, 121, 122, 123, 125, 126, 127, 128, 129, 131, 132, 133, 134, 135, 136, 138, 140, 141, 142, 143, 144, 145, 146, 147, 148, 149]\n"
     ]
    }
   ],
   "source": [
    "calcAlphacut(0.35,TransetiveMatrix)"
   ]
  },
  {
   "cell_type": "code",
   "execution_count": 435,
   "id": "bdd89ca2-62cb-448e-8502-f9f2b7ebebdd",
   "metadata": {},
   "outputs": [
    {
     "name": "stdout",
     "output_type": "stream",
     "text": [
      "the alpha for 0.38 is = \n",
      "[1, 2, 3, 4, 5, 7, 10, 11, 12, 14, 16, 17, 21, 22, 23, 26, 28, 29, 30, 31, 32, 34, 36, 37, 38, 39, 40, 41, 42, 43, 44, 47, 49, 50, 51, 52, 53, 56, 57, 58, 59, 60, 61, 62, 63, 65, 66, 67, 68, 70, 72, 73, 75, 77, 78, 80, 81, 82, 87, 88, 90, 92, 93, 95, 97, 98, 99, 100, 103, 104, 105, 108, 109, 111, 112, 115, 117, 118, 119, 120, 123, 124, 127, 130, 131, 133, 137, 138, 139, 141, 142, 145]\n",
      "the alpha for none is = \n",
      "[0, 6, 8, 9, 13, 15, 18, 19, 20, 24, 25, 27, 33, 35, 45, 46, 48, 54, 55, 64, 69, 71, 74, 76, 79, 83, 84, 85, 86, 89, 91, 94, 96, 101, 102, 106, 107, 110, 113, 114, 116, 121, 122, 125, 126, 128, 129, 132, 134, 135, 136, 140, 143, 144, 146, 147, 148, 149]\n"
     ]
    }
   ],
   "source": [
    "calcAlphacut(0.38,TransetiveMatrix)"
   ]
  },
  {
   "cell_type": "code",
   "execution_count": 436,
   "id": "6f397417-b89c-4ba5-b8ab-e155c00e0807",
   "metadata": {},
   "outputs": [
    {
     "name": "stdout",
     "output_type": "stream",
     "text": [
      "the alpha for 0.4 is = \n",
      "[1, 2, 3, 4, 5, 6, 7, 10, 11, 12, 13, 14, 15, 16, 17, 18, 20, 21, 22, 23, 25, 26, 27, 28, 29, 30, 31, 32, 33, 34, 35, 36, 37, 38, 39, 40, 41, 42, 43, 44, 45, 47, 49, 50, 51, 52, 53, 55, 56, 57, 58, 59, 60, 61, 62, 63, 64, 65, 66, 67, 68, 70, 71, 72, 73, 75, 76, 77, 78, 79, 80, 81, 82, 83, 84, 85, 86, 87, 88, 90, 92, 93, 94, 95, 96, 97, 98, 99, 100, 101, 102, 103, 104, 105, 106, 108, 109, 110, 111, 112, 114, 115, 116, 117, 118, 119, 120, 121, 122, 123, 124, 125, 126, 127, 128, 129, 130, 131, 132, 133, 134, 137, 138, 139, 140, 141, 142, 143, 145, 146, 147, 148, 149]\n",
      "the alpha for none is = \n",
      "[0, 8, 9, 19, 24, 46, 48, 54, 69, 74, 89, 91, 107, 113, 135, 136, 144]\n"
     ]
    }
   ],
   "source": [
    "calcAlphacut(0.4,TransetiveMatrix)"
   ]
  },
  {
   "cell_type": "code",
   "execution_count": 437,
   "id": "1af3c617-042d-46a9-a5c3-83d2630505b3",
   "metadata": {},
   "outputs": [
    {
     "name": "stdout",
     "output_type": "stream",
     "text": [
      "the alpha for 0.45 is = \n",
      "[1, 2, 3, 4, 5, 6, 7, 8, 9, 10, 11, 12, 13, 14, 15, 16, 17, 18, 19, 20, 21, 22, 23, 24, 25, 26, 27, 28, 29, 30, 31, 32, 33, 34, 35, 36, 37, 38, 39, 40, 41, 42, 43, 44, 45, 46, 47, 48, 49, 50, 51, 52, 53, 54, 55, 56, 57, 58, 59, 60, 61, 62, 63, 64, 65, 66, 67, 68, 69, 70, 71, 72, 73, 74, 75, 76, 77, 78, 79, 80, 81, 82, 83, 84, 85, 86, 87, 88, 89, 90, 91, 92, 93, 94, 95, 96, 97, 98, 99, 100, 101, 102, 103, 104, 105, 106, 107, 108, 109, 110, 111, 112, 113, 114, 115, 116, 117, 118, 119, 120, 121, 122, 123, 124, 125, 126, 127, 128, 129, 130, 131, 132, 133, 134, 135, 136, 137, 138, 139, 140, 141, 142, 143, 144, 145, 146, 147, 148, 149]\n",
      "the alpha for none is = \n",
      "[0]\n"
     ]
    }
   ],
   "source": [
    "calcAlphacut(0.45,TransetiveMatrix)"
   ]
  },
  {
   "cell_type": "code",
   "execution_count": 438,
   "id": "79f9f559-183e-4c32-8701-53820be50c3b",
   "metadata": {},
   "outputs": [
    {
     "name": "stdout",
     "output_type": "stream",
     "text": [
      "the alpha for 0.48 is = \n",
      "[1, 2, 3, 4, 5, 6, 7, 8, 9, 10, 11, 12, 13, 14, 15, 16, 17, 18, 19, 20, 21, 22, 23, 24, 25, 26, 27, 28, 29, 30, 31, 32, 33, 34, 35, 36, 37, 38, 39, 40, 41, 42, 43, 44, 45, 46, 47, 48, 49, 50, 51, 52, 53, 54, 55, 56, 57, 58, 59, 60, 61, 62, 63, 64, 65, 66, 67, 68, 69, 70, 71, 72, 73, 74, 75, 76, 77, 78, 79, 80, 81, 82, 83, 84, 85, 86, 87, 88, 89, 90, 91, 92, 93, 94, 95, 96, 97, 98, 99, 100, 101, 102, 103, 104, 105, 106, 107, 108, 109, 110, 111, 112, 113, 114, 115, 116, 117, 118, 119, 120, 121, 122, 123, 124, 125, 126, 127, 128, 129, 130, 131, 132, 133, 134, 135, 136, 137, 138, 139, 140, 141, 142, 143, 144, 145, 146, 147, 148, 149]\n",
      "the alpha for none is = \n",
      "[0]\n"
     ]
    }
   ],
   "source": [
    "calcAlphacut(0.48,TransetiveMatrix)"
   ]
  },
  {
   "cell_type": "code",
   "execution_count": 439,
   "id": "3a09a9f7-61bc-4f67-9f17-3b50b7752e1a",
   "metadata": {},
   "outputs": [
    {
     "name": "stdout",
     "output_type": "stream",
     "text": [
      "the alpha for 0.5 is = \n",
      "[1, 2, 3, 4, 5, 6, 7, 8, 9, 10, 11, 12, 13, 14, 15, 16, 17, 18, 19, 20, 21, 22, 23, 24, 25, 26, 27, 28, 29, 30, 31, 32, 33, 34, 35, 36, 37, 38, 39, 40, 41, 42, 43, 44, 45, 46, 47, 48, 49, 50, 51, 52, 53, 54, 55, 56, 57, 58, 59, 60, 61, 62, 63, 64, 65, 66, 67, 68, 69, 70, 71, 72, 73, 74, 75, 76, 77, 78, 79, 80, 81, 82, 83, 84, 85, 86, 87, 88, 89, 90, 91, 92, 93, 94, 95, 96, 97, 98, 99, 100, 101, 102, 103, 104, 105, 106, 107, 108, 109, 110, 111, 112, 113, 114, 115, 116, 117, 118, 119, 120, 121, 122, 123, 124, 125, 126, 127, 128, 129, 130, 131, 132, 133, 134, 135, 136, 137, 138, 139, 140, 141, 142, 143, 144, 145, 146, 147, 148, 149]\n",
      "the alpha for none is = \n",
      "[0]\n"
     ]
    }
   ],
   "source": [
    "calcAlphacut(0.5,TransetiveMatrix)"
   ]
  },
  {
   "cell_type": "code",
   "execution_count": 440,
   "id": "6f1125d2-fc30-4b0a-92eb-02fa8b442c4a",
   "metadata": {},
   "outputs": [
    {
     "name": "stdout",
     "output_type": "stream",
     "text": [
      "the alpha for 0.8 is = \n",
      "[1, 2, 3, 4, 5, 6, 7, 8, 9, 10, 11, 12, 13, 14, 15, 16, 17, 18, 19, 20, 21, 22, 23, 24, 25, 26, 27, 28, 29, 30, 31, 32, 33, 34, 35, 36, 37, 38, 39, 40, 41, 42, 43, 44, 45, 46, 47, 48, 49, 50, 51, 52, 53, 54, 55, 56, 57, 58, 59, 60, 61, 62, 63, 64, 65, 66, 67, 68, 69, 70, 71, 72, 73, 74, 75, 76, 77, 78, 79, 80, 81, 82, 83, 84, 85, 86, 87, 88, 89, 90, 91, 92, 93, 94, 95, 96, 97, 98, 99, 100, 101, 102, 103, 104, 105, 106, 107, 108, 109, 110, 111, 112, 113, 114, 115, 116, 117, 118, 119, 120, 121, 122, 123, 124, 125, 126, 127, 128, 129, 130, 131, 132, 133, 134, 135, 136, 137, 138, 139, 140, 141, 142, 143, 144, 145, 146, 147, 148, 149]\n",
      "the alpha for none is = \n",
      "[0]\n"
     ]
    }
   ],
   "source": [
    "calcAlphacut(0.8,TransetiveMatrix)"
   ]
  },
  {
   "cell_type": "code",
   "execution_count": 432,
   "id": "e1eaad7b-31e0-406e-a13d-0c6bbf3fdbca",
   "metadata": {},
   "outputs": [
    {
     "name": "stdout",
     "output_type": "stream",
     "text": [
      "matrix of fuzzy compatibility relation\n",
      "[[1.    0.285 0.357 ... 0.394 0.387 0.398]\n",
      " [0.285 1.    0.39  ... 0.414 0.355 0.361]\n",
      " [0.357 0.39  1.    ... 0.369 0.355 0.322]\n",
      " ...\n",
      " [0.394 0.414 0.369 ... 1.    0.341 0.357]\n",
      " [0.387 0.355 0.355 ... 0.341 1.    0.368]\n",
      " [0.398 0.361 0.322 ... 0.357 0.368 1.   ]]\n"
     ]
    }
   ],
   "source": [
    "print('matrix of fuzzy compatibility relation')\n",
    "print(table)"
   ]
  },
  {
   "cell_type": "code",
   "execution_count": 431,
   "id": "b90e921e-fa5f-43e3-8d8b-7fe821ecd9b9",
   "metadata": {},
   "outputs": [
    {
     "name": "stdout",
     "output_type": "stream",
     "text": [
      "table of fuzzy transitive closer \n",
      "[[1.    0.285 0.357 ... 0.394 0.387 0.398]\n",
      " [0.285 1.    0.39  ... 0.414 0.355 0.361]\n",
      " [0.357 0.39  1.    ... 0.369 0.355 0.322]\n",
      " ...\n",
      " [0.394 0.414 0.369 ... 1.    0.341 0.357]\n",
      " [0.387 0.355 0.355 ... 0.341 1.    0.368]\n",
      " [0.398 0.361 0.322 ... 0.357 0.368 1.   ]]\n"
     ]
    }
   ],
   "source": [
    "print('table of fuzzy transitive closer ')\n",
    "TC = np.array(TransetiveMatrix)\n",
    "print(TC)"
   ]
  },
  {
   "cell_type": "code",
   "execution_count": null,
   "id": "a9d3d422-419d-4da2-8cce-ddd261a8918a",
   "metadata": {},
   "outputs": [],
   "source": []
  },
  {
   "cell_type": "code",
   "execution_count": null,
   "id": "487f81b5-d805-4289-a5a7-904f56b3646c",
   "metadata": {},
   "outputs": [],
   "source": []
  }
 ],
 "metadata": {
  "kernelspec": {
   "display_name": "Python 3 (ipykernel)",
   "language": "python",
   "name": "python3"
  },
  "language_info": {
   "codemirror_mode": {
    "name": "ipython",
    "version": 3
   },
   "file_extension": ".py",
   "mimetype": "text/x-python",
   "name": "python",
   "nbconvert_exporter": "python",
   "pygments_lexer": "ipython3",
   "version": "3.9.12"
  }
 },
 "nbformat": 4,
 "nbformat_minor": 5
}
