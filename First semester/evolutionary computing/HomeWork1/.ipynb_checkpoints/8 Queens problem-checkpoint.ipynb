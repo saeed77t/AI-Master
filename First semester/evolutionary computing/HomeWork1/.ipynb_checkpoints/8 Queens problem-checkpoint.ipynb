{
 "cells": [
  {
   "cell_type": "code",
   "execution_count": 109,
   "id": "29ad5ad7-0115-4d75-a670-4272685e281c",
   "metadata": {},
   "outputs": [],
   "source": [
    "#importing libraries \n",
    "import random as rand\n",
    "import numpy as np"
   ]
  },
  {
   "cell_type": "code",
   "execution_count": 142,
   "id": "f8941aba-92ff-4118-8b8d-9a92a4ba607f",
   "metadata": {},
   "outputs": [],
   "source": [
    "#Defining Values \n",
    "population_size = 100\n",
    "mutation_probability = 0.8\n",
    "number_of_queens = 8"
   ]
  },
  {
   "cell_type": "code",
   "execution_count": 143,
   "id": "e597a99a-3477-4a14-bbcd-1bbdc87a9a0a",
   "metadata": {},
   "outputs": [],
   "source": [
    "def InitialPopulation(popsize , n):\n",
    "    #popsize is population size and n is numberof qeens\n",
    "    generations = []\n",
    "    for i in range(popsize):\n",
    "        a =np.random.randint(1, 8, size=8)\n",
    "        a  =  a.tolist()\n",
    "        #adding fittnes number\n",
    "        a.append(0)\n",
    "        generations.append(a)\n",
    "    return generations    "
   ]
  },
  {
   "cell_type": "code",
   "execution_count": 144,
   "id": "9b45a442-38b2-48a7-933b-3ed62c4c867f",
   "metadata": {},
   "outputs": [],
   "source": [
    "def Fitness(population , n ):\n",
    "    check = 0\n",
    "    for i in range(len(population)):\n",
    "        check = 0 \n",
    "        for j in range(n):\n",
    "            for b in range(j):\n",
    "                if population[i][j] == population[i][b]:\n",
    "                    check += 1\n",
    "                if abs(j-b)==abs(population[i][j]-population[i][b]): \n",
    "                    check+=1\n",
    "                    \n",
    "        population[i][n] = check\n",
    "        \n",
    "    for i in range(len(population)):\n",
    "        min = i\n",
    "        for j in range(i,len(population)):\n",
    "            if population[j][n]<population[min][n]:\n",
    "                min = j\n",
    "        temp =  population[i]\n",
    "        population[i] = population[min]\n",
    "        population[min] = temp    \n",
    "    return population\n",
    "\n",
    "            \n",
    "            \n",
    "            \n",
    "            \n",
    "         \n"
   ]
  },
  {
   "cell_type": "code",
   "execution_count": 208,
   "id": "493f1550-d326-4488-ac2d-5e6de653583b",
   "metadata": {},
   "outputs": [],
   "source": [
    "def ParentSelection(population , m):\n",
    "    n = len(population)\n",
    "    parent = rand.sample(range(0 , n),5)\n",
    "    a = []\n",
    "    for i in range(len(parent)):\n",
    "        b = population[parent[i]][m] , parent[i]\n",
    "        a.append(b)\n",
    "        a.sort()\n",
    "    parent1 = population[a[0][1]]\n",
    "    parent2 = population[a[1][1]]\n",
    "    return parent1 , parent2"
   ]
  },
  {
   "cell_type": "code",
   "execution_count": 323,
   "id": "b728becb-6fa9-4ffe-afe9-48eed1cb6215",
   "metadata": {},
   "outputs": [],
   "source": [
    "def CrossOver(parent1 , parent2):\n",
    "    gene1=[]\n",
    "    gene2 = []\n",
    "    gene3 = []\n",
    "    gene4 = []\n",
    "    child1=[]\n",
    "    child2=[]\n",
    "    for i in range(len(parent1) -1):\n",
    "        if i < (len(parent1) -1) / 2:\n",
    "            gene1.append(parent1[i])\n",
    "        else:\n",
    "            gene2.append(parent1[i])\n",
    "    for i in range(len(parent2) -1):\n",
    "        if i < (len(parent2) -1) / 2:\n",
    "            gene3.append(parent2[i])\n",
    "        else:\n",
    "            gene4.append(parent2[i])        \n",
    "   # print(\"gene1 = \",gene1)\n",
    "  #  print(\"gene2 = \", gene2)\n",
    "  #  print(\"gene3 = \",gene3)\n",
    "  #  print(\"gene4 = \", gene4)\n",
    "    \n",
    "    \n",
    "    child1 = gene1+gene4\n",
    "    child2 = gene2 + gene3\n",
    "\n",
    "    \n",
    "   # print(\"child1 = \" ,child1)\n",
    "  #  print(\"child2 = \" ,child2)\n",
    "    \n",
    "    return child1 , child2\n",
    "        \n",
    "        \n",
    "    "
   ]
  },
  {
   "cell_type": "code",
   "execution_count": 324,
   "id": "8a5cbf91-c2e0-441c-9fc5-516fa5fed89f",
   "metadata": {},
   "outputs": [],
   "source": [
    "def Mutation(child , mutatonRate):\n",
    "    m = rand.randint(1,100)\n",
    "    if m < mutatonRate:\n",
    "        gene_index= rand.sample(range(0 , len(child)-1),2)\n",
    "        temp1 = child[gene_index[0]]\n",
    "        temp2 = child[gene_index[1]]\n",
    "        child[gene_index[1]] = temp1\n",
    "        child[gene_index[0]] = temp2\n",
    "        child.append(0)\n",
    "        \n",
    "    else:\n",
    "        child.append(0)\n",
    "        \n",
    "    return child   \n",
    "        \n",
    "    "
   ]
  },
  {
   "cell_type": "code",
   "execution_count": null,
   "id": "23473ff4-c009-4e20-b8f3-889d9e7bb382",
   "metadata": {},
   "outputs": [],
   "source": []
  },
  {
   "cell_type": "code",
   "execution_count": null,
   "id": "e55222e9-400b-40ce-a304-45ff25c67c67",
   "metadata": {},
   "outputs": [],
   "source": []
  },
  {
   "cell_type": "code",
   "execution_count": 326,
   "id": "178c3e4e-56a0-4354-a70a-37c7e98a0cd8",
   "metadata": {},
   "outputs": [],
   "source": [
    "population = InitialPopulation(population_size , number_of_queens)\n",
    "population  = Fitness(population , number_of_queens)\n",
    "parent1 , parent2 = ParentSelection(population , number_of_queens)\n",
    "child1 , child2 =CrossOver(parent1 , parent2)\n",
    "child1  = Mutation(child1 , 80)\n",
    "child2 = Mutation(child2 , 80)"
   ]
  },
  {
   "cell_type": "code",
   "execution_count": 327,
   "id": "daa01017-bb43-4679-82b2-baa1357f1eb1",
   "metadata": {},
   "outputs": [
    {
     "data": {
      "text/plain": [
       "[7, 7, 1, 5, 2, 6, 1, 3, 0]"
      ]
     },
     "execution_count": 327,
     "metadata": {},
     "output_type": "execute_result"
    }
   ],
   "source": [
    "child1"
   ]
  },
  {
   "cell_type": "code",
   "execution_count": 328,
   "id": "57c754b7-35d6-4149-ab53-3230a98c0c07",
   "metadata": {},
   "outputs": [
    {
     "data": {
      "text/plain": [
       "[6, 6, 5, 4, 5, 3, 2, 7, 0]"
      ]
     },
     "execution_count": 328,
     "metadata": {},
     "output_type": "execute_result"
    }
   ],
   "source": [
    "child2"
   ]
  },
  {
   "cell_type": "code",
   "execution_count": null,
   "id": "e75e2545-5a1d-4495-9f89-351fb8298666",
   "metadata": {},
   "outputs": [],
   "source": []
  },
  {
   "cell_type": "code",
   "execution_count": null,
   "id": "7cd643ee-03c0-4ba1-a3d3-8fb5d6bd7c8b",
   "metadata": {},
   "outputs": [],
   "source": []
  },
  {
   "cell_type": "code",
   "execution_count": 245,
   "id": "b69a3ad0-3b36-43ec-b5e5-a173bd4a8979",
   "metadata": {},
   "outputs": [
    {
     "name": "stdout",
     "output_type": "stream",
     "text": [
      "8\n",
      "4\n",
      "5\n",
      "9\n",
      "2\n",
      "4\n",
      "9\n",
      "5\n",
      "7\n",
      "7\n",
      "10\n",
      "10\n",
      "9\n",
      "1\n",
      "6\n",
      "1\n",
      "6\n",
      "9\n",
      "8\n",
      "5\n"
     ]
    }
   ],
   "source": []
  },
  {
   "cell_type": "code",
   "execution_count": null,
   "id": "0b201290-3284-4b28-955f-64591d21fc9e",
   "metadata": {},
   "outputs": [],
   "source": []
  }
 ],
 "metadata": {
  "kernelspec": {
   "display_name": "Python 3 (ipykernel)",
   "language": "python",
   "name": "python3"
  },
  "language_info": {
   "codemirror_mode": {
    "name": "ipython",
    "version": 3
   },
   "file_extension": ".py",
   "mimetype": "text/x-python",
   "name": "python",
   "nbconvert_exporter": "python",
   "pygments_lexer": "ipython3",
   "version": "3.9.12"
  }
 },
 "nbformat": 4,
 "nbformat_minor": 5
}
