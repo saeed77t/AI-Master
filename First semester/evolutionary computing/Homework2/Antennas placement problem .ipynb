{
 "cells": [
  {
   "cell_type": "code",
   "execution_count": 1,
   "id": "71482662-eecf-44f4-aafd-e654ca3b6167",
   "metadata": {},
   "outputs": [],
   "source": [
    "import numpy as np\n",
    "import pandas as pd\n",
    "import matplotlib.pyplot as plt\n",
    "import random as rand\n",
    "import math"
   ]
  },
  {
   "cell_type": "code",
   "execution_count": 2,
   "id": "ca470223-dec3-494a-b976-57ff6aa0ec65",
   "metadata": {},
   "outputs": [],
   "source": [
    "#define parameters \n",
    "\n",
    "#define grid area \n",
    "m , n = 30,25\n",
    "\n",
    "#define count of antennas\n",
    "s = 8\n",
    "\n",
    "#define types of antenas \n",
    "t = 5\n",
    "#antensa List , and set cost and radius\n",
    "Antennas = []\n",
    "a =rand.sample(range(2,10) , t)\n",
    "\n",
    "for i in range(t):\n",
    "    radius = a[i]\n",
    "    cost = 2*(radius)+(rand.randint(5,10))\n",
    "    anten = {'type':i ,'cost':cost , 'radius':radius}\n",
    "    Antennas.append(anten)\n",
    "    \n"
   ]
  },
  {
   "cell_type": "code",
   "execution_count": 3,
   "id": "0d9595e4-503c-46af-b1eb-11fcc761fa44",
   "metadata": {},
   "outputs": [
    {
     "data": {
      "text/plain": [
       "[{'type': 0, 'cost': 26, 'radius': 8},\n",
       " {'type': 1, 'cost': 14, 'radius': 2},\n",
       " {'type': 2, 'cost': 18, 'radius': 4},\n",
       " {'type': 3, 'cost': 20, 'radius': 7},\n",
       " {'type': 4, 'cost': 12, 'radius': 3}]"
      ]
     },
     "execution_count": 3,
     "metadata": {},
     "output_type": "execute_result"
    }
   ],
   "source": [
    "Antennas"
   ]
  },
  {
   "cell_type": "code",
   "execution_count": null,
   "id": "d41f7941-5fec-4f3c-ad25-6bfca4b1b9fd",
   "metadata": {},
   "outputs": [],
   "source": []
  },
  {
   "cell_type": "code",
   "execution_count": 4,
   "id": "2c714d8a-515e-4332-9f95-6a28c5ee5f51",
   "metadata": {},
   "outputs": [],
   "source": [
    "#initial first population \n",
    "def InitialPopulation(popsize , antenalist ,m,n,s):\n",
    "    pop = []\n",
    "\n",
    "    chosentypes = []\n",
    "    for i in range (s):\n",
    "        a = rand.randint(-1,len(antenalist))\n",
    "        chosentypes.append(a)\n",
    "    for i in range(popsize):\n",
    "        ad = []\n",
    "        \n",
    "        for j in range(s):\n",
    "            a= [chosentypes[j] , rand.randint(0,m),rand.randint(0,n)]\n",
    "            \n",
    "            ad.append(a)\n",
    "        ad.append(0)    \n",
    "        pop.append(ad)\n",
    "        \n",
    "        \n",
    "    return pop\n",
    "            \n",
    "        "
   ]
  },
  {
   "cell_type": "code",
   "execution_count": null,
   "id": "2ef3da7e-e5aa-4943-9dd9-e7c41296f70f",
   "metadata": {},
   "outputs": [],
   "source": []
  },
  {
   "cell_type": "code",
   "execution_count": 5,
   "id": "822f9045-e703-4d06-8d31-b015589798e4",
   "metadata": {},
   "outputs": [],
   "source": [
    "#sorting population based on the fittness , fitness is the the last member of choromosoms\n",
    "def FitSort(population , s):\n",
    "    sorted_list = sorted(\n",
    "    population,\n",
    "    key=lambda t: t[s],\n",
    "    reverse=True)\n",
    "    return sorted_list\n",
    "                \n",
    "    "
   ]
  },
  {
   "cell_type": "code",
   "execution_count": 6,
   "id": "95a85916-982a-4160-ae36-cd5c36267848",
   "metadata": {},
   "outputs": [],
   "source": [
    "#calculate fitness \n",
    "def ClacFitness(population ,s,antentypes,m,n):\n",
    "    #cal costs\n",
    "    \n",
    "    for i in range(len(population)):\n",
    "        sigma = 0\n",
    "        coverd =[]\n",
    "        coverdAll=[]\n",
    "        for j in range(s):\n",
    "            typ = pop[i][j][0]\n",
    "            \n",
    "            if(typ==-1):\n",
    "                sigma = sigma+0\n",
    "            else:\n",
    "                sigma = sigma + int( antentypes[typ-1]['cost'])\n",
    "                #calc U(x)\n",
    "                radius =  antentypes[typ-1]['radius']\n",
    "                xA = pop[i][j][1]\n",
    "                yA = pop[i][j][2]\n",
    "                for l in range(m+1):\n",
    "                    for k in range(n+1):\n",
    "                        distance = math.sqrt((xA-l)**2 + (yA-k)**2 )\n",
    "                        if(distance<= radius):\n",
    "                            a = [l,k]\n",
    "                            coverd.append(a)\n",
    "        #print(coverdAll)\n",
    "        for w in range(len(coverd)):\n",
    "            if(coverd[w] in coverdAll):\n",
    "                continue\n",
    "            else:\n",
    "                coverdAll.append(coverd[w])\n",
    "        #print(coverdAll)\n",
    "        #print('**************')\n",
    "        #print(len(coverdAll))\n",
    "        population[i][s] = len(coverdAll) - sigma\n",
    "    return population\n",
    "        \n",
    "            \n",
    "            \n",
    "                \n",
    "            \n",
    "            \n",
    "        \n",
    "    \n",
    "    "
   ]
  },
  {
   "cell_type": "code",
   "execution_count": 7,
   "id": "608a8955-6e44-4577-952d-0fade5f2e144",
   "metadata": {},
   "outputs": [],
   "source": [
    "# parent selection method \n",
    "def ParentSelection(population , s):\n",
    "    SelectedParents = []\n",
    "    #making tournoment or roulet wheel \n",
    "    for i in range(2):\n",
    "        n = len(population)\n",
    "        parent = rand.sample(range(0 , n),6)\n",
    "        tornument=[]\n",
    "        for i in range(len(parent)):\n",
    "            tornument.append(population[parent[i]])\n",
    "\n",
    "        #calculate Summation of selected for tournument\n",
    "        sumFitness = 0\n",
    "        for i in range(len(tornument)):\n",
    "            sumFitness = sumFitness + tornument[i][s]\n",
    "        #sumFitness = sum([tornument[i][s] for tornument[i] in tornument])\n",
    "        #print(sumFitness)\n",
    "        #calculate shared of roulet \n",
    "        rouletShare=[]\n",
    "        for i in range(len(tornument)):\n",
    "            a = tornument[i][s]/sumFitness\n",
    "            rouletShare.append(a)\n",
    "        #rouletShare = [tornument[i][s]/sumFitness for tornument[i] in tornument]\n",
    "        #print(tornument)\n",
    "        #print(rouletShare)\n",
    "        #print(sum(rouletShare))\n",
    "        index = np.random.choice(len(tornument) ,p=rouletShare)\n",
    "        SelectedParents.append(tornument[index])\n",
    "    return SelectedParents"
   ]
  },
  {
   "cell_type": "code",
   "execution_count": 8,
   "id": "f01e1e02-4f1f-405e-b149-5c11c984e13b",
   "metadata": {},
   "outputs": [],
   "source": [
    "#implementing cross over \n",
    "def XoverBox(parents , s ,antennas ,m,n):\n",
    "    child1 = []\n",
    "    child2 = []\n",
    "    childs = []\n",
    "    parent1 = parents[0]\n",
    "    parent2 = parents[1]\n",
    "    breakpoint = rand.randint(0,s)\n",
    "    #parent1\n",
    "    gene1=[]\n",
    "    gene2=[]\n",
    "    #parent2\n",
    "    gene3=[]\n",
    "    gene4=[]\n",
    "    for i in range(0,breakpoint):\n",
    "        gene1.append(parent1[i])\n",
    "        gene3.append(parent2[i])\n",
    "\n",
    "    for i in range(breakpoint,s+1):\n",
    "        gene2.append(parent1[i])\n",
    "        gene4.append(parent2[i])\n",
    "    #print(breakpoint)    \n",
    "    #print('parent 1 ',parent1)\n",
    "    #print('parent 2 ',parent2)\n",
    "    #print('gene 1 ',gene1)\n",
    "    #print('gene 2 ',gene2)\n",
    "    #print('gene 3 ',gene3)\n",
    "    #print('gene 4 ',gene4)\n",
    "    #adding gene1 and gene4 if they are valid\n",
    "    t1 =[]\n",
    "    t3 = []\n",
    "    for i in range(len(gene1)):\n",
    "        t1.append((gene1[i][1],gene1[i][2]))\n",
    "        t3.append((gene3[i][1],gene3[i][2]))\n",
    "    t2=[]\n",
    "    t4=[]\n",
    "    for i in range(len(gene2)-1):\n",
    "        t2.append((gene2[i][1],gene2[i][2]))\n",
    "        t4.append((gene4[i][1],gene4[i][2]))\n",
    "    \n",
    "    child1 = gene1 + gene4\n",
    "    child2 = gene3 + gene2\n",
    "\n",
    "    return child1, child2\n",
    "\n"
   ]
  },
  {
   "cell_type": "code",
   "execution_count": 9,
   "id": "08a4ed52-42f5-403b-8e9f-8876bb2a515d",
   "metadata": {},
   "outputs": [],
   "source": [
    "#definig mutation function\n",
    "def MutationBox(childs,s , antenna , m , n):\n",
    "    \n",
    "    for i in range(len(childs)):\n",
    "        for j in range(s):\n",
    "            l = len(childs[i][j])\n",
    "            rate = rand.randint(1,100)\n",
    "            \n",
    "            if rate < 5 :\n",
    "                num = rand.randint(0,l-1)\n",
    "                if(num == 0):\n",
    "                    changed = rand.randint(0,len(antenna)-1)\n",
    "                    childs[i][j][0]=changed\n",
    "                    \n",
    "                if(num == 1):\n",
    "                    changed = rand.randint(0,m)\n",
    "                    childs[i][j][1]=changed\n",
    "                \n",
    "                if(num == 2):\n",
    "                    changed = rand.randint(0,n)\n",
    "                    childs[i][j][2]=changed\n",
    "                \n",
    "    return childs"
   ]
  },
  {
   "cell_type": "code",
   "execution_count": 10,
   "id": "cd6d45f4-7f19-4743-8b2c-0d1305dd81e7",
   "metadata": {},
   "outputs": [],
   "source": [
    "# parent selection method 2\n",
    "def ParentSelection2(population ,antentypes, s,m,n):\n",
    "    SelectedParents = []\n",
    "    #making tournoment or roulet wheel \n",
    "    for i in range(2):\n",
    "        n = len(population)\n",
    "        parent = rand.sample(range(0 , n),6)\n",
    "        tornument=[]\n",
    "        # calculate coverd area of each parent\n",
    "        \n",
    "        for i in range(len(parent)):\n",
    "            tornument.append(population[parent[i]])\n",
    "            \n",
    "        #print(tornument) \n",
    "\n",
    "        #calculate the percantege of coverd areas\n",
    "\n",
    "        #defining grids\n",
    "        grids =[]\n",
    "        been =int( m/6)\n",
    "        a=0\n",
    "        flag=True\n",
    "        for i in range(m):\n",
    "            c=[]\n",
    "            if(flag==False):\n",
    "                break\n",
    "            for j in range(been):\n",
    "\n",
    "                c.append(been*i+j)\n",
    "                if(been*i+j>=50):\n",
    "                    flag=False\n",
    "                    break\n",
    "\n",
    "            grids.append(c)\n",
    "\n",
    "        for i in range(len(grids)):\n",
    "            grids[i].insert(0,-2)\n",
    "        # print(grids) \n",
    "        r1 = []\n",
    "        #claulate number of trigerrd grids by each chromosom :) \n",
    "        cnt=0\n",
    "        for i in range(len(tornument)):\n",
    "\n",
    "            for j in range(s):\n",
    "                #print(tornument[i])\n",
    "                X = tornument[i][j][1]\n",
    "                #print(x)\n",
    "\n",
    "                for k in range(len(grids)):\n",
    "\n",
    "                    if(grids[k][0]==-2):\n",
    "                        if(X in grids[k]):\n",
    "                            grids[k][0]=-1\n",
    "            for l in range(len(grids)):\n",
    "                if(grids[l][0]==-1):\n",
    "                    cnt=cnt+1\n",
    "            for l in range(len(grids)):\n",
    "                if(grids[l][0]==-1):\n",
    "                    grids[l][0]=-2\n",
    "\n",
    "            r1.append(cnt) \n",
    "            cnt=0\n",
    "        # print(len(grids))    \n",
    "        # print(r1)\n",
    "\n",
    "        sumRnakes = sum(r1)\n",
    "        # print(sumRnakes)\n",
    "        # rouletShare = [r1[i]/sumRnakes for r1[i] in r1]\n",
    "        rouletShare=[]\n",
    "        for i in range(len(r1)):\n",
    "            a = r1[i]/sumRnakes\n",
    "            rouletShare.append(a)\n",
    "        # print(rouletShare)\n",
    "        # print(sum(rouletShare))\n",
    "        index = np.random.choice(len(r1) ,p=rouletShare)\n",
    "        # print(index)\n",
    "        SelectedParents.append(tornument[index])\n",
    "    return(SelectedParents)            \n",
    "            \n",
    "            \n",
    "            \n",
    "            \n"
   ]
  },
  {
   "cell_type": "code",
   "execution_count": 11,
   "id": "c71d7eef-ba28-44d9-bf20-ba7042565254",
   "metadata": {},
   "outputs": [],
   "source": [
    "#implementing 1% elitism\n",
    "def elitism(childs,population,s):\n",
    "    a = population[0]\n",
    "    l = len(childs)\n",
    "    childs[l-1] = a\n",
    "    return childs\n",
    "    "
   ]
  },
  {
   "cell_type": "code",
   "execution_count": 12,
   "id": "22dc4c57-ec9d-4fa4-99b2-79df5e2b01a4",
   "metadata": {},
   "outputs": [],
   "source": [
    "# implemet survival selection\n",
    "def SurvivalSelection(childs , population,s):\n",
    "    m =len(population)\n",
    "    i = m\n",
    "    while(i-1 >=m/2):\n",
    "        del population[i-1]\n",
    "        i -= 1\n",
    "        \n",
    "        \n",
    "    #print(len(childs))\n",
    "    for j in range(len(childs)):\n",
    "        population.append(childs[j])\n",
    "    \n",
    "        \n",
    "        \n",
    "    return population\n",
    "    "
   ]
  },
  {
   "cell_type": "code",
   "execution_count": 13,
   "id": "d04dc1b7-e0e3-4c20-b802-cf8467392b52",
   "metadata": {},
   "outputs": [],
   "source": [
    "#plot result\n",
    "def PlotResult(answer , antentypes,s,m,n):\n",
    "    coverd =[]\n",
    "    coverdAll=[]\n",
    "    antensplace = []\n",
    "    Xantenas=[]\n",
    "    Yantennas = []\n",
    "    xcover = []\n",
    "    ycover= []\n",
    "    xem = []\n",
    "    yem=[]\n",
    "    for j in range(s):\n",
    "        typ = answer[j][0]\n",
    "\n",
    "        if(typ==-1):\n",
    "            xA = answer[j][1]\n",
    "            yA = answer[j][2]\n",
    "            antensplace.append([xA,yA])\n",
    "            xem.append(xA)\n",
    "            yem.append(yA)\n",
    "        else:\n",
    "            \n",
    "            #calc \n",
    "            radius =  antentypes[typ-1]['radius']\n",
    "            xA = answer[j][1]\n",
    "            yA = answer[j][2]\n",
    "            antensplace.append([xA,yA])\n",
    "            Xantenas.append(xA)\n",
    "            Yantennas.append(yA)\n",
    "            \n",
    "            for l in range(m+1):\n",
    "                for k in range(n+1):\n",
    "                    distance = math.sqrt((xA-l)**2 + (yA-k)**2 )\n",
    "                    if(distance<= radius):\n",
    "                        a = [l,k]\n",
    "                        coverd.append(a)\n",
    "    #print(coverdAll)\n",
    "    for w in range(len(coverd)):\n",
    "        if(coverd[w] in coverdAll):\n",
    "            continue\n",
    "        else:\n",
    "            coverdAll.append(coverd[w])\n",
    "    #print(coverdAll)\n",
    "    #print('**************')\n",
    "    #print(len(coverdAll))\n",
    "    for i in range(len(coverdAll)):\n",
    "        xcover.append(coverdAll[i][0])\n",
    "        ycover.append(coverdAll[i][1])\n",
    "    print(antensplace)\n",
    "    data = []\n",
    "    x = []\n",
    "    y =[]\n",
    "    for i in range(m+1):\n",
    "\n",
    "        for j in range(n+1):\n",
    "            data.append([i,j])\n",
    "            x.append(i)\n",
    "            y.append(j)\n",
    "    data = np.array(data)\n",
    "    plt.figure(figsize=(6,6))\n",
    "    ax = plt.axes()\n",
    "    ax.set_facecolor(\"black\")\n",
    "    plt.plot(x,y,'o',color='white',)\n",
    "    plt.plot(xcover,ycover,'yo')\n",
    "    plt.plot(Xantenas,Yantennas,'ro')\n",
    "    plt.plot(xem,yem,'bo')\n",
    "    plt.show()\n",
    "    \n",
    "    "
   ]
  },
  {
   "cell_type": "code",
   "execution_count": 14,
   "id": "b9ae8eb9-7f51-4cff-b96b-1716363f0962",
   "metadata": {},
   "outputs": [],
   "source": [
    "#initialize the population\n",
    "FirstSeed = InitialPopulation(100 , Antennas ,m,n,s)"
   ]
  },
  {
   "cell_type": "code",
   "execution_count": 15,
   "id": "de678014-696c-415d-bc15-c63be055b082",
   "metadata": {},
   "outputs": [
    {
     "name": "stdout",
     "output_type": "stream",
     "text": [
      "itration :  10\n",
      "itration :  20\n",
      "itration :  30\n",
      "itration :  40\n",
      "itration :  50\n",
      "itration :  60\n",
      "itration :  70\n",
      "itration :  80\n",
      "itration :  90\n",
      "itration :  100\n",
      "Done , final result is ; [[0, 30, 17], [4, 9, 1], [0, 20, 2], [3, 28, 21], [3, 6, 14], [0, 27, 18], [0, 29, 1], [0, 26, 9], 458]\n"
     ]
    }
   ],
   "source": [
    "#set One as asked in qusetion \n",
    "\n",
    "\n",
    "pop = FirstSeed\n",
    "population = ClacFitness(pop ,s,Antennas,m,n)\n",
    "population = FitSort(population,s)\n",
    "count = 0\n",
    "fitness1 = []\n",
    "while count<100:\n",
    "    \n",
    "    childs=[]\n",
    "\n",
    "    while(len(childs)<100):\n",
    "        parents = ParentSelection(population,s)\n",
    "        c1 , c2 =XoverBox(parents,s,Antennas,m,n)\n",
    "        childs.append(c1)\n",
    "        childs.append(c2)\n",
    "\n",
    "    childs = MutationBox(childs,s,Antennas , m , n)\n",
    "    childs = ClacFitness(childs ,s,Antennas,m,n)\n",
    "    childs = FitSort(childs,s)\n",
    "    new_generation = elitism(childs,population,s)\n",
    "    new_generation = FitSort(new_generation,s)\n",
    "    population = new_generation\n",
    "    fitness1.append(population[0][s])\n",
    "    count += 1\n",
    "    if(count%10 == 0):\n",
    "        print('itration : ',count)\n",
    "    if count == 100:\n",
    "        print('Done , final result is ;',population[0])"
   ]
  },
  {
   "cell_type": "code",
   "execution_count": 16,
   "id": "3bae3d4c-8165-444d-a5ac-77d3e58fe9fe",
   "metadata": {},
   "outputs": [
    {
     "name": "stdout",
     "output_type": "stream",
     "text": [
      "[[30, 17], [9, 1], [20, 2], [28, 21], [6, 14], [27, 18], [29, 1], [26, 9]]\n"
     ]
    },
    {
     "data": {
      "image/png": "[encoded data removed]",
      "text/plain": [
       "<Figure size 432x432 with 1 Axes>"
      ]
     },
     "metadata": {
      "needs_background": "light"
     },
     "output_type": "display_data"
    }
   ],
   "source": [
    "answer = population[0]\n",
    "ns = population[0]\n",
    "PlotResult(population[0] , Antennas ,s,m,n)"
   ]
  },
  {
   "cell_type": "code",
   "execution_count": 17,
   "id": "24f6f8cb-ea78-4b1e-a136-c3cae3034431",
   "metadata": {},
   "outputs": [
    {
     "data": {
      "text/plain": [
       "[<matplotlib.lines.Line2D at 0x7f7b6a64ca30>]"
      ]
     },
     "execution_count": 17,
     "metadata": {},
     "output_type": "execute_result"
    },
    {
     "data": {
      "image/png": "[encoded data removed]",
      "text/plain": [
       "<Figure size 432x288 with 1 Axes>"
      ]
     },
     "metadata": {
      "needs_background": "light"
     },
     "output_type": "display_data"
    }
   ],
   "source": [
    "data=[]\n",
    "for i in range(100):\n",
    "    data.append(i)\n",
    "    \n",
    "plt.plot(data,fitness1)    "
   ]
  },
  {
   "cell_type": "code",
   "execution_count": 18,
   "id": "d2f7a702-78d3-461f-ad78-33740b90f7a3",
   "metadata": {},
   "outputs": [
    {
     "name": "stdout",
     "output_type": "stream",
     "text": [
      "itration :  10\n",
      "itration :  20\n",
      "itration :  30\n",
      "itration :  40\n",
      "itration :  50\n",
      "itration :  60\n",
      "itration :  70\n",
      "itration :  80\n",
      "itration :  90\n",
      "itration :  100\n",
      "Done , final result is ; [[3, 29, 1], [3, 19, 17], [1, 20, 25], [1, 4, 10], [4, 24, 17], [2, 17, 10], [1, 11, 21], [4, 9, 6], 471]\n"
     ]
    }
   ],
   "source": [
    "#set Two with changed parent selection\n",
    "pop = FirstSeed\n",
    "population2 = ClacFitness(pop ,s,Antennas,m,n)\n",
    "population2 = FitSort(population2,s)\n",
    "count = 0\n",
    "fitness2 = []\n",
    "while count<100:\n",
    "    \n",
    "    childs=[]\n",
    "\n",
    "    while(len(childs)<100):\n",
    "        parents = ParentSelection2(population2,Antennas,s,m,n)\n",
    "        c1 , c2 =XoverBox(parents,s,Antennas,m,n)\n",
    "        childs.append(c1)\n",
    "        childs.append(c2)\n",
    "\n",
    "    #childs = ClacFitness(childs ,s,Antennas,m,n)\n",
    "    #childs = FitSort(childs,s)\n",
    "    childs = MutationBox(childs,s,Antennas , m , n)\n",
    "    childs = ClacFitness(childs ,s,Antennas,m,n)\n",
    "    childs = FitSort(childs,s)\n",
    "    new_generation = elitism(childs,population2,s)\n",
    "    new_generation = FitSort(new_generation,s)\n",
    "    population2 = new_generation\n",
    "    fitness2.append(population2[0][s])\n",
    "    count += 1\n",
    "    if(count%10 == 0):\n",
    "        print('itration : ',count)\n",
    "    if count == 100:\n",
    "        print('Done , final result is ;',population2[0])\n"
   ]
  },
  {
   "cell_type": "code",
   "execution_count": 19,
   "id": "3ec9f8c8-1d97-4136-86dc-c90d1259c178",
   "metadata": {},
   "outputs": [
    {
     "name": "stdout",
     "output_type": "stream",
     "text": [
      "[[29, 1], [19, 17], [20, 25], [4, 10], [24, 17], [17, 10], [11, 21], [9, 6]]\n"
     ]
    },
    {
     "data": {
      "image/png": "[encoded data removed]",
      "text/plain": [
       "<Figure size 432x432 with 1 Axes>"
      ]
     },
     "metadata": {
      "needs_background": "light"
     },
     "output_type": "display_data"
    }
   ],
   "source": [
    "answer = population2[0]\n",
    "ns = population2[10]\n",
    "PlotResult(population2[0] , Antennas ,s,m,n)"
   ]
  },
  {
   "cell_type": "code",
   "execution_count": 20,
   "id": "d930e378-1786-42c1-8044-03b0c048ff86",
   "metadata": {},
   "outputs": [
    {
     "data": {
      "text/plain": [
       "[<matplotlib.lines.Line2D at 0x7f7b487fdca0>]"
      ]
     },
     "execution_count": 20,
     "metadata": {},
     "output_type": "execute_result"
    },
    {
     "data": {
      "image/png": "[encoded data removed]",
      "text/plain": [
       "<Figure size 432x288 with 1 Axes>"
      ]
     },
     "metadata": {
      "needs_background": "light"
     },
     "output_type": "display_data"
    }
   ],
   "source": [
    "data=[]\n",
    "for i in range(100):\n",
    "    data.append(i)\n",
    "    \n",
    "plt.plot(data,fitness2) \n"
   ]
  },
  {
   "cell_type": "code",
   "execution_count": 21,
   "id": "e44732b7-c34c-4b86-a086-079a9443fd15",
   "metadata": {},
   "outputs": [
    {
     "name": "stdout",
     "output_type": "stream",
     "text": [
      "itration :  10\n",
      "itration :  20\n",
      "itration :  30\n",
      "itration :  40\n",
      "itration :  50\n",
      "itration :  60\n",
      "itration :  70\n",
      "itration :  80\n",
      "itration :  90\n",
      "itration :  100\n",
      "Done , final result is ; [[2, 14, 4], [2, 16, 16], [0, 1, 24], [2, 11, 15], [3, 20, 8], [2, 14, 20], [1, 27, 25], [0, 10, 21], 462]\n"
     ]
    }
   ],
   "source": [
    "#set Three with changed survival Selection\n",
    "pop = FirstSeed\n",
    "population3 = ClacFitness(pop ,s,Antennas,m,n)\n",
    "population3 = FitSort(population3,s)\n",
    "count = 0\n",
    "fitness3 = []\n",
    "while count<100:\n",
    "    \n",
    "    childs=[]\n",
    "\n",
    "    while(len(childs)<50):\n",
    "        parents = ParentSelection(population3,s)\n",
    "        c1 , c2 =XoverBox(parents,s,Antennas,m,n)\n",
    "        childs.append(c1)\n",
    "        childs.append(c2)\n",
    "\n",
    "\n",
    "    #childs = ClacFitness(childs ,s,Antennas,m,n)\n",
    "    #childs = FitSort(childs,s)\n",
    "    childs = MutationBox(childs,s,Antennas , m , n)\n",
    "    childs = ClacFitness(childs ,s,Antennas,m,n)\n",
    "    childs = FitSort(childs,s)\n",
    "    new_generation = SurvivalSelection(childs,population3,s)\n",
    "    new_generation = FitSort(new_generation,s)\n",
    "    population3 = new_generation\n",
    "    fitness3.append(population3[0][s])\n",
    "    count += 1\n",
    "    if(count%10 == 0):\n",
    "        print('itration : ',count)\n",
    "    if count == 100:\n",
    "        print('Done , final result is ;',population3[0])\n"
   ]
  },
  {
   "cell_type": "code",
   "execution_count": 22,
   "id": "d6039b56-e93d-4bea-a1b7-ff2d9db1ae2a",
   "metadata": {},
   "outputs": [
    {
     "name": "stdout",
     "output_type": "stream",
     "text": [
      "[[14, 4], [16, 16], [1, 24], [11, 15], [20, 8], [14, 20], [27, 25], [10, 21]]\n"
     ]
    },
    {
     "data": {
      "image/png": "[encoded data removed]",
      "text/plain": [
       "<Figure size 432x432 with 1 Axes>"
      ]
     },
     "metadata": {
      "needs_background": "light"
     },
     "output_type": "display_data"
    }
   ],
   "source": [
    "answer = population3[0]\n",
    "ns = population3[10]\n",
    "PlotResult(answer , Antennas ,s,m,n)"
   ]
  },
  {
   "cell_type": "code",
   "execution_count": 23,
   "id": "a43d7e56-978f-47e4-aeda-293ce7660572",
   "metadata": {},
   "outputs": [
    {
     "data": {
      "text/plain": [
       "[<matplotlib.lines.Line2D at 0x7f7b488f74f0>]"
      ]
     },
     "execution_count": 23,
     "metadata": {},
     "output_type": "execute_result"
    },
    {
     "data": {
      "image/png": "[encoded data removed]",
      "text/plain": [
       "<Figure size 432x288 with 1 Axes>"
      ]
     },
     "metadata": {
      "needs_background": "light"
     },
     "output_type": "display_data"
    }
   ],
   "source": [
    "data=[]\n",
    "for i in range(100):\n",
    "    data.append(i)\n",
    "    \n",
    "plt.plot(data,fitness3) "
   ]
  },
  {
   "cell_type": "code",
   "execution_count": null,
   "id": "0e7b7b0c-3312-4197-bcce-72aa00fee49e",
   "metadata": {},
   "outputs": [],
   "source": []
  },
  {
   "cell_type": "code",
   "execution_count": null,
   "id": "1a01544b-c74a-489e-8e08-24a4546ef8f0",
   "metadata": {},
   "outputs": [],
   "source": []
  },
  {
   "cell_type": "code",
   "execution_count": 24,
   "id": "ff3189b6-de62-473a-abf7-801bf7f3b5a7",
   "metadata": {},
   "outputs": [
    {
     "name": "stdout",
     "output_type": "stream",
     "text": [
      "itration :  10\n",
      "itration :  20\n",
      "itration :  30\n",
      "itration :  40\n",
      "itration :  50\n",
      "itration :  60\n",
      "itration :  70\n",
      "itration :  80\n",
      "itration :  90\n",
      "itration :  100\n",
      "Done , final result is ; [[4, 3, 18], [1, 18, 17], [1, 24, 11], [1, 24, 7], [4, 22, 21], [0, 1, 3], [2, 16, 12], [1, 27, 16], 448]\n"
     ]
    }
   ],
   "source": [
    "#set Four with survival selection and new parent selection \n",
    "pop = FirstSeed\n",
    "population4 = ClacFitness(pop ,s,Antennas,m,n)\n",
    "population4 = FitSort(population4,s)\n",
    "count = 0\n",
    "fitness4 = []\n",
    "while(count<100):\n",
    "    children=[]\n",
    "    while(len(children)<50):\n",
    "        parentss = ParentSelection2(population4,Antennas,s,m,n)\n",
    "        c1 , c2 =XoverBox(parentss,s,Antennas,m,n)\n",
    "        children.append(c1)\n",
    "        children.append(c2)\n",
    "\n",
    "    children = MutationBox(children,s,Antennas,m,n)\n",
    "    children=ClacFitness(children ,s,Antennas,m,n)\n",
    "    children =FitSort(children,s)\n",
    "    generation = SurvivalSelection(children,population4,s)\n",
    "    generation = FitSort(generation,s)\n",
    "    population4 = generation\n",
    "    fitness4.append(population4[0][s])\n",
    "    count += 1\n",
    "    if(count%10 == 0):\n",
    "        print('itration : ',count)\n",
    "    if count == 100:\n",
    "        print('Done , final result is ;',population4[0])\n",
    "\n",
    "\n",
    "\n",
    "    \n"
   ]
  },
  {
   "cell_type": "code",
   "execution_count": 25,
   "id": "1e93f400-2e90-4143-99a8-a01c9b3a13fa",
   "metadata": {},
   "outputs": [
    {
     "name": "stdout",
     "output_type": "stream",
     "text": [
      "[[3, 18], [18, 17], [24, 11], [24, 7], [22, 21], [1, 3], [16, 12], [27, 16]]\n"
     ]
    },
    {
     "data": {
      "image/png": "[encoded data removed]",
      "text/plain": [
       "<Figure size 432x432 with 1 Axes>"
      ]
     },
     "metadata": {
      "needs_background": "light"
     },
     "output_type": "display_data"
    }
   ],
   "source": [
    "answer = population4[0]\n",
    "ns = population4[10]\n",
    "PlotResult(answer , Antennas ,s,m,n)"
   ]
  },
  {
   "cell_type": "code",
   "execution_count": 26,
   "id": "794de856-549f-4ac0-bb94-02818eb744cf",
   "metadata": {},
   "outputs": [
    {
     "data": {
      "text/plain": [
       "[<matplotlib.lines.Line2D at 0x7f7b380fc850>]"
      ]
     },
     "execution_count": 26,
     "metadata": {},
     "output_type": "execute_result"
    },
    {
     "data": {
      "image/png": "[encoded data removed]",
      "text/plain": [
       "<Figure size 432x288 with 1 Axes>"
      ]
     },
     "metadata": {
      "needs_background": "light"
     },
     "output_type": "display_data"
    }
   ],
   "source": [
    "data=[]\n",
    "for i in range(100):\n",
    "    data.append(i)\n",
    "    \n",
    "plt.plot(data,fitness4) "
   ]
  },
  {
   "cell_type": "code",
   "execution_count": null,
   "id": "db25f858-0791-406d-962c-dcd57b82c753",
   "metadata": {},
   "outputs": [],
   "source": []
  },
  {
   "cell_type": "code",
   "execution_count": null,
   "id": "8ec8fa22-49de-42a8-8999-b5019b02e4ab",
   "metadata": {},
   "outputs": [],
   "source": []
  },
  {
   "cell_type": "code",
   "execution_count": null,
   "id": "50527697-3ad6-47dd-9a36-2749b9f7a074",
   "metadata": {},
   "outputs": [],
   "source": []
  },
  {
   "cell_type": "code",
   "execution_count": null,
   "id": "1162828e-615e-42d4-9874-c67103cb87c8",
   "metadata": {},
   "outputs": [],
   "source": []
  },
  {
   "cell_type": "code",
   "execution_count": null,
   "id": "ae15e8bc-86d5-4f80-8e75-d256e68387a0",
   "metadata": {},
   "outputs": [],
   "source": []
  },
  {
   "cell_type": "code",
   "execution_count": null,
   "id": "12e1415e-b4b1-4950-8b69-111470257806",
   "metadata": {},
   "outputs": [],
   "source": []
  },
  {
   "cell_type": "code",
   "execution_count": null,
   "id": "d229d97c-40ac-4440-b22b-32da16f45ff6",
   "metadata": {},
   "outputs": [],
   "source": []
  },
  {
   "cell_type": "code",
   "execution_count": null,
   "id": "a9930f77-ffeb-476a-a724-6fee111e20fa",
   "metadata": {},
   "outputs": [],
   "source": []
  },
  {
   "cell_type": "code",
   "execution_count": null,
   "id": "941312c5-ab7d-4e5c-a127-457d5f1c9536",
   "metadata": {},
   "outputs": [],
   "source": []
  },
  {
   "cell_type": "code",
   "execution_count": null,
   "id": "91066572-015e-41f8-b3cd-5be4841d5525",
   "metadata": {},
   "outputs": [],
   "source": []
  },
  {
   "cell_type": "code",
   "execution_count": 27,
   "id": "264646b0-4bfc-46d8-96e5-d529bf0ca343",
   "metadata": {},
   "outputs": [],
   "source": [
    "#implementing cross over with controll of position \n",
    "def XoverBox(parents , s ,antennas ,m,n):\n",
    "    flag1 = True\n",
    "    f2 = True\n",
    "    while(f2):\n",
    "        child1 = []\n",
    "        child2 = []\n",
    "        childs = []\n",
    "        parent1 = parents[0]\n",
    "        parent2 = parents[1]\n",
    "        breakpoint = rand.randint(0,s)\n",
    "        #parent1\n",
    "        gene1=[]\n",
    "        gene2=[]\n",
    "        #parent2\n",
    "        gene3=[]\n",
    "        gene4=[]\n",
    "        for i in range(0,breakpoint):\n",
    "            gene1.append(parent1[i])\n",
    "            gene3.append(parent2[i])\n",
    "\n",
    "        for i in range(breakpoint,s+1):\n",
    "            gene2.append(parent1[i])\n",
    "            gene4.append(parent2[i])\n",
    "        #print(breakpoint)    \n",
    "        #print('parent 1 ',parent1)\n",
    "        #print('parent 2 ',parent2)\n",
    "        #print('gene 1 ',gene1)\n",
    "        #print('gene 2 ',gene2)\n",
    "        #print('gene 3 ',gene3)\n",
    "        #print('gene 4 ',gene4)\n",
    "        #adding gene1 and gene4 if they are valid\n",
    "        t1 =[]\n",
    "        t3 = []\n",
    "        for i in range(len(gene1)):\n",
    "            t1.append((gene1[i][1],gene1[i][2]))\n",
    "            t3.append((gene3[i][1],gene3[i][2]))\n",
    "        t2=[]\n",
    "        t4=[]\n",
    "        for i in range(len(gene2)-1):\n",
    "            t2.append((gene2[i][1],gene2[i][2]))\n",
    "            t4.append((gene4[i][1],gene4[i][2]))\n",
    "        flag1 = True\n",
    "        for i in range(len(t1)):\n",
    "            if t1[i] in t4:\n",
    "                flag1=False\n",
    "        for i in range(len(t2)):\n",
    "            if t2[i] in t3:\n",
    "                flag1=False\n",
    "        if flag1 ==True:\n",
    "            child1 = gene1 + gene4\n",
    "            child2 = gene3 + gene2\n",
    "            f2 = False\n",
    "            return child1, child2\n",
    "\n",
    "\n"
   ]
  },
  {
   "cell_type": "code",
   "execution_count": null,
   "id": "a861ba8f-642c-487c-8001-4cde47a18e54",
   "metadata": {},
   "outputs": [],
   "source": []
  },
  {
   "cell_type": "code",
   "execution_count": null,
   "id": "b424e67b-155b-4330-9118-3cc9d1d20d69",
   "metadata": {},
   "outputs": [],
   "source": []
  }
 ],
 "metadata": {
  "kernelspec": {
   "display_name": "Python 3 (ipykernel)",
   "language": "python",
   "name": "python3"
  },
  "language_info": {
   "codemirror_mode": {
    "name": "ipython",
    "version": 3
   },
   "file_extension": ".py",
   "mimetype": "text/x-python",
   "name": "python",
   "nbconvert_exporter": "python",
   "pygments_lexer": "ipython3",
   "version": "3.9.12"
  }
 },
 "nbformat": 4,
 "nbformat_minor": 5
}
