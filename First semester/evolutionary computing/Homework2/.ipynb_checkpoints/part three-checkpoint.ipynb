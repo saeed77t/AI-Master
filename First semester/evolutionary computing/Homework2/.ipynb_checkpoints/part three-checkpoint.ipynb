{
 "cells": [
  {
   "cell_type": "code",
   "execution_count": 1,
   "id": "15f455df-f221-46d7-9a40-84c74fa7cce7",
   "metadata": {},
   "outputs": [],
   "source": [
    "import numpy as np \n",
    "import pandas as pd \n",
    "import matplotlib.pyplot as plt\n",
    "from sklearn.datasets import fetch_olivetti_faces"
   ]
  },
  {
   "cell_type": "code",
   "execution_count": 2,
   "id": "1f877b27-062f-42bf-adfb-387e54caeb40",
   "metadata": {},
   "outputs": [],
   "source": [
    "olivetti = fetch_olivetti_faces(return_X_y=True)\n",
    "a = fetch_olivetti_faces()"
   ]
  },
  {
   "cell_type": "code",
   "execution_count": 3,
   "id": "fb3f484f-4175-4628-9b89-565875491e1b",
   "metadata": {},
   "outputs": [],
   "source": [
    "x = olivetti[0]\n",
    "y = olivetti[1]\n"
   ]
  },
  {
   "cell_type": "code",
   "execution_count": 4,
   "id": "e7e62647-2f29-4304-8ffe-8ac2d9058041",
   "metadata": {},
   "outputs": [],
   "source": [
    "eigen_vectors = []\n",
    "cnum = []"
   ]
  },
  {
   "cell_type": "code",
   "execution_count": 46,
   "id": "a9006daf-d948-4c0c-85b7-6559ddb9032f",
   "metadata": {},
   "outputs": [],
   "source": [
    "def CalculateScaters(x,y):\n",
    "    NumberOfFeatures = len(x[0])\n",
    "    uniqeLables = np.unique(y)\n",
    "    numberoflabels = len(uniqeLables)\n",
    "    avg =np.mean(x,axis=0)\n",
    "    #define between and within scateers :\n",
    "    WithinScatter,BetweenScatter  = np.zeros((NumberOfFeatures,NumberOfFeatures)),np.zeros((NumberOfFeatures,NumberOfFeatures))\n",
    "    \n",
    "    #calculate formulas :\n",
    "    for i,j in enumerate(uniqeLables):\n",
    "        SampleOFClassY=x[y == j]\n",
    "        q = np.where(y == j)\n",
    "        averegaeOfEachfeature = np.mean(SampleOFClassY , axis=0)\n",
    "        WithinScatter = WithinScatter + ( (SampleOFClassY - averegaeOfEachfeature).T.dot((SampleOFClassY - averegaeOfEachfeature)) )\n",
    "    \n",
    "        \n",
    "        BetweenScatter = BetweenScatter + (SampleOFClassY.shape[0] * (averegaeOfEachfeature - avg).reshape(NumberOfFeatures,1).dot((averegaeOfEachfeature - avg).reshape(NumberOfFeatures,1).T))\n",
    "    \n",
    "    \n",
    "    \n",
    "    \n",
    "    \n",
    "    \n",
    "    return WithinScatter , BetweenScatter\n",
    "        \n",
    "    \n",
    "    "
   ]
  },
  {
   "cell_type": "code",
   "execution_count": 47,
   "id": "ffa7ca35-f8ad-4ddc-a96f-aa92458e8e2e",
   "metadata": {},
   "outputs": [],
   "source": [
    "w = CalculateScaters(x,y)"
   ]
  },
  {
   "cell_type": "code",
   "execution_count": 50,
   "id": "3e7fe5dd-1e0e-4bc6-8ce9-d4bb4540b6b1",
   "metadata": {},
   "outputs": [
    {
     "data": {
      "text/plain": [
       "(4096, 4096)"
      ]
     },
     "execution_count": 50,
     "metadata": {},
     "output_type": "execute_result"
    }
   ],
   "source": [
    "w[1].shape"
   ]
  },
  {
   "cell_type": "code",
   "execution_count": null,
   "id": "1ffeb862-a49f-4d6a-a92e-7c08d8ada8b1",
   "metadata": {},
   "outputs": [],
   "source": []
  },
  {
   "cell_type": "code",
   "execution_count": null,
   "id": "41a03722-0e04-4fa6-8822-70d9e399b43e",
   "metadata": {},
   "outputs": [],
   "source": []
  },
  {
   "cell_type": "code",
   "execution_count": null,
   "id": "8c3bc961-a0ef-48be-96f9-05cb22dee724",
   "metadata": {},
   "outputs": [],
   "source": []
  },
  {
   "cell_type": "code",
   "execution_count": null,
   "id": "2d054144-6db1-4a59-b8a2-6c142898fc6a",
   "metadata": {},
   "outputs": [],
   "source": []
  },
  {
   "cell_type": "code",
   "execution_count": null,
   "id": "92813e6b-460e-4b00-8bfe-c0dd1ee64f09",
   "metadata": {},
   "outputs": [],
   "source": []
  },
  {
   "cell_type": "code",
   "execution_count": null,
   "id": "c0f8a17b-f236-4c6d-9e11-2544439af8c1",
   "metadata": {},
   "outputs": [],
   "source": []
  },
  {
   "cell_type": "code",
   "execution_count": null,
   "id": "b2875647-8b84-460a-bd75-710c4385fd54",
   "metadata": {},
   "outputs": [],
   "source": []
  },
  {
   "cell_type": "code",
   "execution_count": null,
   "id": "f6a320c0-fbea-41ee-b82d-37c087d0cebc",
   "metadata": {},
   "outputs": [],
   "source": []
  },
  {
   "cell_type": "code",
   "execution_count": null,
   "id": "9fafe01c-bb98-4064-a445-e9fe889b88db",
   "metadata": {},
   "outputs": [],
   "source": []
  },
  {
   "cell_type": "code",
   "execution_count": null,
   "id": "c0c8887a-0bb7-419e-a717-46afe94b5e21",
   "metadata": {},
   "outputs": [],
   "source": []
  },
  {
   "cell_type": "code",
   "execution_count": null,
   "id": "2ce1bdd7-6019-4c54-8b68-1278a15b2b0f",
   "metadata": {},
   "outputs": [],
   "source": []
  },
  {
   "cell_type": "code",
   "execution_count": null,
   "id": "78c37670-3286-45b9-a63f-c533c8f22848",
   "metadata": {},
   "outputs": [],
   "source": []
  },
  {
   "cell_type": "code",
   "execution_count": null,
   "id": "1f7955d6-2da8-4b31-9c21-da4e69c76c4b",
   "metadata": {},
   "outputs": [],
   "source": []
  },
  {
   "cell_type": "code",
   "execution_count": null,
   "id": "ddf3e4c9-902c-4f6e-94f7-821fe6b28ddd",
   "metadata": {},
   "outputs": [],
   "source": []
  },
  {
   "cell_type": "code",
   "execution_count": null,
   "id": "41092a49-9f1e-4ada-9062-61e7253f338f",
   "metadata": {},
   "outputs": [],
   "source": []
  },
  {
   "cell_type": "code",
   "execution_count": null,
   "id": "f679204b-2537-4c5e-8a2b-c716df26cddd",
   "metadata": {},
   "outputs": [],
   "source": []
  },
  {
   "cell_type": "code",
   "execution_count": null,
   "id": "6dbf5563-dde6-425b-aefd-f78fa2b3818c",
   "metadata": {},
   "outputs": [],
   "source": []
  },
  {
   "cell_type": "code",
   "execution_count": null,
   "id": "e3a24ab6-220d-4181-bf31-ed8fe98ed7f9",
   "metadata": {},
   "outputs": [],
   "source": []
  },
  {
   "cell_type": "code",
   "execution_count": null,
   "id": "f487496d-0306-4563-841d-1e3045ed3b1e",
   "metadata": {},
   "outputs": [],
   "source": []
  },
  {
   "cell_type": "code",
   "execution_count": null,
   "id": "431785f5-ae80-48e7-bf57-0427cb4846b0",
   "metadata": {},
   "outputs": [],
   "source": []
  }
 ],
 "metadata": {
  "kernelspec": {
   "display_name": "Python 3 (ipykernel)",
   "language": "python",
   "name": "python3"
  },
  "language_info": {
   "codemirror_mode": {
    "name": "ipython",
    "version": 3
   },
   "file_extension": ".py",
   "mimetype": "text/x-python",
   "name": "python",
   "nbconvert_exporter": "python",
   "pygments_lexer": "ipython3",
   "version": "3.9.12"
  }
 },
 "nbformat": 4,
 "nbformat_minor": 5
}
