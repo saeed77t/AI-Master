{
 "cells": [
  {
   "cell_type": "code",
   "execution_count": 320,
   "id": "71482662-eecf-44f4-aafd-e654ca3b6167",
   "metadata": {},
   "outputs": [],
   "source": [
    "import numpy as np\n",
    "import pandas as pd\n",
    "import matplotlib.pyplot as plt\n",
    "import random as rand\n",
    "import math"
   ]
  },
  {
   "cell_type": "code",
   "execution_count": 321,
   "id": "ca470223-dec3-494a-b976-57ff6aa0ec65",
   "metadata": {},
   "outputs": [],
   "source": [
    "#define parameters \n",
    "\n",
    "#define grid area \n",
    "m , n = 30,30\n",
    "\n",
    "#define count of antennas\n",
    "s = 10\n",
    "\n",
    "#define types of antenas \n",
    "t = 7\n",
    "#antensa List , and set cost and radius\n",
    "Antennas = []\n",
    "a =rand.sample(range(4,13) , t)\n",
    "\n",
    "for i in range(t):\n",
    "    radius = a[i]\n",
    "    cost = 2*(radius)+(3*rand.randint(5,10))\n",
    "    anten = {'type':i ,'cost':cost , 'radius':radius}\n",
    "    Antennas.append(anten)\n",
    "    \n"
   ]
  },
  {
   "cell_type": "code",
   "execution_count": 322,
   "id": "0d9595e4-503c-46af-b1eb-11fcc761fa44",
   "metadata": {},
   "outputs": [
    {
     "data": {
      "text/plain": [
       "[{'type': 0, 'cost': 35, 'radius': 7},\n",
       " {'type': 1, 'cost': 33, 'radius': 9},\n",
       " {'type': 2, 'cost': 34, 'radius': 8},\n",
       " {'type': 3, 'cost': 36, 'radius': 6},\n",
       " {'type': 4, 'cost': 37, 'radius': 5},\n",
       " {'type': 5, 'cost': 45, 'radius': 12},\n",
       " {'type': 6, 'cost': 46, 'radius': 11}]"
      ]
     },
     "execution_count": 322,
     "metadata": {},
     "output_type": "execute_result"
    }
   ],
   "source": [
    "Antennas"
   ]
  },
  {
   "cell_type": "code",
   "execution_count": null,
   "id": "d41f7941-5fec-4f3c-ad25-6bfca4b1b9fd",
   "metadata": {},
   "outputs": [],
   "source": []
  },
  {
   "cell_type": "code",
   "execution_count": 323,
   "id": "2c714d8a-515e-4332-9f95-6a28c5ee5f51",
   "metadata": {},
   "outputs": [],
   "source": [
    "#initial first population \n",
    "def InitialPopulation(popsize , antenalist ,m,n,s):\n",
    "    pop = []\n",
    "\n",
    "    chosentypes = []\n",
    "    for i in range (s):\n",
    "        a = rand.randint(-1,len(antenalist))\n",
    "        chosentypes.append(a)\n",
    "    for i in range(popsize):\n",
    "        ad = []\n",
    "        \n",
    "        for j in range(s):\n",
    "            a= [chosentypes[j] , rand.randint(0,m),rand.randint(0,n)]\n",
    "            \n",
    "            ad.append(a)\n",
    "        ad.append(0)    \n",
    "        pop.append(ad)\n",
    "        \n",
    "        \n",
    "    return pop\n",
    "            \n",
    "        "
   ]
  },
  {
   "cell_type": "code",
   "execution_count": null,
   "id": "2ef3da7e-e5aa-4943-9dd9-e7c41296f70f",
   "metadata": {},
   "outputs": [],
   "source": []
  },
  {
   "cell_type": "code",
   "execution_count": 324,
   "id": "822f9045-e703-4d06-8d31-b015589798e4",
   "metadata": {},
   "outputs": [],
   "source": [
    "#sorting population based on the fittness , fitness is the the last member of choromosoms\n",
    "def FitSort(population , s):\n",
    "    sorted_list = sorted(\n",
    "    population,\n",
    "    key=lambda t: t[s],\n",
    "    reverse=True)\n",
    "    return sorted_list\n",
    "                \n",
    "    "
   ]
  },
  {
   "cell_type": "code",
   "execution_count": 325,
   "id": "95a85916-982a-4160-ae36-cd5c36267848",
   "metadata": {},
   "outputs": [],
   "source": [
    "#calculate fitness \n",
    "def ClacFitness(population ,s,antentypes,m,n):\n",
    "    #cal costs\n",
    "    \n",
    "    for i in range(len(population)):\n",
    "        sigma = 0\n",
    "        coverd =[]\n",
    "        coverdAll=[]\n",
    "        for j in range(s):\n",
    "            typ = pop[i][j][0]\n",
    "            \n",
    "            if(typ==-1):\n",
    "                sigma = sigma+0\n",
    "            else:\n",
    "                sigma = sigma + int( antentypes[typ-1]['cost'])\n",
    "                #calc U(x)\n",
    "                radius =  antentypes[typ-1]['radius']\n",
    "                xA = pop[i][j][1]\n",
    "                yA = pop[i][j][2]\n",
    "                for l in range(m):\n",
    "                    for k in range(n):\n",
    "                        distance = math.sqrt((xA-l)**2 + (yA-k)**2 )\n",
    "                        if(distance<= radius):\n",
    "                            a = [l,k]\n",
    "                            coverd.append(a)\n",
    "        #print(coverdAll)\n",
    "        for w in range(len(coverd)):\n",
    "            if(coverd[w] in coverdAll):\n",
    "                continue\n",
    "            else:\n",
    "                coverdAll.append(coverd[w])\n",
    "        #print(coverdAll)\n",
    "        #print('**************')\n",
    "        #print(len(coverdAll))\n",
    "        population[i][s] = len(coverdAll) - sigma\n",
    "    return population\n",
    "        \n",
    "            \n",
    "            \n",
    "                \n",
    "            \n",
    "            \n",
    "        \n",
    "    \n",
    "    "
   ]
  },
  {
   "cell_type": "code",
   "execution_count": 326,
   "id": "608a8955-6e44-4577-952d-0fade5f2e144",
   "metadata": {},
   "outputs": [],
   "source": [
    "# parent selection method \n",
    "def ParentSelection(population , s):\n",
    "    SelectedParents = []\n",
    "    #making tournoment or roulet wheel \n",
    "    for i in range(2):\n",
    "        n = len(population)\n",
    "        parent = rand.sample(range(0 , n),6)\n",
    "        tornument=[]\n",
    "        for i in range(len(parent)):\n",
    "            tornument.append(population[parent[i]])\n",
    "\n",
    "        #calculate Summation of selected for tournument\n",
    "        sumFitness = sum([tornument[i][s] for tornument[i] in tornument])\n",
    "        #print(sumFitness)\n",
    "        #calculate shared of roulet \n",
    "        rouletShare = [tornument[i][s]/sumFitness for tornument[i] in tornument]\n",
    "        #print(rouletShare)\n",
    "        index = np.random.choice(len(tornument) ,p=rouletShare)\n",
    "        SelectedParents.append(tornument[index])\n",
    "    return SelectedParents"
   ]
  },
  {
   "cell_type": "code",
   "execution_count": 327,
   "id": "f01e1e02-4f1f-405e-b149-5c11c984e13b",
   "metadata": {},
   "outputs": [],
   "source": [
    "#implementing cross over \n",
    "def XoverBox(parents , s ,antennas ,m,n):\n",
    "    child1 = []\n",
    "    child2 = []\n",
    "    childs = []\n",
    "    parent1 = parents[0]\n",
    "    parent2 = parents[1]\n",
    "    breakpoint = rand.randint(0,s)\n",
    "    #parent1\n",
    "    gene1=[]\n",
    "    gene2=[]\n",
    "    #parent2\n",
    "    gene3=[]\n",
    "    gene4=[]\n",
    "    for i in range(0,breakpoint):\n",
    "        gene1.append(parent1[i])\n",
    "        gene3.append(parent2[i])\n",
    "\n",
    "    for i in range(breakpoint,s+1):\n",
    "        gene2.append(parent1[i])\n",
    "        gene4.append(parent2[i])\n",
    "    #print(breakpoint)    \n",
    "    #print('parent 1 ',parent1)\n",
    "    #print('parent 2 ',parent2)\n",
    "    #print('gene 1 ',gene1)\n",
    "    #print('gene 2 ',gene2)\n",
    "    #print('gene 3 ',gene3)\n",
    "    #print('gene 4 ',gene4)\n",
    "    #adding gene1 and gene4 if they are valid\n",
    "    t1 =[]\n",
    "    t3 = []\n",
    "    for i in range(len(gene1)):\n",
    "        t1.append((gene1[i][1],gene1[i][2]))\n",
    "        t3.append((gene3[i][1],gene3[i][2]))\n",
    "    t2=[]\n",
    "    t4=[]\n",
    "    for i in range(len(gene2)-1):\n",
    "        t2.append((gene2[i][1],gene2[i][2]))\n",
    "        t4.append((gene4[i][1],gene4[i][2]))\n",
    "    \n",
    "    child1 = gene1 + gene4\n",
    "    child2 = gene3 + gene2\n",
    "\n",
    "    return child1, child2\n",
    "\n"
   ]
  },
  {
   "cell_type": "code",
   "execution_count": 328,
   "id": "08a4ed52-42f5-403b-8e9f-8876bb2a515d",
   "metadata": {},
   "outputs": [],
   "source": [
    "#definig mutation function\n",
    "def MutationBox(childs,s , antenna , m , n):\n",
    "    \n",
    "    for i in range(len(childs)):\n",
    "        for j in range(s):\n",
    "            l = len(childs[i][j])\n",
    "            rate = rand.randint(1,100)\n",
    "            \n",
    "            if rate < 5 :\n",
    "                num = rand.randint(0,l-1)\n",
    "                if(num == 0):\n",
    "                    changed = rand.randint(0,len(antenna)-1)\n",
    "                    childs[i][j][0]=changed\n",
    "                    \n",
    "                if(num == 1):\n",
    "                    changed = rand.randint(0,m)\n",
    "                    childs[i][j][1]=changed\n",
    "                \n",
    "                if(num == 2):\n",
    "                    changed = rand.randint(0,n)\n",
    "                    childs[i][j][2]=changed\n",
    "                \n",
    "    return childs"
   ]
  },
  {
   "cell_type": "code",
   "execution_count": 329,
   "id": "c71d7eef-ba28-44d9-bf20-ba7042565254",
   "metadata": {},
   "outputs": [],
   "source": [
    "#implementing 1% elitism\n",
    "def elitism(childs,population,s):\n",
    "    a = population[0]\n",
    "    l = len(childs)\n",
    "    childs[l-1] = a\n",
    "    return childs\n",
    "    "
   ]
  },
  {
   "cell_type": "code",
   "execution_count": 330,
   "id": "d04dc1b7-e0e3-4c20-b802-cf8467392b52",
   "metadata": {},
   "outputs": [],
   "source": [
    "#plot result\n",
    "def PlotResult(answer , antentypes,s,m,n):\n",
    "    coverd =[]\n",
    "    coverdAll=[]\n",
    "    antensplace = []\n",
    "    Xantenas=[]\n",
    "    Yantennas = []\n",
    "    xcover = []\n",
    "    ycover= []\n",
    "    xem = []\n",
    "    yem=[]\n",
    "    for j in range(s):\n",
    "        typ = answer[j][0]\n",
    "\n",
    "        if(typ==-1):\n",
    "            xA = answer[j][1]\n",
    "            yA = answer[j][2]\n",
    "            antensplace.append([xA,yA])\n",
    "            xem.append(xA)\n",
    "            yem.append(yA)\n",
    "        else:\n",
    "            \n",
    "            #calc \n",
    "            radius =  antentypes[typ-1]['radius']\n",
    "            xA = answer[j][1]\n",
    "            yA = answer[j][2]\n",
    "            antensplace.append([xA,yA])\n",
    "            Xantenas.append(xA)\n",
    "            Yantennas.append(yA)\n",
    "            \n",
    "            for l in range(m):\n",
    "                for k in range(n):\n",
    "                    distance = math.sqrt((xA-l)**2 + (yA-k)**2 )\n",
    "                    if(distance<= radius):\n",
    "                        a = [l,k]\n",
    "                        coverd.append(a)\n",
    "    #print(coverdAll)\n",
    "    for w in range(len(coverd)):\n",
    "        if(coverd[w] in coverdAll):\n",
    "            continue\n",
    "        else:\n",
    "            coverdAll.append(coverd[w])\n",
    "    #print(coverdAll)\n",
    "    #print('**************')\n",
    "    #print(len(coverdAll))\n",
    "    for i in range(len(coverdAll)):\n",
    "        xcover.append(coverdAll[i][0])\n",
    "        ycover.append(coverdAll[i][1])\n",
    "    print(antensplace)\n",
    "    data = []\n",
    "    x = []\n",
    "    y =[]\n",
    "    for i in range(m+1):\n",
    "\n",
    "        for j in range(n+1):\n",
    "            data.append([i,j])\n",
    "            x.append(i)\n",
    "            y.append(j)\n",
    "    data = np.array(data)\n",
    "    plt.figure(figsize=(6,6))\n",
    "    ax = plt.axes()\n",
    "    ax.set_facecolor(\"black\")\n",
    "    plt.plot(x,y,'o',color='white',)\n",
    "    plt.plot(xcover,ycover,'yo')\n",
    "    plt.plot(Xantenas,Yantennas,'ro')\n",
    "    plt.plot(xem,yem,'bo')\n",
    "    plt.show()\n",
    "    \n",
    "    "
   ]
  },
  {
   "cell_type": "code",
   "execution_count": null,
   "id": "22dc4c57-ec9d-4fa4-99b2-79df5e2b01a4",
   "metadata": {},
   "outputs": [],
   "source": []
  },
  {
   "cell_type": "code",
   "execution_count": null,
   "id": "b9ae8eb9-7f51-4cff-b96b-1716363f0962",
   "metadata": {},
   "outputs": [],
   "source": []
  },
  {
   "cell_type": "code",
   "execution_count": 331,
   "id": "de678014-696c-415d-bc15-c63be055b082",
   "metadata": {},
   "outputs": [
    {
     "name": "stdout",
     "output_type": "stream",
     "text": [
      "itration :  10\n",
      "itration :  20\n",
      "itration :  30\n",
      "itration :  40\n",
      "itration :  50\n",
      "itration :  60\n",
      "itration :  70\n",
      "itration :  80\n",
      "itration :  90\n",
      "itration :  100\n",
      "Done , final result is ; [[3, 27, 3], [4, 2, 23], [3, 15, 4], [5, 16, 16], [1, 29, 16], [4, 4, 30], [0, 5, 22], [1, 19, 3], [0, 29, 29], [1, 6, 24], 581]\n"
     ]
    }
   ],
   "source": [
    "pop = InitialPopulation(100 , Antennas ,m,n,s)\n",
    "\n",
    "\n",
    "population = ClacFitness(pop ,s,Antennas,m,n)\n",
    "population = FitSort(population,s)\n",
    "count = 0\n",
    "fitness = []\n",
    "while count<100:\n",
    "    \n",
    "    childs=[]\n",
    "\n",
    "    while(len(childs)<100):\n",
    "        parents = ParentSelection(population,s)\n",
    "        c1 , c2 =XoverBox(parents,s,Antennas,m,n)\n",
    "        childs.append(c1)\n",
    "        childs.append(c2)\n",
    "\n",
    "    childs = ClacFitness(childs ,s,Antennas,m,n)\n",
    "    childs = FitSort(childs,s)\n",
    "    childs = MutationBox(childs,s,Antennas , m , n)\n",
    "    appendchilds = ClacFitness(childs ,s,Antennas,m,n)\n",
    "    childs = FitSort(childs,s)\n",
    "    new_generation = elitism(childs,population,s)\n",
    "    new_generation = FitSort(new_generation,s)\n",
    "    population = new_generation\n",
    "    fitness.append(population[0][s])\n",
    "    count += 1\n",
    "    if(count%10 == 0):\n",
    "        print('itration : ',count)\n",
    "    if count == 100:\n",
    "        print('Done , final result is ;',population[0])"
   ]
  },
  {
   "cell_type": "code",
   "execution_count": 332,
   "id": "3bae3d4c-8165-444d-a5ac-77d3e58fe9fe",
   "metadata": {},
   "outputs": [
    {
     "name": "stdout",
     "output_type": "stream",
     "text": [
      "[[27, 3], [2, 23], [15, 4], [16, 16], [29, 16], [4, 30], [5, 22], [19, 3], [29, 29], [6, 24]]\n"
     ]
    },
    {
     "data": {
      "image/png": "[encoded data removed]",
      "text/plain": [
       "<Figure size 432x432 with 1 Axes>"
      ]
     },
     "metadata": {
      "needs_background": "light"
     },
     "output_type": "display_data"
    }
   ],
   "source": [
    "answer = population[0]\n",
    "ns = population[0]\n",
    "PlotResult(population[0] , Antennas ,s,m,n)"
   ]
  },
  {
   "cell_type": "code",
   "execution_count": 333,
   "id": "24f6f8cb-ea78-4b1e-a136-c3cae3034431",
   "metadata": {},
   "outputs": [
    {
     "data": {
      "text/plain": [
       "[<matplotlib.lines.Line2D at 0x7fd7fa6ccd60>]"
      ]
     },
     "execution_count": 333,
     "metadata": {},
     "output_type": "execute_result"
    },
    {
     "data": {
      "image/png": "[encoded data removed]",
      "text/plain": [
       "<Figure size 432x288 with 1 Axes>"
      ]
     },
     "metadata": {
      "needs_background": "light"
     },
     "output_type": "display_data"
    }
   ],
   "source": [
    "data=[]\n",
    "for i in range(100):\n",
    "    data.append(i)\n",
    "    \n",
    "plt.plot(data,fitness)    "
   ]
  },
  {
   "cell_type": "code",
   "execution_count": 334,
   "id": "cd6d45f4-7f19-4743-8b2c-0d1305dd81e7",
   "metadata": {},
   "outputs": [],
   "source": [
    "# parent selection method 2\n",
    "def ParentSelection2(population ,antentypes, s,m,n):\n",
    "    SelectedParents = []\n",
    "    #making tournoment or roulet wheel \n",
    "    for i in range(2):\n",
    "        n = len(population)\n",
    "        parent = rand.sample(range(0 , n),6)\n",
    "        tornument=[]\n",
    "        # calculate coverd area of each parent\n",
    "        \n",
    "        for i in range(len(parent)):\n",
    "            tornument.append(population[parent[i]])\n",
    "            \n",
    "        #print(tornument) \n",
    "\n",
    "        #calculate the percantege of coverd areas\n",
    "\n",
    "        #defining grids\n",
    "        grids =[]\n",
    "        been =int( m/6)\n",
    "        a=0\n",
    "        flag=True\n",
    "        for i in range(m):\n",
    "            c=[]\n",
    "            if(flag==False):\n",
    "                break\n",
    "            for j in range(been):\n",
    "\n",
    "                c.append(been*i+j)\n",
    "                if(been*i+j>=50):\n",
    "                    flag=False\n",
    "                    break\n",
    "\n",
    "            grids.append(c)\n",
    "\n",
    "        for i in range(len(grids)):\n",
    "            grids[i].insert(0,-2)\n",
    "        # print(grids) \n",
    "        r1 = []\n",
    "        #claulate number of trigerrd grids by each chromosom :) \n",
    "        cnt=0\n",
    "        for i in range(len(tornument)):\n",
    "\n",
    "            for j in range(s):\n",
    "                #print(tornument[i])\n",
    "                X = tornument[i][j][1]\n",
    "                #print(x)\n",
    "\n",
    "                for k in range(len(grids)):\n",
    "\n",
    "                    if(grids[k][0]==-2):\n",
    "                        if(X in grids[k]):\n",
    "                            grids[k][0]=-1\n",
    "            for l in range(len(grids)):\n",
    "                if(grids[l][0]==-1):\n",
    "                    cnt=cnt+1\n",
    "            for l in range(len(grids)):\n",
    "                if(grids[l][0]==-1):\n",
    "                    grids[l][0]=-2\n",
    "\n",
    "            r1.append(cnt) \n",
    "            cnt=0\n",
    "        # print(len(grids))    \n",
    "        # print(r1)\n",
    "\n",
    "        sumRnakes = sum(r1)\n",
    "        # print(sumRnakes)\n",
    "        # rouletShare = [r1[i]/sumRnakes for r1[i] in r1]\n",
    "        rouletShare=[]\n",
    "        for i in range(len(r1)):\n",
    "            a = r1[i]/sumRnakes\n",
    "            rouletShare.append(a)\n",
    "        # print(rouletShare)\n",
    "        # print(sum(rouletShare))\n",
    "        index = np.random.choice(len(r1) ,p=rouletShare)\n",
    "        # print(index)\n",
    "        SelectedParents.append(tornument[index])\n",
    "    return(SelectedParents)            \n",
    "            \n",
    "            \n",
    "            \n",
    "            \n"
   ]
  },
  {
   "cell_type": "code",
   "execution_count": 335,
   "id": "d2f7a702-78d3-461f-ad78-33740b90f7a3",
   "metadata": {},
   "outputs": [
    {
     "name": "stdout",
     "output_type": "stream",
     "text": [
      "itration :  10\n",
      "itration :  20\n",
      "itration :  30\n",
      "itration :  40\n",
      "itration :  50\n",
      "itration :  60\n",
      "itration :  70\n",
      "itration :  80\n",
      "itration :  90\n",
      "itration :  100\n",
      "Done , final result is ; [[4, 23, 16], [0, 23, 7], [5, 17, 7], [3, 25, 7], [5, 8, 8], [3, 21, 15], [3, 21, 21], [4, 26, 19], [2, 23, 17], [0, 13, 28], 541]\n"
     ]
    }
   ],
   "source": [
    "pop = InitialPopulation(100 , Antennas ,m,n,s)\n",
    "\n",
    "\n",
    "population = ClacFitness(pop ,s,Antennas,m,n)\n",
    "population = FitSort(population,s)\n",
    "count = 0\n",
    "fitness = []\n",
    "while count<100:\n",
    "    \n",
    "    childs=[]\n",
    "\n",
    "    while(len(childs)<100):\n",
    "        parents = ParentSelection2(population,Antennas,s,m,n)\n",
    "        c1 , c2 =XoverBox(parents,s,Antennas,m,n)\n",
    "        childs.append(c1)\n",
    "        childs.append(c2)\n",
    "\n",
    "    childs = ClacFitness(childs ,s,Antennas,m,n)\n",
    "    childs = FitSort(childs,s)\n",
    "    childs = MutationBox(childs,s,Antennas , m , n)\n",
    "    appendchilds = ClacFitness(childs ,s,Antennas,m,n)\n",
    "    childs = FitSort(childs,s)\n",
    "    new_generation = elitism(childs,population,s)\n",
    "    new_generation = FitSort(new_generation,s)\n",
    "    population = new_generation\n",
    "    fitness.append(population[0][s])\n",
    "    count += 1\n",
    "    if(count%10 == 0):\n",
    "        print('itration : ',count)\n",
    "    if count == 100:\n",
    "        print('Done , final result is ;',population[0])\n"
   ]
  },
  {
   "cell_type": "code",
   "execution_count": 336,
   "id": "3ec9f8c8-1d97-4136-86dc-c90d1259c178",
   "metadata": {},
   "outputs": [
    {
     "name": "stdout",
     "output_type": "stream",
     "text": [
      "[[23, 16], [23, 7], [17, 7], [25, 7], [8, 8], [21, 15], [21, 21], [26, 19], [23, 17], [13, 28]]\n"
     ]
    },
    {
     "data": {
      "image/png": "[encoded data removed]",
      "text/plain": [
       "<Figure size 432x432 with 1 Axes>"
      ]
     },
     "metadata": {
      "needs_background": "light"
     },
     "output_type": "display_data"
    }
   ],
   "source": [
    "answer = population[0]\n",
    "ns = population[10]\n",
    "PlotResult(population[0] , Antennas ,s,m,n)"
   ]
  },
  {
   "cell_type": "code",
   "execution_count": 337,
   "id": "d930e378-1786-42c1-8044-03b0c048ff86",
   "metadata": {},
   "outputs": [
    {
     "data": {
      "text/plain": [
       "[<matplotlib.lines.Line2D at 0x7fd80d5d86d0>]"
      ]
     },
     "execution_count": 337,
     "metadata": {},
     "output_type": "execute_result"
    },
    {
     "data": {
      "image/png": "[encoded data removed]",
      "text/plain": [
       "<Figure size 432x288 with 1 Axes>"
      ]
     },
     "metadata": {
      "needs_background": "light"
     },
     "output_type": "display_data"
    }
   ],
   "source": [
    "data=[]\n",
    "for i in range(100):\n",
    "    data.append(i)\n",
    "    \n",
    "plt.plot(data,fitness) "
   ]
  },
  {
   "cell_type": "code",
   "execution_count": null,
   "id": "e44732b7-c34c-4b86-a086-079a9443fd15",
   "metadata": {},
   "outputs": [],
   "source": []
  },
  {
   "cell_type": "code",
   "execution_count": null,
   "id": "d6039b56-e93d-4bea-a1b7-ff2d9db1ae2a",
   "metadata": {},
   "outputs": [],
   "source": []
  },
  {
   "cell_type": "code",
   "execution_count": null,
   "id": "a43d7e56-978f-47e4-aeda-293ce7660572",
   "metadata": {},
   "outputs": [],
   "source": [
    "#implementing cross over with controll of position \n",
    "def XoverBox(parents , s ,antennas ,m,n):\n",
    "    flag1 = True\n",
    "    f2 = True\n",
    "    while(f2):\n",
    "        child1 = []\n",
    "        child2 = []\n",
    "        childs = []\n",
    "        parent1 = parents[0]\n",
    "        parent2 = parents[1]\n",
    "        breakpoint = rand.randint(0,s)\n",
    "        #parent1\n",
    "        gene1=[]\n",
    "        gene2=[]\n",
    "        #parent2\n",
    "        gene3=[]\n",
    "        gene4=[]\n",
    "        for i in range(0,breakpoint):\n",
    "            gene1.append(parent1[i])\n",
    "            gene3.append(parent2[i])\n",
    "\n",
    "        for i in range(breakpoint,s+1):\n",
    "            gene2.append(parent1[i])\n",
    "            gene4.append(parent2[i])\n",
    "        #print(breakpoint)    \n",
    "        #print('parent 1 ',parent1)\n",
    "        #print('parent 2 ',parent2)\n",
    "        #print('gene 1 ',gene1)\n",
    "        #print('gene 2 ',gene2)\n",
    "        #print('gene 3 ',gene3)\n",
    "        #print('gene 4 ',gene4)\n",
    "        #adding gene1 and gene4 if they are valid\n",
    "        t1 =[]\n",
    "        t3 = []\n",
    "        for i in range(len(gene1)):\n",
    "            t1.append((gene1[i][1],gene1[i][2]))\n",
    "            t3.append((gene3[i][1],gene3[i][2]))\n",
    "        t2=[]\n",
    "        t4=[]\n",
    "        for i in range(len(gene2)-1):\n",
    "            t2.append((gene2[i][1],gene2[i][2]))\n",
    "            t4.append((gene4[i][1],gene4[i][2]))\n",
    "        flag1 = True\n",
    "        for i in range(len(t1)):\n",
    "            if t1[i] in t4:\n",
    "                flag1=False\n",
    "        for i in range(len(t2)):\n",
    "            if t2[i] in t3:\n",
    "                flag1=False\n",
    "        if flag1 ==True:\n",
    "            child1 = gene1 + gene4\n",
    "            child2 = gene3 + gene2\n",
    "            f2 = False\n",
    "            return child1, child2\n",
    "\n",
    "\n"
   ]
  }
 ],
 "metadata": {
  "kernelspec": {
   "display_name": "Python 3 (ipykernel)",
   "language": "python",
   "name": "python3"
  },
  "language_info": {
   "codemirror_mode": {
    "name": "ipython",
    "version": 3
   },
   "file_extension": ".py",
   "mimetype": "text/x-python",
   "name": "python",
   "nbconvert_exporter": "python",
   "pygments_lexer": "ipython3",
   "version": "3.9.12"
  }
 },
 "nbformat": 4,
 "nbformat_minor": 5
}
