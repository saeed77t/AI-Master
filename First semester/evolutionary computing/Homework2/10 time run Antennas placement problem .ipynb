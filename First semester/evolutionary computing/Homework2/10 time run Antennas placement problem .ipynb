{
 "cells": [
  {
   "cell_type": "code",
   "execution_count": 18,
   "id": "71482662-eecf-44f4-aafd-e654ca3b6167",
   "metadata": {},
   "outputs": [],
   "source": [
    "import numpy as np\n",
    "import pandas as pd\n",
    "import matplotlib.pyplot as plt\n",
    "import random as rand\n",
    "import math"
   ]
  },
  {
   "cell_type": "code",
   "execution_count": 19,
   "id": "ca470223-dec3-494a-b976-57ff6aa0ec65",
   "metadata": {},
   "outputs": [],
   "source": [
    "#define parameters \n",
    "\n",
    "#define grid area \n",
    "m , n = 30,25\n",
    "\n",
    "#define count of antennas\n",
    "s = 8\n",
    "\n",
    "#define types of antenas \n",
    "t = 5\n",
    "#antensa List , and set cost and radius\n",
    "Antennas = []\n",
    "a =rand.sample(range(2,10) , t)\n",
    "\n",
    "for i in range(t):\n",
    "    radius = a[i]\n",
    "    cost = 2*(radius)+(rand.randint(5,10))\n",
    "    anten = {'type':i ,'cost':cost , 'radius':radius}\n",
    "    Antennas.append(anten)\n",
    "    \n"
   ]
  },
  {
   "cell_type": "code",
   "execution_count": 20,
   "id": "0d9595e4-503c-46af-b1eb-11fcc761fa44",
   "metadata": {},
   "outputs": [
    {
     "data": {
      "text/plain": [
       "[{'type': 0, 'cost': 17, 'radius': 5},\n",
       " {'type': 1, 'cost': 16, 'radius': 4},\n",
       " {'type': 2, 'cost': 23, 'radius': 7},\n",
       " {'type': 3, 'cost': 15, 'radius': 3},\n",
       " {'type': 4, 'cost': 10, 'radius': 2}]"
      ]
     },
     "execution_count": 20,
     "metadata": {},
     "output_type": "execute_result"
    }
   ],
   "source": [
    "Antennas"
   ]
  },
  {
   "cell_type": "code",
   "execution_count": null,
   "id": "d41f7941-5fec-4f3c-ad25-6bfca4b1b9fd",
   "metadata": {},
   "outputs": [],
   "source": []
  },
  {
   "cell_type": "code",
   "execution_count": 21,
   "id": "2c714d8a-515e-4332-9f95-6a28c5ee5f51",
   "metadata": {},
   "outputs": [],
   "source": [
    "#initial first population \n",
    "def InitialPopulation(popsize , antenalist ,m,n,s):\n",
    "    pop = []\n",
    "\n",
    "    chosentypes = []\n",
    "    for i in range (s):\n",
    "        a = rand.randint(-1,len(antenalist))\n",
    "        chosentypes.append(a)\n",
    "    for i in range(popsize):\n",
    "        ad = []\n",
    "        \n",
    "        for j in range(s):\n",
    "            a= [chosentypes[j] , rand.randint(0,m),rand.randint(0,n)]\n",
    "            \n",
    "            ad.append(a)\n",
    "        ad.append(0)    \n",
    "        pop.append(ad)\n",
    "        \n",
    "        \n",
    "    return pop\n",
    "            \n",
    "        "
   ]
  },
  {
   "cell_type": "code",
   "execution_count": null,
   "id": "2ef3da7e-e5aa-4943-9dd9-e7c41296f70f",
   "metadata": {},
   "outputs": [],
   "source": []
  },
  {
   "cell_type": "code",
   "execution_count": 22,
   "id": "822f9045-e703-4d06-8d31-b015589798e4",
   "metadata": {},
   "outputs": [],
   "source": [
    "#sorting population based on the fittness , fitness is the the last member of choromosoms\n",
    "def FitSort(population , s):\n",
    "    sorted_list = sorted(\n",
    "    population,\n",
    "    key=lambda t: t[s],\n",
    "    reverse=True)\n",
    "    return sorted_list\n",
    "                \n",
    "    "
   ]
  },
  {
   "cell_type": "code",
   "execution_count": 23,
   "id": "95a85916-982a-4160-ae36-cd5c36267848",
   "metadata": {},
   "outputs": [],
   "source": [
    "#calculate fitness \n",
    "def ClacFitness(population ,s,antentypes,m,n):\n",
    "    #cal costs\n",
    "    \n",
    "    for i in range(len(population)):\n",
    "        sigma = 0\n",
    "        coverd =[]\n",
    "        coverdAll=[]\n",
    "        for j in range(s):\n",
    "            typ = pop[i][j][0]\n",
    "            \n",
    "            if(typ==-1):\n",
    "                sigma = sigma+0\n",
    "            else:\n",
    "                sigma = sigma + int( antentypes[typ-1]['cost'])\n",
    "                #calc U(x)\n",
    "                radius =  antentypes[typ-1]['radius']\n",
    "                xA = pop[i][j][1]\n",
    "                yA = pop[i][j][2]\n",
    "                for l in range(m+1):\n",
    "                    for k in range(n+1):\n",
    "                        distance = math.sqrt((xA-l)**2 + (yA-k)**2 )\n",
    "                        if(distance<= radius):\n",
    "                            a = [l,k]\n",
    "                            coverd.append(a)\n",
    "        #print(coverdAll)\n",
    "        for w in range(len(coverd)):\n",
    "            if(coverd[w] in coverdAll):\n",
    "                continue\n",
    "            else:\n",
    "                coverdAll.append(coverd[w])\n",
    "        #print(coverdAll)\n",
    "        #print('**************')\n",
    "        #print(len(coverdAll))\n",
    "        population[i][s] = len(coverdAll) - sigma\n",
    "    return population\n",
    "        \n",
    "            \n",
    "            \n",
    "                \n",
    "            \n",
    "            \n",
    "        \n",
    "    \n",
    "    "
   ]
  },
  {
   "cell_type": "code",
   "execution_count": 24,
   "id": "608a8955-6e44-4577-952d-0fade5f2e144",
   "metadata": {},
   "outputs": [],
   "source": [
    "# parent selection method \n",
    "def ParentSelection(population , s):\n",
    "    SelectedParents = []\n",
    "    #making tournoment or roulet wheel \n",
    "    for i in range(2):\n",
    "        n = len(population)\n",
    "        parent = rand.sample(range(0 , n),6)\n",
    "        tornument=[]\n",
    "        for i in range(len(parent)):\n",
    "            tornument.append(population[parent[i]])\n",
    "\n",
    "        #calculate Summation of selected for tournument\n",
    "        sumFitness = 0\n",
    "        for i in range(len(tornument)):\n",
    "            sumFitness = sumFitness + tornument[i][s]\n",
    "        #sumFitness = sum([tornument[i][s] for tornument[i] in tornument])\n",
    "        #print(sumFitness)\n",
    "        #calculate shared of roulet \n",
    "        rouletShare=[]\n",
    "        for i in range(len(tornument)):\n",
    "            a = tornument[i][s]/sumFitness\n",
    "            rouletShare.append(a)\n",
    "        #rouletShare = [tornument[i][s]/sumFitness for tornument[i] in tornument]\n",
    "        #print(tornument)\n",
    "        #print(rouletShare)\n",
    "        #print(sum(rouletShare))\n",
    "        index = np.random.choice(len(tornument) ,p=rouletShare)\n",
    "        SelectedParents.append(tornument[index])\n",
    "    return SelectedParents"
   ]
  },
  {
   "cell_type": "code",
   "execution_count": 25,
   "id": "f01e1e02-4f1f-405e-b149-5c11c984e13b",
   "metadata": {},
   "outputs": [],
   "source": [
    "#implementing cross over \n",
    "def XoverBox(parents , s ,antennas ,m,n):\n",
    "    child1 = []\n",
    "    child2 = []\n",
    "    childs = []\n",
    "    parent1 = parents[0]\n",
    "    parent2 = parents[1]\n",
    "    breakpoint = rand.randint(0,s)\n",
    "    #parent1\n",
    "    gene1=[]\n",
    "    gene2=[]\n",
    "    #parent2\n",
    "    gene3=[]\n",
    "    gene4=[]\n",
    "    for i in range(0,breakpoint):\n",
    "        gene1.append(parent1[i])\n",
    "        gene3.append(parent2[i])\n",
    "\n",
    "    for i in range(breakpoint,s+1):\n",
    "        gene2.append(parent1[i])\n",
    "        gene4.append(parent2[i])\n",
    "    #print(breakpoint)    \n",
    "    #print('parent 1 ',parent1)\n",
    "    #print('parent 2 ',parent2)\n",
    "    #print('gene 1 ',gene1)\n",
    "    #print('gene 2 ',gene2)\n",
    "    #print('gene 3 ',gene3)\n",
    "    #print('gene 4 ',gene4)\n",
    "    #adding gene1 and gene4 if they are valid\n",
    "    t1 =[]\n",
    "    t3 = []\n",
    "    for i in range(len(gene1)):\n",
    "        t1.append((gene1[i][1],gene1[i][2]))\n",
    "        t3.append((gene3[i][1],gene3[i][2]))\n",
    "    t2=[]\n",
    "    t4=[]\n",
    "    for i in range(len(gene2)-1):\n",
    "        t2.append((gene2[i][1],gene2[i][2]))\n",
    "        t4.append((gene4[i][1],gene4[i][2]))\n",
    "    \n",
    "    child1 = gene1 + gene4\n",
    "    child2 = gene3 + gene2\n",
    "\n",
    "    return child1, child2\n",
    "\n"
   ]
  },
  {
   "cell_type": "code",
   "execution_count": 26,
   "id": "08a4ed52-42f5-403b-8e9f-8876bb2a515d",
   "metadata": {},
   "outputs": [],
   "source": [
    "#definig mutation function\n",
    "def MutationBox(childs,s , antenna , m , n):\n",
    "    \n",
    "    for i in range(len(childs)):\n",
    "        for j in range(s):\n",
    "            l = len(childs[i][j])\n",
    "            rate = rand.randint(1,100)\n",
    "            \n",
    "            if rate < 5 :\n",
    "                num = rand.randint(0,l-1)\n",
    "                if(num == 0):\n",
    "                    changed = rand.randint(0,len(antenna)-1)\n",
    "                    childs[i][j][0]=changed\n",
    "                    \n",
    "                if(num == 1):\n",
    "                    changed = rand.randint(0,m)\n",
    "                    childs[i][j][1]=changed\n",
    "                \n",
    "                if(num == 2):\n",
    "                    changed = rand.randint(0,n)\n",
    "                    childs[i][j][2]=changed\n",
    "                \n",
    "    return childs"
   ]
  },
  {
   "cell_type": "code",
   "execution_count": 27,
   "id": "cd6d45f4-7f19-4743-8b2c-0d1305dd81e7",
   "metadata": {},
   "outputs": [],
   "source": [
    "# parent selection method 2\n",
    "def ParentSelection2(population ,antentypes, s,m,n):\n",
    "    SelectedParents = []\n",
    "    #making tournoment or roulet wheel \n",
    "    for i in range(2):\n",
    "        n = len(population)\n",
    "        parent = rand.sample(range(0 , n),6)\n",
    "        tornument=[]\n",
    "        # calculate coverd area of each parent\n",
    "        \n",
    "        for i in range(len(parent)):\n",
    "            tornument.append(population[parent[i]])\n",
    "            \n",
    "        #print(tornument) \n",
    "\n",
    "        #calculate the percantege of coverd areas\n",
    "\n",
    "        #defining grids\n",
    "        grids =[]\n",
    "        been =int( m/6)\n",
    "        a=0\n",
    "        flag=True\n",
    "        for i in range(m):\n",
    "            c=[]\n",
    "            if(flag==False):\n",
    "                break\n",
    "            for j in range(been):\n",
    "\n",
    "                c.append(been*i+j)\n",
    "                if(been*i+j>=m):\n",
    "                    flag=False\n",
    "                    break\n",
    "\n",
    "            grids.append(c)\n",
    "\n",
    "        for i in range(len(grids)):\n",
    "            grids[i].insert(0,-2)\n",
    "        # print(grids) \n",
    "        r1 = []\n",
    "        #claulate number of trigerrd grids by each chromosom :) \n",
    "        cnt=0\n",
    "        for i in range(len(tornument)):\n",
    "\n",
    "            for j in range(s):\n",
    "                #print(tornument[i])\n",
    "                X = tornument[i][j][1]\n",
    "                #print(x)\n",
    "\n",
    "                for k in range(len(grids)):\n",
    "\n",
    "                    if(grids[k][0]==-2):\n",
    "                        if(X in grids[k]):\n",
    "                            grids[k][0]=-1\n",
    "            for l in range(len(grids)):\n",
    "                if(grids[l][0]==-1):\n",
    "                    cnt=cnt+1\n",
    "            for l in range(len(grids)):\n",
    "                if(grids[l][0]==-1):\n",
    "                    grids[l][0]=-2\n",
    "\n",
    "            r1.append(cnt) \n",
    "            cnt=0\n",
    "        # print(len(grids))    \n",
    "        # print(r1)\n",
    "\n",
    "        sumRnakes = sum(r1)\n",
    "        # print(sumRnakes)\n",
    "        # rouletShare = [r1[i]/sumRnakes for r1[i] in r1]\n",
    "        rouletShare=[]\n",
    "        for i in range(len(r1)):\n",
    "            a = r1[i]/sumRnakes\n",
    "            rouletShare.append(a)\n",
    "        # print(rouletShare)\n",
    "        # print(sum(rouletShare))\n",
    "        index = np.random.choice(len(r1) ,p=rouletShare)\n",
    "        # print(index)\n",
    "        SelectedParents.append(tornument[index])\n",
    "    return(SelectedParents)            \n",
    "            \n",
    "            \n",
    "            \n",
    "            \n"
   ]
  },
  {
   "cell_type": "code",
   "execution_count": 28,
   "id": "c71d7eef-ba28-44d9-bf20-ba7042565254",
   "metadata": {},
   "outputs": [],
   "source": [
    "#implementing 1% elitism\n",
    "def elitism(childs,population,s):\n",
    "    a = population[0]\n",
    "    l = len(childs)\n",
    "    childs[l-1] = a\n",
    "    return childs\n",
    "    "
   ]
  },
  {
   "cell_type": "code",
   "execution_count": 29,
   "id": "22dc4c57-ec9d-4fa4-99b2-79df5e2b01a4",
   "metadata": {},
   "outputs": [],
   "source": [
    "# implemet survival selection\n",
    "def SurvivalSelection(childs , population,s):\n",
    "    m =len(population)\n",
    "    i = m\n",
    "    while(i-1 >=m/2):\n",
    "        del population[i-1]\n",
    "        i -= 1\n",
    "        \n",
    "        \n",
    "    #print(len(childs))\n",
    "    for j in range(len(childs)):\n",
    "        population.append(childs[j])\n",
    "    \n",
    "        \n",
    "        \n",
    "    return population\n",
    "    "
   ]
  },
  {
   "cell_type": "code",
   "execution_count": 30,
   "id": "d04dc1b7-e0e3-4c20-b802-cf8467392b52",
   "metadata": {},
   "outputs": [],
   "source": [
    "#plot result\n",
    "def PlotResult(answer , antentypes,s,m,n):\n",
    "    coverd =[]\n",
    "    coverdAll=[]\n",
    "    antensplace = []\n",
    "    Xantenas=[]\n",
    "    Yantennas = []\n",
    "    xcover = []\n",
    "    ycover= []\n",
    "    xem = []\n",
    "    yem=[]\n",
    "    for j in range(s):\n",
    "        typ = answer[j][0]\n",
    "\n",
    "        if(typ==-1):\n",
    "            xA = answer[j][1]\n",
    "            yA = answer[j][2]\n",
    "            antensplace.append([xA,yA])\n",
    "            xem.append(xA)\n",
    "            yem.append(yA)\n",
    "        else:\n",
    "            \n",
    "            #calc \n",
    "            radius =  antentypes[typ-1]['radius']\n",
    "            xA = answer[j][1]\n",
    "            yA = answer[j][2]\n",
    "            antensplace.append([xA,yA])\n",
    "            Xantenas.append(xA)\n",
    "            Yantennas.append(yA)\n",
    "            \n",
    "            for l in range(m+1):\n",
    "                for k in range(n+1):\n",
    "                    distance = math.sqrt((xA-l)**2 + (yA-k)**2 )\n",
    "                    if(distance<= radius):\n",
    "                        a = [l,k]\n",
    "                        coverd.append(a)\n",
    "    #print(coverdAll)\n",
    "    for w in range(len(coverd)):\n",
    "        if(coverd[w] in coverdAll):\n",
    "            continue\n",
    "        else:\n",
    "            coverdAll.append(coverd[w])\n",
    "    #print(coverdAll)\n",
    "    #print('**************')\n",
    "    #print(len(coverdAll))\n",
    "    for i in range(len(coverdAll)):\n",
    "        xcover.append(coverdAll[i][0])\n",
    "        ycover.append(coverdAll[i][1])\n",
    "    print(antensplace)\n",
    "    data = []\n",
    "    x = []\n",
    "    y =[]\n",
    "    for i in range(m+1):\n",
    "\n",
    "        for j in range(n+1):\n",
    "            data.append([i,j])\n",
    "            x.append(i)\n",
    "            y.append(j)\n",
    "    data = np.array(data)\n",
    "    plt.figure(figsize=(6,6))\n",
    "    ax = plt.axes()\n",
    "    ax.set_facecolor(\"black\")\n",
    "    plt.plot(x,y,'o',color='white',)\n",
    "    plt.plot(xcover,ycover,'yo')\n",
    "    plt.plot(Xantenas,Yantennas,'ro')\n",
    "    plt.plot(xem,yem,'bo')\n",
    "    plt.show()\n",
    "    \n",
    "    "
   ]
  },
  {
   "cell_type": "code",
   "execution_count": 31,
   "id": "b9ae8eb9-7f51-4cff-b96b-1716363f0962",
   "metadata": {},
   "outputs": [],
   "source": [
    "#initialize the population\n",
    "FirstSeed = InitialPopulation(100 , Antennas ,m,n,s)"
   ]
  },
  {
   "cell_type": "code",
   "execution_count": 32,
   "id": "de678014-696c-415d-bc15-c63be055b082",
   "metadata": {},
   "outputs": [
    {
     "name": "stdout",
     "output_type": "stream",
     "text": [
      "itration :  50\n",
      "itration :  100\n",
      "Done , final result is ; [[2, 8, 8], [0, 25, 2], [1, 30, 6], [0, 19, 3], [4, 2, 9], [4, 22, 1], [1, 15, 1], [3, 28, 21], 374]\n",
      "itration :  50\n",
      "itration :  100\n",
      "Done , final result is ; [[0, 21, 1], [0, 29, 19], [0, 2, 19], [3, 19, 16], [1, 10, 10], [4, 22, 13], [0, 29, 9], [2, 12, 20], 367]\n",
      "itration :  50\n",
      "itration :  100\n",
      "Done , final result is ; [[3, 3, 8], [4, 23, 1], [2, 24, 24], [4, 11, 8], [4, 15, 16], [4, 19, 10], [3, 9, 4], [0, 7, 3], 400]\n",
      "itration :  50\n",
      "itration :  100\n",
      "Done , final result is ; [[2, 18, 14], [4, 12, 14], [4, 17, 13], [2, 19, 13], [0, 16, 0], [0, 23, 0], [0, 0, 8], [2, 30, 18], 380]\n",
      "itration :  50\n",
      "itration :  100\n",
      "Done , final result is ; [[4, 16, 20], [4, 9, 14], [0, 3, 1], [1, 16, 15], [1, 3, 24], [3, 18, 21], [0, 18, 25], [4, 11, 10], 381]\n",
      "itration :  50\n",
      "itration :  100\n",
      "Done , final result is ; [[2, 25, 19], [3, 24, 7], [0, 19, 18], [4, 27, 10], [3, 17, 11], [0, 29, 1], [3, 25, 11], [2, 29, 11], 368]\n",
      "itration :  50\n",
      "itration :  100\n",
      "Done , final result is ; [[3, 3, 13], [1, 20, 1], [4, 7, 19], [0, 1, 7], [1, 22, 16], [0, 10, 17], [0, 8, 21], [3, 9, 12], 392]\n",
      "itration :  50\n",
      "itration :  100\n",
      "Done , final result is ; [[1, 7, 2], [0, 27, 23], [0, 8, 16], [3, 7, 8], [3, 16, 13], [1, 29, 1], [3, 12, 19], [3, 3, 19], 400]\n",
      "itration :  50\n",
      "itration :  100\n",
      "Done , final result is ; [[3, 25, 17], [1, 29, 4], [3, 29, 4], [1, 25, 18], [2, 1, 24], [2, 19, 7], [0, 2, 11], [3, 7, 1], 432]\n",
      "itration :  50\n",
      "itration :  100\n",
      "Done , final result is ; [[1, 23, 0], [3, 1, 9], [3, 29, 3], [1, 24, 24], [3, 26, 6], [3, 11, 11], [3, 13, 13], [1, 12, 9], 476]\n",
      "itration :  50\n",
      "itration :  100\n",
      "Done , final result is ; [[4, 4, 3], [3, 9, 7], [1, 0, 23], [3, 27, 11], [4, 10, 25], [4, 6, 14], [2, 25, 9], [2, 4, 2], 407]\n"
     ]
    }
   ],
   "source": [
    "#set One as asked in qusetion \n",
    "execute = 0 \n",
    "avgfitness1=[]\n",
    "allbestFitnesses1=[]\n",
    "while(execute<=10):\n",
    "    pop = FirstSeed\n",
    "    population = ClacFitness(pop ,s,Antennas,m,n)\n",
    "    population = FitSort(population,s)\n",
    "    count = 0\n",
    "    fitness1 = []\n",
    "    AvgFitForEachGeneration =[]\n",
    "    while count<100:\n",
    "\n",
    "        childs=[]\n",
    "\n",
    "\n",
    "        while(len(childs)<100):\n",
    "            parents = ParentSelection(population,s)\n",
    "            c1 , c2 =XoverBox(parents,s,Antennas,m,n)\n",
    "            childs.append(c1)\n",
    "            childs.append(c2)\n",
    "\n",
    "        childs = MutationBox(childs,s,Antennas , m , n)\n",
    "        childs = ClacFitness(childs ,s,Antennas,m,n)\n",
    "        childs = FitSort(childs,s)\n",
    "        new_generation = elitism(childs,population,s)\n",
    "        new_generation = FitSort(new_generation,s)\n",
    "        population = new_generation\n",
    "        fitness1.append(population[0][s])\n",
    "        sumfits = 0\n",
    "        for i in range(len(population)):\n",
    "            a = population[i][s]\n",
    "            sumfits = sumfits + a\n",
    "        avgeachgen = sumfits / len(population)    \n",
    "        AvgFitForEachGeneration.append(avgeachgen)\n",
    "        count += 1\n",
    "        if(count%50 == 0):\n",
    "            print('itration : ',count)\n",
    "        if count == 100:\n",
    "            print('Done , final result is ;',population[0])\n",
    "    execute = execute +1\n",
    "    avgfitness1.append(AvgFitForEachGeneration)\n",
    "    allbestFitnesses1.append(fitness1)"
   ]
  },
  {
   "cell_type": "code",
   "execution_count": null,
   "id": "0e7b7b0c-3312-4197-bcce-72aa00fee49e",
   "metadata": {},
   "outputs": [],
   "source": []
  },
  {
   "cell_type": "code",
   "execution_count": null,
   "id": "3bae3d4c-8165-444d-a5ac-77d3e58fe9fe",
   "metadata": {},
   "outputs": [],
   "source": []
  },
  {
   "cell_type": "code",
   "execution_count": 33,
   "id": "24f6f8cb-ea78-4b1e-a136-c3cae3034431",
   "metadata": {},
   "outputs": [
    {
     "data": {
      "image/png": "[encoded data removed]",
      "text/plain": [
       "<Figure size 432x288 with 1 Axes>"
      ]
     },
     "metadata": {
      "needs_background": "light"
     },
     "output_type": "display_data"
    },
    {
     "data": {
      "image/png": "[encoded data removed]",
      "text/plain": [
       "<Figure size 432x288 with 1 Axes>"
      ]
     },
     "metadata": {
      "needs_background": "light"
     },
     "output_type": "display_data"
    }
   ],
   "source": [
    "avgfitness1 = np.array(avgfitness1)\n",
    "avgfit1= avgfitness1.mean(0)\n",
    "\n",
    "allbestFitnesses1=np.array(allbestFitnesses1)\n",
    "allbestfit1 = allbestFitnesses1.mean(0)\n",
    "\n",
    "data=[]\n",
    "for i in range(100):\n",
    "    data.append(i)\n",
    "plt.figure()    \n",
    "plt.plot(data,avgfit1)    \n",
    "plt.ylim(avgfit1.min()-10,avgfit1.max()+10)\n",
    "plt.title('average fitnees of each generation in 10 times run')\n",
    "plt.show()\n",
    "\n",
    "plt.figure()    \n",
    "plt.plot(data,allbestfit1)    \n",
    "plt.ylim(allbestfit1.min()-10,allbestfit1.max()+10)\n",
    "plt.title('best fitnees of each generation in 10 times run')\n",
    "plt.show()"
   ]
  },
  {
   "cell_type": "code",
   "execution_count": 34,
   "id": "d2f7a702-78d3-461f-ad78-33740b90f7a3",
   "metadata": {},
   "outputs": [
    {
     "name": "stdout",
     "output_type": "stream",
     "text": [
      "itration :  50\n",
      "itration :  100\n",
      "Done , final result is ; [[3, 20, 25], [0, 6, 2], [3, 28, 14], [3, 24, 20], [1, 8, 13], [0, 17, 17], [1, 2, 19], [3, 16, 17], 407]\n",
      "itration :  50\n",
      "itration :  100\n",
      "Done , final result is ; [[1, 30, 9], [0, 18, 9], [3, 17, 14], [2, 10, 25], [1, 22, 20], [2, 6, 23], [4, 25, 16], [3, 30, 16], 395]\n",
      "itration :  50\n",
      "itration :  100\n",
      "Done , final result is ; [[4, 7, 12], [4, 5, 19], [0, 19, 22], [2, 0, 1], [3, 0, 13], [4, 0, 12], [2, 12, 23], [2, 29, 17], 410]\n",
      "itration :  50\n",
      "itration :  100\n",
      "Done , final result is ; [[2, 3, 20], [4, 3, 0], [3, 4, 23], [2, 3, 5], [4, 21, 22], [1, 4, 15], [4, 26, 3], [0, 10, 4], 429]\n",
      "itration :  50\n",
      "itration :  100\n",
      "Done , final result is ; [[4, 18, 1], [2, 10, 15], [4, 8, 14], [3, 5, 6], [3, 1, 9], [1, 12, 23], [0, 11, 7], [0, 8, 0], 436]\n",
      "itration :  50\n",
      "itration :  100\n",
      "Done , final result is ; [[0, 28, 1], [0, 4, 10], [0, 8, 14], [0, 13, 14], [2, 11, 12], [0, 11, 16], [0, 15, 20], [4, 21, 19], 374]\n",
      "itration :  50\n",
      "itration :  100\n",
      "Done , final result is ; [[0, 22, 18], [1, 25, 3], [1, 24, 1], [4, 29, 21], [4, 17, 12], [1, 18, 24], [2, 29, 19], [1, 24, 20], 411]\n",
      "itration :  50\n",
      "itration :  100\n",
      "Done , final result is ; [[4, 7, 24], [3, 16, 21], [0, 3, 1], [2, 29, 15], [0, 4, 1], [3, 20, 7], [1, 30, 2], [2, 12, 18], 409]\n",
      "itration :  50\n",
      "itration :  100\n",
      "Done , final result is ; [[3, 22, 15], [3, 7, 4], [0, 28, 10], [4, 23, 2], [4, 27, 14], [0, 25, 3], [4, 17, 0], [3, 8, 10], 470]\n",
      "itration :  50\n",
      "itration :  100\n",
      "Done , final result is ; [[1, 30, 8], [0, 11, 13], [3, 22, 7], [0, 1, 23], [2, 4, 9], [1, 17, 24], [2, 12, 18], [4, 23, 11], 388]\n",
      "itration :  50\n",
      "itration :  100\n",
      "Done , final result is ; [[1, 29, 5], [2, 23, 14], [4, 30, 16], [0, 24, 5], [0, 21, 1], [0, 24, 23], [0, 24, 11], [4, 10, 2], 379]\n"
     ]
    }
   ],
   "source": [
    "#set Two with changed parent selection\n",
    "execute = 0 \n",
    "avgfitness2=[]\n",
    "allbestFitnesses2=[]\n",
    "while(execute<=10):\n",
    "    pop = FirstSeed\n",
    "    population2 = ClacFitness(pop ,s,Antennas,m,n)\n",
    "    population2 = FitSort(population2,s)\n",
    "    count = 0\n",
    "    fitness2 = []\n",
    "    AvgFitForEachGeneration =[]\n",
    "    while count<100:\n",
    "\n",
    "        childs=[]\n",
    "\n",
    "        while(len(childs)<100):\n",
    "            parents = ParentSelection2(population2,Antennas,s,m,n)\n",
    "            c1 , c2 =XoverBox(parents,s,Antennas,m,n)\n",
    "            childs.append(c1)\n",
    "            childs.append(c2)\n",
    "\n",
    "        #childs = ClacFitness(childs ,s,Antennas,m,n)\n",
    "        #childs = FitSort(childs,s)\n",
    "        childs = MutationBox(childs,s,Antennas , m , n)\n",
    "        childs = ClacFitness(childs ,s,Antennas,m,n)\n",
    "        childs = FitSort(childs,s)\n",
    "        new_generation = elitism(childs,population2,s)\n",
    "        new_generation = FitSort(new_generation,s)\n",
    "        population2 = new_generation\n",
    "        fitness2.append(population2[0][s])\n",
    "        sumfits = 0\n",
    "        for i in range(len(population2)):\n",
    "            a = population2[i][s]\n",
    "            sumfits = sumfits + a\n",
    "        avgeachgen = sumfits / len(population2)    \n",
    "        AvgFitForEachGeneration.append(avgeachgen)\n",
    "        count += 1\n",
    "        if(count%50 == 0):\n",
    "            print('itration : ',count)\n",
    "        if count == 100:\n",
    "            print('Done , final result is ;',population2[0])\n",
    "    execute = execute +1\n",
    "    avgfitness2.append(AvgFitForEachGeneration)\n",
    "    allbestFitnesses2.append(fitness2)"
   ]
  },
  {
   "cell_type": "code",
   "execution_count": 35,
   "id": "3ec9f8c8-1d97-4136-86dc-c90d1259c178",
   "metadata": {},
   "outputs": [
    {
     "data": {
      "image/png": "[encoded data removed]",
      "text/plain": [
       "<Figure size 432x288 with 1 Axes>"
      ]
     },
     "metadata": {
      "needs_background": "light"
     },
     "output_type": "display_data"
    },
    {
     "data": {
      "image/png": "[encoded data removed]",
      "text/plain": [
       "<Figure size 432x288 with 1 Axes>"
      ]
     },
     "metadata": {
      "needs_background": "light"
     },
     "output_type": "display_data"
    }
   ],
   "source": [
    "avgfitness2 = np.array(avgfitness2)\n",
    "avgfit2= avgfitness2.mean(0)\n",
    "\n",
    "allbestFitnesses2=np.array(allbestFitnesses2)\n",
    "allbestfit2 = allbestFitnesses2.mean(0)\n",
    "\n",
    "data=[]\n",
    "for i in range(100):\n",
    "    data.append(i)\n",
    "plt.figure()    \n",
    "plt.plot(data,avgfit2)    \n",
    "plt.ylim(avgfit2.min()-10,avgfit2.max()+10)\n",
    "plt.title('average fitnees of each generation in 10 times run')\n",
    "plt.show()\n",
    "\n",
    "plt.figure()    \n",
    "plt.plot(data,allbestfit2)    \n",
    "plt.ylim(allbestfit2.min()-10,allbestfit2.max()+10)\n",
    "plt.title('best fitnees of each generation in 10 times run')\n",
    "plt.show()"
   ]
  },
  {
   "cell_type": "code",
   "execution_count": null,
   "id": "d930e378-1786-42c1-8044-03b0c048ff86",
   "metadata": {},
   "outputs": [],
   "source": []
  },
  {
   "cell_type": "code",
   "execution_count": 36,
   "id": "e44732b7-c34c-4b86-a086-079a9443fd15",
   "metadata": {},
   "outputs": [
    {
     "name": "stdout",
     "output_type": "stream",
     "text": [
      "itration :  50\n",
      "itration :  100\n",
      "Done , final result is ; [[1, 6, 11], [2, 10, 6], [1, 30, 3], [0, 4, 22], [3, 15, 6], [1, 22, 19], [4, 12, 18], [3, 6, 19], 458]\n",
      "itration :  50\n",
      "itration :  100\n",
      "Done , final result is ; [[1, 11, 1], [2, 28, 11], [0, 5, 19], [1, 4, 8], [0, 7, 20], [3, 26, 5], [2, 20, 20], [1, 6, 5], 392]\n",
      "itration :  50\n",
      "itration :  100\n",
      "Done , final result is ; [[3, 5, 19], [0, 18, 21], [1, 11, 16], [2, 26, 6], [2, 10, 5], [1, 14, 18], [4, 10, 17], [2, 4, 12], 383]\n",
      "itration :  50\n",
      "itration :  100\n",
      "Done , final result is ; [[0, 15, 13], [1, 12, 22], [0, 18, 8], [1, 27, 25], [1, 29, 2], [1, 30, 12], [4, 13, 2], [2, 21, 14], 396]\n",
      "itration :  50\n",
      "itration :  100\n",
      "Done , final result is ; [[1, 0, 19], [4, 7, 25], [4, 13, 9], [1, 14, 4], [1, 15, 5], [3, 29, 20], [1, 14, 15], [4, 22, 10], 416]\n",
      "itration :  50\n",
      "itration :  100\n",
      "Done , final result is ; [[2, 5, 7], [4, 29, 16], [1, 22, 21], [3, 22, 8], [4, 6, 3], [0, 7, 4], [1, 9, 0], [0, 16, 22], 460]\n",
      "itration :  50\n",
      "itration :  100\n",
      "Done , final result is ; [[4, 4, 17], [0, 11, 8], [4, 7, 0], [2, 27, 3], [3, 23, 10], [2, 1, 25], [1, 22, 7], [1, 2, 21], 453]\n",
      "itration :  50\n",
      "itration :  100\n",
      "Done , final result is ; [[3, 6, 14], [3, 25, 21], [0, 4, 14], [4, 3, 9], [4, 13, 13], [4, 8, 20], [3, 12, 1], [3, 0, 2], 374]\n",
      "itration :  50\n",
      "itration :  100\n",
      "Done , final result is ; [[2, 1, 5], [4, 6, 6], [0, 1, 4], [2, 2, 10], [3, 6, 0], [4, 29, 13], [0, 9, 25], [4, 26, 3], 366]\n",
      "itration :  50\n",
      "itration :  100\n",
      "Done , final result is ; [[4, 28, 3], [4, 23, 23], [2, 9, 7], [1, 17, 2], [2, 8, 5], [3, 7, 18], [2, 3, 9], [4, 11, 7], 401]\n",
      "itration :  50\n",
      "itration :  100\n",
      "Done , final result is ; [[1, 14, 13], [0, 3, 7], [4, 26, 18], [0, 5, 22], [0, 3, 23], [3, 23, 19], [0, 1, 15], [3, 25, 14], 442]\n"
     ]
    }
   ],
   "source": [
    "#set Three with changed survival Selection\n",
    "execute = 0 \n",
    "avgfitness3=[]\n",
    "allbestFitnesses3=[]\n",
    "while(execute<=10):\n",
    "    pop = FirstSeed\n",
    "    population3 = ClacFitness(pop ,s,Antennas,m,n)\n",
    "    population3 = FitSort(population3,s)\n",
    "    count = 0\n",
    "    fitness3 = []\n",
    "    AvgFitForEachGeneration =[]\n",
    "    while count<100:\n",
    "\n",
    "        childs=[]\n",
    "\n",
    "        while(len(childs)<50):\n",
    "            parents = ParentSelection(population3,s)\n",
    "            c1 , c2 =XoverBox(parents,s,Antennas,m,n)\n",
    "            childs.append(c1)\n",
    "            childs.append(c2)\n",
    "\n",
    "\n",
    "        #childs = ClacFitness(childs ,s,Antennas,m,n)\n",
    "        #childs = FitSort(childs,s)\n",
    "        childs = MutationBox(childs,s,Antennas , m , n)\n",
    "        childs = ClacFitness(childs ,s,Antennas,m,n)\n",
    "        childs = FitSort(childs,s)\n",
    "        new_generation = SurvivalSelection(childs,population3,s)\n",
    "        new_generation = FitSort(new_generation,s)\n",
    "        population3 = new_generation\n",
    "        fitness3.append(population3[0][s])\n",
    "        sumfits = 0\n",
    "        for i in range(len(population3)):\n",
    "            a = population3[i][s]\n",
    "            sumfits = sumfits + a\n",
    "        avgeachgen = sumfits / len(population3)    \n",
    "        AvgFitForEachGeneration.append(avgeachgen)\n",
    "        count += 1\n",
    "        if(count%50 == 0):\n",
    "            print('itration : ',count)\n",
    "        if count == 100:\n",
    "            print('Done , final result is ;',population3[0])\n",
    "    execute = execute +1\n",
    "    avgfitness3.append(AvgFitForEachGeneration)\n",
    "    allbestFitnesses3.append(fitness3)"
   ]
  },
  {
   "cell_type": "code",
   "execution_count": 37,
   "id": "d6039b56-e93d-4bea-a1b7-ff2d9db1ae2a",
   "metadata": {},
   "outputs": [
    {
     "data": {
      "image/png": "[encoded data removed]",
      "text/plain": [
       "<Figure size 432x288 with 1 Axes>"
      ]
     },
     "metadata": {
      "needs_background": "light"
     },
     "output_type": "display_data"
    },
    {
     "data": {
      "image/png": "[encoded data removed]",
      "text/plain": [
       "<Figure size 432x288 with 1 Axes>"
      ]
     },
     "metadata": {
      "needs_background": "light"
     },
     "output_type": "display_data"
    }
   ],
   "source": [
    "avgfitness3 = np.array(avgfitness3)\n",
    "avgfit3= avgfitness3.mean(0)\n",
    "\n",
    "allbestFitnesses3=np.array(allbestFitnesses3)\n",
    "allbestfit3 = allbestFitnesses3.mean(0)\n",
    "\n",
    "data=[]\n",
    "for i in range(100):\n",
    "    data.append(i)\n",
    "plt.figure()    \n",
    "plt.plot(data,avgfit3)    \n",
    "plt.ylim(avgfit3.min()-10,avgfit3.max()+10)\n",
    "plt.title('average fitnees of each generation in 10 times run')\n",
    "plt.show()\n",
    "\n",
    "plt.figure()    \n",
    "plt.plot(data,allbestfit3)    \n",
    "plt.ylim(allbestfit3.min()-10,allbestfit3.max()+10)\n",
    "plt.title('best fitnees of each generation in 10 times run')\n",
    "plt.show()"
   ]
  },
  {
   "cell_type": "code",
   "execution_count": 38,
   "id": "a43d7e56-978f-47e4-aeda-293ce7660572",
   "metadata": {},
   "outputs": [
    {
     "data": {
      "text/plain": [
       "[<matplotlib.lines.Line2D at 0x7fa141aefac0>]"
      ]
     },
     "execution_count": 38,
     "metadata": {},
     "output_type": "execute_result"
    },
    {
     "data": {
      "image/png": "[encoded data removed]",
      "text/plain": [
       "<Figure size 432x288 with 1 Axes>"
      ]
     },
     "metadata": {
      "needs_background": "light"
     },
     "output_type": "display_data"
    }
   ],
   "source": [
    "data=[]\n",
    "for i in range(100):\n",
    "    data.append(i)\n",
    "    \n",
    "plt.plot(data,fitness3) "
   ]
  },
  {
   "cell_type": "code",
   "execution_count": null,
   "id": "1a01544b-c74a-489e-8e08-24a4546ef8f0",
   "metadata": {},
   "outputs": [],
   "source": []
  },
  {
   "cell_type": "code",
   "execution_count": null,
   "id": "db25f858-0791-406d-962c-dcd57b82c753",
   "metadata": {},
   "outputs": [],
   "source": []
  },
  {
   "cell_type": "code",
   "execution_count": 39,
   "id": "ff3189b6-de62-473a-abf7-801bf7f3b5a7",
   "metadata": {},
   "outputs": [
    {
     "name": "stdout",
     "output_type": "stream",
     "text": [
      "itration :  50\n",
      "itration :  100\n",
      "Done , final result is ; [[2, 3, 17], [3, 2, 22], [2, 22, 15], [3, 3, 23], [0, 16, 2], [2, 18, 8], [2, 16, 0], [2, 1, 9], 442]\n",
      "itration :  50\n",
      "itration :  100\n",
      "Done , final result is ; [[4, 10, 7], [1, 12, 9], [0, 16, 6], [1, 30, 17], [0, 5, 22], [4, 1, 4], [0, 20, 24], [2, 30, 6], 434]\n",
      "itration :  50\n",
      "itration :  100\n",
      "Done , final result is ; [[4, 27, 21], [4, 17, 17], [2, 0, 15], [1, 7, 4], [3, 10, 12], [2, 29, 5], [0, 29, 23], [3, 1, 2], 424]\n",
      "itration :  50\n",
      "itration :  100\n",
      "Done , final result is ; [[4, 22, 13], [3, 8, 21], [3, 12, 6], [4, 4, 14], [1, 9, 0], [4, 0, 10], [0, 25, 15], [4, 22, 3], 408]\n",
      "itration :  50\n",
      "itration :  100\n",
      "Done , final result is ; [[1, 23, 3], [2, 1, 19], [0, 11, 15], [3, 3, 2], [2, 2, 5], [2, 13, 5], [3, 17, 9], [3, 3, 0], 377]\n",
      "itration :  50\n",
      "itration :  100\n",
      "Done , final result is ; [[2, 18, 10], [1, 12, 5], [1, 17, 22], [3, 12, 21], [2, 23, 9], [3, 11, 12], [2, 6, 21], [4, 21, 0], 345]\n",
      "itration :  50\n",
      "itration :  100\n",
      "Done , final result is ; [[2, 18, 2], [3, 21, 7], [2, 19, 11], [0, 5, 22], [1, 8, 15], [1, 26, 19], [1, 2, 2], [4, 17, 9], 378]\n",
      "itration :  50\n",
      "itration :  100\n",
      "Done , final result is ; [[1, 9, 6], [0, 8, 2], [0, 7, 3], [2, 28, 2], [2, 21, 24], [4, 9, 19], [1, 14, 19], [0, 26, 19], 391]\n",
      "itration :  50\n",
      "itration :  100\n",
      "Done , final result is ; [[1, 15, 11], [1, 0, 18], [3, 20, 9], [2, 26, 0], [2, 13, 18], [3, 15, 14], [2, 25, 3], [3, 17, 11], 378]\n",
      "itration :  50\n",
      "itration :  100\n",
      "Done , final result is ; [[0, 8, 3], [0, 12, 24], [4, 23, 3], [2, 1, 16], [1, 26, 25], [3, 0, 0], [1, 15, 7], [4, 26, 6], 398]\n",
      "itration :  50\n",
      "itration :  100\n",
      "Done , final result is ; [[0, 0, 3], [2, 21, 3], [0, 14, 6], [2, 3, 11], [0, 12, 3], [1, 12, 17], [0, 25, 25], [1, 6, 24], 371]\n"
     ]
    }
   ],
   "source": [
    "#set Four with survival selection and new parent selection \n",
    "execute = 0 \n",
    "avgfitness4=[]\n",
    "allbestFitnesses4=[]\n",
    "while(execute<=10):\n",
    "    pop = FirstSeed\n",
    "    population4 = ClacFitness(pop ,s,Antennas,m,n)\n",
    "    population4 = FitSort(population4,s)\n",
    "    count = 0\n",
    "    fitness4 = []\n",
    "    AvgFitForEachGeneration =[]\n",
    "    while(count<100):\n",
    "        children=[]\n",
    "        while(len(children)<50):\n",
    "            parentss = ParentSelection2(population4,Antennas,s,m,n)\n",
    "            c1 , c2 =XoverBox(parentss,s,Antennas,m,n)\n",
    "            children.append(c1)\n",
    "            children.append(c2)\n",
    "\n",
    "        children = MutationBox(children,s,Antennas,m,n)\n",
    "        children=ClacFitness(children ,s,Antennas,m,n)\n",
    "        children =FitSort(children,s)\n",
    "        generation = SurvivalSelection(children,population4,s)\n",
    "        generation = FitSort(generation,s)\n",
    "        population4 = generation\n",
    "        fitness4.append(population4[0][s])\n",
    "        sumfits = 0\n",
    "        for i in range(len(population4)):\n",
    "            a = population4[i][s]\n",
    "            sumfits = sumfits + a\n",
    "        avgeachgen = sumfits / len(population4)    \n",
    "        AvgFitForEachGeneration.append(avgeachgen)\n",
    "        count += 1\n",
    "        if(count%50 == 0):\n",
    "            print('itration : ',count)\n",
    "        if count == 100:\n",
    "            print('Done , final result is ;',population4[0])\n",
    "    execute = execute +1\n",
    "    avgfitness4.append(AvgFitForEachGeneration)\n",
    "    allbestFitnesses4.append(fitness4)    "
   ]
  },
  {
   "cell_type": "code",
   "execution_count": 40,
   "id": "1e93f400-2e90-4143-99a8-a01c9b3a13fa",
   "metadata": {},
   "outputs": [
    {
     "data": {
      "image/png": "[encoded data removed]",
      "text/plain": [
       "<Figure size 432x288 with 1 Axes>"
      ]
     },
     "metadata": {
      "needs_background": "light"
     },
     "output_type": "display_data"
    },
    {
     "data": {
      "image/png": "[encoded data removed]",
      "text/plain": [
       "<Figure size 432x288 with 1 Axes>"
      ]
     },
     "metadata": {
      "needs_background": "light"
     },
     "output_type": "display_data"
    }
   ],
   "source": [
    "avgfitness4 = np.array(avgfitness4)\n",
    "avgfit4= avgfitness4.mean(0)\n",
    "\n",
    "allbestFitnesses4=np.array(allbestFitnesses4)\n",
    "allbestfit4 = allbestFitnesses4.mean(0)\n",
    "\n",
    "data=[]\n",
    "for i in range(100):\n",
    "    data.append(i)\n",
    "plt.figure()    \n",
    "plt.plot(data,avgfit4)    \n",
    "plt.ylim(avgfit4.min()-40,avgfit4.max()+40)\n",
    "plt.title('average fitnees of each generation in 10 times run')\n",
    "plt.show()\n",
    "\n",
    "plt.figure()    \n",
    "plt.plot(data,allbestfit4)    \n",
    "plt.ylim(allbestfit4.min()-10,allbestfit4.max()+10)\n",
    "plt.title('best fitnees of each generation in 10 times run')\n",
    "plt.show()"
   ]
  },
  {
   "cell_type": "code",
   "execution_count": null,
   "id": "794de856-549f-4ac0-bb94-02818eb744cf",
   "metadata": {},
   "outputs": [],
   "source": []
  },
  {
   "cell_type": "code",
   "execution_count": null,
   "id": "8ec8fa22-49de-42a8-8999-b5019b02e4ab",
   "metadata": {},
   "outputs": [],
   "source": []
  },
  {
   "cell_type": "code",
   "execution_count": null,
   "id": "50527697-3ad6-47dd-9a36-2749b9f7a074",
   "metadata": {},
   "outputs": [],
   "source": []
  },
  {
   "cell_type": "code",
   "execution_count": null,
   "id": "1162828e-615e-42d4-9874-c67103cb87c8",
   "metadata": {},
   "outputs": [],
   "source": []
  },
  {
   "cell_type": "code",
   "execution_count": null,
   "id": "ae15e8bc-86d5-4f80-8e75-d256e68387a0",
   "metadata": {},
   "outputs": [],
   "source": []
  },
  {
   "cell_type": "code",
   "execution_count": null,
   "id": "12e1415e-b4b1-4950-8b69-111470257806",
   "metadata": {},
   "outputs": [],
   "source": []
  },
  {
   "cell_type": "code",
   "execution_count": null,
   "id": "d229d97c-40ac-4440-b22b-32da16f45ff6",
   "metadata": {},
   "outputs": [],
   "source": []
  },
  {
   "cell_type": "code",
   "execution_count": null,
   "id": "a9930f77-ffeb-476a-a724-6fee111e20fa",
   "metadata": {},
   "outputs": [],
   "source": []
  },
  {
   "cell_type": "code",
   "execution_count": null,
   "id": "941312c5-ab7d-4e5c-a127-457d5f1c9536",
   "metadata": {},
   "outputs": [],
   "source": []
  },
  {
   "cell_type": "code",
   "execution_count": null,
   "id": "91066572-015e-41f8-b3cd-5be4841d5525",
   "metadata": {},
   "outputs": [],
   "source": []
  },
  {
   "cell_type": "code",
   "execution_count": null,
   "id": "264646b0-4bfc-46d8-96e5-d529bf0ca343",
   "metadata": {},
   "outputs": [],
   "source": []
  },
  {
   "cell_type": "code",
   "execution_count": null,
   "id": "a861ba8f-642c-487c-8001-4cde47a18e54",
   "metadata": {},
   "outputs": [],
   "source": []
  },
  {
   "cell_type": "code",
   "execution_count": null,
   "id": "b424e67b-155b-4330-9118-3cc9d1d20d69",
   "metadata": {},
   "outputs": [],
   "source": []
  }
 ],
 "metadata": {
  "kernelspec": {
   "display_name": "Python 3 (ipykernel)",
   "language": "python",
   "name": "python3"
  },
  "language_info": {
   "codemirror_mode": {
    "name": "ipython",
    "version": 3
   },
   "file_extension": ".py",
   "mimetype": "text/x-python",
   "name": "python",
   "nbconvert_exporter": "python",
   "pygments_lexer": "ipython3",
   "version": "3.9.12"
  }
 },
 "nbformat": 4,
 "nbformat_minor": 5
}
