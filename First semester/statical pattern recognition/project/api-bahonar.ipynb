{
 "cells": [
  {
   "cell_type": "code",
   "execution_count": 1,
   "id": "4b4ca583-2330-4758-a15b-292fe11acffe",
   "metadata": {},
   "outputs": [],
   "source": [
    "import tweepy\n",
    "import numpy as np\n",
    "from datetime import datetime, timedelta\n",
    "import pytz\n",
    "import pandas as pd"
   ]
  },
  {
   "cell_type": "code",
   "execution_count": 2,
   "id": "3b87dbe8-4c7c-4fc1-aac2-5e93aa49aac3",
   "metadata": {},
   "outputs": [],
   "source": [
    "consumer_key = 'utVYsKB7dizkcdWSbV3kpjmht'\n",
    "consumer_secret = 'nC6IvuAl7jiIFeQ9FakFClBTd1w0Nqzraf4KdIq5XjMclC9LE9'\n",
    "access_token = '868936677372383232-o7gaId9pLrJNC1xAQscCewOW646GiHu'\n",
    "access_token_secret = 'W8CvawybnnW34PHsunLBgmVNyU0pnEbG3dAmP3KmuhViX'"
   ]
  },
  {
   "cell_type": "code",
   "execution_count": 3,
   "id": "cac2f047-8548-4048-9998-fb749be1546b",
   "metadata": {},
   "outputs": [],
   "source": [
    "\n",
    "# Authenticate your application\n",
    "auth = tweepy.OAuthHandler(consumer_key, consumer_secret)\n",
    "auth.set_access_token(access_token, access_token_secret)\n",
    "\n",
    "# Create the API object\n",
    "api = tweepy.API(auth)\n"
   ]
  },
  {
   "cell_type": "code",
   "execution_count": null,
   "id": "2df252df-40b0-4d11-a8e0-e83d3de28c00",
   "metadata": {},
   "outputs": [],
   "source": []
  },
  {
   "cell_type": "code",
   "execution_count": null,
   "id": "5a123b45-160b-4cd8-a3f1-e123a8a7dba7",
   "metadata": {},
   "outputs": [],
   "source": []
  },
  {
   "cell_type": "code",
   "execution_count": 53,
   "id": "f27c646b-1193-44e9-ae78-380438ce9d17",
   "metadata": {},
   "outputs": [],
   "source": [
    "search_query = 'اردوگاه شهید باهنر'\n",
    "num_tweets = 20000\n",
    "\n",
    "# Retrieve the first page of search results\n",
    "search_results = api.search_tweets(q=search_query, count=200)\n",
    "\n",
    "# Retrieve up to num_tweets tweets by paginating through the search results\n",
    "tweets = []\n",
    "while len(tweets) < num_tweets and len(search_results) > 0:\n",
    "    for tweet in search_results:\n",
    "        if len(tweets) < num_tweets and tweet not in tweets:\n",
    "            tweets.append(tweet)\n",
    "    max_id = search_results[-1].id\n",
    "    search_results = api.search_tweets(q=search_query, count=200, max_id=max_id - 1)"
   ]
  },
  {
   "cell_type": "code",
   "execution_count": null,
   "id": "5b405195-acae-4da8-97f3-300f3a7bea29",
   "metadata": {},
   "outputs": [],
   "source": []
  },
  {
   "cell_type": "code",
   "execution_count": null,
   "id": "3b70c0ec-df31-476b-920e-fa0868c690af",
   "metadata": {},
   "outputs": [],
   "source": []
  },
  {
   "cell_type": "code",
   "execution_count": 54,
   "id": "d84ce5d4-e904-4f53-b290-78fc4eff665a",
   "metadata": {},
   "outputs": [
    {
     "data": {
      "text/plain": [
       "tweepy.models.Status"
      ]
     },
     "execution_count": 54,
     "metadata": {},
     "output_type": "execute_result"
    }
   ],
   "source": [
    "type(tweets[1])"
   ]
  },
  {
   "cell_type": "code",
   "execution_count": 55,
   "id": "edcafdac-98df-4d98-b6ab-10e8ffc635f1",
   "metadata": {},
   "outputs": [
    {
     "data": {
      "text/plain": [
       "692"
      ]
     },
     "execution_count": 55,
     "metadata": {},
     "output_type": "execute_result"
    }
   ],
   "source": [
    "len(tweets)"
   ]
  },
  {
   "cell_type": "code",
   "execution_count": 56,
   "id": "625af7ca-3994-4e7d-a4a6-9a1758cc2141",
   "metadata": {},
   "outputs": [
    {
     "data": {
      "text/plain": [
       "'RT @kiarashfarasat1: حساب و کتاب یک غارت علنی!\\n\\nفروش اردوگاه شهید باهنر در منطقه نیاوران مشتی از خروارها غارت دولت رییسی به اسم طرح مولد سا…'"
      ]
     },
     "execution_count": 56,
     "metadata": {},
     "output_type": "execute_result"
    }
   ],
   "source": [
    "tweets[1].text"
   ]
  },
  {
   "cell_type": "code",
   "execution_count": null,
   "id": "70493ce0-0f10-4dd2-97cb-020cfc1060c0",
   "metadata": {},
   "outputs": [],
   "source": []
  },
  {
   "cell_type": "code",
   "execution_count": 57,
   "id": "383533ef-782f-464a-b168-c07ba07c4a38",
   "metadata": {},
   "outputs": [],
   "source": [
    "unique_list = []\n",
    "\n",
    "for x in tweets:\n",
    "    if hasattr(x, \"retweeted_status\"):\n",
    "        continue\n",
    "    else:\n",
    "        unique_list.append(x)\n",
    "        \n",
    "        \n"
   ]
  },
  {
   "cell_type": "code",
   "execution_count": 58,
   "id": "9a2236c6-0c73-4689-b117-01dd4cb4e23f",
   "metadata": {},
   "outputs": [
    {
     "data": {
      "text/plain": [
       "136"
      ]
     },
     "execution_count": 58,
     "metadata": {},
     "output_type": "execute_result"
    }
   ],
   "source": [
    "len(unique_list)"
   ]
  },
  {
   "cell_type": "code",
   "execution_count": 71,
   "id": "e018d63c-e222-4f62-bf79-ae0f9043a70a",
   "metadata": {},
   "outputs": [
    {
     "name": "stdout",
     "output_type": "stream",
     "text": [
      "692\n"
     ]
    }
   ],
   "source": [
    "count = 0 \n",
    "convert = []\n",
    "# for i in range(searched_tweets):\n",
    "for tweet in tweets:\n",
    "    lst = []\n",
    "    \n",
    "    \n",
    "    tweettext = tweet.text\n",
    "    # print(tweettext)\n",
    "    lst.append(tweettext)\n",
    "    \n",
    "    \n",
    "    followers=tweet.author.followers_count\n",
    "    # print('number of followers : ',followers)\n",
    "    lst.append(followers)\n",
    "    \n",
    "    statuscount = tweet.author.statuses_count\n",
    "    # print('status count : ',statuscount)\n",
    "    lst.append(statuscount)\n",
    "    \n",
    "    if(tweet.author.friends_count != 0):\n",
    "        userefect =tweet.author.followers_count/ tweet.author.friends_count\n",
    "        # print('user effect : ',userefect)\n",
    "    else:\n",
    "        userefect = 0\n",
    "        # print('user effect  : ', userefect)\n",
    "    lst.append(userefect)\n",
    "    \n",
    "    followings = tweet.author.friends_count\n",
    "    # print('number of followings  : ',followings)\n",
    "    lst.append(followings)\n",
    "    \n",
    "    retcount = tweet.retweet_count\n",
    "    # print('retweet count : ',retcount)\n",
    "    lst.append(retcount)\n",
    "    \n",
    "    \n",
    "    listedcount = tweet.author.listed_count\n",
    "    # print('author listed count : ',listedcount)\n",
    "    lst.append(listedcount)\n",
    "    \n",
    "    \n",
    "    tweetlen =len(tweet.text)\n",
    "    # print('tweet lenght : ',tweetlen)\n",
    "    lst.append(tweetlen)\n",
    "    \n",
    "    \n",
    "    \n",
    "    user = tweet.user\n",
    "    tweet_time = tweet.created_at\n",
    "    user_time = user.created_at\n",
    "    interval = tweet_time - user_time\n",
    "    timespan = interval.days\n",
    "    # print('time span : ',timespan)\n",
    "    lst.append(timespan)\n",
    "    \n",
    "    \n",
    "    # Convert the user's created_at datetime object to UTC timezone\n",
    "    created_date = user.created_at.replace(tzinfo=pytz.UTC)\n",
    "    # Convert the current datetime object to UTC timezone\n",
    "    now = datetime.now(pytz.UTC)\n",
    "    # Calculate the registration age of the user in days\n",
    "    age_in_days = (now - created_date).days\n",
    "    # print('registration age : ',age_in_days)\n",
    "    lst.append(age_in_days)\n",
    "    \n",
    "\n",
    "    \n",
    "\n",
    "    \n",
    "    \n",
    "    # print('*******************')\n",
    "    count = count +1\n",
    "    convert.append(lst)\n",
    "print(count)"
   ]
  },
  {
   "cell_type": "code",
   "execution_count": 66,
   "id": "f4445c3f-015b-4ca4-a408-839c4b2ff016",
   "metadata": {},
   "outputs": [
    {
     "data": {
      "text/plain": [
       "'#مولد_سازی_غارت_ایران \\n\\nخبر فروش باغ منظریه تهران (اردوگاه شهید باهنر تهران) در نیاوران، به امیر قطر!\\n\\n»»قربان زاده… https://t.co/bmOcYdZiz3'"
      ]
     },
     "execution_count": 66,
     "metadata": {},
     "output_type": "execute_result"
    }
   ],
   "source": [
    "tweets[2].retweeted_status.text\n"
   ]
  },
  {
   "cell_type": "code",
   "execution_count": 67,
   "id": "95d4fda5-2742-422e-9d02-2fd274f0bfda",
   "metadata": {},
   "outputs": [
    {
     "data": {
      "text/plain": [
       "10"
      ]
     },
     "execution_count": 67,
     "metadata": {},
     "output_type": "execute_result"
    }
   ],
   "source": [
    "len(convert[0])"
   ]
  },
  {
   "cell_type": "code",
   "execution_count": 68,
   "id": "7e6af873-1f51-4f21-ba90-6359c88bbba6",
   "metadata": {},
   "outputs": [],
   "source": [
    "Data = pd.DataFrame(convert, columns = ['TEXT','number of followers','status count','user effect','number of following','number of re-tweets','listed counts','tweet length','time span','registration age'])\n",
    "\n",
    "\n",
    "\n",
    "\n",
    "\n",
    "\n"
   ]
  },
  {
   "cell_type": "code",
   "execution_count": 69,
   "id": "2b5cd6d8-1df3-43c0-a80d-38f6a432e27f",
   "metadata": {},
   "outputs": [
    {
     "data": {
      "text/html": [
       "<div>\n",
       "<style scoped>\n",
       "    .dataframe tbody tr th:only-of-type {\n",
       "        vertical-align: middle;\n",
       "    }\n",
       "\n",
       "    .dataframe tbody tr th {\n",
       "        vertical-align: top;\n",
       "    }\n",
       "\n",
       "    .dataframe thead th {\n",
       "        text-align: right;\n",
       "    }\n",
       "</style>\n",
       "<table border=\"1\" class=\"dataframe\">\n",
       "  <thead>\n",
       "    <tr style=\"text-align: right;\">\n",
       "      <th></th>\n",
       "      <th>TEXT</th>\n",
       "      <th>number of followers</th>\n",
       "      <th>status count</th>\n",
       "      <th>user effect</th>\n",
       "      <th>number of following</th>\n",
       "      <th>number of re-tweets</th>\n",
       "      <th>listed counts</th>\n",
       "      <th>tweet length</th>\n",
       "      <th>time span</th>\n",
       "      <th>registration age</th>\n",
       "    </tr>\n",
       "  </thead>\n",
       "  <tbody>\n",
       "    <tr>\n",
       "      <th>0</th>\n",
       "      <td>پیشاهنگی در ایران در سال ۱۳۰۴ شمسی توسط آقای ا...</td>\n",
       "      <td>89</td>\n",
       "      <td>5718</td>\n",
       "      <td>0.570513</td>\n",
       "      <td>156</td>\n",
       "      <td>0</td>\n",
       "      <td>0</td>\n",
       "      <td>140</td>\n",
       "      <td>88</td>\n",
       "      <td>90</td>\n",
       "    </tr>\n",
       "    <tr>\n",
       "      <th>1</th>\n",
       "      <td>@HN2733 خریدار اردوگاه شهید باهنر تهران مشخص ش...</td>\n",
       "      <td>3298</td>\n",
       "      <td>19220</td>\n",
       "      <td>1.766470</td>\n",
       "      <td>1867</td>\n",
       "      <td>0</td>\n",
       "      <td>3</td>\n",
       "      <td>140</td>\n",
       "      <td>2202</td>\n",
       "      <td>2204</td>\n",
       "    </tr>\n",
       "    <tr>\n",
       "      <th>2</th>\n",
       "      <td>#مولد_سازی_غارت_ایران \\n\\nخبر فروش باغ منظریه ...</td>\n",
       "      <td>5086</td>\n",
       "      <td>10991</td>\n",
       "      <td>1.083742</td>\n",
       "      <td>4693</td>\n",
       "      <td>16</td>\n",
       "      <td>12</td>\n",
       "      <td>140</td>\n",
       "      <td>407</td>\n",
       "      <td>409</td>\n",
       "    </tr>\n",
       "    <tr>\n",
       "      <th>3</th>\n",
       "      <td>پس از انتشار خبر فروش اردوگاه شهید باهنر در شم...</td>\n",
       "      <td>1</td>\n",
       "      <td>184</td>\n",
       "      <td>0.200000</td>\n",
       "      <td>5</td>\n",
       "      <td>0</td>\n",
       "      <td>0</td>\n",
       "      <td>139</td>\n",
       "      <td>130</td>\n",
       "      <td>133</td>\n",
       "    </tr>\n",
       "    <tr>\n",
       "      <th>4</th>\n",
       "      <td>در جهت اجرای طرح مولدسازی،اردوگاه شهید باهنر س...</td>\n",
       "      <td>24</td>\n",
       "      <td>113</td>\n",
       "      <td>0.631579</td>\n",
       "      <td>38</td>\n",
       "      <td>0</td>\n",
       "      <td>0</td>\n",
       "      <td>140</td>\n",
       "      <td>475</td>\n",
       "      <td>477</td>\n",
       "    </tr>\n",
       "    <tr>\n",
       "      <th>...</th>\n",
       "      <td>...</td>\n",
       "      <td>...</td>\n",
       "      <td>...</td>\n",
       "      <td>...</td>\n",
       "      <td>...</td>\n",
       "      <td>...</td>\n",
       "      <td>...</td>\n",
       "      <td>...</td>\n",
       "      <td>...</td>\n",
       "      <td>...</td>\n",
       "    </tr>\n",
       "    <tr>\n",
       "      <th>131</th>\n",
       "      <td>هشدار به تمام ایران دوستان.\\nبه وسیله ی طرح مو...</td>\n",
       "      <td>2013</td>\n",
       "      <td>8676</td>\n",
       "      <td>0.402600</td>\n",
       "      <td>5000</td>\n",
       "      <td>2</td>\n",
       "      <td>0</td>\n",
       "      <td>140</td>\n",
       "      <td>1089</td>\n",
       "      <td>1097</td>\n",
       "    </tr>\n",
       "    <tr>\n",
       "      <th>132</th>\n",
       "      <td>اردوگاه شهید باهنر در فهرست فروش مولدسازی است ...</td>\n",
       "      <td>2658</td>\n",
       "      <td>16187</td>\n",
       "      <td>0.876938</td>\n",
       "      <td>3031</td>\n",
       "      <td>2</td>\n",
       "      <td>0</td>\n",
       "      <td>140</td>\n",
       "      <td>769</td>\n",
       "      <td>777</td>\n",
       "    </tr>\n",
       "    <tr>\n",
       "      <th>133</th>\n",
       "      <td>#اردوگاه_شهید_باهنر_تهران بزرگترین سرمایه دانش...</td>\n",
       "      <td>234</td>\n",
       "      <td>1846</td>\n",
       "      <td>0.274971</td>\n",
       "      <td>851</td>\n",
       "      <td>1</td>\n",
       "      <td>1</td>\n",
       "      <td>140</td>\n",
       "      <td>429</td>\n",
       "      <td>437</td>\n",
       "    </tr>\n",
       "    <tr>\n",
       "      <th>134</th>\n",
       "      <td>اموالی که به اسم #مولدسازی قصد واگذاری آنها را...</td>\n",
       "      <td>892</td>\n",
       "      <td>2186</td>\n",
       "      <td>0.800718</td>\n",
       "      <td>1114</td>\n",
       "      <td>2</td>\n",
       "      <td>3</td>\n",
       "      <td>94</td>\n",
       "      <td>4448</td>\n",
       "      <td>4456</td>\n",
       "    </tr>\n",
       "    <tr>\n",
       "      <th>135</th>\n",
       "      <td>🔴 شنیده‌ها حاکیست اردوگاه شهید باهنر در فهرست ...</td>\n",
       "      <td>3149</td>\n",
       "      <td>21841</td>\n",
       "      <td>0.939439</td>\n",
       "      <td>3352</td>\n",
       "      <td>7</td>\n",
       "      <td>6</td>\n",
       "      <td>140</td>\n",
       "      <td>727</td>\n",
       "      <td>735</td>\n",
       "    </tr>\n",
       "  </tbody>\n",
       "</table>\n",
       "<p>136 rows × 10 columns</p>\n",
       "</div>"
      ],
      "text/plain": [
       "                                                  TEXT  number of followers  \\\n",
       "0    پیشاهنگی در ایران در سال ۱۳۰۴ شمسی توسط آقای ا...                   89   \n",
       "1    @HN2733 خریدار اردوگاه شهید باهنر تهران مشخص ش...                 3298   \n",
       "2    #مولد_سازی_غارت_ایران \\n\\nخبر فروش باغ منظریه ...                 5086   \n",
       "3    پس از انتشار خبر فروش اردوگاه شهید باهنر در شم...                    1   \n",
       "4    در جهت اجرای طرح مولدسازی،اردوگاه شهید باهنر س...                   24   \n",
       "..                                                 ...                  ...   \n",
       "131  هشدار به تمام ایران دوستان.\\nبه وسیله ی طرح مو...                 2013   \n",
       "132  اردوگاه شهید باهنر در فهرست فروش مولدسازی است ...                 2658   \n",
       "133  #اردوگاه_شهید_باهنر_تهران بزرگترین سرمایه دانش...                  234   \n",
       "134  اموالی که به اسم #مولدسازی قصد واگذاری آنها را...                  892   \n",
       "135  🔴 شنیده‌ها حاکیست اردوگاه شهید باهنر در فهرست ...                 3149   \n",
       "\n",
       "     status count  user effect  number of following  number of re-tweets  \\\n",
       "0            5718     0.570513                  156                    0   \n",
       "1           19220     1.766470                 1867                    0   \n",
       "2           10991     1.083742                 4693                   16   \n",
       "3             184     0.200000                    5                    0   \n",
       "4             113     0.631579                   38                    0   \n",
       "..            ...          ...                  ...                  ...   \n",
       "131          8676     0.402600                 5000                    2   \n",
       "132         16187     0.876938                 3031                    2   \n",
       "133          1846     0.274971                  851                    1   \n",
       "134          2186     0.800718                 1114                    2   \n",
       "135         21841     0.939439                 3352                    7   \n",
       "\n",
       "     listed counts  tweet length  time span  registration age  \n",
       "0                0           140         88                90  \n",
       "1                3           140       2202              2204  \n",
       "2               12           140        407               409  \n",
       "3                0           139        130               133  \n",
       "4                0           140        475               477  \n",
       "..             ...           ...        ...               ...  \n",
       "131              0           140       1089              1097  \n",
       "132              0           140        769               777  \n",
       "133              1           140        429               437  \n",
       "134              3            94       4448              4456  \n",
       "135              6           140        727               735  \n",
       "\n",
       "[136 rows x 10 columns]"
      ]
     },
     "execution_count": 69,
     "metadata": {},
     "output_type": "execute_result"
    }
   ],
   "source": [
    "Data"
   ]
  },
  {
   "cell_type": "code",
   "execution_count": 70,
   "id": "79316f91-10f7-4633-8c14-0764ad4d85c2",
   "metadata": {},
   "outputs": [],
   "source": [
    "Data.to_excel('bahonarUniqe.xlsx', index=False)"
   ]
  },
  {
   "cell_type": "code",
   "execution_count": null,
   "id": "1f5770f1-fcea-4776-962b-d226847ae67d",
   "metadata": {},
   "outputs": [],
   "source": []
  },
  {
   "cell_type": "code",
   "execution_count": null,
   "id": "2bc7c89c-2745-4452-b0e6-d9a7d8bf8bf4",
   "metadata": {},
   "outputs": [],
   "source": []
  },
  {
   "cell_type": "code",
   "execution_count": null,
   "id": "bd76e0bd-c4fe-4041-bc92-f4679a8ad6d1",
   "metadata": {},
   "outputs": [],
   "source": []
  },
  {
   "cell_type": "code",
   "execution_count": null,
   "id": "c07507c8-dc5b-46c2-a2a6-33e832bd5f8f",
   "metadata": {},
   "outputs": [],
   "source": []
  },
  {
   "cell_type": "code",
   "execution_count": 21,
   "id": "b0373140-b5f8-4a8c-8e6e-6d040913cbeb",
   "metadata": {},
   "outputs": [],
   "source": [
    "# search_query = \"۸۴ درصد\"\n",
    "# num_tweets = 1500\n",
    "\n",
    "# # Retrieve the first page of search results\n",
    "# new_tweets = api.search_tweets(q=search_query, count=200)\n",
    "\n",
    "# # tweet_ids = set()\n",
    "# # user_ids = set()\n",
    "\n",
    "# # Retrieve up to num_tweets tweets by paginating through the search results\n",
    "# tweets = []\n",
    "# tweet_text_user_id = {}\n",
    "\n",
    "# # Save the first set of tweets\n",
    "# for tweet in new_tweets:\n",
    "#     # check if the tweet text with the same user ID exists in the dictionary\n",
    "#     if tweet.text not in tweet_text_user_id.get(tweet.user.id_str, []):\n",
    "#         tweets.append(tweet)\n",
    "#         # add the tweet text with the user ID to the dictionary\n",
    "#         if tweet.user.id_str in tweet_text_user_id:\n",
    "#             tweet_text_user_id[tweet.user.id_str].append(tweet.text)\n",
    "#         else:\n",
    "#             tweet_text_user_id[tweet.user.id_str] = [tweet.text]\n",
    "\n",
    "# # Save subsequent sets of tweets\n",
    "# while len(new_tweets) > 0:\n",
    "#     # get the ID of the oldest tweet in the current set of tweets\n",
    "#     oldest_tweet_id = tweets[-1].id - 1\n",
    "#     new_tweets = api.search_tweets(search_query, count=100, max_id=oldest_tweet_id)\n",
    "#     for tweet in new_tweets:\n",
    "#         # check if the tweet text with the same user ID exists in the dictionary\n",
    "#         if tweet.text not in tweet_text_user_id.get(tweet.user.id_str, []):\n",
    "#             tweets.append(tweet)\n",
    "#             # add the tweet text with the user ID to the dictionary\n",
    "#             if tweet.user.id_str in tweet_text_user_id:\n",
    "#                 tweet_text_user_id[tweet.user.id_str].append(tweet.text)\n",
    "#             else:\n",
    "#                 tweet_text_user_id[tweet.user.id_str] = [tweet.text]"
   ]
  },
  {
   "cell_type": "code",
   "execution_count": 22,
   "id": "460fd666-0e41-42e3-ad46-08ef9151529f",
   "metadata": {},
   "outputs": [],
   "source": [
    "# # Search for tweets containing a certain keyword\n",
    "# query = \"۸۴ درصد\"\n",
    "# max_tweets = 2000\n",
    "# searched_tweets = []\n",
    "# last_id = -1\n",
    "# while len(searched_tweets) < max_tweets:\n",
    "#     count = max_tweets - len(searched_tweets)\n",
    "#     # try:\n",
    "#     new_tweets = api.search_tweets(q=query, count=count, max_id=str(last_id - 1) , tweet_mode='extended' )\n",
    "#     if not new_tweets:\n",
    "#         break\n",
    "#     for tweet in new_tweets:\n",
    "#         if tweet.full_text not in searched_tweets:\n",
    "#             searched_tweets.append(tweet)\n",
    "#             # print(type(tweet))\n",
    "#     last_id = new_tweets[-1].id\n",
    "#     # except tweepy.TweepError as e:\n",
    "#     #     # Handle rate limit error\n",
    "#     #     print(\"Error:\", e)\n",
    "#     #     break\n"
   ]
  },
  {
   "cell_type": "code",
   "execution_count": 23,
   "id": "a167431e-9942-44a5-a6a4-7b08ec14d86c",
   "metadata": {},
   "outputs": [],
   "source": [
    "# def search_tweets(api, query, max_tweets, max_id=None):\n",
    "#     searched_tweets = []\n",
    "#     last_id = -1\n",
    "#     while len(searched_tweets) < max_tweets:\n",
    "#         count = max_tweets - len(searched_tweets)\n",
    "#         # try:\n",
    "#         if not max_id:\n",
    "#             new_tweets = api.search_tweets(q=query, count=count, tweet_mode='extended')\n",
    "#         else:\n",
    "#             new_tweets = api.search_tweets(q=query, count=count, max_id=max_id, tweet_mode='extended')\n",
    "#         if not new_tweets:\n",
    "#             break\n",
    "#         for tweet in new_tweets:\n",
    "#             if 'retweeted_status' not in tweet._json:\n",
    "#                 searched_tweets.append(tweet)\n",
    "#                 if len(searched_tweets) == max_tweets:\n",
    "#                     break\n",
    "#         last_id = new_tweets[-1].id\n",
    "#         # except tweepy.TweepError as e:\n",
    "#         #     print(\"Error : \" + str(e))\n",
    "#         #     break\n",
    "#     return searched_tweets\n",
    "\n",
    "# search_query = \"۸۴ درصد\"\n",
    "# num_tweets = 1500\n",
    "# tweets = search_tweets(api , search_query , num_tweets  )\n"
   ]
  },
  {
   "cell_type": "code",
   "execution_count": 24,
   "id": "f00adf6c-5ef0-4f60-9c26-750f55255fb4",
   "metadata": {},
   "outputs": [],
   "source": [
    "# count = 0 \n",
    "# convert = []\n",
    "# for i in range(len(searched_tweets)):\n",
    "#     for tweet in searched_tweets:\n",
    "#         lst = []\n",
    "\n",
    "\n",
    "#         tweettext = tweet[i].text\n",
    "#         # print(tweettext)\n",
    "#         lst.append(tweettext)\n",
    "\n",
    "\n",
    "#         followers=tweet[i].author.followers_count\n",
    "#         # print('number of followers : ',followers)\n",
    "#         lst.append(followers)\n",
    "\n",
    "#         statuscount = tweet[i].author.statuses_count\n",
    "#         # print('status count : ',statuscount)\n",
    "#         lst.append(statuscount)\n",
    "\n",
    "#         if(tweet[i].author.friends_count != 0):\n",
    "#             userefect =tweet[i].author.followers_count/ tweet[i].author.friends_count\n",
    "#             # print('user effect : ',userefect)\n",
    "#         else:\n",
    "#             userefect = 0\n",
    "#             # print('user effect  : ', userefect)\n",
    "#         lst.append(userefect)\n",
    "\n",
    "#         followings = tweet[i].author.friends_count\n",
    "#         # print('number of followings  : ',followings)\n",
    "#         lst.append(followings)\n",
    "\n",
    "#         retcount = tweet[i].retweet_count\n",
    "#         # print('retweet count : ',retcount)\n",
    "#         lst.append(retcount)\n",
    "\n",
    "\n",
    "#         listedcount = tweet[i].author.listed_count\n",
    "#         # print('author listed count : ',listedcount)\n",
    "#         lst.append(listedcount)\n",
    "\n",
    "\n",
    "#         tweetlen =len(tweet[i].text)\n",
    "#         # print('tweet lenght : ',tweetlen)\n",
    "#         lst.append(tweetlen)\n",
    "\n",
    "\n",
    "\n",
    "#         user = tweet[i].user\n",
    "#         tweet_time = tweet[i].created_at\n",
    "#         user_time = user[i].created_at\n",
    "#         interval = tweet_time - user_time\n",
    "#         timespan = interval.days\n",
    "#         # print('time span : ',timespan)\n",
    "#         lst.append(timespan)\n",
    "\n",
    "\n",
    "#         # Convert the user's created_at datetime object to UTC timezone\n",
    "#         created_date = user[i].created_at.replace(tzinfo=pytz.UTC)\n",
    "#         # Convert the current datetime object to UTC timezone\n",
    "#         now = datetime.now(pytz.UTC)\n",
    "#         # Calculate the registration age of the user in days\n",
    "#         age_in_days = (now - created_date).days\n",
    "#         # print('registration age : ',age_in_days)\n",
    "#         lst.append(age_in_days)\n",
    "\n",
    "\n",
    "\n",
    "\n",
    "\n",
    "\n",
    "#         # print('*******************')\n",
    "#         count = count +1\n",
    "#         convert.append(lst)\n",
    "# print(count)"
   ]
  },
  {
   "cell_type": "code",
   "execution_count": null,
   "id": "0ebb492d-07af-481e-ac06-3ec2f0b88e5f",
   "metadata": {},
   "outputs": [],
   "source": []
  },
  {
   "cell_type": "code",
   "execution_count": null,
   "id": "b2538c88-1174-4754-be96-804e450a6784",
   "metadata": {},
   "outputs": [],
   "source": []
  }
 ],
 "metadata": {
  "kernelspec": {
   "display_name": "Python 3 (ipykernel)",
   "language": "python",
   "name": "python3"
  },
  "language_info": {
   "codemirror_mode": {
    "name": "ipython",
    "version": 3
   },
   "file_extension": ".py",
   "mimetype": "text/x-python",
   "name": "python",
   "nbconvert_exporter": "python",
   "pygments_lexer": "ipython3",
   "version": "3.9.12"
  }
 },
 "nbformat": 4,
 "nbformat_minor": 5
}
