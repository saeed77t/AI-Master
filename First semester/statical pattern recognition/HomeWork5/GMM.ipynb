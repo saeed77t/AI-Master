{
 "cells": [
  {
   "cell_type": "code",
   "execution_count": 23,
   "id": "2c6c2d10-fe69-4e09-b85f-3e6f30f45e15",
   "metadata": {},
   "outputs": [],
   "source": [
    "import numpy as np\n",
    "import pandas as pd\n",
    "import matplotlib.pyplot as plt\n",
    "import random\n",
    "from scipy.stats import multivariate_normal \n",
    "from scipy.special import logsumexp\n",
    "from numpy import random as rnd\n",
    "import math\n",
    "from scipy import stats\n",
    "from sklearn.mixture import GaussianMixture"
   ]
  },
  {
   "cell_type": "code",
   "execution_count": 24,
   "id": "33d7bfc3-4f75-475d-896c-67aa027f468e",
   "metadata": {},
   "outputs": [],
   "source": [
    "tsnv = pd.read_csv(\"Data/tsnv.csv\")\n",
    "tsnv.columns = ['x1', 'x2']\n",
    "moon = pd.read_csv(\"Data/moon.csv\")\n",
    "elliptical = pd.read_csv(\"Data/elliptical.csv\")\n",
    "circle = pd.read_csv(\"Data/circle.csv\")\n",
    "blobs = pd.read_csv(\"Data/blobs.csv\")\n"
   ]
  },
  {
   "cell_type": "code",
   "execution_count": null,
   "id": "5e362dd5-f7ab-4d77-bab8-70352c906029",
   "metadata": {},
   "outputs": [],
   "source": []
  },
  {
   "cell_type": "code",
   "execution_count": 25,
   "id": "7061165e-1851-4aa7-81d2-8d5779891e0d",
   "metadata": {},
   "outputs": [],
   "source": [
    "x = elliptical['x1']\n",
    "y = elliptical['x2']\n",
    "\n",
    "Data = [x,y]\n",
    "Data = np.array(Data).T"
   ]
  },
  {
   "cell_type": "code",
   "execution_count": 26,
   "id": "59b23428-f88d-4e00-971d-b1ac59c4833a",
   "metadata": {},
   "outputs": [
    {
     "data": {
      "text/plain": [
       "array([[ 3.29926, -4.21499],\n",
       "       [-1.42316,  1.75409],\n",
       "       [-2.03089,  5.86884],\n",
       "       ...,\n",
       "       [-3.24315,  5.74052],\n",
       "       [-3.09304,  3.65991],\n",
       "       [-1.38596,  2.11344]])"
      ]
     },
     "execution_count": 26,
     "metadata": {},
     "output_type": "execute_result"
    }
   ],
   "source": [
    "Data"
   ]
  },
  {
   "cell_type": "code",
   "execution_count": 27,
   "id": "a5e444ee-fb51-43be-a160-c5852bf9ad7a",
   "metadata": {},
   "outputs": [
    {
     "data": {
      "image/png": "[encoded data removed]",
      "text/plain": [
       "<Figure size 432x288 with 1 Axes>"
      ]
     },
     "metadata": {
      "needs_background": "light"
     },
     "output_type": "display_data"
    }
   ],
   "source": [
    "plt.figure()\n",
    "plt.plot(Data[:,0],Data[:,1],'b.')\n",
    "plt.show()\n"
   ]
  },
  {
   "cell_type": "code",
   "execution_count": 28,
   "id": "00316207-9ef7-4c37-a243-25dd47163c6a",
   "metadata": {},
   "outputs": [],
   "source": [
    "def FirstRandom():\n",
    "    fay = random.uniform(0,1)\n",
    "    miooZero = [rnd.normal(0, 1),rnd.normal(0, 1)]\n",
    "    miooZero = np.array(miooZero)\n",
    "    miooOne = [rnd.normal(0, 1),rnd.normal(0, 1)]\n",
    "    miooOne = np.array(miooOne)\n",
    "    a = rnd.normal(0,1, size=(2,2))\n",
    "    b = rnd.normal(0,1, size=(2,2))\n",
    "    sigZero = np.dot(a,a.T)\n",
    "    sigOne = np.dot(b,b.T)\n",
    "    initials = {'fay':fay , 'miooOne':miooOne , 'miooZero':miooZero , 'sigmaZero':sigZero , 'sigmaOne':sigOne}\n",
    "    \n",
    "    return initials\n",
    "\n",
    "def ExpectationStep(Data , inits ):\n",
    "    firstpart  = np.log([1-inits['fay'] , inits['fay']])[np.newaxis,...]\n",
    "    multvarZeros  = multivariate_normal( inits['miooZero'],inits['sigmaZero']).pdf(Data)\n",
    "    multivarOnes = multivariate_normal(inits['miooOne'].T ,inits['sigmaOne']).pdf(Data)\n",
    "    secondpart= np.log([multvarZeros ,multivarOnes]).T\n",
    "    PyGivenX =  firstpart + secondpart\n",
    "    loglikelihood = logsumexp(PyGivenX , axis=1)\n",
    "    estep = np.exp(PyGivenX-loglikelihood[...,np.newaxis])\n",
    "    return loglikelihood , estep\n",
    "    \n",
    "    \n",
    "def MaximzationStep(Data , inits):\n",
    "    \n",
    "    llikelyhood  , estep = ExpectationStep(Data,inits)\n",
    "    number = len(Data)\n",
    "    e0 = estep[:,0]\n",
    "    e1 = estep[:,1]\n",
    "    sumation0 = math.fsum(e0)\n",
    "    sumation1 = math.fsum(e1)\n",
    "    \n",
    "    fay = sumation1 / number \n",
    "    miooZero = (e0[...,np.newaxis].T.dot(Data) / sumation0).flatten()\n",
    "    miooOne = (e1[...,np.newaxis].T.dot(Data) / sumation1).flatten()\n",
    "    a = Data - miooZero\n",
    "    b = Data - miooOne\n",
    "    sigZero = a.T.dot(a*e0[...,np.newaxis]) / sumation0\n",
    "    sigOne = b.T.dot(b*e1[...,np.newaxis]) / sumation1\n",
    "    initials = {'fay':fay , 'miooOne':miooOne , 'miooZero':miooZero , 'sigmaZero':sigZero , 'sigmaOne':sigOne}\n",
    "    return initials\n",
    "\n",
    "\n",
    "\n",
    "\n",
    "\n",
    "def avgLL(Data , inits):\n",
    "    llikelyhood  , estep = ExpectationStep(Data,inits)\n",
    "    a = np.mean(llikelyhood)\n",
    "    return a \n",
    "\n",
    "\n",
    "def Expectation_Maximazation(Data , inits):\n",
    "    avg = [] \n",
    "    while(1):\n",
    "        avg.append(avgLL(Data,inits))\n",
    "        if (len(avg) > 2 and abs(avg[-1] - avg[-2]) < 0.0001 ):\n",
    "            break\n",
    "        inits = MaximzationStep(Data , inits)\n",
    "    print( ' fay = ',inits['fay'])\n",
    "    print('mioo zero = ',inits['miooZero'])\n",
    "    print('mioo one = ',inits['miooOne'])\n",
    "    print('sigma zero = ',inits['sigmaZero'])\n",
    "    print('sigma zero = ',inits['sigmaOne'])\n",
    "        \n",
    "    llikelyhood  , estep = ExpectationStep(Data,inits)\n",
    "        \n",
    "    pred = np.argmax(estep , axis=1)\n",
    "        \n",
    "    return pred , estep , avg\n",
    "\n"
   ]
  },
  {
   "cell_type": "code",
   "execution_count": 29,
   "id": "6932d359-f696-4abd-8e60-da79e6d6de42",
   "metadata": {},
   "outputs": [
    {
     "name": "stdout",
     "output_type": "stream",
     "text": [
      " fay =  0.6330601464221324\n",
      "mioo zero =  [-2.76034985  5.82560209]\n",
      "mioo one =  [ 0.92315805 -1.41708181]\n",
      "sigma zero =  [[ 0.60336964 -0.24937788]\n",
      " [-0.24937788  0.52086004]]\n",
      "sigma zero =  [[ 17.06578424 -13.61427844]\n",
      " [-13.61427844  13.97149968]]\n",
      "total steps:  15\n"
     ]
    },
    {
     "data": {
      "image/png": "[encoded data removed]",
      "text/plain": [
       "<Figure size 432x288 with 1 Axes>"
      ]
     },
     "metadata": {
      "needs_background": "light"
     },
     "output_type": "display_data"
    }
   ],
   "source": [
    "inits = FirstRandom()\n",
    "pred, posterior, ll = Expectation_Maximazation(Data, inits)\n",
    "print(\"total steps: \", len(ll))\n",
    "plt.figure()\n",
    "plt.plot(ll)\n",
    "plt.title(\"unsupervised log likelihoods\")\n",
    "plt.show()\n",
    "# khob hala badesh chi ? 😂 na k dare na kare khasi ru data mikone 😂😂"
   ]
  },
  {
   "cell_type": "code",
   "execution_count": null,
   "id": "101f174e-b5a4-4b32-9e1e-70bd12ea9496",
   "metadata": {},
   "outputs": [],
   "source": []
  },
  {
   "cell_type": "code",
   "execution_count": null,
   "id": "87001dc3-cfbe-4b61-b7e2-9caca6114cb9",
   "metadata": {},
   "outputs": [],
   "source": []
  },
  {
   "cell_type": "code",
   "execution_count": null,
   "id": "0fec6c97-49ed-4857-b8ad-bfa8f91e43c1",
   "metadata": {},
   "outputs": [],
   "source": [
    "\n",
    "    "
   ]
  },
  {
   "cell_type": "code",
   "execution_count": null,
   "id": "d8cc669e-7edb-4d55-9787-9bde7265f4c9",
   "metadata": {},
   "outputs": [],
   "source": [
    "\n",
    "        \n",
    "        \n",
    "        \n",
    "        "
   ]
  },
  {
   "cell_type": "code",
   "execution_count": null,
   "id": "088a56c7-439e-45ca-a179-6c0581e6b214",
   "metadata": {},
   "outputs": [],
   "source": [
    "\n",
    "    \n",
    "    "
   ]
  },
  {
   "cell_type": "code",
   "execution_count": 21,
   "id": "030ead44-8a58-4f7c-af0d-b419af634345",
   "metadata": {},
   "outputs": [],
   "source": [
    "\n",
    "def GMM_sklearn(x, weights=None, means=None, covariances=None):\n",
    "    model = GaussianMixture(n_components=2,\n",
    "                            covariance_type='full',\n",
    "                            tol=0.01,\n",
    "                            max_iter=1000,\n",
    "                            weights_init=weights,\n",
    "                            means_init=means,\n",
    "                            precisions_init=covariances)\n",
    "    model.fit(x)\n",
    "    print(\"\\nscikit learn:\\n\\tphi: %s\\n\\tmu_0: %s\\n\\tmu_1: %s\\n\\tsigma_0: %s\\n\\tsigma_1: %s\"\n",
    "               % (model.weights_[1], model.means_[0, :], model.means_[1, :], model.covariances_[0, :], model.covariances_[1, :]))\n",
    "    return model.predict(x), model.predict_proba(x)[:,1]\n",
    "\n",
    "\n",
    "def get_random_psd(n):\n",
    "    x = np.random.normal(0, 1, size=(n, n))\n",
    "    return np.dot(x, x.transpose())\n",
    "\n",
    "\n",
    "def initialize_random_params():\n",
    "    params = {'phi': np.random.uniform(0, 1),\n",
    "              'mu0': np.random.normal(0, 1, size=(2,)),\n",
    "              'mu1': np.random.normal(0, 1, size=(2,)),\n",
    "              'sigma0': get_random_psd(2),\n",
    "              'sigma1': get_random_psd(2)}\n",
    "    return params\n",
    "\n",
    "\n",
    "def learn_params(x_labeled, y_labeled):\n",
    "    n = x_labeled.shape[0]\n",
    "    phi = x_labeled[y_labeled == 1].shape[0] / n\n",
    "    mu0 = np.sum(x_labeled[y_labeled == 0], axis=0) / x_labeled[y_labeled == 0].shape[0]\n",
    "    mu1 = np.sum(x_labeled[y_labeled == 1], axis=0) / x_labeled[y_labeled == 1].shape[0]\n",
    "    sigma0 = np.cov(x_labeled[y_labeled == 0].T, bias= True)\n",
    "    sigma1 = np.cov(x_labeled[y_labeled == 1].T, bias=True)\n",
    "    return {'phi': phi, 'mu0': mu0, 'mu1': mu1, 'sigma0': sigma0, 'sigma1': sigma1}\n"
   ]
  },
  {
   "cell_type": "code",
   "execution_count": 22,
   "id": "aa075ecb-3d2a-4cb8-9370-e5b2f3888db7",
   "metadata": {},
   "outputs": [
    {
     "name": "stderr",
     "output_type": "stream",
     "text": [
      "/var/folders/gv/29bx0dbj5fvf2ql1sq4xwxsh0000gn/T/ipykernel_6902/2893065986.py:32: RuntimeWarning: invalid value encountered in double_scalars\n",
      "  mu0 = np.sum(x_labeled[y_labeled == 0], axis=0) / x_labeled[y_labeled == 0].shape[0]\n",
      "/var/folders/gv/29bx0dbj5fvf2ql1sq4xwxsh0000gn/T/ipykernel_6902/2893065986.py:33: RuntimeWarning: invalid value encountered in double_scalars\n",
      "  mu1 = np.sum(x_labeled[y_labeled == 1], axis=0) / x_labeled[y_labeled == 1].shape[0]\n",
      "/Users/saeed/opt/anaconda3/lib/python3.9/site-packages/numpy/lib/function_base.py:380: RuntimeWarning: Mean of empty slice.\n",
      "  avg = a.mean(axis)\n",
      "/Users/saeed/opt/anaconda3/lib/python3.9/site-packages/numpy/core/_methods.py:181: RuntimeWarning: invalid value encountered in true_divide\n",
      "  ret = um.true_divide(\n",
      "/var/folders/gv/29bx0dbj5fvf2ql1sq4xwxsh0000gn/T/ipykernel_6902/2893065986.py:34: RuntimeWarning: Degrees of freedom <= 0 for slice\n",
      "  sigma0 = np.cov(x_labeled[y_labeled == 0].T, bias= True)\n",
      "/Users/saeed/opt/anaconda3/lib/python3.9/site-packages/numpy/lib/function_base.py:2542: RuntimeWarning: divide by zero encountered in true_divide\n",
      "  c *= np.true_divide(1, fact)\n",
      "/Users/saeed/opt/anaconda3/lib/python3.9/site-packages/numpy/lib/function_base.py:2542: RuntimeWarning: invalid value encountered in multiply\n",
      "  c *= np.true_divide(1, fact)\n",
      "/var/folders/gv/29bx0dbj5fvf2ql1sq4xwxsh0000gn/T/ipykernel_6902/2893065986.py:35: RuntimeWarning: Degrees of freedom <= 0 for slice\n",
      "  sigma1 = np.cov(x_labeled[y_labeled == 1].T, bias=True)\n"
     ]
    },
    {
     "ename": "NameError",
     "evalue": "name 'x_unlabeled' is not defined",
     "output_type": "error",
     "traceback": [
      "\u001b[0;31m---------------------------------------------------------------------------\u001b[0m",
      "\u001b[0;31mNameError\u001b[0m                                 Traceback (most recent call last)",
      "Input \u001b[0;32mIn [22]\u001b[0m, in \u001b[0;36m<cell line: 6>\u001b[0;34m()\u001b[0m\n\u001b[1;32m      4\u001b[0m means \u001b[38;5;241m=\u001b[39m [learned_params[\u001b[38;5;124m\"\u001b[39m\u001b[38;5;124mmu0\u001b[39m\u001b[38;5;124m\"\u001b[39m], learned_params[\u001b[38;5;124m\"\u001b[39m\u001b[38;5;124mmu1\u001b[39m\u001b[38;5;124m\"\u001b[39m]]\n\u001b[1;32m      5\u001b[0m covariances \u001b[38;5;241m=\u001b[39m [learned_params[\u001b[38;5;124m\"\u001b[39m\u001b[38;5;124msigma0\u001b[39m\u001b[38;5;124m\"\u001b[39m], learned_params[\u001b[38;5;124m\"\u001b[39m\u001b[38;5;124msigma1\u001b[39m\u001b[38;5;124m\"\u001b[39m]]\n\u001b[0;32m----> 6\u001b[0m sklearn_forecasts, posterior_sklearn \u001b[38;5;241m=\u001b[39m GMM_sklearn(\u001b[43mx_unlabeled\u001b[49m, weights, means, covariances)\n\u001b[1;32m      8\u001b[0m output_df \u001b[38;5;241m=\u001b[39m pd\u001b[38;5;241m.\u001b[39mDataFrame({\u001b[38;5;124m'\u001b[39m\u001b[38;5;124msemisupervised_forecasts\u001b[39m\u001b[38;5;124m'\u001b[39m: semisupervised_forecasts,\n\u001b[1;32m      9\u001b[0m                           \u001b[38;5;124m'\u001b[39m\u001b[38;5;124msemisupervised_posterior\u001b[39m\u001b[38;5;124m'\u001b[39m: semisupervised_posterior[:, \u001b[38;5;241m1\u001b[39m],\n\u001b[1;32m     10\u001b[0m                           \u001b[38;5;124m'\u001b[39m\u001b[38;5;124msklearn_forecasts\u001b[39m\u001b[38;5;124m'\u001b[39m: sklearn_forecasts,\n\u001b[1;32m     11\u001b[0m                           \u001b[38;5;124m'\u001b[39m\u001b[38;5;124mposterior_sklearn\u001b[39m\u001b[38;5;124m'\u001b[39m: posterior_sklearn})\n\u001b[1;32m     13\u001b[0m \u001b[38;5;28mprint\u001b[39m(\u001b[38;5;124m\"\u001b[39m\u001b[38;5;130;01m\\n\u001b[39;00m\u001b[38;5;132;01m%s\u001b[39;00m\u001b[38;5;132;01m%%\u001b[39;00m\u001b[38;5;124m of forecasts matched.\u001b[39m\u001b[38;5;124m\"\u001b[39m \u001b[38;5;241m%\u001b[39m (output_df[output_df[\u001b[38;5;124m\"\u001b[39m\u001b[38;5;124msemisupervised_forecasts\u001b[39m\u001b[38;5;124m\"\u001b[39m] \u001b[38;5;241m==\u001b[39m output_df[\u001b[38;5;124m\"\u001b[39m\u001b[38;5;124msklearn_forecasts\u001b[39m\u001b[38;5;124m\"\u001b[39m]]\u001b[38;5;241m.\u001b[39mshape[\u001b[38;5;241m0\u001b[39m] \u001b[38;5;241m/\u001b[39moutput_df\u001b[38;5;241m.\u001b[39mshape[\u001b[38;5;241m0\u001b[39m] \u001b[38;5;241m*\u001b[39m \u001b[38;5;241m100\u001b[39m))\n",
      "\u001b[0;31mNameError\u001b[0m: name 'x_unlabeled' is not defined"
     ]
    }
   ],
   "source": [
    "# Compare the forecats with Scikit-learn API\n",
    "learned_params = learn_params(x, y)\n",
    "weights = [1 - learned_params[\"phi\"], learned_params[\"phi\"]]\n",
    "means = [learned_params[\"mu0\"], learned_params[\"mu1\"]]\n",
    "covariances = [learned_params[\"sigma0\"], learned_params[\"sigma1\"]]\n",
    "sklearn_forecasts, posterior_sklearn = GMM_sklearn(x_unlabeled, weights, means, covariances)\n",
    "\n",
    "output_df = pd.DataFrame({'semisupervised_forecasts': semisupervised_forecasts,\n",
    "                          'semisupervised_posterior': semisupervised_posterior[:, 1],\n",
    "                          'sklearn_forecasts': sklearn_forecasts,\n",
    "                          'posterior_sklearn': posterior_sklearn})\n",
    "\n",
    "print(\"\\n%s%% of forecasts matched.\" % (output_df[output_df[\"semisupervised_forecasts\"] == output_df[\"sklearn_forecasts\"]].shape[0] /output_df.shape[0] * 100))\n"
   ]
  },
  {
   "cell_type": "code",
   "execution_count": null,
   "id": "f7b695e5-e62d-499f-8416-a2bff98cd312",
   "metadata": {},
   "outputs": [],
   "source": []
  },
  {
   "cell_type": "code",
   "execution_count": null,
   "id": "79970f2f-d3ae-470a-86aa-bba0be16894c",
   "metadata": {},
   "outputs": [],
   "source": []
  },
  {
   "cell_type": "code",
   "execution_count": null,
   "id": "dc35d3c7-5ef6-43fa-9713-6c6a2bf594da",
   "metadata": {},
   "outputs": [],
   "source": []
  },
  {
   "cell_type": "code",
   "execution_count": 48,
   "id": "77247a37-0020-4589-b2b5-0d48cbaf1e0a",
   "metadata": {},
   "outputs": [],
   "source": []
  },
  {
   "cell_type": "code",
   "execution_count": null,
   "id": "bd7c1ff1-03b3-4e4e-a05a-3db0b9541f23",
   "metadata": {},
   "outputs": [],
   "source": []
  },
  {
   "cell_type": "code",
   "execution_count": null,
   "id": "c7499997-671d-4810-ba40-80ac38fa04d7",
   "metadata": {},
   "outputs": [],
   "source": []
  },
  {
   "cell_type": "code",
   "execution_count": null,
   "id": "683bf7ef-16bd-40cc-b172-df41950c2f8a",
   "metadata": {},
   "outputs": [],
   "source": []
  },
  {
   "cell_type": "code",
   "execution_count": null,
   "id": "f25fd2be-573f-48f5-827b-b2f37e790774",
   "metadata": {},
   "outputs": [],
   "source": []
  },
  {
   "cell_type": "code",
   "execution_count": null,
   "id": "023c4b92-3c20-40ec-87da-19ad01652078",
   "metadata": {},
   "outputs": [],
   "source": []
  },
  {
   "cell_type": "code",
   "execution_count": null,
   "id": "1577e3f7-f6d6-4994-80dd-58ced581dc1f",
   "metadata": {},
   "outputs": [],
   "source": []
  },
  {
   "cell_type": "code",
   "execution_count": null,
   "id": "6301340f-4278-429b-a8cc-d86b1efbd719",
   "metadata": {},
   "outputs": [],
   "source": []
  },
  {
   "cell_type": "code",
   "execution_count": null,
   "id": "3e118f93-7665-4e78-9ad2-e5f5c5030e92",
   "metadata": {},
   "outputs": [],
   "source": []
  },
  {
   "cell_type": "code",
   "execution_count": null,
   "id": "3ade2af1-1888-46c6-b618-02edc7d73d76",
   "metadata": {},
   "outputs": [],
   "source": []
  },
  {
   "cell_type": "code",
   "execution_count": null,
   "id": "c3989445-38d1-4b76-b230-e229e5992204",
   "metadata": {},
   "outputs": [],
   "source": []
  }
 ],
 "metadata": {
  "kernelspec": {
   "display_name": "Python 3 (ipykernel)",
   "language": "python",
   "name": "python3"
  },
  "language_info": {
   "codemirror_mode": {
    "name": "ipython",
    "version": 3
   },
   "file_extension": ".py",
   "mimetype": "text/x-python",
   "name": "python",
   "nbconvert_exporter": "python",
   "pygments_lexer": "ipython3",
   "version": "3.9.12"
  }
 },
 "nbformat": 4,
 "nbformat_minor": 5
}
