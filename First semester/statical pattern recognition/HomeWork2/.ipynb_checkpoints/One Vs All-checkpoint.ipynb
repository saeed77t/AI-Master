{
 "cells": [
  {
   "cell_type": "code",
   "execution_count": 88,
   "id": "406b2b97-1425-4b77-9556-2e96e2c4df1d",
   "metadata": {},
   "outputs": [],
   "source": [
    "import numpy as np \n",
    "import pandas as pd \n",
    "import matplotlib.pyplot as plt\n",
    "\n",
    "Data = pd.read_csv('seed.txt',header=None, sep=\"\\s+\", usecols=[0,1,2,3,4,5,6,7], names=['f1','f2','f3','f4','f5','f6','f7', 'label'])\n"
   ]
  },
  {
   "cell_type": "code",
   "execution_count": 89,
   "id": "750d59a9-6eca-4ad5-941e-5e071d8397be",
   "metadata": {},
   "outputs": [],
   "source": [
    "\n",
    "class PreprocessData:\n",
    "    def NomalizeData(Data):\n",
    "        lenght = len(Data)\n",
    "        normalizedData = []\n",
    "        for i in range (lenght):\n",
    "            normalizedData.append(float((Data[i] - min(Data) ) / ( max(Data) - min(Data)) ))\n",
    "            \n",
    "        return normalizedData\n",
    "    \n",
    "    def TestAndTrain(Data , PercentageOfTrainData):\n",
    "        PercentageOfTrainData = float(PercentageOfTrainData / 100)\n",
    "        Train_DataFrame = Data.sample(frac=PercentageOfTrainData)\n",
    "        Test_DataFrame =Data.drop(Train_DataFrame.index)\n",
    "        \n",
    "        return Train_DataFrame , Test_DataFrame"
   ]
  },
  {
   "cell_type": "code",
   "execution_count": 90,
   "id": "25cbf7ed-db3e-4254-b484-6b1e68af0ad7",
   "metadata": {},
   "outputs": [],
   "source": [
    "#devide data to test and train \n",
    "Dataset = PreprocessData.TestAndTrain(Data , 80)\n",
    "\n",
    "TrainData = Dataset[0]\n",
    "TestData = Dataset[1]\n",
    "X = TrainData[['f1','f2','f3','f4','f5','f6','f7']].to_numpy()\n",
    "Xnonbias = X\n",
    "X= np.c_[np.ones((len(X) , 1)) , X]\n",
    "Y = TrainData['label'].to_numpy()\n",
    "\n",
    "xtest =  TestData[['f1','f2','f3','f4','f5','f6','f7']].to_numpy()\n",
    "ytest =  TestData['label'].to_numpy()\n",
    "\n",
    "\n"
   ]
  },
  {
   "cell_type": "code",
   "execution_count": 91,
   "id": "ea41bdaa-9900-465a-9f42-df24842dbb06",
   "metadata": {},
   "outputs": [],
   "source": [
    "TrainData1 = TrainData[TrainData.label == 1]\n",
    "TrainData2 = TrainData[TrainData.label == 2]\n",
    "TrainData3 = TrainData[TrainData.label == 3]"
   ]
  },
  {
   "cell_type": "code",
   "execution_count": 92,
   "id": "9d8eea6c-4652-40b2-a514-45b992900c5d",
   "metadata": {},
   "outputs": [],
   "source": [
    "#defining the functions of logestic \n",
    "\n",
    "def sigmoid(z):\n",
    "    return 1.0/(1+ np.exp(-1*z))\n",
    "\n",
    "\n",
    "\n",
    "def hypotesis( X , theta):\n",
    "    z = np.dot(X , theta)\n",
    "    yHat = sigmoid(z)\n",
    "    return yHat\n",
    "\n",
    "def cost( X , theta , label):\n",
    "    yHat = hypotesis(X , theta)\n",
    "    err = np.dot(-y , np.log(yHat)) - np.dot((1-y) , np.log(1-yHat))\n",
    "    return err/len(X)"
   ]
  },
  {
   "cell_type": "code",
   "execution_count": 95,
   "id": "dcff6610-8146-41a2-a686-95b1d5147aff",
   "metadata": {},
   "outputs": [],
   "source": [
    "#defining functions \n",
    "def sigmoid(z):\n",
    "    return 1.0/(1+ np.exp(-1*z))\n",
    "\n",
    "def hypotesis( X , theta):\n",
    "    z = np.dot(X , theta)\n",
    "    yHat = sigmoid(z)\n",
    "    return yHat\n",
    "def error(X , theta , y ,classin):\n",
    "    cost = 0\n",
    "    for i , j in zip(X , y):\n",
    "        x_bar = np.array(np.insert(i, 0, 1))\n",
    "        y_hat = hypotesis(x_bar, theta)\n",
    "        classin = 1.0 if y == classin else 0.0\n",
    "        cost += classin * np.log(y_hat) + (1.0 - classin) * np.log(1 - y_hat)\n",
    "        \n",
    "    return cost   \n",
    "    \n",
    "def train( input_var, label, itrations):\n",
    "    \n",
    "    for a in range(itrations):\n",
    "        \n",
    "        \n",
    "        for i , xy in enumerate(zip(input_var , label)):\n",
    "            \n",
    "        "
   ]
  },
  {
   "cell_type": "code",
   "execution_count": null,
   "id": "aea724d5-28ea-42a8-81d6-950f0830c884",
   "metadata": {},
   "outputs": [],
   "source": []
  },
  {
   "cell_type": "code",
   "execution_count": 97,
   "id": "cab2456b-3ea4-4882-8c24-f2b4493bef7c",
   "metadata": {},
   "outputs": [
    {
     "name": "stdout",
     "output_type": "stream",
     "text": [
      "(1, 4)\n",
      "(2, 5)\n",
      "(3, 6)\n"
     ]
    }
   ],
   "source": []
  },
  {
   "cell_type": "code",
   "execution_count": null,
   "id": "f95c1f90-64c9-43b4-a105-dcb258b82949",
   "metadata": {},
   "outputs": [],
   "source": []
  },
  {
   "cell_type": "code",
   "execution_count": null,
   "id": "c3a81047-419f-4aa5-9333-8e1f3ebc5eb8",
   "metadata": {},
   "outputs": [],
   "source": []
  }
 ],
 "metadata": {
  "kernelspec": {
   "display_name": "Python 3 (ipykernel)",
   "language": "python",
   "name": "python3"
  },
  "language_info": {
   "codemirror_mode": {
    "name": "ipython",
    "version": 3
   },
   "file_extension": ".py",
   "mimetype": "text/x-python",
   "name": "python",
   "nbconvert_exporter": "python",
   "pygments_lexer": "ipython3",
   "version": "3.9.12"
  }
 },
 "nbformat": 4,
 "nbformat_minor": 5
}
