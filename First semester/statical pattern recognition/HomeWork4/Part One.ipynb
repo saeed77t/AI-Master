{
 "cells": [
  {
   "cell_type": "code",
   "execution_count": 1,
   "id": "83e841f4",
   "metadata": {},
   "outputs": [],
   "source": [
    "import numpy as np \n",
    "import pandas as pd \n",
    "import matplotlib.pyplot as plt\n"
   ]
  },
  {
   "cell_type": "code",
   "execution_count": 45,
   "id": "c2b59f4e-4ed1-40bc-b33f-a92056298282",
   "metadata": {},
   "outputs": [],
   "source": [
    "Data1 = pd.read_csv('datasets/vote.txt',sep=\"\\s+\",header=None)\n",
    "Data2 = pd.read_csv('datasets/kr-vs-kp.txt',sep=\"\\s+\",header=None)\n",
    "Data3 = pd.read_csv('datasets/hepatitis.txt',sep=\"\\s+\",header=None)\n",
    "Data4 = pd.read_csv('datasets/diabetes.txt',sep=\"\\s+\",header=None)\n",
    "Data5 = pd.read_csv('datasets/anneal.txt',sep=\"\\s+\",header=None)"
   ]
  },
  {
   "cell_type": "code",
   "execution_count": 59,
   "id": "ac64e877-3737-4d8f-a392-e61918f83ce4",
   "metadata": {},
   "outputs": [],
   "source": [
    "class PreprocessData:\n",
    "    def NomalizeData(Data):\n",
    "        lenght = len(Data)\n",
    "        normalizedData = []\n",
    "        for i in range (lenght):\n",
    "            normalizedData.append(float((Data[i] - min(Data) ) / ( max(Data) - min(Data)) ))\n",
    "            \n",
    "        return normalizedData\n",
    "    \n",
    "    def TestAndTrain(Data , PercentageOfTrainData):\n",
    "        PercentageOfTrainData = float(PercentageOfTrainData / 100)\n",
    "        Train_DataFrame = Data.sample(frac=PercentageOfTrainData)\n",
    "        Test_DataFrame =Data.drop(Train_DataFrame.index)\n",
    "        \n",
    "        return Train_DataFrame , Test_DataFrame\n",
    "\n",
    "    \n",
    "    \n",
    "def extractlabel(Data):\n",
    "    m = Data.shape[1]\n",
    "    label = Data[0]\n",
    "    Data = Data.drop(Data.columns[[0]], axis=1)\n",
    "    return Data , label    "
   ]
  },
  {
   "cell_type": "code",
   "execution_count": 49,
   "id": "a25d9c51-46f5-41d5-82fb-fdc1d611d342",
   "metadata": {},
   "outputs": [],
   "source": [
    "#devide data to test and train \n",
    "Dataset1 = PreprocessData.TestAndTrain(Data1 , 80)\n",
    "Dataset2 = PreprocessData.TestAndTrain(Data2 , 80)\n",
    "Dataset3 = PreprocessData.TestAndTrain(Data3 , 80)\n",
    "Dataset4 = PreprocessData.TestAndTrain(Data4 , 80)\n",
    "Dataset5 = PreprocessData.TestAndTrain(Data5 , 80)\n",
    "TrainData1 = Dataset1[0]\n",
    "TestData1 = Dataset1[1]\n",
    "TrainData2 = Dataset2[0]\n",
    "TestData2 = Dataset2[1]\n",
    "TrainData3 = Dataset3[0]\n",
    "TestData3 = Dataset3[1]\n",
    "TrainData4 = Dataset4[0]\n",
    "TestData4 = Dataset4[1]\n",
    "TrainData5 = Dataset5[0]\n",
    "TestData5 = Dataset5[1]"
   ]
  },
  {
   "cell_type": "code",
   "execution_count": 60,
   "id": "8c430414-76d0-4c4f-aed5-7b857db52a78",
   "metadata": {},
   "outputs": [],
   "source": [
    "#devide Data and Lable \n",
    "train1 , labeltrain1 =extractlabel(TrainData1)\n",
    "test1 , labeltest1 = extractlabel(TestData1)\n",
    "train2 , labeltrain2 =extractlabel(TrainData2)\n",
    "test2 , labeltest2 = extractlabel(TestData2)\n",
    "train3 , labeltrain3 =extractlabel(TrainData3)\n",
    "test3 , labeltest3 = extractlabel(TestData3)\n",
    "train4 , labeltrain4 =extractlabel(TrainData4)\n",
    "test4 , labeltest4 = extractlabel(TestData4)\n",
    "train5 , labeltrain5 =extractlabel(TrainData5)\n",
    "test5 , labeltest5 = extractlabel(TestData5)"
   ]
  },
  {
   "cell_type": "code",
   "execution_count": null,
   "id": "2a1d28f5-2311-46c5-b3eb-665bf70032ff",
   "metadata": {},
   "outputs": [],
   "source": []
  },
  {
   "cell_type": "code",
   "execution_count": null,
   "id": "8e87c2e7-b357-4cbf-951e-e76b45bfeb0c",
   "metadata": {},
   "outputs": [],
   "source": []
  },
  {
   "cell_type": "code",
   "execution_count": null,
   "id": "fd4ac379-b014-48d6-a2c6-2bf3dfa28fdd",
   "metadata": {},
   "outputs": [],
   "source": []
  },
  {
   "cell_type": "code",
   "execution_count": null,
   "id": "fbe83b8b-855d-4a18-aaee-2b87d8373c89",
   "metadata": {},
   "outputs": [],
   "source": []
  },
  {
   "cell_type": "code",
   "execution_count": null,
   "id": "8666d138-c2cf-4959-a0e2-88005e651f30",
   "metadata": {},
   "outputs": [],
   "source": []
  },
  {
   "cell_type": "code",
   "execution_count": null,
   "id": "e0f0f4a0-f3fb-4bec-ae08-686d62d37a6d",
   "metadata": {},
   "outputs": [],
   "source": []
  },
  {
   "cell_type": "code",
   "execution_count": null,
   "id": "302012d2-bdac-4716-9178-1d0e45cd8a10",
   "metadata": {},
   "outputs": [],
   "source": []
  },
  {
   "cell_type": "code",
   "execution_count": null,
   "id": "600e9f12-f80e-4ddf-bbe7-4a07d428df03",
   "metadata": {},
   "outputs": [],
   "source": []
  }
 ],
 "metadata": {
  "kernelspec": {
   "display_name": "Python 3 (ipykernel)",
   "language": "python",
   "name": "python3"
  },
  "language_info": {
   "codemirror_mode": {
    "name": "ipython",
    "version": 3
   },
   "file_extension": ".py",
   "mimetype": "text/x-python",
   "name": "python",
   "nbconvert_exporter": "python",
   "pygments_lexer": "ipython3",
   "version": "3.9.12"
  }
 },
 "nbformat": 4,
 "nbformat_minor": 5
}
