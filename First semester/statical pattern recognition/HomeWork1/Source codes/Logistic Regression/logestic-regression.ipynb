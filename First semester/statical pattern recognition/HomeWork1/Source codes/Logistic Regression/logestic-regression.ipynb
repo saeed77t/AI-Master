{
 "cells": [
  {
   "cell_type": "code",
   "execution_count": 141,
   "metadata": {},
   "outputs": [],
   "source": [
    "# Libraries\n",
    "import numpy as np\n",
    "import matplotlib.pyplot as plt"
   ]
  },
  {
   "cell_type": "code",
   "execution_count": 142,
   "metadata": {},
   "outputs": [],
   "source": [
    "import pandas as pd\n",
    "from sklearn.model_selection import train_test_split\n",
    "\n",
    "# Reading data\n",
    "data = pd.read_csv(\"seed.txt\", header=None, sep=\"\\s+\", usecols=[2, 6, 7], names=['f1', 'f2', 'label'])\n",
    "# Removing eneties from 3rd class\n",
    "data = data[data.label != 3]\n",
    "data[\"label\"].replace({1: 0.,2: 1.}, inplace=True)\n",
    "X = data[['f1','f2']].to_numpy()\n",
    "y = data['label'].to_numpy()\n",
    "\n",
    "X_train, X_test, y_train, y_test = train_test_split(X, y, stratify=y, test_size=0.3)"
   ]
  },
  {
   "cell_type": "markdown",
   "metadata": {},
   "source": [
    "The loss function (also known as a cost function) is a function that is used to measure how much your prediction differs from the labels. Binary cross entropy is the function that is used in this article for the binary logistic regression algorithm, which yields the error value.\n",
    "\n"
   ]
  },
  {
   "cell_type": "code",
   "execution_count": 143,
   "metadata": {},
   "outputs": [],
   "source": [
    "def sigmoid(x):    \n",
    "    return 1 / (1 + np.exp(-x))\n",
    "\n",
    "def compute_loss(y, y_pred):\n",
    "    y_zero_loss = y * np.log(y_pred)\n",
    "    y_one_loss = (1-y) * np.log(1 - y_pred)\n",
    "    return -np.mean(y_zero_loss + y_one_loss)\n",
    "\n",
    "def train(x, y, alpha, weight, bias, iterations): \n",
    "    m = x.shape[0]\n",
    "    loss_history = []\n",
    "    for i in range(iterations): \n",
    "        y_pred = sigmoid(np.dot(x, weight) + bias)\n",
    "\n",
    "        weight = weight - alpha * (1/m * np.dot(x.T, (y_pred - y)))\n",
    "        bias = bias - alpha * (1/m * np.sum(y_pred - y))\n",
    "\n",
    "        # loss = compute_loss(y, y_pred)\n",
    "        loss = (-1/m) * np.sum((y.T @ np.log(y_pred)) + (1 - y).T @ np.log(1 - y_pred))\n",
    "        loss_history.append(loss)\n",
    "    \n",
    "    return weight, bias, loss_history\n",
    "\n",
    "def decision_boundary(x, weight, bias):\n",
    "    return - (bias + np.dot(weight[0], x)) / weight[1]\n",
    "\n",
    "def predict(x, weight, bias):\n",
    "    P = sigmoid(np.dot(x, weight) + bias)\n",
    "    mid_probs_num = np.sum([P==0.5])\n",
    "    random_labels = np.random.randint(2, size = mid_probs_num)\n",
    "    P[P == 0.5] = random_labels\n",
    "    return (P > 0.5).astype(int)"
   ]
  },
  {
   "cell_type": "code",
   "execution_count": 144,
   "metadata": {},
   "outputs": [],
   "source": [
    "weights = np.array(np.random.rand(X_train.shape[1]), dtype='float64')\n",
    "weights = np.zeros(X.shape[1])\n",
    "bias = 0\n",
    "iterations = 25000\n",
    "alpha = 0.25\n",
    "m = len(y_train)\n",
    "\n",
    "(weight, bias, loss_history) = train(X_train, y_train, alpha, weights, bias, iterations)"
   ]
  },
  {
   "cell_type": "code",
   "execution_count": 145,
   "metadata": {},
   "outputs": [
    {
     "data": {
      "image/png": "[encoded data removed]",
      "text/plain": [
       "<Figure size 504x360 with 1 Axes>"
      ]
     },
     "metadata": {
      "needs_background": "light"
     },
     "output_type": "display_data"
    }
   ],
   "source": [
    "plt.figure(figsize=(7,5))\n",
    "plt.plot(loss_history, 'b', markersize = 1)\n",
    "plt.title('Cost / Iterations')\n",
    "plt.ylabel('Cost')\n",
    "plt.xlabel('Iterations')\n",
    "plt.show()"
   ]
  },
  {
   "cell_type": "code",
   "execution_count": 146,
   "metadata": {},
   "outputs": [
    {
     "data": {
      "image/png": "[encoded data removed]",
      "text/plain": [
       "<Figure size 576x432 with 1 Axes>"
      ]
     },
     "metadata": {
      "needs_background": "light"
     },
     "output_type": "display_data"
    },
    {
     "name": "stdout",
     "output_type": "stream",
     "text": [
      "The parameter values w0 = -17.486836527219047, w1: = 7.588180913847407 and bias = -26.82907961034293\n",
      "Train accuracy: 96.93877551020408\n",
      "Train cost: 0.15832473634946026\n",
      "Decision boundry with the format of \"y = ax + b\":\n"
     ]
    },
    {
     "data": {
      "text/latex": [
       "\\begin{equation*}\n",
       "\\hat{y} = {2.304483343999868}x_1 + {3.5356404802346604}\n",
       "\\end{equation*}\n"
      ],
      "text/plain": [
       "<IPython.core.display.Latex object>"
      ]
     },
     "execution_count": 146,
     "metadata": {},
     "output_type": "execute_result"
    }
   ],
   "source": [
    "from IPython.display import Latex\n",
    "\n",
    "plt.figure(figsize=(8,6))\n",
    "plt.scatter(X_train[y_train == 0, 0], X_train[y_train == 0, 1], s=15, marker='o', c='b', label='Class 1')\n",
    "plt.scatter(X_train[y_train == 1, 0], X_train[y_train == 1, 1], s=15, marker='x', c='r', label='Class 2')\n",
    "x_values = [np.min(X_train[:, 0]), np.max(X_train[:,0])]\n",
    "slope = -weight[0]/weight[1] \n",
    "intercept = -bias/weight[1] \n",
    "y_values = np.dot(slope, x_values) + intercept \n",
    "plt.plot(x_values, y_values, label='Decision Boundary', color='black')\n",
    "plt.legend()\n",
    "plt.show()\n",
    "\n",
    "y_pred_values_train = predict(X_train, weight, bias)\n",
    "train_accuracy = (sum(y_pred_values_train == y_train) / len(y_pred_values_train) * 100)\n",
    "\n",
    "y_pred_train = sigmoid(np.dot(X_train, weight) + bias)\n",
    "cost_train = compute_loss(y_train , y_pred_train)\n",
    "\n",
    "print('The parameter values w0 = {}, w1: = {} and bias = {}'.format(weight[0], weight[1], bias))\n",
    "print('Train accuracy: {}'.format(train_accuracy))\n",
    "print('Train cost: {}'.format(cost_train))\n",
    "print('Decision boundry with the format of \"y = ax + b\":')\n",
    "Latex(f\"\"\"\\\\begin{{equation*}}\n",
    "\\\\hat{{y}} = {{{slope}}}x_1 + {{{intercept}}}\n",
    "\\\\end{{equation*}}\n",
    "\"\"\")"
   ]
  },
  {
   "cell_type": "code",
   "execution_count": 147,
   "metadata": {},
   "outputs": [
    {
     "data": {
      "image/png": "[encoded data removed]",
      "text/plain": [
       "<Figure size 576x432 with 1 Axes>"
      ]
     },
     "metadata": {
      "needs_background": "light"
     },
     "output_type": "display_data"
    },
    {
     "name": "stdout",
     "output_type": "stream",
     "text": [
      "Test accuracy: 100.0\n",
      "Test cost: 0.08241606290876946\n",
      "Decision boundry with the format of \"y = ax + b\":\n"
     ]
    },
    {
     "data": {
      "text/latex": [
       "\\begin{equation*}\n",
       "\\hat{y} = {2.304483343999868}x_1 + {3.5356404802346604}\n",
       "\\end{equation*}\n"
      ],
      "text/plain": [
       "<IPython.core.display.Latex object>"
      ]
     },
     "execution_count": 147,
     "metadata": {},
     "output_type": "execute_result"
    }
   ],
   "source": [
    "plt.figure(figsize=(8,6))\n",
    "plt.scatter(X_test[y_test == 0, 0], X_test[y_test == 0, 1], s=15, marker='o', c='b', label='Class 1')\n",
    "plt.scatter(X_test[y_test == 1, 0], X_test[y_test == 1, 1], s=15, marker='x', c='r', label='Class 2')\n",
    "x_values = [np.min(X_test[:, 0]), np.max(X_test[:,0])]\n",
    "y_values = decision_boundary(x_values, weight, bias)\n",
    "plt.plot(x_values, y_values, label='Decision Boundary', color='black')\n",
    "plt.legend()\n",
    "plt.show()\n",
    "\n",
    "y_pred_values_test = predict(X_test, weight, bias)\n",
    "test_accuracy =  (sum(y_pred_values_test == y_test) / len(y_pred_values_test) * 100)\n",
    "\n",
    "y_pred_test = sigmoid(np.dot(X_test, weight) + bias)\n",
    "cost_test = compute_loss(y_test , y_pred_test)\n",
    "\n",
    "print('Test accuracy: {}'.format(test_accuracy))\n",
    "print('Test cost: {}'.format(cost_test))\n",
    "print('Decision boundry with the format of \"y = ax + b\":')\n",
    "Latex(f\"\"\"\\\\begin{{equation*}}\n",
    "\\\\hat{{y}} = {{{slope}}}x_1 + {{{intercept}}}\n",
    "\\\\end{{equation*}}\n",
    "\"\"\")"
   ]
  }
 ],
 "metadata": {
  "kernelspec": {
   "display_name": "Python 3 (ipykernel)",
   "language": "python",
   "name": "python3"
  },
  "language_info": {
   "codemirror_mode": {
    "name": "ipython",
    "version": 3
   },
   "file_extension": ".py",
   "mimetype": "text/x-python",
   "name": "python",
   "nbconvert_exporter": "python",
   "pygments_lexer": "ipython3",
   "version": "3.9.12"
  },
  "vscode": {
   "interpreter": {
    "hash": "ffc2c986650f75bb84df5ef0f5794d173c138677d61245fd2c4ff2debf2f2371"
   }
  }
 },
 "nbformat": 4,
 "nbformat_minor": 4
}
