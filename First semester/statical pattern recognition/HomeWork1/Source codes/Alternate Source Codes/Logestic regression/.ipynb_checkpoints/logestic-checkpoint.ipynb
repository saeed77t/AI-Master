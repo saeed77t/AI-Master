{
 "cells": [
  {
   "cell_type": "code",
   "execution_count": 297,
   "id": "45808731-6663-458e-a22c-fc03a3d2c4cd",
   "metadata": {},
   "outputs": [],
   "source": [
    "import numpy as np \n",
    "import pandas as pd \n",
    "import matplotlib.pyplot as plt\n",
    "\n",
    "Data = pd.read_csv('seed.txt',header=None, sep=\"\\s+\", usecols=[2, 6, 7], names=['x', 'y', 'label'])"
   ]
  },
  {
   "cell_type": "code",
   "execution_count": 298,
   "id": "d19729d8-dbce-4d53-8e01-aef64e06878b",
   "metadata": {},
   "outputs": [],
   "source": [
    "Data = Data[Data.label != 3]\n",
    "Data['label'].replace({1: 0.,2: 1.}, inplace=True)\n"
   ]
  },
  {
   "cell_type": "code",
   "execution_count": 299,
   "id": "6474aeae-2eaf-436b-b410-ded8c19459e7",
   "metadata": {},
   "outputs": [],
   "source": [
    "class PreprocessData:\n",
    "    def NomalizeData(Data):\n",
    "        lenght = len(Data)\n",
    "        normalizedData = []\n",
    "        for i in range (lenght):\n",
    "            normalizedData.append(float((Data[i] - min(Data) ) / ( max(Data) - min(Data)) ))\n",
    "            \n",
    "        return normalizedData\n",
    "    \n",
    "    def TestAndTrain(Data , PercentageOfTrainData):\n",
    "        PercentageOfTrainData = float(PercentageOfTrainData / 100)\n",
    "        Train_DataFrame = Data.sample(frac=PercentageOfTrainData)\n",
    "        Test_DataFrame =Data.drop(Train_DataFrame.index)\n",
    "        \n",
    "        return Train_DataFrame , Test_DataFrame"
   ]
  },
  {
   "cell_type": "code",
   "execution_count": 300,
   "id": "438dad74-4987-4655-a420-ad02886b1038",
   "metadata": {},
   "outputs": [],
   "source": [
    "#devide data to test and train \n",
    "Dataset = PreprocessData.TestAndTrain(Data , 70)\n",
    "\n",
    "TrainData = Dataset[0]\n",
    "TestData = Dataset[1]\n",
    "X = TrainData[['x' , 'y']].to_numpy()\n",
    "Xnonbias = X\n",
    "X= np.c_[np.ones((len(X) , 1)) , X]\n",
    "Y = TrainData['label'].to_numpy()\n"
   ]
  },
  {
   "cell_type": "code",
   "execution_count": 301,
   "id": "09f410de-46e9-446d-addb-ba9eb1ceec30",
   "metadata": {},
   "outputs": [
    {
     "data": {
      "image/png": "[encoded data removed]",
      "text/plain": [
       "<Figure size 432x288 with 1 Axes>"
      ]
     },
     "metadata": {
      "needs_background": "light"
     },
     "output_type": "display_data"
    }
   ],
   "source": [
    "colors = {0:'blue', 1:'orange'}\n",
    "fig, ax = plt.subplots()\n",
    "grouped = TrainData.groupby('label')\n",
    "for key, group in grouped:\n",
    "    group.plot(ax=ax, kind='scatter', x='x', y='y', label=key, color=colors[key])\n",
    "plt.xlabel('X_0')\n",
    "plt.ylabel('X_1')\n",
    "plt.show()\n"
   ]
  },
  {
   "cell_type": "code",
   "execution_count": 302,
   "id": "e4db5a07-226e-4736-b804-ab2be0f9b13c",
   "metadata": {},
   "outputs": [],
   "source": [
    "#defining functions \n",
    "def sigmoid(z):\n",
    "    return 1.0/(1+ np.exp(-1*z))\n",
    "\n",
    "def hypotesis( X , theta):\n",
    "    z = np.dot(X , theta)\n",
    "    yHat = sigmoid(z)\n",
    "    return yHat\n",
    "def error(X , theta , y ):\n",
    "    yHat = hypotesis(X , theta)\n",
    "    err = np.dot(-y , np.log(yHat)) - np.dot((1-y) , np.log(1-yHat))\n",
    "    return err/len(X)\n",
    "def gradiant(X , theta , y ):\n",
    "    yHat = hypotesis(X , theta)\n",
    "    gradiant = np.dot(X.T , yHat - y)\n",
    "    return gradiant/len(X)\n",
    "def gradiant_descent(X,y,alpha=0.02 , epochs= 20000):\n",
    "    m , n = X.shape\n",
    "    theta = np.zeros((n,))\n",
    "    err_list = []\n",
    "    for i in range(epochs):\n",
    "        err = error(X , theta , y)\n",
    "        err_list.append(err)\n",
    "        grad = gradiant(X , theta , y)\n",
    "        theta -= alpha *grad\n",
    "    return theta , err_list\n",
    "def plot_decision_boundary(X, w, b , y):\n",
    "    \n",
    "    # X --> Inputs\n",
    "    # w --> weights\n",
    "    # b --> bias\n",
    "    \n",
    "    # The Line is y=mx+c\n",
    "    # So, Equate mx+c = w.X + b\n",
    "    # Solving we find m and c\n",
    "    x1 = [min(X[:,0]), max(X[:,0])]\n",
    "    x1 = np.array(x1)\n",
    "    m = -w[0]/w[1]\n",
    "    c = -b/w[1]\n",
    "    x2 = m*x1 + c\n",
    "   \n",
    "    # Plotting\n",
    "    fig = plt.figure(figsize=(10,8))\n",
    "    plt.plot(X[:, 0][y==0], X[:, 1][y==0], \"g^\")\n",
    "    plt.plot(X[:, 0][y==1], X[:, 1][y==1], \"bs\")\n",
    "   \n",
    "    plt.xlabel(\"feature 1\")\n",
    "    plt.ylabel(\"feature 2\")\n",
    "    plt.title('Decision Boundary')\n",
    "    plt.plot(x1, x2, 'y-')\n",
    "    \n"
   ]
  },
  {
   "cell_type": "code",
   "execution_count": 303,
   "id": "3b829a71-ad72-4551-b157-0b538e3ecff1",
   "metadata": {},
   "outputs": [],
   "source": [
    "theta , err_list = gradiant_descent(X , Y)\n"
   ]
  },
  {
   "cell_type": "code",
   "execution_count": 304,
   "id": "484fffb4-4045-4bf2-bdbf-703d7ff711ce",
   "metadata": {},
   "outputs": [],
   "source": [
    "w=[0,0]\n",
    "w[0] = theta[1]\n",
    "w[1] = theta[2]\n",
    "b = theta[0]\n"
   ]
  },
  {
   "cell_type": "code",
   "execution_count": 305,
   "id": "a9afbaf9-a376-4301-87e8-d29b13d53e65",
   "metadata": {},
   "outputs": [
    {
     "data": {
      "image/png": "[encoded data removed]",
      "text/plain": [
       "<Figure size 720x576 with 1 Axes>"
      ]
     },
     "metadata": {
      "needs_background": "light"
     },
     "output_type": "display_data"
    }
   ],
   "source": [
    "preds = sigmoid(np.dot(X, theta) + b)\n",
    "pred_class = []\n",
    "pred_class = [1 if i > 0.5 else 0 for i in preds]\n",
    "plot_decision_boundary( Xnonbias, w , b,Y)\n"
   ]
  },
  {
   "cell_type": "code",
   "execution_count": null,
   "id": "538331ce-cdea-4bfa-9c97-70416302849c",
   "metadata": {},
   "outputs": [],
   "source": []
  }
 ],
 "metadata": {
  "kernelspec": {
   "display_name": "Python 3 (ipykernel)",
   "language": "python",
   "name": "python3"
  },
  "language_info": {
   "codemirror_mode": {
    "name": "ipython",
    "version": 3
   },
   "file_extension": ".py",
   "mimetype": "text/x-python",
   "name": "python",
   "nbconvert_exporter": "python",
   "pygments_lexer": "ipython3",
   "version": "3.9.12"
  }
 },
 "nbformat": 4,
 "nbformat_minor": 5
}
