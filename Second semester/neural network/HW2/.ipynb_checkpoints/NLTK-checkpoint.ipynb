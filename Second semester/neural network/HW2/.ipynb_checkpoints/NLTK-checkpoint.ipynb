{
 "cells": [
  {
   "cell_type": "code",
   "execution_count": null,
   "id": "b5ad1231",
   "metadata": {
    "tags": []
   },
   "outputs": [],
   "source": [
    "import numpy as np\n",
    "import pandas as pd\n",
    "import re\n",
    "from sklearn.preprocessing import OneHotEncoder\n",
    "from sklearn.feature_extraction.text import CountVectorizer\n",
    "from keras.utils import to_categorical\n",
    "from keras.models import Sequential\n",
    "from keras.layers import Dense, SimpleRNN\n",
    "from keras.layers import Dropout\n"
   ]
  },
  {
   "cell_type": "code",
   "execution_count": 3,
   "id": "45ef519a",
   "metadata": {
    "tags": []
   },
   "outputs": [],
   "source": [
    "import pandas as pd\n",
    "import numpy as np\n",
    "import re\n",
    "\n",
    "# Read the Excel file into a pandas DataFrame\n",
    "df = pd.read_csv('Dataset/Text_Emotion_Data.csv')\n",
    "\n",
    "# Define a function to tokenize text into word sequences and remove stopwords\n",
    "def tokenize_text(text):\n",
    "    # Remove non-letter characters using the defined pattern\n",
    "    pattern = r'[^a-zA-Z]'\n",
    "    text = re.sub(pattern, ' ', text)\n",
    "    # Convert the text to lowercase\n",
    "    text = text.lower()\n",
    "    # Tokenize the text into word sequences\n",
    "    word_sequences = text.split()\n",
    "    # Remove stopwords using the provided list\n",
    "    with open('Dataset/stopwords.txt', 'r') as f:\n",
    "        stopwords = f.read().splitlines()\n",
    "    # Remove words with length less than or equal to 2\n",
    "    word_sequences = [word for word in word_sequences if (word not in stopwords and len(word) > 2)]\n",
    "    return word_sequences\n",
    "\n",
    "# Tokenize each row of the text column into word sequences using the defined function\n",
    "df['word_sequences'] = df['Text'].apply(tokenize_text)\n",
    "\n",
    "# Find the maximum length of a word sequence\n",
    "max_len = max(df['word_sequences'].apply(len))\n",
    "\n",
    "# Define a function to pad the sequences to the maximum length\n",
    "def pad_sequence(sequence):\n",
    "    padded_sequence = sequence[:max_len] + ['']*(max_len-len(sequence))\n",
    "    return padded_sequence\n",
    "\n",
    "# Pad each sequence to the maximum length\n",
    "df['word_sequences'] = df['word_sequences'].apply(pad_sequence)\n",
    "\n",
    "# Combine all word sequences into a single list\n",
    "all_sequences = []\n",
    "for seq in df['word_sequences']:\n",
    "    all_sequences.append(seq)\n",
    "\n",
    "# Create a dictionary with unique words as keys and their corresponding index as values\n",
    "word_dict = {}\n",
    "index = 0\n",
    "for seq in all_sequences:\n",
    "    for word in seq:\n",
    "        if word not in word_dict:\n",
    "            word_dict[word] = index\n",
    "            index += 1\n",
    "\n",
    "# Convert each word sequence into a numerical vector with the corresponding index in the dictionary\n",
    "num_vectors = []\n",
    "for sequence in all_sequences:\n",
    "    vector = []\n",
    "    for word in sequence:\n",
    "        if word in word_dict:\n",
    "            index = word_dict[word]\n",
    "            vector.append(index)\n",
    "    num_vectors.append(vector)\n",
    "\n",
    "# Convert the list of numerical vectors into a numpy array\n",
    "X = np.array(num_vectors)\n",
    "\n",
    "# Define the labels\n",
    "labels = df['Label'].values\n",
    "classes = np.unique(labels)\n",
    "label_map = {label: i for i, label in enumerate(classes)}\n",
    "y = np.array([label_map[label] for label in labels])\n",
    "\n",
    "# Split last 150 text of each class for the test dataset\n",
    "test_data = []\n",
    "for c in classes:\n",
    "    class_data = [(X[i], y[i]) for i in range(len(X)) if y[i] == label_map[c]]\n",
    "    test_data.extend(class_data[-150:])\n",
    "\n",
    "# Use the rest of the data for training\n",
    "train_data = []\n",
    "for i in range(len(X)):\n",
    "    found = False\n",
    "    for j in range(len(test_data)):\n",
    "        if all(X[i] == test_data[j][0]) and y[i] == test_data[j][1]:\n",
    "            found = True\n",
    "            break\n",
    "    if not found:\n",
    "        train_data.append((X[i], y[i]))\n",
    "\n",
    "# Separate the input features and labels for the training and test sets\n",
    "X_train, y_train = zip(*train_data)\n",
    "X_test, y_test = zip(*test_data)\n",
    "\n",
    "\n",
    "X_train = np.array(X_train)\n",
    "y_train = np.array(y_train)\n",
    "\n",
    "X_test = np.array(X_test)\n",
    "y_test = np.array(y_test)\n",
    "\n"
   ]
  },
  {
   "cell_type": "code",
   "execution_count": 4,
   "id": "3db89073",
   "metadata": {
    "tags": []
   },
   "outputs": [
    {
     "name": "stdout",
     "output_type": "stream",
     "text": [
      "X_train shape : (2500, 27)\n",
      "X_test shape : (750, 27)\n",
      "y_train shape : (2500,)\n",
      "y_test shape : (750,)\n",
      "word_dict len : 6623\n",
      "max_len  : 27\n"
     ]
    },
    {
     "data": {
      "text/plain": [
       "(27,)"
      ]
     },
     "execution_count": 4,
     "metadata": {},
     "output_type": "execute_result"
    }
   ],
   "source": [
    "print('X_train shape :', X_train.shape)\n",
    "print('X_test shape :' ,X_test.shape)\n",
    "print('y_train shape :' ,y_train.shape)\n",
    "print('y_test shape :', y_test.shape)\n",
    "print('word_dict len :', len(word_dict))\n",
    "print('max_len  :' ,max_len) \n",
    "X_train[20]"
   ]
  },
  {
   "cell_type": "code",
   "execution_count": 85,
   "id": "646319f2",
   "metadata": {
    "execution": {
     "iopub.execute_input": "2023-05-10T08:58:20.428547Z",
     "iopub.status.busy": "2023-05-10T08:58:20.427870Z",
     "iopub.status.idle": "2023-05-10T08:58:20.448776Z",
     "shell.execute_reply": "2023-05-10T08:58:20.447559Z",
     "shell.execute_reply.started": "2023-05-10T08:58:20.428503Z"
    }
   },
   "outputs": [],
   "source": [
    "# Reshape the input data to have a third dimension\n",
    "X_train = np.reshape(X_train, (X_train.shape[0], X_train.shape[1], 1))\n",
    "X_test = np.reshape(X_test, (X_test.shape[0], X_test.shape[1], 1))\n",
    "# Convert y_train to one-hot encoding\n",
    "y_train = to_categorical(y_train, num_classes=5)\n",
    "y_test= to_categorical(y_test, num_classes=5)"
   ]
  },
  {
   "cell_type": "code",
   "execution_count": 5,
   "id": "475c53b4",
   "metadata": {
    "tags": []
   },
   "outputs": [
    {
     "ename": "NameError",
     "evalue": "name 'Sequential' is not defined",
     "output_type": "error",
     "traceback": [
      "\u001b[0;31m---------------------------------------------------------------------------\u001b[0m",
      "\u001b[0;31mNameError\u001b[0m                                 Traceback (most recent call last)",
      "Input \u001b[0;32mIn [5]\u001b[0m, in \u001b[0;36m<cell line: 2>\u001b[0;34m()\u001b[0m\n\u001b[1;32m      1\u001b[0m \u001b[38;5;66;03m# Define the model architecture\u001b[39;00m\n\u001b[0;32m----> 2\u001b[0m model \u001b[38;5;241m=\u001b[39m \u001b[43mSequential\u001b[49m()\n\u001b[1;32m      3\u001b[0m model\u001b[38;5;241m.\u001b[39madd(SimpleRNN(\u001b[38;5;241m64\u001b[39m, input_shape\u001b[38;5;241m=\u001b[39m(max_len, \u001b[38;5;241m1\u001b[39m), return_sequences\u001b[38;5;241m=\u001b[39m\u001b[38;5;28;01mTrue\u001b[39;00m))\n\u001b[1;32m      4\u001b[0m model\u001b[38;5;241m.\u001b[39madd(Dropout(\u001b[38;5;241m0.2\u001b[39m))\n",
      "\u001b[0;31mNameError\u001b[0m: name 'Sequential' is not defined"
     ]
    }
   ],
   "source": [
    "# Define the model architecture\n",
    "model = Sequential()\n",
    "model.add(SimpleRNN(64, input_shape=(max_len, 1), return_sequences=True))\n",
    "model.add(Dropout(0.2))\n",
    "model.add(SimpleRNN(64))\n",
    "model.add(Dropout(0.2))\n",
    "model.add(Dense(len(classes), activation='softmax'))\n",
    "\n",
    "# Compile the model\n",
    "model.compile(optimizer='adam', loss='categorical_crossentropy', metrics=['accuracy'])\n",
    "\n",
    "# Train the model\n",
    "model.fit(X_train, y_train, epochs=1000, batch_size=32)\n",
    "\n",
    "# Evaluate the model on the train dataset\n",
    "train_loss, train_acc = model.evaluate(X_train, y_train, verbose=0)\n",
    "print('Train Loss:', train_loss)\n",
    "print('Train Accuracy:', train_acc)\n",
    "\n",
    "# Evaluate the model on the test dataset\n",
    "test_loss, test_acc = model.evaluate(X_test, y_test, verbose=0)\n",
    "print('Test Loss:', test_loss)\n",
    "print('Test Accuracy:', test_acc)\n"
   ]
  },
  {
   "cell_type": "code",
   "execution_count": null,
   "id": "02d36a13",
   "metadata": {
    "tags": []
   },
   "outputs": [],
   "source": []
  },
  {
   "cell_type": "code",
   "execution_count": null,
   "id": "06bd02e6",
   "metadata": {
    "tags": []
   },
   "outputs": [],
   "source": []
  },
  {
   "cell_type": "code",
   "execution_count": null,
   "id": "49013dac",
   "metadata": {
    "tags": []
   },
   "outputs": [],
   "source": []
  },
  {
   "cell_type": "code",
   "execution_count": null,
   "id": "c99062e0",
   "metadata": {
    "tags": []
   },
   "outputs": [],
   "source": []
  },
  {
   "cell_type": "code",
   "execution_count": null,
   "id": "0ae8dcd4",
   "metadata": {
    "tags": []
   },
   "outputs": [],
   "source": []
  },
  {
   "cell_type": "code",
   "execution_count": null,
   "id": "a96493c9",
   "metadata": {},
   "outputs": [],
   "source": []
  },
  {
   "cell_type": "code",
   "execution_count": null,
   "id": "dbbf9a98",
   "metadata": {},
   "outputs": [],
   "source": []
  },
  {
   "cell_type": "code",
   "execution_count": null,
   "id": "b8a622ae",
   "metadata": {},
   "outputs": [],
   "source": []
  },
  {
   "cell_type": "code",
   "execution_count": null,
   "id": "9cd28ca6",
   "metadata": {},
   "outputs": [],
   "source": []
  },
  {
   "cell_type": "code",
   "execution_count": null,
   "id": "82184abf",
   "metadata": {},
   "outputs": [],
   "source": []
  },
  {
   "cell_type": "code",
   "execution_count": null,
   "id": "15d3c7ee",
   "metadata": {
    "tags": []
   },
   "outputs": [],
   "source": []
  },
  {
   "cell_type": "code",
   "execution_count": null,
   "id": "479394cb",
   "metadata": {},
   "outputs": [],
   "source": []
  },
  {
   "cell_type": "code",
   "execution_count": null,
   "id": "cc1812f4",
   "metadata": {},
   "outputs": [],
   "source": []
  }
 ],
 "metadata": {
  "kernelspec": {
   "display_name": "Python 3 (ipykernel)",
   "language": "python",
   "name": "python3"
  },
  "language_info": {
   "codemirror_mode": {
    "name": "ipython",
    "version": 3
   },
   "file_extension": ".py",
   "mimetype": "text/x-python",
   "name": "python",
   "nbconvert_exporter": "python",
   "pygments_lexer": "ipython3",
   "version": "3.9.12"
  }
 },
 "nbformat": 4,
 "nbformat_minor": 5
}
