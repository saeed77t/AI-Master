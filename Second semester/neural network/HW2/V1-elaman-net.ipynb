{
 "cells": [
  {
   "cell_type": "code",
   "execution_count": 175,
   "id": "82553e6b",
   "metadata": {
    "tags": []
   },
   "outputs": [],
   "source": [
    "import numpy as np\n",
    "import pandas as pd\n",
    "import re\n",
    "from sklearn.preprocessing import OneHotEncoder\n",
    "from sklearn.feature_extraction.text import CountVectorizer\n",
    "from keras.utils import to_categorical\n",
    "from keras.models import Sequential\n",
    "from keras.layers import Dense, SimpleRNN\n",
    "from keras.layers import Dropout\n"
   ]
  },
  {
   "cell_type": "code",
   "execution_count": 220,
   "id": "bdb48abf",
   "metadata": {
    "tags": []
   },
   "outputs": [
    {
     "name": "stdout",
     "output_type": "stream",
     "text": [
      "(3250, 27)\n"
     ]
    },
    {
     "name": "stderr",
     "output_type": "stream",
     "text": [
      "/var/folders/gv/29bx0dbj5fvf2ql1sq4xwxsh0000gn/T/ipykernel_92883/2724749026.py:79: DeprecationWarning: `np.int` is a deprecated alias for the builtin `int`. To silence this warning, use `int` by itself. Doing this will not modify any behavior and is safe. When replacing `np.int`, you may wish to use e.g. `np.int64` or `np.int32` to specify the precision. If you wish to review your current use, check the release note link for additional information.\n",
      "Deprecated in NumPy 1.20; for more details and guidance: https://numpy.org/devdocs/release/1.20.0-notes.html#deprecations\n",
      "  X = X.astype(np.int)\n"
     ]
    },
    {
     "name": "stdout",
     "output_type": "stream",
     "text": [
      "<class 'numpy.int64'>\n"
     ]
    }
   ],
   "source": [
    "# Read the Excel file into a pandas DataFrame\n",
    "df = pd.read_csv('Dataset/Text_Emotion_Data.csv')\n",
    "\n",
    "# Define a function to tokenize text into word sequences and remove stopwords\n",
    "def tokenize_text(text):\n",
    "    # Remove non-letter characters using the defined pattern\n",
    "    pattern = r'[^a-zA-Z]'\n",
    "    text = re.sub(pattern, ' ', text)\n",
    "    # Convert the text to lowercase\n",
    "    text = text.lower()\n",
    "    # Tokenize the text into word sequences\n",
    "    word_sequences = text.split()\n",
    "    # Remove stopwords using the provided list\n",
    "    with open('Dataset/stopwords.txt', 'r') as f:\n",
    "        stopwords = f.read().splitlines()\n",
    "    # Remove words with length less than or equal to 2\n",
    "    word_sequences = [word for word in word_sequences if (word not in stopwords and len(word) > 2)]\n",
    "    return word_sequences\n",
    "\n",
    "# Tokenize each row of the text column into word sequences using the defined function\n",
    "df['word_sequences'] = df['Text'].apply(tokenize_text)\n",
    "\n",
    "# Find the maximum length of a word sequence\n",
    "max_len = max(df['word_sequences'].apply(len))\n",
    "\n",
    "# Define a function to pad the sequences to the maximum length\n",
    "def pad_sequence(sequence):\n",
    "    padded_sequence = sequence[:max_len] + ['']*(max_len-len(sequence))\n",
    "    return padded_sequence\n",
    "\n",
    "# Pad each sequence to the maximum length\n",
    "df['word_sequences'] = df['word_sequences'].apply(pad_sequence)\n",
    "\n",
    "# Combine all word sequences into a single list\n",
    "all_sequences = []\n",
    "for seq in df['word_sequences']:\n",
    "    all_sequences.append(seq)\n",
    "\n",
    "# Create a dictionary with unique words as keys and their corresponding index as values\n",
    "word_dict = {}\n",
    "index = 0\n",
    "for seq in all_sequences:\n",
    "    for word in seq:\n",
    "        if word not in word_dict:\n",
    "            word_dict[word] = index\n",
    "            index += 1\n",
    "\n",
    "# Convert each word sequence into a numerical vector with the corresponding index in the dictionary\n",
    "num_vectors = []\n",
    "for sequence in all_sequences:\n",
    "    vector = []\n",
    "    for word in sequence:\n",
    "        if word in word_dict:\n",
    "            index = word_dict[word]\n",
    "            vector.append(index)\n",
    "    num_vectors.append(vector)\n",
    "\n",
    "# Convert the list of numerical vectors into a numpy array\n",
    "X = np.array(num_vectors)\n",
    "# binrise the data \n",
    "print(X.shape)\n",
    "NX = []\n",
    "for i in  range (len(X)):\n",
    "    row = []\n",
    "    for j in range (len(X[i])):\n",
    "        idx = np.binary_repr(X[i][j], width=14)\n",
    "        row.append(idx)\n",
    "    NX.append(row)\n",
    "    \n",
    "NX = np.array(NX)\n",
    "X = NX\n",
    "\n",
    "\n",
    "for i in range (len(X)):\n",
    "    for j in range(len(X[i])):\n",
    "        X[i][j] = np.int32(X[i][j])\n",
    "        \n",
    "        \n",
    "X = X.astype(np.int)\n",
    "print(type(X[20][6]))\n",
    "# Define the labels\n",
    "labels = df['Label'].values\n",
    "classes = np.unique(labels)\n",
    "label_map = {label: i for i, label in enumerate(classes)}\n",
    "y = np.array([label_map[label] for label in labels])\n",
    "\n",
    "# Split last 150 text of each class for the test dataset\n",
    "test_data = []\n",
    "for c in classes:\n",
    "    class_data = [(X[i], y[i]) for i in range(len(X)) if y[i] == label_map[c]]\n",
    "    test_data.extend(class_data[-150:])\n",
    "\n",
    "# Use the rest of the data for training\n",
    "train_data = []\n",
    "for i in range(len(X)):\n",
    "    found = False\n",
    "    for j in range(len(test_data)):\n",
    "        if all(X[i] == test_data[j][0]) and y[i] == test_data[j][1]:\n",
    "            found = True\n",
    "            break\n",
    "    if not found:\n",
    "        train_data.append((X[i], y[i]))\n",
    "\n",
    "# Separate the input features and labels for the training and test sets\n",
    "X_train, y_train = zip(*train_data)\n",
    "X_test, y_test = zip(*test_data)\n",
    "\n",
    "\n",
    "X_train = np.array(X_train)\n",
    "y_train = np.array(y_train)\n",
    "\n",
    "X_test = np.array(X_test)\n",
    "y_test = np.array(y_test)\n",
    "\n"
   ]
  },
  {
   "cell_type": "code",
   "execution_count": 221,
   "id": "05a9d1c2-d6f3-4124-8562-220ae8bc86a6",
   "metadata": {},
   "outputs": [
    {
     "name": "stdout",
     "output_type": "stream",
     "text": [
      "True\n"
     ]
    }
   ],
   "source": [
    "def is_array_numeric(data):\n",
    "    data_type = data.dtype\n",
    "    is_numeric = np.issubdtype(data_type, np.number) or np.issubdtype(data_type, np.floating)\n",
    "    return is_numeric\n",
    "\n",
    "# Example usage\n",
    "print(is_array_numeric(X_train))"
   ]
  },
  {
   "cell_type": "code",
   "execution_count": 222,
   "id": "912c0c68-7746-495a-82d8-bcd6ed630008",
   "metadata": {},
   "outputs": [
    {
     "data": {
      "text/plain": [
       "numpy.int64"
      ]
     },
     "execution_count": 222,
     "metadata": {},
     "output_type": "execute_result"
    }
   ],
   "source": [
    "type(X_train[20][6])"
   ]
  },
  {
   "cell_type": "code",
   "execution_count": 223,
   "id": "37d6f08b-a593-419f-8ec4-55d3187f1d2e",
   "metadata": {},
   "outputs": [
    {
     "data": {
      "text/plain": [
       "10011"
      ]
     },
     "execution_count": 223,
     "metadata": {},
     "output_type": "execute_result"
    }
   ],
   "source": [
    "X_train[20][6]"
   ]
  },
  {
   "cell_type": "code",
   "execution_count": 224,
   "id": "e9b7ff06",
   "metadata": {
    "tags": []
   },
   "outputs": [
    {
     "name": "stdout",
     "output_type": "stream",
     "text": [
      "X_train shape : (2500, 27)\n",
      "X_test shape : (750, 27)\n",
      "y_train shape : (2500,)\n",
      "y_test shape : (750,)\n",
      "word_dict len : 6623\n",
      "max_len  : 27\n"
     ]
    },
    {
     "data": {
      "text/plain": [
       "1"
      ]
     },
     "execution_count": 224,
     "metadata": {},
     "output_type": "execute_result"
    }
   ],
   "source": [
    "print('X_train shape :', X_train.shape)\n",
    "print('X_test shape :' ,X_test.shape)\n",
    "print('y_train shape :' ,y_train.shape)\n",
    "print('y_test shape :', y_test.shape)\n",
    "print('word_dict len :', len(word_dict))\n",
    "print('max_len  :' ,max_len) \n",
    "y_train[20]"
   ]
  },
  {
   "cell_type": "code",
   "execution_count": 225,
   "id": "ffff4c58",
   "metadata": {
    "tags": []
   },
   "outputs": [],
   "source": [
    "# Reshape the input data to have a third dimension\n",
    "X_train = np.reshape(X_train, (X_train.shape[0], X_train.shape[1], 1))\n",
    "X_test = np.reshape(X_test, (X_test.shape[0], X_test.shape[1], 1))\n"
   ]
  },
  {
   "cell_type": "code",
   "execution_count": 226,
   "id": "87dfcd01",
   "metadata": {
    "tags": []
   },
   "outputs": [
    {
     "name": "stdout",
     "output_type": "stream",
     "text": [
      "X_train shape : (2500, 27, 1)\n",
      "X_test shape : (750, 27, 1)\n",
      "y_train shape : (2500,)\n",
      "y_test shape : (750,)\n",
      "word_dict len : 6623\n",
      "max_len  : 27\n"
     ]
    }
   ],
   "source": [
    "print('X_train shape :', X_train.shape)\n",
    "print('X_test shape :' ,X_test.shape)\n",
    "print('y_train shape :' ,y_train.shape)\n",
    "print('y_test shape :', y_test.shape)\n",
    "print('word_dict len :', len(word_dict))\n",
    "print('max_len  :' ,max_len) \n",
    "# X_train[20]"
   ]
  },
  {
   "cell_type": "code",
   "execution_count": 227,
   "id": "444c9d97-4776-4f54-bb1c-1e5cdc7931ac",
   "metadata": {},
   "outputs": [
    {
     "data": {
      "text/plain": [
       "1"
      ]
     },
     "execution_count": 227,
     "metadata": {},
     "output_type": "execute_result"
    }
   ],
   "source": [
    "y_train[20]"
   ]
  },
  {
   "cell_type": "code",
   "execution_count": 228,
   "id": "8d1a60db",
   "metadata": {},
   "outputs": [
    {
     "name": "stdout",
     "output_type": "stream",
     "text": [
      "Epoch 1/20\n",
      "109/109 [==============================] - 1s 4ms/step - loss: 8.1342 - accuracy: 0.1988\n",
      "Epoch 2/20\n",
      "109/109 [==============================] - 0s 4ms/step - loss: 2.9418 - accuracy: 0.2008\n",
      "Epoch 3/20\n",
      "109/109 [==============================] - 0s 4ms/step - loss: 1.9333 - accuracy: 0.1972\n",
      "Epoch 4/20\n",
      "109/109 [==============================] - 0s 4ms/step - loss: 1.7617 - accuracy: 0.2004\n",
      "Epoch 5/20\n",
      "109/109 [==============================] - 0s 4ms/step - loss: 1.7085 - accuracy: 0.1996\n",
      "Epoch 6/20\n",
      "109/109 [==============================] - 0s 4ms/step - loss: 1.6497 - accuracy: 0.2012\n",
      "Epoch 7/20\n",
      "109/109 [==============================] - 0s 4ms/step - loss: 1.6772 - accuracy: 0.1992\n",
      "Epoch 8/20\n",
      "109/109 [==============================] - 0s 4ms/step - loss: 1.6355 - accuracy: 0.1996\n",
      "Epoch 9/20\n",
      "109/109 [==============================] - 0s 4ms/step - loss: 1.6418 - accuracy: 0.2000\n",
      "Epoch 10/20\n",
      "109/109 [==============================] - 0s 4ms/step - loss: 1.6284 - accuracy: 0.2000\n",
      "Epoch 11/20\n",
      "109/109 [==============================] - 0s 4ms/step - loss: 1.6273 - accuracy: 0.1996\n",
      "Epoch 12/20\n",
      "109/109 [==============================] - 0s 4ms/step - loss: 1.6279 - accuracy: 0.2004\n",
      "Epoch 13/20\n",
      "109/109 [==============================] - 0s 4ms/step - loss: 1.6340 - accuracy: 0.1996\n",
      "Epoch 14/20\n",
      "109/109 [==============================] - 0s 4ms/step - loss: 1.6523 - accuracy: 0.1988\n",
      "Epoch 15/20\n",
      "109/109 [==============================] - 0s 4ms/step - loss: 1.6088 - accuracy: 0.2004\n",
      "Epoch 16/20\n",
      "109/109 [==============================] - 0s 4ms/step - loss: 1.6244 - accuracy: 0.2000\n",
      "Epoch 17/20\n",
      "109/109 [==============================] - 0s 4ms/step - loss: 1.6218 - accuracy: 0.1996\n",
      "Epoch 18/20\n",
      "109/109 [==============================] - 0s 4ms/step - loss: 1.6181 - accuracy: 0.2000\n",
      "Epoch 19/20\n",
      "109/109 [==============================] - 0s 4ms/step - loss: 1.6094 - accuracy: 0.2000\n",
      "Epoch 20/20\n",
      "109/109 [==============================] - 0s 4ms/step - loss: 1.6094 - accuracy: 0.2000\n",
      "Train Loss: 1.6094365119934082\n",
      "Train Accuracy: 0.20000000298023224\n",
      "Test Loss: 1.6094377040863037\n",
      "Test Accuracy: 0.20000000298023224\n"
     ]
    }
   ],
   "source": [
    "# Define the model architecture\n",
    "model = Sequential()\n",
    "model.add(SimpleRNN(64, input_shape=(max_len, 1), return_sequences=False))\n",
    "model.add(Dropout(0.2))\n",
    "model.add(Dense(len(classes), activation='relu'))\n",
    "\n",
    "# Compile the model\n",
    "model.compile(optimizer='adam', loss='sparse_categorical_crossentropy', metrics=['accuracy'])\n",
    "\n",
    "# # Convert y_train to one-hot encoding\n",
    "# y_train = to_categorical(y_train, num_classes=5)\n",
    "# y_test= to_categorical(y_test, num_classes=5)\n",
    "# model.compile(optimizer='adam', loss='categorical_crossentropy', metrics=['accuracy'])\n",
    "\n",
    "\n",
    "# Train the model\n",
    "model.fit(X_train, y_train, epochs=20, batch_size=23)\n",
    "\n",
    "# Evaluate the model on the train dataset\n",
    "train_loss, train_acc = model.evaluate(X_train, y_train, verbose=0)\n",
    "print('Train Loss:', train_loss)\n",
    "print('Train Accuracy:', train_acc)\n",
    "\n",
    "# Evaluate the model on the test dataset\n",
    "X_test = X_test.reshape((X_test.shape[0], X_test.shape[1], 1))\n",
    "test_loss, test_acc = model.evaluate(X_test, y_test, verbose=0)\n",
    "print('Test Loss:', test_loss)\n",
    "print('Test Accuracy:', test_acc)\n"
   ]
  },
  {
   "cell_type": "code",
   "execution_count": null,
   "id": "87566cc9",
   "metadata": {
    "tags": []
   },
   "outputs": [],
   "source": []
  },
  {
   "cell_type": "code",
   "execution_count": null,
   "id": "3aa5192c",
   "metadata": {
    "tags": []
   },
   "outputs": [],
   "source": []
  },
  {
   "cell_type": "code",
   "execution_count": 141,
   "id": "78110542",
   "metadata": {
    "tags": []
   },
   "outputs": [],
   "source": []
  },
  {
   "cell_type": "code",
   "execution_count": null,
   "id": "45abc060",
   "metadata": {},
   "outputs": [],
   "source": []
  },
  {
   "cell_type": "code",
   "execution_count": null,
   "id": "8097656b",
   "metadata": {},
   "outputs": [],
   "source": []
  }
 ],
 "metadata": {
  "kernelspec": {
   "display_name": "Python 3 (ipykernel)",
   "language": "python",
   "name": "python3"
  },
  "language_info": {
   "codemirror_mode": {
    "name": "ipython",
    "version": 3
   },
   "file_extension": ".py",
   "mimetype": "text/x-python",
   "name": "python",
   "nbconvert_exporter": "python",
   "pygments_lexer": "ipython3",
   "version": "3.9.12"
  }
 },
 "nbformat": 4,
 "nbformat_minor": 5
}
