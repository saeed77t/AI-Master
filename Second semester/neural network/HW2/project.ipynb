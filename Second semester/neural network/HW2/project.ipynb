{
 "cells": [
  {
   "cell_type": "code",
   "execution_count": 19,
   "id": "f372628d-b2d8-4dce-b7bf-5a6108dc92d3",
   "metadata": {},
   "outputs": [],
   "source": [
    "import numpy as np\n",
    "import pandas as pd\n",
    "import re\n",
    "from sklearn.preprocessing import OneHotEncoder\n",
    "from sklearn.feature_extraction.text import CountVectorizer\n",
    "from keras.utils import to_categorical\n",
    "from keras.models import Sequential\n",
    "from keras.layers import Dense, SimpleRNN\n",
    "from keras.layers import Dropout\n",
    "from utils import TextPreprocessor"
   ]
  },
  {
   "cell_type": "code",
   "execution_count": 33,
   "id": "726be694-d075-48a8-896a-149949343aa4",
   "metadata": {},
   "outputs": [],
   "source": [
    "# Create an instance of the TextPreprocessor class\n",
    "preprocessor = TextPreprocessor()\n",
    "\n",
    "# Read the data and preprocess the text\n",
    "preprocessor.read_data()\n",
    "preprocessor.preprocess_text()\n",
    "\n",
    "# Access the preprocessed data and labels\n",
    "X = preprocessor.X\n"
   ]
  },
  {
   "cell_type": "code",
   "execution_count": 34,
   "id": "9b6c486c-9bf1-4406-b02e-328770fa57ea",
   "metadata": {},
   "outputs": [
    {
     "name": "stdout",
     "output_type": "stream",
     "text": [
      "(3250, 27)\n"
     ]
    }
   ],
   "source": [
    "# binrise the data \n",
    "print(X.shape)\n",
    "NX = []\n",
    "for i in  range (len(X)):\n",
    "    row = []\n",
    "    for j in range (len(X[i])):\n",
    "        idx = np.binary_repr(X[i][j], width=14)\n",
    "        row.append(idx)\n",
    "    NX.append(row)\n",
    "    \n",
    "NX = np.array(NX)\n",
    "X = NX\n",
    "\n",
    "\n",
    "for i in range (len(X)):\n",
    "    for j in range(len(X[i])):\n",
    "        X[i][j] = int(X[i][j])\n",
    "\n",
    "# Define the labels\n",
    "labels = preprocessor.df['Label'].values\n",
    "classes = np.unique(labels)\n",
    "label_map = {label: i for i, label in enumerate(classes)}\n",
    "y = np.array([label_map[label] for label in labels])\n",
    "\n",
    "# Split last 150 text of each class for the test dataset\n",
    "test_data = []\n",
    "for c in classes:\n",
    "    class_data = [(X[i], y[i]) for i in range(len(X)) if y[i] == label_map[c]]\n",
    "    test_data.extend(class_data[-150:])\n",
    "\n",
    "# Use the rest of the data for training\n",
    "train_data = []\n",
    "for i in range(len(X)):\n",
    "    found = False\n",
    "    for j in range(len(test_data)):\n",
    "        if all(X[i] == test_data[j][0]) and y[i] == test_data[j][1]:\n",
    "            found = True\n",
    "            break\n",
    "    if not found:\n",
    "        train_data.append((X[i], y[i]))\n",
    "\n",
    "# Separate the input features and labels for the training and test sets\n",
    "X_train, y_train = zip(*train_data)\n",
    "X_test, y_test = zip(*test_data)\n",
    "\n",
    "\n",
    "X_train = np.array(X_train)\n",
    "y_train = np.array(y_train)\n",
    "\n",
    "X_test = np.array(X_test)\n",
    "y_test = np.array(y_test)\n"
   ]
  },
  {
   "cell_type": "code",
   "execution_count": 36,
   "id": "d818d661-904c-44f9-817d-4b5a3a9cbd5d",
   "metadata": {},
   "outputs": [
    {
     "data": {
      "text/plain": [
       "(2500, 27)"
      ]
     },
     "execution_count": 36,
     "metadata": {},
     "output_type": "execute_result"
    }
   ],
   "source": []
  },
  {
   "cell_type": "code",
   "execution_count": null,
   "id": "31fe0283-b134-41c1-bbb3-91f9a57a14ff",
   "metadata": {},
   "outputs": [],
   "source": []
  }
 ],
 "metadata": {
  "kernelspec": {
   "display_name": "Python 3 (ipykernel)",
   "language": "python",
   "name": "python3"
  },
  "language_info": {
   "codemirror_mode": {
    "name": "ipython",
    "version": 3
   },
   "file_extension": ".py",
   "mimetype": "text/x-python",
   "name": "python",
   "nbconvert_exporter": "python",
   "pygments_lexer": "ipython3",
   "version": "3.9.12"
  }
 },
 "nbformat": 4,
 "nbformat_minor": 5
}
