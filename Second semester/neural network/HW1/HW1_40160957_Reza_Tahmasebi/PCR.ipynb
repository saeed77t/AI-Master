{
 "cells": [
  {
   "cell_type": "code",
   "execution_count": 4,
   "id": "76ceb315-7979-42a2-9efc-3bd15b5709f8",
   "metadata": {},
   "outputs": [
    {
     "name": "stdout",
     "output_type": "stream",
     "text": [
      "Regression Coefficients:\n",
      "[-0.03317929 -0.06024463 -0.03888201]\n",
      "Variance Explained by Principal Components:\n",
      "[0.2679184  0.22563357 0.20109877]\n"
     ]
    }
   ],
   "source": [
    "import numpy as np\n",
    "\n",
    "class PrincipalComponentRegression:\n",
    "    def __init__(self, n_components):\n",
    "        self.n_components = n_components\n",
    "        self.coefficients = None\n",
    "        self.eigenvalues = None\n",
    "        self.eigenvectors = None\n",
    "\n",
    "    def fit(self, X, y):\n",
    "        # Center the feature matrix by subtracting the mean of each feature\n",
    "        X_centered = X - np.mean(X, axis=0)\n",
    "\n",
    "        # Compute the covariance matrix of the centered feature matrix\n",
    "        covariance_matrix = np.cov(X_centered.T)\n",
    "\n",
    "        # Compute the eigenvalues and eigenvectors of the covariance matrix\n",
    "        eigenvalues, eigenvectors = np.linalg.eig(covariance_matrix)\n",
    "\n",
    "        # Sort the eigenvalues and eigenvectors in descending order\n",
    "        sort_indices = np.argsort(eigenvalues)[::-1]\n",
    "        eigenvalues = eigenvalues[sort_indices]\n",
    "        eigenvectors = eigenvectors[:, sort_indices]\n",
    "\n",
    "        # Store the eigenvalues and eigenvectors for later use\n",
    "        self.eigenvalues = eigenvalues\n",
    "        self.eigenvectors = eigenvectors\n",
    "\n",
    "        # Select the desired number of principal components\n",
    "        X_selected = X_centered.dot(eigenvectors[:, :self.n_components])\n",
    "\n",
    "        # Add a column of ones to account for the bias term and fit the linear regression model\n",
    "        X_selected_with_bias = np.column_stack((np.ones(len(X_selected)), X_selected))\n",
    "        self.coefficients = np.linalg.lstsq(X_selected_with_bias, y, rcond=None)[0]\n",
    "\n",
    "    def predict(self, X):\n",
    "        # Center the new data by subtracting the mean of each feature\n",
    "        X_selected = X - np.mean(X, axis=0)\n",
    "\n",
    "        # Project the centered new data onto the selected principal components\n",
    "        X_selected = X_selected.dot(self.eigenvectors[:, :self.n_components])\n",
    "\n",
    "        # Add a column of ones to account for the bias term and make predictions\n",
    "        X_selected_with_bias = np.column_stack((np.ones(len(X_selected)), X_selected))\n",
    "        y_pred = X_selected_with_bias.dot(self.coefficients)\n",
    "        return y_pred\n",
    "\n",
    "\n",
    "# Example usage\n",
    "# Generate some sample data\n",
    "np.random.seed(0)\n",
    "X_train = np.random.rand(100, 5)  # Training features\n",
    "y_train = np.random.rand(100)     # Training response\n",
    "X_test = np.random.rand(50, 5)    # Test features\n",
    "\n",
    "# Create and fit the PrincipalComponentRegression model\n",
    "n_components = 3\n",
    "pcr = PrincipalComponentRegression(n_components)\n",
    "pcr.fit(X_train, y_train)\n",
    "\n",
    "# Make predictions on the test data\n",
    "y_pred = pcr.predict(X_test)\n",
    "\n",
    "# Print the regression coefficients\n",
    "print(\"Regression Coefficients:\")\n",
    "print(pcr.coefficients[1:])  # Exclude the bias term\n",
    "\n",
    "# Print the variance explained by each principal component\n",
    "explained_variance_ratio = pcr.eigenvalues / np.sum(pcr.eigenvalues)\n",
    "print(\"Variance Explained by Principal Components:\")\n",
    "print(explained_variance_ratio[:n_components])\n"
   ]
  },
  {
   "cell_type": "code",
   "execution_count": null,
   "id": "ade2acbb-6641-41b0-a118-8f348b175f58",
   "metadata": {},
   "outputs": [],
   "source": []
  }
 ],
 "metadata": {
  "kernelspec": {
   "display_name": "Python 3 (ipykernel)",
   "language": "python",
   "name": "python3"
  },
  "language_info": {
   "codemirror_mode": {
    "name": "ipython",
    "version": 3
   },
   "file_extension": ".py",
   "mimetype": "text/x-python",
   "name": "python",
   "nbconvert_exporter": "python",
   "pygments_lexer": "ipython3",
   "version": "3.9.12"
  }
 },
 "nbformat": 4,
 "nbformat_minor": 5
}
