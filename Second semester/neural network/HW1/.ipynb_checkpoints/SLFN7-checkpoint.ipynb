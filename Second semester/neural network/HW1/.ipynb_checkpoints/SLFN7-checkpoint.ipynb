{
 "cells": [
  {
   "cell_type": "code",
   "execution_count": 1,
   "id": "1294a704-e640-4aa1-a638-98b77f1d2bf3",
   "metadata": {},
   "outputs": [],
   "source": [
    "import numpy as np\n",
    "import pandas as pd\n",
    "from sklearn.model_selection import train_test_split\n",
    "from sklearn.neural_network import MLPClassifier"
   ]
  },
  {
   "cell_type": "code",
   "execution_count": 2,
   "id": "0eb7bafa-bd77-444a-90fa-81454fc3060d",
   "metadata": {},
   "outputs": [],
   "source": [
    "data = pd.read_excel(\"ds7.xlsx\")\n",
    "label =pd.read_excel(\"lbl7.xlsx\")"
   ]
  },
  {
   "cell_type": "code",
   "execution_count": 3,
   "id": "7f31a69b-9bd7-44db-b626-2a48ab3d0659",
   "metadata": {},
   "outputs": [],
   "source": [
    "class SLFNClassifier:\n",
    "    def __init__(self, hidden_layer_sizes=(100,), activation='relu', solver='adam', alpha=0.0001, random_state=42):\n",
    "        self.model = MLPClassifier(hidden_layer_sizes=hidden_layer_sizes, activation=activation, solver=solver, alpha=alpha, random_state=random_state)\n",
    "\n",
    "    def fit(self, X_train, y_train):\n",
    "        self.model.fit(X_train, y_train)\n",
    "\n",
    "    def predict(self, X_test):\n",
    "        return self.model.predict(X_test)\n",
    "\n",
    "    def score(self, X_test, y_test):\n",
    "        return self.model.score(X_test, y_test)"
   ]
  },
  {
   "cell_type": "code",
   "execution_count": 4,
   "id": "06f0fcf7-b16b-4fee-902f-363c736b5ce7",
   "metadata": {},
   "outputs": [],
   "source": [
    "X_train, X_test, y_train, y_test = train_test_split(data, label, test_size=0.2, random_state=42)"
   ]
  },
  {
   "cell_type": "code",
   "execution_count": 5,
   "id": "6d652861-a606-45e4-bd5d-91a5f282dbc9",
   "metadata": {},
   "outputs": [
    {
     "name": "stderr",
     "output_type": "stream",
     "text": [
      "/Users/saeed/opt/anaconda3/lib/python3.9/site-packages/sklearn/neural_network/_multilayer_perceptron.py:1109: DataConversionWarning: A column-vector y was passed when a 1d array was expected. Please change the shape of y to (n_samples, ), for example using ravel().\n",
      "  y = column_or_1d(y, warn=True)\n"
     ]
    },
    {
     "name": "stdout",
     "output_type": "stream",
     "text": [
      "Accuracy: 83.88888888888889 %\n"
     ]
    }
   ],
   "source": [
    "\n",
    "# Create an instance of the SLFNClassifier class\n",
    "clf = SLFNClassifier()\n",
    "\n",
    "# Train the model on the training data\n",
    "clf.fit(X_train, y_train)\n",
    "\n",
    "# Predict the target vector for the test data\n",
    "y_pred = clf.predict(X_test)\n",
    "\n",
    "# Calculate the mean accuracy of the model on the test data\n",
    "accuracy = clf.score(X_test, y_test)\n",
    "\n",
    "print('Accuracy:', accuracy*100,'%')"
   ]
  },
  {
   "cell_type": "code",
   "execution_count": 3,
   "id": "1f3acda3-d51e-4647-96e5-e6e4a1806f47",
   "metadata": {},
   "outputs": [
    {
     "name": "stdout",
     "output_type": "stream",
     "text": [
      "Epoch [100/1000], Loss: 0.2490\n",
      "Epoch [200/1000], Loss: 0.2423\n",
      "Epoch [300/1000], Loss: 0.2446\n",
      "Epoch [400/1000], Loss: 0.2441\n",
      "Epoch [500/1000], Loss: 0.2441\n",
      "Epoch [600/1000], Loss: 0.2432\n",
      "Epoch [700/1000], Loss: 0.2432\n",
      "Epoch [800/1000], Loss: 0.2432\n",
      "Epoch [900/1000], Loss: 0.2432\n",
      "Epoch [1000/1000], Loss: 0.2432\n",
      "Accuracy: 0.8889\n"
     ]
    }
   ],
   "source": [
    "import torch\n",
    "import torch.nn as nn\n",
    "import torch.optim as optim\n",
    "import numpy as np\n",
    "import pandas as pd\n",
    "from sklearn.model_selection import train_test_split\n",
    "from sklearn.metrics import accuracy_score\n",
    "data = pd.read_excel(\"ds7.xlsx\")\n",
    "label =pd.read_excel(\"lbl7.xlsx\")\n",
    "\n",
    "class SLFNClassifier(nn.Module):\n",
    "    def __init__(self, input_size, hidden_size, output_size):\n",
    "        super().__init__()\n",
    "        self.linear1 = nn.Linear(input_size, hidden_size)\n",
    "        self.linear2 = nn.Linear(hidden_size, output_size)\n",
    "\n",
    "    def forward(self, x):\n",
    "        hidden = torch.tanh(self.linear1(x))\n",
    "        output = self.linear2(hidden)\n",
    "        return output\n",
    "\n",
    "    def fit(self, X_train, y_train, num_epochs, learning_rate):\n",
    "        # Convert data to PyTorch tensors\n",
    "        X_train = torch.tensor(X_train, dtype=torch.float32)\n",
    "        y_train = torch.tensor(y_train, dtype=torch.long)\n",
    "\n",
    "        # Define loss function and optimizer\n",
    "        criterion = nn.CrossEntropyLoss()\n",
    "        optimizer = optim.SGD(self.parameters(), lr=learning_rate)\n",
    "\n",
    "        # Train the model\n",
    "        for epoch in range(num_epochs):\n",
    "            # Zero the gradients\n",
    "            optimizer.zero_grad()\n",
    "\n",
    "            # Forward pass\n",
    "            outputs = self.forward(X_train)\n",
    "            loss = criterion(outputs, y_train)\n",
    "\n",
    "            # Backward pass and optimization\n",
    "            loss.backward()\n",
    "            optimizer.step()\n",
    "\n",
    "            if (epoch + 1) % 100 == 0:\n",
    "                print(f\"Epoch [{epoch+1}/{num_epochs}], Loss: {loss.item():.4f}\")\n",
    "\n",
    "    def predict(self, X_test):\n",
    "        # Convert data to PyTorch tensor\n",
    "        X_test = torch.tensor(X_test, dtype=torch.float32)\n",
    "\n",
    "        # Make predictions\n",
    "        with torch.no_grad():\n",
    "            outputs = self.forward(X_test)\n",
    "            _, predicted = torch.max(outputs.data, 1)\n",
    "\n",
    "        return predicted.numpy()\n",
    "\n",
    "    \n",
    "    \n",
    "data = np.array(data)\n",
    "label = np.array(label)\n",
    "label = label.flatten()\n",
    "\n",
    "\n",
    "# Split the data into training and testing sets\n",
    "X_train, X_test, y_train, y_test = train_test_split(data, label, test_size=0.2, random_state=42)\n",
    "\n",
    "# Create an instance of the SLFNClassifier class\n",
    "input_size = data.shape[1]\n",
    "hidden_size = 1\n",
    "output_size = len(np.unique(label))\n",
    "\n",
    "model = SLFNClassifier(input_size, hidden_size, output_size)\n",
    "\n",
    "# Train the model on the training data\n",
    "num_epochs = 1000\n",
    "learning_rate = 0.2\n",
    "model.fit(X_train, y_train, num_epochs, learning_rate)\n",
    "\n",
    "# Use the trained model to make predictions on the test data\n",
    "y_pred = model.predict(X_test)\n",
    "\n",
    "# Compute the accuracy of the model\n",
    "accuracy = accuracy_score(y_test, y_pred)\n",
    "print(f\"Accuracy: {accuracy:.4f}\")"
   ]
  },
  {
   "cell_type": "code",
   "execution_count": null,
   "id": "060039bc-c8a1-492c-897f-5a0a84d1233d",
   "metadata": {},
   "outputs": [],
   "source": []
  },
  {
   "cell_type": "code",
   "execution_count": null,
   "id": "4a953008-cc87-41e0-8024-a1e6793a75d4",
   "metadata": {},
   "outputs": [],
   "source": []
  },
  {
   "cell_type": "code",
   "execution_count": null,
   "id": "acd65f86-a414-4dd5-8507-e702251d5d35",
   "metadata": {},
   "outputs": [],
   "source": []
  },
  {
   "cell_type": "code",
   "execution_count": null,
   "id": "6c0e4bbc-02f7-4f18-93d8-6d656d292ccc",
   "metadata": {},
   "outputs": [],
   "source": []
  },
  {
   "cell_type": "code",
   "execution_count": null,
   "id": "faa37616-55fb-4e91-8732-0675938d5479",
   "metadata": {},
   "outputs": [],
   "source": []
  },
  {
   "cell_type": "code",
   "execution_count": null,
   "id": "8bc56f24-762f-4c9e-8da7-6eecd07f82ca",
   "metadata": {},
   "outputs": [],
   "source": []
  },
  {
   "cell_type": "code",
   "execution_count": null,
   "id": "5519da5a-cdbd-490c-8d83-dfcdf1f71e26",
   "metadata": {},
   "outputs": [],
   "source": []
  },
  {
   "cell_type": "code",
   "execution_count": null,
   "id": "70eb09ef-eac3-40d3-b5c6-723261968961",
   "metadata": {},
   "outputs": [],
   "source": []
  },
  {
   "cell_type": "code",
   "execution_count": null,
   "id": "c6231fe8-5533-4b2b-b307-36638650fcaf",
   "metadata": {},
   "outputs": [],
   "source": []
  },
  {
   "cell_type": "code",
   "execution_count": null,
   "id": "863fb2d6-ba5c-4748-a51e-4210ddcf8503",
   "metadata": {},
   "outputs": [],
   "source": []
  }
 ],
 "metadata": {
  "kernelspec": {
   "display_name": "Python 3 (ipykernel)",
   "language": "python",
   "name": "python3"
  },
  "language_info": {
   "codemirror_mode": {
    "name": "ipython",
    "version": 3
   },
   "file_extension": ".py",
   "mimetype": "text/x-python",
   "name": "python",
   "nbconvert_exporter": "python",
   "pygments_lexer": "ipython3",
   "version": "3.9.12"
  }
 },
 "nbformat": 4,
 "nbformat_minor": 5
}
