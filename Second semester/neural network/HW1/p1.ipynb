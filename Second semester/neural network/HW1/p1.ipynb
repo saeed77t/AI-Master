{
 "cells": [
  {
   "cell_type": "code",
   "execution_count": 6,
   "id": "e5b2a8da-96fe-4105-976b-eb1461e134e5",
   "metadata": {},
   "outputs": [],
   "source": [
    "import numpy as np \n",
    "import cv2\n",
    "import os\n",
    "import pandas as pd\n",
    "from sklearn.model_selection import train_test_split"
   ]
  },
  {
   "cell_type": "code",
   "execution_count": 28,
   "id": "dba952f7-a0ed-4dfc-91a3-65490e656256",
   "metadata": {},
   "outputs": [],
   "source": [
    "# Define the path to the root folder of your dataset\n",
    "root_folder = \"MNIST Dataset/\"\n",
    "\n",
    "# Define lists to store the image data and labels\n",
    "data = []\n",
    "labels = []\n",
    "\n",
    "# Loop over the folders in the root folder\n",
    "for i in range(10):\n",
    "    folder_path = root_folder + str(i) + \"/\"\n",
    "\n",
    "    # Get the label corresponding to the folder name\n",
    "    label = i\n",
    "\n",
    "    # Loop over the images in the folder\n",
    "    for filename in os.listdir(folder_path):\n",
    "        if filename.endswith('.jpg'):\n",
    "            image_path = os.path.join(folder_path, filename)\n",
    "\n",
    "            # Read the image using OpenCV and convert it to grayscale\n",
    "            image = cv2.imread(image_path, cv2.IMREAD_GRAYSCALE)\n",
    "\n",
    "            # Add the image and label to the dataset lists\n",
    "            data.append(image)\n",
    "            labels.append(label)\n",
    "\n",
    "# Convert the data and labels lists to numpy arrays\n",
    "data = np.array(data)\n",
    "labels = np.array(labels)\n",
    "\n",
    "# Split the data into training and testing sets, with 90% of each class for training\n",
    "train_data = []\n",
    "train_labels = []\n",
    "test_data = []\n",
    "test_labels = []\n",
    "\n",
    "for i in range(10):\n",
    "    class_data = data[labels == i]\n",
    "    class_labels = labels[labels == i]\n",
    "\n",
    "    train_class_data, test_class_data, train_class_labels, test_class_labels = train_test_split(class_data, class_labels, test_size=0.1)\n",
    "\n",
    "    train_data.append(train_class_data)\n",
    "    train_labels.append(train_class_labels)\n",
    "    test_data.append(test_class_data)\n",
    "    test_labels.append(test_class_labels)\n",
    "\n",
    "# Concatenate the training and testing data and labels for each class\n",
    "train_data = np.concatenate(train_data)\n",
    "train_labels = np.concatenate(train_labels)\n",
    "test_data = np.concatenate(test_data)\n",
    "test_labels = np.concatenate(test_labels)\n",
    "\n",
    "# Create a pandas dataframe to store the data and labels\n",
    "train_df = pd.DataFrame(train_data.reshape(train_data.shape[0], -1))\n",
    "train_df['label'] = train_labels\n",
    "\n",
    "test_df = pd.DataFrame(test_data.reshape(test_data.shape[0], -1))\n",
    "test_df['label'] = test_labels\n"
   ]
  },
  {
   "cell_type": "code",
   "execution_count": 29,
   "id": "5f2ade43-7a7d-4d1f-b8ca-ad146022566b",
   "metadata": {},
   "outputs": [],
   "source": [
    "TrainLabels = train_df['label']\n",
    "TrainData = train_df.drop('label',axis=1)\n",
    "TestLabels = test_df['label']\n",
    "TestData = test_df.drop('label',axis=1)"
   ]
  },
  {
   "cell_type": "code",
   "execution_count": null,
   "id": "da6ce7bb-7e1a-4644-828f-1c3e5a220017",
   "metadata": {},
   "outputs": [],
   "source": []
  },
  {
   "cell_type": "code",
   "execution_count": null,
   "id": "e9e3dedc-b3d2-49f8-a74d-a11b15058d5e",
   "metadata": {},
   "outputs": [],
   "source": []
  },
  {
   "cell_type": "code",
   "execution_count": null,
   "id": "0857fd86-9ab6-45b0-b1f1-b3bdc832d823",
   "metadata": {},
   "outputs": [],
   "source": []
  },
  {
   "cell_type": "code",
   "execution_count": null,
   "id": "a567787c-6d62-438b-9e98-689be536c334",
   "metadata": {},
   "outputs": [],
   "source": []
  },
  {
   "cell_type": "code",
   "execution_count": null,
   "id": "336e2bd2-5e33-4a4d-b7d4-73c6efad91c7",
   "metadata": {},
   "outputs": [],
   "source": []
  },
  {
   "cell_type": "code",
   "execution_count": null,
   "id": "ba6dc743-516a-4782-8413-204908321549",
   "metadata": {},
   "outputs": [],
   "source": []
  },
  {
   "cell_type": "code",
   "execution_count": null,
   "id": "bac36ec4-387f-49b2-a944-d9399220ef2c",
   "metadata": {},
   "outputs": [],
   "source": []
  },
  {
   "cell_type": "code",
   "execution_count": null,
   "id": "daad8fc7-d884-486d-936d-88a6166178d6",
   "metadata": {},
   "outputs": [],
   "source": []
  }
 ],
 "metadata": {
  "kernelspec": {
   "display_name": "Python 3 (ipykernel)",
   "language": "python",
   "name": "python3"
  },
  "language_info": {
   "codemirror_mode": {
    "name": "ipython",
    "version": 3
   },
   "file_extension": ".py",
   "mimetype": "text/x-python",
   "name": "python",
   "nbconvert_exporter": "python",
   "pygments_lexer": "ipython3",
   "version": "3.9.12"
  }
 },
 "nbformat": 4,
 "nbformat_minor": 5
}
