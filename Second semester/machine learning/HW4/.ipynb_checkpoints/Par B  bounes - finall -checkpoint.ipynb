{
 "cells": [
  {
   "cell_type": "code",
   "execution_count": 5,
   "id": "49c628fb-c935-4ed3-965a-bb006c3d2635",
   "metadata": {},
   "outputs": [],
   "source": [
    "import numpy as np\n",
    "from sklearn.tree import DecisionTreeClassifier\n",
    "from sklearn.datasets import make_classification\n",
    "from sklearn.model_selection import train_test_split\n",
    "from sklearn.metrics import accuracy_score\n",
    "from sklearn.utils import resample"
   ]
  },
  {
   "cell_type": "code",
   "execution_count": 6,
   "id": "cf3e4914-55e7-4f35-a6e5-eafbd04bcbb0",
   "metadata": {},
   "outputs": [],
   "source": [
    "\n",
    "\n",
    "class AdaBoostUnderSample:\n",
    "    \n",
    "    def __init__(self, n_estimators=50, learning_rate=1.0, random_state=42, balance_ratio=0.5):\n",
    "        self.n_estimators = n_estimators\n",
    "        self.learning_rate = learning_rate\n",
    "        self.random_state = random_state\n",
    "        self.balance_ratio = balance_ratio\n",
    "        self.estimators_ = []\n",
    "        self.estimator_weights_ = np.zeros(self.n_estimators)\n",
    "        self.errors_ = np.ones(self.n_estimators)\n",
    "        \n",
    "    def fit(self, X, y):\n",
    "        # separate majority and minority classes\n",
    "        X_majority = X[y == 0]\n",
    "        X_minority = X[y == 1]\n",
    "        y_minority = y[y == 1]\n",
    "        \n",
    "        # determine the number of samples to keep in the minority class\n",
    "        n_minority = int(len(y_minority) * self.balance_ratio)\n",
    "        \n",
    "        # balance the minority class by randomly downsampling\n",
    "        X_minority_balanced, y_minority_balanced = resample(X_minority, y_minority, replace=False, \n",
    "                                                            n_samples=n_minority, random_state=self.random_state)\n",
    "        \n",
    "        # balance the majority class by randomly upsampling\n",
    "        n_majority = n_minority\n",
    "        X_majority_balanced, y_majority_balanced = resample(X_majority, y[y == 0], replace=True, \n",
    "                                                            n_samples=n_majority, random_state=self.random_state)\n",
    "        \n",
    "        # concatenate the balanced minority and majority samples\n",
    "        X_balanced = np.concatenate((X_minority_balanced, X_majority_balanced), axis=0)\n",
    "        y_balanced = np.concatenate((y_minority_balanced, y_majority_balanced), axis=0)\n",
    "        \n",
    "        # initialize sample weights\n",
    "        sample_weights = np.ones(len(y_balanced)) / len(y_balanced)\n",
    "        \n",
    "        for t in range(self.n_estimators):\n",
    "            # train base estimator on weighted samples\n",
    "            base_estimator = DecisionTreeClassifier(max_depth=1, random_state=self.random_state)\n",
    "            base_estimator.fit(X_balanced, y_balanced, sample_weight=sample_weights)\n",
    "            \n",
    "            # compute error and estimator weight\n",
    "            y_pred = base_estimator.predict(X_balanced)\n",
    "            error = np.sum(sample_weights * (y_pred != y_balanced))\n",
    "            estimator_weight = self.learning_rate * (np.log(1 - error) - np.log(error)) + np.log(1)\n",
    "            \n",
    "            # update sample weights\n",
    "            sample_weights *= np.exp(-estimator_weight * y_balanced * y_pred)\n",
    "            sample_weights /= np.sum(sample_weights)\n",
    "            \n",
    "            # save estimator and weight\n",
    "            self.estimators_.append(base_estimator)\n",
    "            self.estimator_weights_[t] = estimator_weight\n",
    "            self.errors_[t] = error\n",
    "        \n",
    "        return self\n",
    "    \n",
    "    def predict(self, X):\n",
    "        y_pred = np.zeros(X.shape[0])\n",
    "        for t in range(self.n_estimators):\n",
    "            y_pred += self.estimator_weights_[t] * self.estimators_[t].predict(X)\n",
    "        return np.sign(y_pred)\n",
    "    \n",
    "    def predict_proba(self, X):\n",
    "        proba = np.zeros((X.shape[0], 2))\n",
    "        for t in range(self.n_estimators):\n",
    "            proba += self.estimator_weights_[t] * self.estimators_[t].predict_proba(X)\n",
    "        proba /= np.sum(self.estimator_weights_)\n",
    "        return proba\n",
    "    \n",
    "    def score(self, X, y):\n",
    "        return accuracy_score(y, self.predict(X))\n"
   ]
  },
  {
   "cell_type": "code",
   "execution_count": 14,
   "id": "fbd4039e-51fd-4d83-b903-005689898168",
   "metadata": {},
   "outputs": [
    {
     "name": "stdout",
     "output_type": "stream",
     "text": [
      "shape of X_train :  (8000, 20)\n",
      "Accuracy: 0.718\n"
     ]
    }
   ],
   "source": [
    "# generate synthetic dataset\n",
    "X, y = make_classification(n_samples=10000, n_features=20, n_informative=10, n_redundant=5, random_state=42)\n",
    "\n",
    "# split dataset into training and testing sets\n",
    "X_train, X_test, y_train, y_test = train_test_split(X, y, test_size=0.2, random_state=42)\n",
    "print('shape of X_train : ', X_train.shape)\n",
    "# create AdaBoost classifier with under-sampling\n",
    "adaboost = AdaBoostUnderSample(n_estimators=100 , learning_rate=0.9 , random_state=40 ,balance_ratio=0.5)\n",
    "\n",
    "# fit the classifier to the training data\n",
    "adaboost.fit(X_train, y_train)\n",
    "\n",
    "# make predictions on the testing data\n",
    "y_pred = adaboost.predict(X_test)\n",
    "\n",
    "# evaluate the accuracy of the classifier\n",
    "accuracy = accuracy_score(y_test, y_pred)\n",
    "print(\"Accuracy:\", accuracy)\n"
   ]
  },
  {
   "cell_type": "code",
   "execution_count": null,
   "id": "bbbcd912-85d9-457b-887c-317b61638f4d",
   "metadata": {},
   "outputs": [],
   "source": []
  },
  {
   "cell_type": "code",
   "execution_count": null,
   "id": "9f728e9d-11f6-44de-95a7-adda82cdc8f3",
   "metadata": {},
   "outputs": [],
   "source": []
  },
  {
   "cell_type": "code",
   "execution_count": null,
   "id": "d31c125f-79ed-4dea-9524-6d715965a701",
   "metadata": {},
   "outputs": [],
   "source": []
  },
  {
   "cell_type": "code",
   "execution_count": null,
   "id": "d7cc5b7a-c7f0-4e41-a6ef-ea3e3a6dbf7b",
   "metadata": {},
   "outputs": [],
   "source": [
    "\n"
   ]
  }
 ],
 "metadata": {
  "kernelspec": {
   "display_name": "Python 3 (ipykernel)",
   "language": "python",
   "name": "python3"
  },
  "language_info": {
   "codemirror_mode": {
    "name": "ipython",
    "version": 3
   },
   "file_extension": ".py",
   "mimetype": "text/x-python",
   "name": "python",
   "nbconvert_exporter": "python",
   "pygments_lexer": "ipython3",
   "version": "3.9.12"
  }
 },
 "nbformat": 4,
 "nbformat_minor": 5
}
