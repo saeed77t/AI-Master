{
 "cells": [
  {
   "cell_type": "code",
   "execution_count": 9,
   "id": "83a6f66e-f621-4de1-8185-6c31b6ebdce2",
   "metadata": {},
   "outputs": [],
   "source": [
    "#qick sort \n",
    "def quick_sort(arr):\n",
    "    if len(arr) <= 1:\n",
    "        return arr\n",
    "    pivot = arr[len(arr) // 2]\n",
    "    smaller, equal, larger = [], [], []\n",
    "    for num in arr:\n",
    "        if num < pivot:\n",
    "            smaller.append(num)\n",
    "        elif num == pivot:\n",
    "            equal.append(num)\n",
    "        else:\n",
    "            larger.append(num)\n",
    "    return quick_sort(smaller) + equal + quick_sort(larger)\n"
   ]
  },
  {
   "cell_type": "code",
   "execution_count": 10,
   "id": "3567751d-2f29-4d46-8c8c-0e45e759b9b3",
   "metadata": {},
   "outputs": [],
   "source": [
    "#bubble sort\n",
    "def bubble_sort(arr):\n",
    "    n = len(arr)\n",
    "    for i in range(n - 1):\n",
    "        for j in range(n - i - 1):\n",
    "            if arr[j] > arr[j + 1]:\n",
    "                arr[j], arr[j + 1] = arr[j + 1], arr[j]\n",
    "    return arr\n"
   ]
  },
  {
   "cell_type": "code",
   "execution_count": 11,
   "id": "91af21d3-bfd9-4f04-b272-6a7ec50b8005",
   "metadata": {},
   "outputs": [],
   "source": [
    "#merge sort \n",
    "def merge_sort(arr):\n",
    "    if len(arr) <= 1:\n",
    "        return arr\n",
    "    mid = len(arr) // 2\n",
    "    left = arr[:mid]\n",
    "    right = arr[mid:]\n",
    "    left = merge_sort(left)\n",
    "    right = merge_sort(right)\n",
    "    return merge(left, right)\n",
    "\n",
    "\n",
    "def merge(left, right):\n",
    "    result = []\n",
    "    while left and right:\n",
    "        if left[0] < right[0]:\n",
    "            result.append(left.pop(0))\n",
    "        else:\n",
    "            result.append(right.pop(0))\n",
    "    if left:\n",
    "        result.extend(left)\n",
    "    if right:\n",
    "        result.extend(right)\n",
    "    return result\n"
   ]
  },
  {
   "cell_type": "code",
   "execution_count": 12,
   "id": "472eb7c4-9314-4ee6-908f-e74394340208",
   "metadata": {},
   "outputs": [],
   "source": [
    "#exchange sort :\n",
    "def exchange_sort(arr):\n",
    "    n = len(arr)\n",
    "    for i in range(n - 1):\n",
    "        for j in range(i + 1, n):\n",
    "            if arr[j] < arr[i]:\n",
    "                arr[i], arr[j] = arr[j], arr[i]\n",
    "    return arr\n"
   ]
  },
  {
   "cell_type": "code",
   "execution_count": 13,
   "id": "3676e720-356c-43fa-801e-0c3ef15826e7",
   "metadata": {},
   "outputs": [
    {
     "name": "stdout",
     "output_type": "stream",
     "text": [
      "Quick Sort execution time: 1.7677817344665527 seconds\n",
      "Merge Sort execution time: 3.3759958744049072 seconds\n",
      "Exchange Sort execution time: 77.25824308395386 seconds\n",
      "Bubble Sort execution time: 63.80402159690857 seconds\n"
     ]
    }
   ],
   "source": [
    "import random\n",
    "import time\n",
    "# Generate 1000 arrays with size 1000\n",
    "arrays = []\n",
    "for _ in range(1000):\n",
    "    arr = [random.randint(0, 1000) for _ in range(1000)]\n",
    "    arrays.append(arr)\n",
    "\n",
    "# Measure the execution time for each algorithm\n",
    "start_time = time.time()\n",
    "for arr in arrays:\n",
    "    sorted_arr = quick_sort(arr)\n",
    "end_time = time.time()\n",
    "print(f\"Quick Sort execution time: {end_time - start_time} seconds\")\n",
    "\n",
    "start_time = time.time()\n",
    "for arr in arrays:\n",
    "    sorted_arr = merge_sort(arr)\n",
    "end_time = time.time()\n",
    "print(f\"Merge Sort execution time: {end_time - start_time} seconds\")\n",
    "\n",
    "start_time = time.time()\n",
    "for arr in arrays:\n",
    "    sorted_arr = exchange_sort(arr)\n",
    "end_time = time.time()\n",
    "print(f\"Exchange Sort execution time: {end_time - start_time} seconds\")\n",
    "\n",
    "start_time = time.time()\n",
    "for arr in arrays:\n",
    "    sorted_arr = bubble_sort(arr)\n",
    "end_time = time.time()\n",
    "print(f\"Bubble Sort execution time: {end_time - start_time} seconds\")\n"
   ]
  },
  {
   "cell_type": "code",
   "execution_count": null,
   "id": "5f5e48a8-398b-4f59-84f1-927c545cb697",
   "metadata": {},
   "outputs": [],
   "source": []
  },
  {
   "cell_type": "code",
   "execution_count": null,
   "id": "3b3742ba-70b1-42f2-8c4e-602e64b0e754",
   "metadata": {},
   "outputs": [],
   "source": []
  },
  {
   "cell_type": "code",
   "execution_count": null,
   "id": "e20bc7b2-6e43-46ba-ab28-490110f71090",
   "metadata": {},
   "outputs": [],
   "source": []
  },
  {
   "cell_type": "code",
   "execution_count": null,
   "id": "56f57db4-0227-4650-abfe-5c70eee478b1",
   "metadata": {},
   "outputs": [],
   "source": []
  }
 ],
 "metadata": {
  "kernelspec": {
   "display_name": "Python 3 (ipykernel)",
   "language": "python",
   "name": "python3"
  },
  "language_info": {
   "codemirror_mode": {
    "name": "ipython",
    "version": 3
   },
   "file_extension": ".py",
   "mimetype": "text/x-python",
   "name": "python",
   "nbconvert_exporter": "python",
   "pygments_lexer": "ipython3",
   "version": "3.9.12"
  }
 },
 "nbformat": 4,
 "nbformat_minor": 5
}
